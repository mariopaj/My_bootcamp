{
 "cells": [
  {
   "cell_type": "markdown",
   "metadata": {},
   "source": [
    "# 8.1 - Intro Probabilidad\n",
    "\n",
    "https://www.universoformulas.com/estadistica/inferencia/"
   ]
  },
  {
   "cell_type": "markdown",
   "metadata": {},
   "source": [
    "### Introduccion\n",
    "\n",
    "\n",
    "* **Probabilidad** es la rama de las matamáticas que estudia ciertos experimentos llamados aleatorios, o sea regidos por el azar, en que se conocen todos los resultados posibles, pero no es posible tener certeza de cuál será en particular el resultado del experimento. La probabilidad de un evento es como de posible es que ocurra."
   ]
  },
  {
   "cell_type": "markdown",
   "metadata": {},
   "source": [
    "### Axiomas de la probabilidad (Kolmogorov)\n",
    "\n",
    "https://es.wikipedia.org/wiki/Axiomas_de_probabilidad\n",
    "\n",
    "**Axioma 1:** La probabilidad de un evento E no puede ser negativa. De hecho, $P(E) \\in [0,1]$.\n",
    "\n",
    "**Axioma 2:** La probabilidad del evento seguro es igual a 1. La probabilidad del evento imposible es igual a 0.\n",
    "\n",
    "**Axioma 3:** Si $E_{1}, E_{2}, ...$ son eventos mutuamente excluyentes, es decir, su intersección es el conjunto vacío, entonces:\n",
    "\n",
    "$$P(E_{1} \\cup E_{2} \\cup ... \\cup E_{n}) = \\sum_{i=1}^{n}{P(E_{i})}$$\n"
   ]
  },
  {
   "cell_type": "markdown",
   "metadata": {},
   "source": [
    "### Espacio muestral\n",
    "\n",
    "* El **espacio muestral** $\\Omega$ de un experimento es el **conjunto** de posibles resultados.\n",
    "* Un evento es un subconjunto del espacio muestral."
   ]
  },
  {
   "cell_type": "markdown",
   "metadata": {},
   "source": [
    "### Experimento aleatorio (experimento de Bernoulli)\n",
    "\n",
    "**Ejemplo:** Lanzar monedas."
   ]
  },
  {
   "cell_type": "markdown",
   "metadata": {},
   "source": [
    "![monedas](images/monedas.jpg)\n",
    "\n",
    "El espacio muestral es $\\Omega = \\{cara, cruz\\}$\n",
    "\n",
    "$P(cara) = \\frac{1}{2} (=0.5 = 50\\%)$\n",
    "\n",
    "$P(cruz) = \\frac{1}{2}$"
   ]
  },
  {
   "cell_type": "code",
   "execution_count": 1,
   "metadata": {},
   "outputs": [],
   "source": [
    "espacio_muestral=['cara', 'cruz']"
   ]
  },
  {
   "cell_type": "code",
   "execution_count": 4,
   "metadata": {},
   "outputs": [
    {
     "data": {
      "text/plain": [
       "['cruz',\n",
       " 'cruz',\n",
       " 'cruz',\n",
       " 'cruz',\n",
       " 'cruz',\n",
       " 'cara',\n",
       " 'cara',\n",
       " 'cruz',\n",
       " 'cara',\n",
       " 'cruz']"
      ]
     },
     "execution_count": 4,
     "metadata": {},
     "output_type": "execute_result"
    }
   ],
   "source": [
    "# tiramos 10 veces la moneda\n",
    "\n",
    "import random\n",
    "\n",
    "tiradas=random.choices(espacio_muestral, k=10)\n",
    "\n",
    "tiradas"
   ]
  },
  {
   "cell_type": "code",
   "execution_count": 5,
   "metadata": {},
   "outputs": [
    {
     "data": {
      "text/plain": [
       "0.3"
      ]
     },
     "execution_count": 5,
     "metadata": {},
     "output_type": "execute_result"
    }
   ],
   "source": [
    "frecuencia_cara=tiradas.count('cara')/len(tiradas)\n",
    "\n",
    "frecuencia_cara"
   ]
  },
  {
   "cell_type": "code",
   "execution_count": 6,
   "metadata": {},
   "outputs": [
    {
     "data": {
      "text/plain": [
       "0.4954"
      ]
     },
     "execution_count": 6,
     "metadata": {},
     "output_type": "execute_result"
    }
   ],
   "source": [
    "# tiramos 10000\n",
    "\n",
    "tiradas=random.choices(espacio_muestral, k=10000)\n",
    "\n",
    "frecuencia_cara=tiradas.count('cara')/len(tiradas)\n",
    "\n",
    "frecuencia_cara"
   ]
  },
  {
   "cell_type": "markdown",
   "metadata": {},
   "source": [
    "**Ejemplo:** Lanzar 2 monedas.\n",
    "\n",
    "El espacio muestral es $\\Omega = \\{cara-cara, cara-cruz, cruz-cara, cruz-cruz\\}$\n",
    "\n",
    "$P(2 caras) = \\frac{1}{4}$\n",
    "\n",
    "$P(2 cruces) = \\frac{1}{4}$\n",
    "\n",
    "$P(\\text{una de cada}) = \\frac{1}{2}$\n",
    "\n",
    "$P(\\text{las dos iguales}) = \\frac{1}{2}$\n",
    "\n",
    "$P(\\text{al menos una cara}) = \\frac{3}{4}$"
   ]
  },
  {
   "cell_type": "markdown",
   "metadata": {},
   "source": [
    "  "
   ]
  },
  {
   "cell_type": "markdown",
   "metadata": {},
   "source": [
    "**Ejemplo:** Lanzar un dado."
   ]
  },
  {
   "cell_type": "markdown",
   "metadata": {},
   "source": [
    "![dados](images/dados.jpg)\n",
    "\n",
    "El espacio muestral es $\\Omega = \\{1, 2, 3, 4, 5, 6\\}$\n",
    "\n",
    "$P(1) = \\frac{1}{6}$\n",
    "\n",
    "$P(4) = \\frac{1}{6} \\sim 0.16$\n",
    "\n",
    "$P(7) = 0$\n",
    "\n",
    "$P(\\text{mayor que 1}) = \\frac{5}{6}$"
   ]
  },
  {
   "cell_type": "code",
   "execution_count": 7,
   "metadata": {},
   "outputs": [],
   "source": [
    "espacio_muestral=[1,2,3,4,5,6]"
   ]
  },
  {
   "cell_type": "code",
   "execution_count": 8,
   "metadata": {},
   "outputs": [
    {
     "data": {
      "text/plain": [
       "[5, 5, 4, 6, 1, 2, 6, 5, 5, 3]"
      ]
     },
     "execution_count": 8,
     "metadata": {},
     "output_type": "execute_result"
    }
   ],
   "source": [
    "tiradas=random.choices(espacio_muestral, k=10)\n",
    "\n",
    "tiradas"
   ]
  },
  {
   "cell_type": "code",
   "execution_count": 9,
   "metadata": {},
   "outputs": [
    {
     "data": {
      "text/plain": [
       "0.1"
      ]
     },
     "execution_count": 9,
     "metadata": {},
     "output_type": "execute_result"
    }
   ],
   "source": [
    "frecuencia_dos=tiradas.count(2)/len(tiradas)\n",
    "\n",
    "frecuencia_dos"
   ]
  },
  {
   "cell_type": "code",
   "execution_count": 10,
   "metadata": {},
   "outputs": [
    {
     "data": {
      "text/plain": [
       "0.1689"
      ]
     },
     "execution_count": 10,
     "metadata": {},
     "output_type": "execute_result"
    }
   ],
   "source": [
    "tiradas=random.choices(espacio_muestral, k=10000)\n",
    "\n",
    "frecuencia_dos=tiradas.count(2)/len(tiradas)\n",
    "\n",
    "frecuencia_dos"
   ]
  },
  {
   "cell_type": "markdown",
   "metadata": {},
   "source": [
    "## Regla de Laplace \n",
    "\n",
    "Si cada posible salida de $\\Omega$ ocurre con la **misma probabilidad**, entonces la probabilidad de cada evento es simplemente:\n",
    "\n",
    "$$P(evento)=\\frac {\\text{numero de salidas en el evento}}{\\text{numero de salidas en el espacio muestral}}$$\n",
    "\n",
    "\n",
    "**Ejemplo:** Lanzar 2 monedas.\n",
    "\n",
    "El espacio muestral es $\\Omega = \\{cara-cara, cara-cruz, cruz-cara, cruz-cruz\\}$\n",
    "\n",
    "$P(\\text{uno de cada}) = \\frac{2}{4}$\n",
    "\n",
    "$P(\\text{ambos el mismo}) = \\frac{2}{4}$"
   ]
  },
  {
   "cell_type": "markdown",
   "metadata": {},
   "source": [
    "## Eventos Compuestos\n",
    "\n",
    "#### Union, interseccion\n",
    "\n",
    "$A$ and $B$ son eventos  \n",
    "\n",
    "$A \\cap B$ (A interseccion B) es otro evento, que ocurre si **ambos** $A$ y $B$ ocurren.\n",
    "\n",
    "$A \\cup B$ (A union B) es otro evento, que ocurre si **cualquiera**  $A$ o $B$ ocurren.\n",
    "\n",
    "\n",
    "![venn](images/venn.png)\n",
    "\n",
    "\n",
    "**Experimento de ejemplo**: sacar una carta de la baraja\n",
    "\n",
    "![baraja](images/baraja.jpg)\n",
    "\n",
    "\n",
    "$P(rey)=\\frac{4}{40}$\n",
    "\n",
    "$P(oro)=\\frac{10}{40}$\n",
    "\n",
    "$P(rey \\cap oro)=\\frac{1}{40}$\n",
    "\n",
    "$P(rey \\cup oro)=\\frac{13}{40}$\n",
    "\n",
    "$$P(A \\cup B)=P(A)+P(B)-P(A \\cap B)$$"
   ]
  },
  {
   "cell_type": "markdown",
   "metadata": {},
   "source": [
    "## Independencia\n",
    "\n",
    "\n"
   ]
  },
  {
   "cell_type": "markdown",
   "metadata": {},
   "source": [
    "### Evento opuesto/complementario\n",
    "\n",
    "\n",
    "$A$ es un evento\n",
    "\n",
    "$\\overline{A}$ es el evento opuesto o complementario (también llamado $A'$)\n",
    "\n",
    "$P(\\text{no oro})=\\frac{30}{40}$\n",
    "\n",
    "$P(\\text{oro})=\\frac{10}{40}$\n",
    "\n",
    "$$P(\\overline{A}) = 1-P(A)$$"
   ]
  },
  {
   "cell_type": "markdown",
   "metadata": {},
   "source": [
    "## Probabilidad condicional\n",
    "\n",
    "$P(A|B)$ es la probabilidad de que ocurra $A$, sabiendo que $B$ ha ocurrido.\n",
    "\n",
    "![prob_gatos](images/prob_gatos.jpg)\n",
    "\n",
    "\n",
    "Dando respuestas aproximadas:\n",
    " * ¿Cuál es la probabilidad de que un gato sea hembra?\n",
    " * ¿Cuál es la probabilidad de que un gato sea tricolor?\n",
    " * ¿Cuál es la probabilidad de que un gato sea hembra y tricolor?\n",
    " * Si un gato es hembra, ¿cuál es la probabilidad de que sea tricolor?\n",
    " * Si un gato es tricolor, ¿cuál es la probabilidad de que sea hembra?\n",
    " \n",
    " \n",
    " \n",
    "$P(\\text{hembra}) \\sim \\frac{1}{2}$\n",
    "\n",
    "$P(\\text{tricolor}) \\sim \\frac{1}{8}$\n",
    "\n",
    "$P(\\text{tricolor} \\cap \\text{hembra}) \\sim \\text{un poco menos de} \\frac{1}{8}$\n",
    "\n",
    "$P(\\text{tricolor} | \\text{hembra}) \\sim \\frac{1}{4}$\n",
    "\n",
    "$P(\\text{hembra} | \\text{tricolor}) \\sim 0.95$\n",
    "\n",
    "**Definicion formal:**\n",
    "\n",
    "$$P(A|B)=\\frac{P(A \\cap B)}{P(B)}$$\n",
    "\n",
    "$$P(\\text{tricolor} | \\text{hembra})=\\frac{P(\\text{tricolor} \\cap \\text{hembra})}{P(\\text{hembra})}$$\n",
    "\n",
    "$$P(\\text{tricolor} \\cap \\text{hembra}) = P(\\text{hembra}) · P(\\text{tricolor} | \\text{hembra})$$"
   ]
  },
  {
   "cell_type": "markdown",
   "metadata": {},
   "source": [
    "## Eventos independientes\n",
    "\n",
    "Si los eventos son independientes, la probabilidad de que ocurran **todos** ellos es el producto de sus respectivas probabilidades.\n",
    "\n",
    "$A$, $B$ independientes $\\Rightarrow$ $P(A \\cap B)=P(A) · P(B)$\n",
    "\n",
    "\n",
    "**Ejercicio**: ¿Cuál es la probabilidad de lanzar tres veces un dado y que salgan tres 5?\n",
    "\n",
    "$P(\\text{tres 5})=\\frac{1}{6}·\\frac{1}{6}·\\frac{1}{6}=\\frac{1}{216}$\n",
    "\n",
    "\n",
    "**Ejercicio**: Cogemos una carta de la baraja. Cogemos otra. ¿Cuál es la probabilidad de tener 2 ases?\n",
    "\n",
    "$P(\\text{2 ases})=\\frac{1}{10}·\\frac{1}{10}=\\frac{1}{100}$"
   ]
  },
  {
   "cell_type": "markdown",
   "metadata": {},
   "source": [
    "## Eventos dependientes\n",
    "\n",
    "Si los eventos son dependientes, la probabilidad de que ocurran todos ellos **no** es el producto de sus respectivas probabilidades.\n",
    "\n",
    "$A$, $B$ dependientes $\\Rightarrow$ $P(A \\cap B)=P(A) · P(B|A)$\n",
    "\n",
    "**Ejercicio**: Cogemos dos cartas de la baraja pero viendolas. ¿Cuál es la probabiliadd de haber cogido 2 ases?\n",
    "\n",
    "$P(\\text{primer as} \\cap \\text{segundo as}) = P(\\text{primer as}) · P(\\text{segundo as} | \\text{primer as})$\n",
    "\n",
    "$P(\\text{2 ases})=\\frac{1}{10}·\\frac{3}{39}=\\frac{1}{130}$\n",
    "\n",
    "\n",
    "**NOTA**: si $A$ no afecta a $B$ (son independientes), entonces $P(B|A)=P(B)$\n"
   ]
  },
  {
   "cell_type": "markdown",
   "metadata": {},
   "source": [
    "## Arbol de probabilidad\n",
    "\n",
    "Si algo puede ocurrir por **más de una razón**, hay que tener en cuenta todas las probabilidades.\n",
    "\n",
    "\n",
    "**Ejemplo:**\n",
    "\n",
    "Eres uno de los porteros de un equipo de futbol. Tienes 2 entrenadores.  \n",
    "\n",
    "Con el entrenador Sam la probabilidad de que juegues es 0.5.  \n",
    "Con el entrenador Alex la probabilidad es 0.3.  \n",
    "\n",
    "Sam entrena más a menudo, como 6 partidos de cada 10, una probabilidad de 0.6\n",
    "\n",
    "¿Cuál es la probabilidad de que juegues hoy?\n",
    "\n",
    "![tree_prob](images/tree_prob.svg)\n",
    "\n",
    "$P(jugar) = P(sam) · P(jugar | sam) + P(alex) · P(jugar | alex)$"
   ]
  },
  {
   "cell_type": "code",
   "execution_count": 11,
   "metadata": {},
   "outputs": [
    {
     "data": {
      "text/plain": [
       "0.42"
      ]
     },
     "execution_count": 11,
     "metadata": {},
     "output_type": "execute_result"
    }
   ],
   "source": [
    "prob=0.6 * 0.5 + 0.4 * 0.3\n",
    "\n",
    "prob"
   ]
  },
  {
   "cell_type": "markdown",
   "metadata": {},
   "source": [
    "$P(B)=\\sum P(A_i) · P(B | A_i)$\n",
    "\n",
    "**Ejercicio**:\n",
    " * La probabilidad de un aumento de salario en 2021 es del 20%  \n",
    " * Si obtengo un incremento, la probabilidad de comprar una casa es del 70%  \n",
    " * Si no obtengo un incremento, la probabilidad de comprar una casa es del 20% \n",
    " \n",
    "¿Qué probabilidad tengo de comprarme una casa en 2022?\n",
    "\n",
    "$P(casa) = P(aumento) · P(casa | aumento) + P(\\text{no aumento}) · P(casa | \\text{no aumento})$"
   ]
  },
  {
   "cell_type": "code",
   "execution_count": 13,
   "metadata": {},
   "outputs": [
    {
     "data": {
      "text/plain": [
       "0.30000000000000004"
      ]
     },
     "execution_count": 13,
     "metadata": {},
     "output_type": "execute_result"
    }
   ],
   "source": [
    "prob = 0.2 * 0.7 + 0.8 * 0.2\n",
    "\n",
    "prob"
   ]
  },
  {
   "cell_type": "markdown",
   "metadata": {},
   "source": [
    "![prob_tree](images/prob_tree.png)"
   ]
  }
 ],
 "metadata": {
  "finalized": {
   "timestamp": 1624202553423,
   "trusted": false
  },
  "kernelspec": {
   "display_name": "clase",
   "language": "python",
   "name": "clase"
  },
  "language_info": {
   "codemirror_mode": {
    "name": "ipython",
    "version": 3
   },
   "file_extension": ".py",
   "mimetype": "text/x-python",
   "name": "python",
   "nbconvert_exporter": "python",
   "pygments_lexer": "ipython3",
   "version": "3.8.8"
  },
  "varInspector": {
   "cols": {
    "lenName": 16,
    "lenType": 16,
    "lenVar": 40
   },
   "kernels_config": {
    "python": {
     "delete_cmd_postfix": "",
     "delete_cmd_prefix": "del ",
     "library": "var_list.py",
     "varRefreshCmd": "print(var_dic_list())"
    },
    "r": {
     "delete_cmd_postfix": ") ",
     "delete_cmd_prefix": "rm(",
     "library": "var_list.r",
     "varRefreshCmd": "cat(var_dic_list()) "
    }
   },
   "types_to_exclude": [
    "module",
    "function",
    "builtin_function_or_method",
    "instance",
    "_Feature"
   ],
   "window_display": false
  }
 },
 "nbformat": 4,
 "nbformat_minor": 4
}
