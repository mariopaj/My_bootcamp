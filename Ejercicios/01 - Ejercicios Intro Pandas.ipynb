{
 "cells": [
  {
   "cell_type": "markdown",
   "id": "99fff3ea",
   "metadata": {},
   "source": [
    "# Ejercicios Intro Pandas\n",
    "\n",
    "![imagen](img/ejercicios.png)"
   ]
  },
  {
   "cell_type": "markdown",
   "id": "e70f7da1",
   "metadata": {},
   "source": [
    "## Ejercicio 1\n",
    "Importa el módulo `pandas` y el módulo `numpy`."
   ]
  },
  {
   "cell_type": "code",
   "execution_count": 1,
   "id": "d2b0adcd",
   "metadata": {},
   "outputs": [],
   "source": [
    "import numpy as np\n",
    "import pandas as pd"
   ]
  },
  {
   "cell_type": "markdown",
   "id": "3ade1ed1",
   "metadata": {},
   "source": [
    "## Ejercicio 2\n",
    "\n",
    "Define una lista de 10 elementos y crea con ella un objeto `pandas.Series`."
   ]
  },
  {
   "cell_type": "code",
   "execution_count": 8,
   "id": "88b3e998",
   "metadata": {},
   "outputs": [
    {
     "data": {
      "text/plain": [
       "0     0\n",
       "1     2\n",
       "2     4\n",
       "3     6\n",
       "4     8\n",
       "5    10\n",
       "6    12\n",
       "7    14\n",
       "8    16\n",
       "9    18\n",
       "dtype: int64"
      ]
     },
     "execution_count": 8,
     "metadata": {},
     "output_type": "execute_result"
    }
   ],
   "source": [
    "my_lst = [x*2 for x in range(0,10)]\n",
    "\n",
    "serie = pd.Series(my_lst)\n",
    "\n",
    "serie"
   ]
  },
  {
   "cell_type": "markdown",
   "id": "67159926",
   "metadata": {},
   "source": [
    "## Ejercicio 3\n",
    "\n",
    "Usa los índices para devolver el cuarto valor de la serie anterior.\n",
    "\n",
    "*Recuerda que los índices en Python empiezan en 0.*"
   ]
  },
  {
   "cell_type": "code",
   "execution_count": 9,
   "id": "8054f4b3",
   "metadata": {},
   "outputs": [
    {
     "data": {
      "text/plain": [
       "6"
      ]
     },
     "execution_count": 9,
     "metadata": {},
     "output_type": "execute_result"
    }
   ],
   "source": [
    "serie[3]"
   ]
  },
  {
   "cell_type": "markdown",
   "id": "b14ebffa",
   "metadata": {},
   "source": [
    "## Ejercicio 4\n",
    "\n",
    "Define un `numpy.ndarray` de dimensiones (10, 5) y crea con él un `pandas.DataFrame`."
   ]
  },
  {
   "cell_type": "code",
   "execution_count": 14,
   "id": "7e3669ee",
   "metadata": {},
   "outputs": [
    {
     "data": {
      "text/html": [
       "<div>\n",
       "<style scoped>\n",
       "    .dataframe tbody tr th:only-of-type {\n",
       "        vertical-align: middle;\n",
       "    }\n",
       "\n",
       "    .dataframe tbody tr th {\n",
       "        vertical-align: top;\n",
       "    }\n",
       "\n",
       "    .dataframe thead th {\n",
       "        text-align: right;\n",
       "    }\n",
       "</style>\n",
       "<table border=\"1\" class=\"dataframe\">\n",
       "  <thead>\n",
       "    <tr style=\"text-align: right;\">\n",
       "      <th></th>\n",
       "      <th>col1</th>\n",
       "      <th>col2</th>\n",
       "      <th>col3</th>\n",
       "      <th>col4</th>\n",
       "      <th>col5</th>\n",
       "    </tr>\n",
       "  </thead>\n",
       "  <tbody>\n",
       "    <tr>\n",
       "      <th>0</th>\n",
       "      <td>1.061592e-311</td>\n",
       "      <td>1.061582e-311</td>\n",
       "      <td>1.677095e+243</td>\n",
       "      <td>1.906577e+185</td>\n",
       "      <td>6.013470e-154</td>\n",
       "    </tr>\n",
       "    <tr>\n",
       "      <th>1</th>\n",
       "      <td>2.255636e-153</td>\n",
       "      <td>2.433960e-152</td>\n",
       "      <td>7.352855e+223</td>\n",
       "      <td>6.013470e-154</td>\n",
       "      <td>1.407190e+248</td>\n",
       "    </tr>\n",
       "    <tr>\n",
       "      <th>2</th>\n",
       "      <td>2.325304e+251</td>\n",
       "      <td>3.649121e+233</td>\n",
       "      <td>6.988466e+199</td>\n",
       "      <td>5.981175e-114</td>\n",
       "      <td>6.013470e-154</td>\n",
       "    </tr>\n",
       "    <tr>\n",
       "      <th>3</th>\n",
       "      <td>1.407190e+248</td>\n",
       "      <td>6.017225e+175</td>\n",
       "      <td>6.367929e+151</td>\n",
       "      <td>2.649374e+180</td>\n",
       "      <td>2.978758e+228</td>\n",
       "    </tr>\n",
       "    <tr>\n",
       "      <th>4</th>\n",
       "      <td>5.336407e+228</td>\n",
       "      <td>2.439058e-154</td>\n",
       "      <td>1.877254e-09</td>\n",
       "      <td>4.710645e+257</td>\n",
       "      <td>6.013470e-154</td>\n",
       "    </tr>\n",
       "    <tr>\n",
       "      <th>5</th>\n",
       "      <td>8.259978e-72</td>\n",
       "      <td>2.422851e-28</td>\n",
       "      <td>6.013561e-154</td>\n",
       "      <td>6.013470e-154</td>\n",
       "      <td>1.398046e-76</td>\n",
       "    </tr>\n",
       "    <tr>\n",
       "      <th>6</th>\n",
       "      <td>3.003000e-67</td>\n",
       "      <td>1.207385e-153</td>\n",
       "      <td>5.981565e-154</td>\n",
       "      <td>1.565348e-76</td>\n",
       "      <td>6.000203e-67</td>\n",
       "    </tr>\n",
       "    <tr>\n",
       "      <th>7</th>\n",
       "      <td>2.264022e-76</td>\n",
       "      <td>1.397997e-259</td>\n",
       "      <td>6.013470e-154</td>\n",
       "      <td>4.968032e-91</td>\n",
       "      <td>2.903776e-57</td>\n",
       "    </tr>\n",
       "    <tr>\n",
       "      <th>8</th>\n",
       "      <td>8.417899e-53</td>\n",
       "      <td>6.013470e-154</td>\n",
       "      <td>8.259978e-72</td>\n",
       "      <td>2.043212e-28</td>\n",
       "      <td>6.013561e-154</td>\n",
       "    </tr>\n",
       "    <tr>\n",
       "      <th>9</th>\n",
       "      <td>6.013470e-154</td>\n",
       "      <td>1.745664e+238</td>\n",
       "      <td>2.000057e+174</td>\n",
       "      <td>7.265881e+223</td>\n",
       "      <td>8.458106e-316</td>\n",
       "    </tr>\n",
       "  </tbody>\n",
       "</table>\n",
       "</div>"
      ],
      "text/plain": [
       "            col1           col2           col3           col4           col5\n",
       "0  1.061592e-311  1.061582e-311  1.677095e+243  1.906577e+185  6.013470e-154\n",
       "1  2.255636e-153  2.433960e-152  7.352855e+223  6.013470e-154  1.407190e+248\n",
       "2  2.325304e+251  3.649121e+233  6.988466e+199  5.981175e-114  6.013470e-154\n",
       "3  1.407190e+248  6.017225e+175  6.367929e+151  2.649374e+180  2.978758e+228\n",
       "4  5.336407e+228  2.439058e-154   1.877254e-09  4.710645e+257  6.013470e-154\n",
       "5   8.259978e-72   2.422851e-28  6.013561e-154  6.013470e-154   1.398046e-76\n",
       "6   3.003000e-67  1.207385e-153  5.981565e-154   1.565348e-76   6.000203e-67\n",
       "7   2.264022e-76  1.397997e-259  6.013470e-154   4.968032e-91   2.903776e-57\n",
       "8   8.417899e-53  6.013470e-154   8.259978e-72   2.043212e-28  6.013561e-154\n",
       "9  6.013470e-154  1.745664e+238  2.000057e+174  7.265881e+223  8.458106e-316"
      ]
     },
     "execution_count": 14,
     "metadata": {},
     "output_type": "execute_result"
    }
   ],
   "source": [
    "columnas = [\"col1\", \"col2\", \"col3\", \"col4\", \"col5\"]\n",
    "\n",
    "my_array = np.ndarray((10,5)) # creamos un array de dimensiones 10 x 5 y numeros aleatorios\n",
    "\n",
    "df= pd.DataFrame(my_array, columns = columnas)\n",
    "\n",
    "df"
   ]
  },
  {
   "cell_type": "markdown",
   "id": "a8e46b27",
   "metadata": {},
   "source": [
    "## Ejercicio 5\n",
    "\n",
    "Renombra las columnas con la siguiente lista:"
   ]
  },
  {
   "cell_type": "code",
   "execution_count": 55,
   "id": "45482e05",
   "metadata": {},
   "outputs": [],
   "source": [
    "columns = ['Rate_1', 'Rate_2', 'Rate_3', 'Rate_4', 'Rate_5']"
   ]
  },
  {
   "cell_type": "code",
   "execution_count": 56,
   "id": "4f19bac6",
   "metadata": {},
   "outputs": [
    {
     "data": {
      "text/html": [
       "<div>\n",
       "<style scoped>\n",
       "    .dataframe tbody tr th:only-of-type {\n",
       "        vertical-align: middle;\n",
       "    }\n",
       "\n",
       "    .dataframe tbody tr th {\n",
       "        vertical-align: top;\n",
       "    }\n",
       "\n",
       "    .dataframe thead th {\n",
       "        text-align: right;\n",
       "    }\n",
       "</style>\n",
       "<table border=\"1\" class=\"dataframe\">\n",
       "  <thead>\n",
       "    <tr style=\"text-align: right;\">\n",
       "      <th></th>\n",
       "      <th>Rate_1</th>\n",
       "      <th>Rate_2</th>\n",
       "      <th>Rate_3</th>\n",
       "      <th>Rate_4</th>\n",
       "      <th>Rate_5</th>\n",
       "    </tr>\n",
       "  </thead>\n",
       "  <tbody>\n",
       "    <tr>\n",
       "      <th>0</th>\n",
       "      <td>1.061592e-311</td>\n",
       "      <td>1.061582e-311</td>\n",
       "      <td>1.677095e+243</td>\n",
       "      <td>1.906577e+185</td>\n",
       "      <td>6.013470e-154</td>\n",
       "    </tr>\n",
       "    <tr>\n",
       "      <th>1</th>\n",
       "      <td>2.255636e-153</td>\n",
       "      <td>2.433960e-152</td>\n",
       "      <td>7.352855e+223</td>\n",
       "      <td>6.013470e-154</td>\n",
       "      <td>1.407190e+248</td>\n",
       "    </tr>\n",
       "    <tr>\n",
       "      <th>2</th>\n",
       "      <td>2.325304e+251</td>\n",
       "      <td>3.649121e+233</td>\n",
       "      <td>6.988466e+199</td>\n",
       "      <td>5.981175e-114</td>\n",
       "      <td>6.013470e-154</td>\n",
       "    </tr>\n",
       "    <tr>\n",
       "      <th>3</th>\n",
       "      <td>1.407190e+248</td>\n",
       "      <td>6.017225e+175</td>\n",
       "      <td>6.367929e+151</td>\n",
       "      <td>2.649374e+180</td>\n",
       "      <td>2.978758e+228</td>\n",
       "    </tr>\n",
       "    <tr>\n",
       "      <th>4</th>\n",
       "      <td>5.336407e+228</td>\n",
       "      <td>2.439058e-154</td>\n",
       "      <td>1.877254e-09</td>\n",
       "      <td>4.710645e+257</td>\n",
       "      <td>6.013470e-154</td>\n",
       "    </tr>\n",
       "    <tr>\n",
       "      <th>5</th>\n",
       "      <td>8.259978e-72</td>\n",
       "      <td>2.422851e-28</td>\n",
       "      <td>6.013561e-154</td>\n",
       "      <td>6.013470e-154</td>\n",
       "      <td>1.398046e-76</td>\n",
       "    </tr>\n",
       "    <tr>\n",
       "      <th>6</th>\n",
       "      <td>3.003000e-67</td>\n",
       "      <td>1.207385e-153</td>\n",
       "      <td>5.981565e-154</td>\n",
       "      <td>1.565348e-76</td>\n",
       "      <td>6.000203e-67</td>\n",
       "    </tr>\n",
       "    <tr>\n",
       "      <th>7</th>\n",
       "      <td>2.264022e-76</td>\n",
       "      <td>1.397997e-259</td>\n",
       "      <td>6.013470e-154</td>\n",
       "      <td>4.968032e-91</td>\n",
       "      <td>2.903776e-57</td>\n",
       "    </tr>\n",
       "    <tr>\n",
       "      <th>8</th>\n",
       "      <td>8.417899e-53</td>\n",
       "      <td>6.013470e-154</td>\n",
       "      <td>8.259978e-72</td>\n",
       "      <td>2.043212e-28</td>\n",
       "      <td>6.013561e-154</td>\n",
       "    </tr>\n",
       "    <tr>\n",
       "      <th>9</th>\n",
       "      <td>6.013470e-154</td>\n",
       "      <td>1.745664e+238</td>\n",
       "      <td>2.000057e+174</td>\n",
       "      <td>7.265881e+223</td>\n",
       "      <td>8.458106e-316</td>\n",
       "    </tr>\n",
       "  </tbody>\n",
       "</table>\n",
       "</div>"
      ],
      "text/plain": [
       "          Rate_1         Rate_2         Rate_3         Rate_4         Rate_5\n",
       "0  1.061592e-311  1.061582e-311  1.677095e+243  1.906577e+185  6.013470e-154\n",
       "1  2.255636e-153  2.433960e-152  7.352855e+223  6.013470e-154  1.407190e+248\n",
       "2  2.325304e+251  3.649121e+233  6.988466e+199  5.981175e-114  6.013470e-154\n",
       "3  1.407190e+248  6.017225e+175  6.367929e+151  2.649374e+180  2.978758e+228\n",
       "4  5.336407e+228  2.439058e-154   1.877254e-09  4.710645e+257  6.013470e-154\n",
       "5   8.259978e-72   2.422851e-28  6.013561e-154  6.013470e-154   1.398046e-76\n",
       "6   3.003000e-67  1.207385e-153  5.981565e-154   1.565348e-76   6.000203e-67\n",
       "7   2.264022e-76  1.397997e-259  6.013470e-154   4.968032e-91   2.903776e-57\n",
       "8   8.417899e-53  6.013470e-154   8.259978e-72   2.043212e-28  6.013561e-154\n",
       "9  6.013470e-154  1.745664e+238  2.000057e+174  7.265881e+223  8.458106e-316"
      ]
     },
     "execution_count": 56,
     "metadata": {},
     "output_type": "execute_result"
    }
   ],
   "source": [
    "df.columns = columns\n",
    "\n",
    "df"
   ]
  },
  {
   "cell_type": "markdown",
   "id": "a3910466",
   "metadata": {},
   "source": [
    "## Ejercicio 6\n",
    "\n",
    "Crea un subconjunto del dataframe que contenga las columnas `Rate_1`, `Rate_3` y `Rate_5`."
   ]
  },
  {
   "cell_type": "code",
   "execution_count": 20,
   "id": "33b01233",
   "metadata": {},
   "outputs": [
    {
     "data": {
      "text/html": [
       "<div>\n",
       "<style scoped>\n",
       "    .dataframe tbody tr th:only-of-type {\n",
       "        vertical-align: middle;\n",
       "    }\n",
       "\n",
       "    .dataframe tbody tr th {\n",
       "        vertical-align: top;\n",
       "    }\n",
       "\n",
       "    .dataframe thead th {\n",
       "        text-align: right;\n",
       "    }\n",
       "</style>\n",
       "<table border=\"1\" class=\"dataframe\">\n",
       "  <thead>\n",
       "    <tr style=\"text-align: right;\">\n",
       "      <th></th>\n",
       "      <th>Rate_1</th>\n",
       "      <th>Rate_3</th>\n",
       "      <th>Rate_5</th>\n",
       "    </tr>\n",
       "  </thead>\n",
       "  <tbody>\n",
       "    <tr>\n",
       "      <th>0</th>\n",
       "      <td>1.061592e-311</td>\n",
       "      <td>1.677095e+243</td>\n",
       "      <td>6.013470e-154</td>\n",
       "    </tr>\n",
       "    <tr>\n",
       "      <th>1</th>\n",
       "      <td>2.255636e-153</td>\n",
       "      <td>7.352855e+223</td>\n",
       "      <td>1.407190e+248</td>\n",
       "    </tr>\n",
       "    <tr>\n",
       "      <th>2</th>\n",
       "      <td>2.325304e+251</td>\n",
       "      <td>6.988466e+199</td>\n",
       "      <td>6.013470e-154</td>\n",
       "    </tr>\n",
       "    <tr>\n",
       "      <th>3</th>\n",
       "      <td>1.407190e+248</td>\n",
       "      <td>6.367929e+151</td>\n",
       "      <td>2.978758e+228</td>\n",
       "    </tr>\n",
       "    <tr>\n",
       "      <th>4</th>\n",
       "      <td>5.336407e+228</td>\n",
       "      <td>1.877254e-09</td>\n",
       "      <td>6.013470e-154</td>\n",
       "    </tr>\n",
       "    <tr>\n",
       "      <th>5</th>\n",
       "      <td>8.259978e-72</td>\n",
       "      <td>6.013561e-154</td>\n",
       "      <td>1.398046e-76</td>\n",
       "    </tr>\n",
       "    <tr>\n",
       "      <th>6</th>\n",
       "      <td>3.003000e-67</td>\n",
       "      <td>5.981565e-154</td>\n",
       "      <td>6.000203e-67</td>\n",
       "    </tr>\n",
       "    <tr>\n",
       "      <th>7</th>\n",
       "      <td>2.264022e-76</td>\n",
       "      <td>6.013470e-154</td>\n",
       "      <td>2.903776e-57</td>\n",
       "    </tr>\n",
       "    <tr>\n",
       "      <th>8</th>\n",
       "      <td>8.417899e-53</td>\n",
       "      <td>8.259978e-72</td>\n",
       "      <td>6.013561e-154</td>\n",
       "    </tr>\n",
       "    <tr>\n",
       "      <th>9</th>\n",
       "      <td>6.013470e-154</td>\n",
       "      <td>2.000057e+174</td>\n",
       "      <td>8.458106e-316</td>\n",
       "    </tr>\n",
       "  </tbody>\n",
       "</table>\n",
       "</div>"
      ],
      "text/plain": [
       "          Rate_1         Rate_3         Rate_5\n",
       "0  1.061592e-311  1.677095e+243  6.013470e-154\n",
       "1  2.255636e-153  7.352855e+223  1.407190e+248\n",
       "2  2.325304e+251  6.988466e+199  6.013470e-154\n",
       "3  1.407190e+248  6.367929e+151  2.978758e+228\n",
       "4  5.336407e+228   1.877254e-09  6.013470e-154\n",
       "5   8.259978e-72  6.013561e-154   1.398046e-76\n",
       "6   3.003000e-67  5.981565e-154   6.000203e-67\n",
       "7   2.264022e-76  6.013470e-154   2.903776e-57\n",
       "8   8.417899e-53   8.259978e-72  6.013561e-154\n",
       "9  6.013470e-154  2.000057e+174  8.458106e-316"
      ]
     },
     "execution_count": 20,
     "metadata": {},
     "output_type": "execute_result"
    }
   ],
   "source": [
    "df[[\"Rate_1\" ,\"Rate_3\", \"Rate_5\"]]"
   ]
  },
  {
   "cell_type": "markdown",
   "id": "875589f0",
   "metadata": {},
   "source": [
    "## Ejercicio 7\n",
    "\n",
    "Crea un subconjunto del dataframe que contenga las filas pares."
   ]
  },
  {
   "cell_type": "code",
   "execution_count": 27,
   "id": "3de3e518",
   "metadata": {},
   "outputs": [
    {
     "data": {
      "text/html": [
       "<div>\n",
       "<style scoped>\n",
       "    .dataframe tbody tr th:only-of-type {\n",
       "        vertical-align: middle;\n",
       "    }\n",
       "\n",
       "    .dataframe tbody tr th {\n",
       "        vertical-align: top;\n",
       "    }\n",
       "\n",
       "    .dataframe thead th {\n",
       "        text-align: right;\n",
       "    }\n",
       "</style>\n",
       "<table border=\"1\" class=\"dataframe\">\n",
       "  <thead>\n",
       "    <tr style=\"text-align: right;\">\n",
       "      <th></th>\n",
       "      <th>Rate_1</th>\n",
       "      <th>Rate_2</th>\n",
       "      <th>Rate_3</th>\n",
       "      <th>Rate_4</th>\n",
       "      <th>Rate_5</th>\n",
       "    </tr>\n",
       "  </thead>\n",
       "  <tbody>\n",
       "    <tr>\n",
       "      <th>2</th>\n",
       "      <td>2.325304e+251</td>\n",
       "      <td>3.649121e+233</td>\n",
       "      <td>6.988466e+199</td>\n",
       "      <td>5.981175e-114</td>\n",
       "      <td>6.013470e-154</td>\n",
       "    </tr>\n",
       "    <tr>\n",
       "      <th>4</th>\n",
       "      <td>5.336407e+228</td>\n",
       "      <td>2.439058e-154</td>\n",
       "      <td>1.877254e-09</td>\n",
       "      <td>4.710645e+257</td>\n",
       "      <td>6.013470e-154</td>\n",
       "    </tr>\n",
       "    <tr>\n",
       "      <th>6</th>\n",
       "      <td>3.003000e-67</td>\n",
       "      <td>1.207385e-153</td>\n",
       "      <td>5.981565e-154</td>\n",
       "      <td>1.565348e-76</td>\n",
       "      <td>6.000203e-67</td>\n",
       "    </tr>\n",
       "    <tr>\n",
       "      <th>8</th>\n",
       "      <td>8.417899e-53</td>\n",
       "      <td>6.013470e-154</td>\n",
       "      <td>8.259978e-72</td>\n",
       "      <td>2.043212e-28</td>\n",
       "      <td>6.013561e-154</td>\n",
       "    </tr>\n",
       "  </tbody>\n",
       "</table>\n",
       "</div>"
      ],
      "text/plain": [
       "          Rate_1         Rate_2         Rate_3         Rate_4         Rate_5\n",
       "2  2.325304e+251  3.649121e+233  6.988466e+199  5.981175e-114  6.013470e-154\n",
       "4  5.336407e+228  2.439058e-154   1.877254e-09  4.710645e+257  6.013470e-154\n",
       "6   3.003000e-67  1.207385e-153  5.981565e-154   1.565348e-76   6.000203e-67\n",
       "8   8.417899e-53  6.013470e-154   8.259978e-72   2.043212e-28  6.013561e-154"
      ]
     },
     "execution_count": 27,
     "metadata": {},
     "output_type": "execute_result"
    }
   ],
   "source": [
    "df.iloc[2:9:2] # seleccionamos las filas de la 2 a la 9 de 2 en 2"
   ]
  },
  {
   "cell_type": "markdown",
   "id": "27b3fe24",
   "metadata": {},
   "source": [
    "## Ejercicio 8\n",
    "\n",
    "Calcula la media de la columna `Rate_4`."
   ]
  },
  {
   "cell_type": "code",
   "execution_count": 32,
   "id": "813a5781",
   "metadata": {},
   "outputs": [
    {
     "data": {
      "text/plain": [
       "4.710644802526223e+256"
      ]
     },
     "execution_count": 32,
     "metadata": {},
     "output_type": "execute_result"
    }
   ],
   "source": [
    "df[\"Rate_4\"].mean()"
   ]
  },
  {
   "cell_type": "markdown",
   "id": "f6cbe38c",
   "metadata": {},
   "source": [
    "## Ejercicio 8\n",
    "\n",
    "Calcula la mediana de la columna `Rate_1`."
   ]
  },
  {
   "cell_type": "code",
   "execution_count": 33,
   "id": "afaee0f2",
   "metadata": {},
   "outputs": [
    {
     "data": {
      "text/plain": [
       "1.501541058514031e-67"
      ]
     },
     "execution_count": 33,
     "metadata": {},
     "output_type": "execute_result"
    }
   ],
   "source": [
    "df[\"Rate_1\"].median()"
   ]
  },
  {
   "cell_type": "markdown",
   "id": "a11d9fc6",
   "metadata": {},
   "source": [
    "## Ejercicio 9\n",
    "\n",
    "Calcula el mínimo de la columna `Rate_2`."
   ]
  },
  {
   "cell_type": "code",
   "execution_count": 34,
   "id": "a8d50f79",
   "metadata": {},
   "outputs": [
    {
     "data": {
      "text/plain": [
       "1.06158224425e-311"
      ]
     },
     "execution_count": 34,
     "metadata": {},
     "output_type": "execute_result"
    }
   ],
   "source": [
    "df[\"Rate_2\"].min()"
   ]
  },
  {
   "cell_type": "markdown",
   "id": "539a8999",
   "metadata": {},
   "source": [
    "## Ejercicio 10\n",
    "\n",
    "Calcula el máximo de la columna `Rate_5`."
   ]
  },
  {
   "cell_type": "code",
   "execution_count": 35,
   "id": "6b317e57",
   "metadata": {},
   "outputs": [
    {
     "data": {
      "text/plain": [
       "1.4071902863718444e+248"
      ]
     },
     "execution_count": 35,
     "metadata": {},
     "output_type": "execute_result"
    }
   ],
   "source": [
    "df[\"Rate_5\"].max()"
   ]
  },
  {
   "cell_type": "markdown",
   "id": "5eeb3de9",
   "metadata": {},
   "source": [
    "## Ejercicio 11\n",
    "\n",
    "Crea un `pandas.DataFrame` con el siguiente diccionario:"
   ]
  },
  {
   "cell_type": "code",
   "execution_count": 38,
   "id": "50900e98",
   "metadata": {},
   "outputs": [
    {
     "name": "stdout",
     "output_type": "stream",
     "text": [
      "{'Desc': ['Lunch bag', 'Vintage leaf cake cases', 'Ribbon reel stripes', 'Gliders', 'Playing cards', 'Popcorn holder', 'Alphabet blocks', 'Party bunting', 'Color Pen', 'Paint book'], 'Quantity': [1, 24, 1, 2880, 2, 7, 1, 4, 10, 48], 'UnitPrice': [1.65, 0.55, 1.65, 0.18, 1.25, 0.85, 11.95, 4.95, 0.19, 1.25], 'Revenue': [1.65, 13.2, 1.65, 518.4, 2.5, 5.95, 11.95, 19.8, 1.9, 60.0]}\n"
     ]
    }
   ],
   "source": [
    "products = {'Desc': ['Lunch bag', 'Vintage leaf cake cases', 'Ribbon reel stripes','Gliders', 'Playing cards',\n",
    "                     'Popcorn holder', 'Alphabet blocks', 'Party bunting', 'Color Pen', 'Paint book'],\n",
    "           'Quantity': [1, 24, 1, 2880, 2, 7, 1, 4, 10, 48],\n",
    "           'UnitPrice': [1.65, 0.55, 1.65, 0.18, 1.25, 0.85, 11.95, 4.95, 0.19, 1.25],\n",
    "           'Revenue': [1.65, 13.2, 1.65, 518.4, 2.5, 5.95, 11.95, 19.8, 1.9, 60.0]}"
   ]
  },
  {
   "cell_type": "code",
   "execution_count": 40,
   "id": "3fccdb14-abcd-4fa5-bca8-f9305f0407b5",
   "metadata": {},
   "outputs": [
    {
     "data": {
      "text/html": [
       "<div>\n",
       "<style scoped>\n",
       "    .dataframe tbody tr th:only-of-type {\n",
       "        vertical-align: middle;\n",
       "    }\n",
       "\n",
       "    .dataframe tbody tr th {\n",
       "        vertical-align: top;\n",
       "    }\n",
       "\n",
       "    .dataframe thead th {\n",
       "        text-align: right;\n",
       "    }\n",
       "</style>\n",
       "<table border=\"1\" class=\"dataframe\">\n",
       "  <thead>\n",
       "    <tr style=\"text-align: right;\">\n",
       "      <th></th>\n",
       "      <th>Desc</th>\n",
       "      <th>Quantity</th>\n",
       "      <th>UnitPrice</th>\n",
       "      <th>Revenue</th>\n",
       "    </tr>\n",
       "  </thead>\n",
       "  <tbody>\n",
       "    <tr>\n",
       "      <th>0</th>\n",
       "      <td>Lunch bag</td>\n",
       "      <td>1</td>\n",
       "      <td>1.65</td>\n",
       "      <td>1.65</td>\n",
       "    </tr>\n",
       "    <tr>\n",
       "      <th>1</th>\n",
       "      <td>Vintage leaf cake cases</td>\n",
       "      <td>24</td>\n",
       "      <td>0.55</td>\n",
       "      <td>13.20</td>\n",
       "    </tr>\n",
       "    <tr>\n",
       "      <th>2</th>\n",
       "      <td>Ribbon reel stripes</td>\n",
       "      <td>1</td>\n",
       "      <td>1.65</td>\n",
       "      <td>1.65</td>\n",
       "    </tr>\n",
       "    <tr>\n",
       "      <th>3</th>\n",
       "      <td>Gliders</td>\n",
       "      <td>2880</td>\n",
       "      <td>0.18</td>\n",
       "      <td>518.40</td>\n",
       "    </tr>\n",
       "    <tr>\n",
       "      <th>4</th>\n",
       "      <td>Playing cards</td>\n",
       "      <td>2</td>\n",
       "      <td>1.25</td>\n",
       "      <td>2.50</td>\n",
       "    </tr>\n",
       "    <tr>\n",
       "      <th>5</th>\n",
       "      <td>Popcorn holder</td>\n",
       "      <td>7</td>\n",
       "      <td>0.85</td>\n",
       "      <td>5.95</td>\n",
       "    </tr>\n",
       "    <tr>\n",
       "      <th>6</th>\n",
       "      <td>Alphabet blocks</td>\n",
       "      <td>1</td>\n",
       "      <td>11.95</td>\n",
       "      <td>11.95</td>\n",
       "    </tr>\n",
       "    <tr>\n",
       "      <th>7</th>\n",
       "      <td>Party bunting</td>\n",
       "      <td>4</td>\n",
       "      <td>4.95</td>\n",
       "      <td>19.80</td>\n",
       "    </tr>\n",
       "    <tr>\n",
       "      <th>8</th>\n",
       "      <td>Color Pen</td>\n",
       "      <td>10</td>\n",
       "      <td>0.19</td>\n",
       "      <td>1.90</td>\n",
       "    </tr>\n",
       "    <tr>\n",
       "      <th>9</th>\n",
       "      <td>Paint book</td>\n",
       "      <td>48</td>\n",
       "      <td>1.25</td>\n",
       "      <td>60.00</td>\n",
       "    </tr>\n",
       "  </tbody>\n",
       "</table>\n",
       "</div>"
      ],
      "text/plain": [
       "                      Desc  Quantity  UnitPrice  Revenue\n",
       "0                Lunch bag         1       1.65     1.65\n",
       "1  Vintage leaf cake cases        24       0.55    13.20\n",
       "2      Ribbon reel stripes         1       1.65     1.65\n",
       "3                  Gliders      2880       0.18   518.40\n",
       "4            Playing cards         2       1.25     2.50\n",
       "5           Popcorn holder         7       0.85     5.95\n",
       "6          Alphabet blocks         1      11.95    11.95\n",
       "7            Party bunting         4       4.95    19.80\n",
       "8                Color Pen        10       0.19     1.90\n",
       "9               Paint book        48       1.25    60.00"
      ]
     },
     "execution_count": 40,
     "metadata": {},
     "output_type": "execute_result"
    }
   ],
   "source": [
    "df_dictio = pd.DataFrame(products)\n",
    "\n",
    "df_dictio"
   ]
  },
  {
   "cell_type": "markdown",
   "id": "77c4d987",
   "metadata": {},
   "source": [
    "## Ejercicio 12\n",
    "\n",
    "Calcula la cantidad (`Quantity`) y beneficio (`Revenue`) totales."
   ]
  },
  {
   "cell_type": "code",
   "execution_count": 45,
   "id": "17db53f0",
   "metadata": {},
   "outputs": [
    {
     "data": {
      "text/plain": [
       "2978"
      ]
     },
     "execution_count": 45,
     "metadata": {},
     "output_type": "execute_result"
    }
   ],
   "source": [
    "df_dictio.Quantity.sum()"
   ]
  },
  {
   "cell_type": "code",
   "execution_count": 46,
   "id": "39e2ecdf",
   "metadata": {},
   "outputs": [
    {
     "data": {
      "text/plain": [
       "637.0"
      ]
     },
     "execution_count": 46,
     "metadata": {},
     "output_type": "execute_result"
    }
   ],
   "source": [
    "df_dictio.Revenue.sum()"
   ]
  },
  {
   "cell_type": "markdown",
   "id": "5a025c21",
   "metadata": {},
   "source": [
    "## Ejercicio 13\n",
    "\n",
    "¿Cuál es el producto más caro?. ¿El más barato?. ¿Y el más vendido?"
   ]
  },
  {
   "cell_type": "code",
   "execution_count": 57,
   "id": "f0e544a5",
   "metadata": {},
   "outputs": [
    {
     "data": {
      "text/plain": [
       "'Alphabet blocks'"
      ]
     },
     "execution_count": 57,
     "metadata": {},
     "output_type": "execute_result"
    }
   ],
   "source": [
    "df_dictio.loc[df_dictio[\"UnitPrice\"].idxmax(),\"Desc\"]"
   ]
  },
  {
   "cell_type": "code",
   "execution_count": 58,
   "id": "fdf77c1b",
   "metadata": {},
   "outputs": [
    {
     "data": {
      "text/plain": [
       "'Gliders'"
      ]
     },
     "execution_count": 58,
     "metadata": {},
     "output_type": "execute_result"
    }
   ],
   "source": [
    "df_dictio.loc[df_dictio[\"UnitPrice\"].idxmin(),\"Desc\"]"
   ]
  },
  {
   "cell_type": "code",
   "execution_count": 60,
   "id": "ad681fd2-6fe2-41fb-b047-2d9c43dfd3a7",
   "metadata": {},
   "outputs": [
    {
     "data": {
      "text/plain": [
       "'Gliders'"
      ]
     },
     "execution_count": 60,
     "metadata": {},
     "output_type": "execute_result"
    }
   ],
   "source": [
    "df_dictio.loc[df_dictio[\"Quantity\"].idxmax(), \"Desc\"]"
   ]
  },
  {
   "cell_type": "markdown",
   "id": "c0a815bd-5aa2-4b77-9304-3c4506e1eb15",
   "metadata": {},
   "source": [
    "## Ejercicio 14\n",
    "\n",
    "En este kata, tomarás las claves y los valores de un dictado y los intercambiarás.\n",
    "\n",
    "Se le dará un diccionario, y luego querrá devolver un diccionario con los valores antiguos \n",
    "como claves, y enumerar las claves antiguas como valores debajo de sus claves originales.\n",
    "\n",
    "Por ejemplo:\n",
    "    \n",
    "tenemos el dictionary: {'Ice': 'Cream', 'Age': '21', 'Light': 'Cream', 'Double': 'Cream'},\n",
    "\n",
    "debera devolver: {'Cream': ['Ice', 'Double', 'Light'], '21': ['Age']}"
   ]
  },
  {
   "cell_type": "code",
   "execution_count": 100,
   "id": "0e0faa35-fab0-4375-bda0-81785a135c41",
   "metadata": {},
   "outputs": [
    {
     "data": {
      "text/plain": [
       "{'Ball': ['Money', 'Basket'], 'Matters': ['Lifes'], 'London': ['City']}"
      ]
     },
     "execution_count": 100,
     "metadata": {},
     "output_type": "execute_result"
    }
   ],
   "source": [
    "my_dic = {\"Money\":\"Ball\",\n",
    "       \"Basket\":\"Ball\",\n",
    "       \"Lifes\":\"Matters\",\n",
    "       \"City\":\"London\"}\n",
    "\n",
    "\n",
    "def switch_dict(dic):\n",
    "    \n",
    "    tmp_dict = {}\n",
    "    \n",
    "    for value in dic.values():\n",
    "        tmp_lst=[]\n",
    "        \n",
    "        for key in dic.keys():\n",
    "            \n",
    "            if dic[key]==value:\n",
    "                tmp_lst.append(key)\n",
    "        tmp_dict[value] = tmp_lst\n",
    "    \n",
    "    return tmp_dict\n",
    "        \n",
    "switch_dict(my_dic)"
   ]
  },
  {
   "cell_type": "markdown",
   "id": "d86ec2a6-4eef-4c42-a03b-b2bedbb2c5de",
   "metadata": {},
   "source": [
    "## Ejercicio 15\n",
    "\n",
    "This program tests the life of an evaporator containing a gas.\n",
    "\n",
    "We know the content of the evaporator (content in ml), the percentage of foam or gas lost every day (evap_per_day) and the threshold (threshold) in percentage beyond which the evaporator is no longer useful. All numbers are strictly positive.\n",
    "\n",
    "The program reports the nth day (as an integer) on which the evaporator will be out of use.\n",
    "\n",
    "Example:\n",
    "evaporator(10, 10, 5) -> 29"
   ]
  },
  {
   "cell_type": "code",
   "execution_count": 103,
   "id": "5a75490f-4461-4219-b288-c97565a24e91",
   "metadata": {},
   "outputs": [],
   "source": [
    "def evaporator(content, evap_per_day, threshold):\n",
    "\t\n",
    "    day=0\n",
    "    content2=content\n",
    "    while content2 > content * threshold / 100:\n",
    "        content2 -= content2 * evap_per_day / 100\n",
    "        day+=1\n",
    "    return day"
   ]
  }
 ],
 "metadata": {
  "kernelspec": {
   "display_name": "Python 3 (ipykernel)",
   "language": "python",
   "name": "python3"
  },
  "language_info": {
   "codemirror_mode": {
    "name": "ipython",
    "version": 3
   },
   "file_extension": ".py",
   "mimetype": "text/x-python",
   "name": "python",
   "nbconvert_exporter": "python",
   "pygments_lexer": "ipython3",
   "version": "3.9.7"
  }
 },
 "nbformat": 4,
 "nbformat_minor": 5
}
