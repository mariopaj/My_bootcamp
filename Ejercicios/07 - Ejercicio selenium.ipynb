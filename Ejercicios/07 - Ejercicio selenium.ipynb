{
 "cells": [
  {
   "cell_type": "markdown",
   "id": "78321332",
   "metadata": {},
   "source": [
    "![imagen](../images/ejercicios.png)"
   ]
  },
  {
   "cell_type": "markdown",
   "id": "4b838c30",
   "metadata": {},
   "source": [
    "# Ejercicio 1 \n",
    "\n",
    "Crea un dataframe con las novedades de mercadona.\n",
    "\n",
    "https://tienda.mercadona.es/"
   ]
  },
  {
   "cell_type": "code",
   "execution_count": 1,
   "id": "be1233fd",
   "metadata": {},
   "outputs": [],
   "source": [
    "from selenium import webdriver  # driver selenium\n",
    "\n",
    "import time  # manejo temporal\n",
    "\n",
    "import requests as req\n",
    "\n",
    "from bs4 import BeautifulSoup as bs\n",
    "\n",
    "import pandas as pd"
   ]
  },
  {
   "cell_type": "code",
   "execution_count": 6,
   "id": "0a53acb6-b1cb-4d29-9fce-60ac1f447deb",
   "metadata": {},
   "outputs": [
    {
     "name": "stderr",
     "output_type": "stream",
     "text": [
      "\n",
      "\n",
      "====== WebDriver manager ======\n",
      "Current google-chrome version is 96.0.4664\n",
      "Get LATEST chromedriver version for 96.0.4664 google-chrome\n",
      "Driver [C:\\Users\\HP\\.wdm\\drivers\\chromedriver\\win32\\96.0.4664.45\\chromedriver.exe] found in cache\n"
     ]
    }
   ],
   "source": [
    "from webdriver_manager.chrome import ChromeDriverManager\n",
    "\n",
    "PATH=ChromeDriverManager().install()   #'driver/chromedriver'"
   ]
  },
  {
   "cell_type": "code",
   "execution_count": 3,
   "id": "879d1010",
   "metadata": {},
   "outputs": [],
   "source": [
    "from selenium.webdriver.common.by import By   # para elegir por elemento\n",
    "from selenium.webdriver.support.ui import WebDriverWait # para el time sleep\n",
    "from selenium.webdriver.support import expected_conditions as EC # condiciones esperadas\n",
    "from selenium.webdriver import ActionChains as AC # acciones en cadena"
   ]
  },
  {
   "cell_type": "code",
   "execution_count": 4,
   "id": "804b2bf8",
   "metadata": {},
   "outputs": [],
   "source": [
    "url='https://tienda.mercadona.es/'"
   ]
  },
  {
   "cell_type": "code",
   "execution_count": 5,
   "id": "173d3d1a-1f8e-4fb8-8a3e-0f22a93b57c5",
   "metadata": {},
   "outputs": [
    {
     "name": "stderr",
     "output_type": "stream",
     "text": [
      "C:\\Users\\HP\\AppData\\Local\\Temp/ipykernel_8440/2445100421.py:1: DeprecationWarning: executable_path has been deprecated, please pass in a Service object\n",
      "  driver=webdriver.Chrome(PATH)\n",
      "C:\\Users\\HP\\AppData\\Local\\Temp/ipykernel_8440/2445100421.py:6: DeprecationWarning: find_element_by_* commands are deprecated. Please use find_element() instead\n",
      "  cookies = driver.find_element_by_xpath('//*[@id=\"root\"]/div[1]/div/div/button[2]')\n"
     ]
    },
    {
     "name": "stdin",
     "output_type": "stream",
     "text": [
      "Introduce tu código postal: 28042\n"
     ]
    },
    {
     "name": "stderr",
     "output_type": "stream",
     "text": [
      "C:\\Users\\HP\\AppData\\Local\\Temp/ipykernel_8440/2445100421.py:13: DeprecationWarning: find_element_by_* commands are deprecated. Please use find_element() instead\n",
      "  pc = driver.find_element_by_xpath('//*[@id=\"root\"]/div[4]/div/div[2]/div/form/div/input') # Objeto de búsqueda\n",
      "C:\\Users\\HP\\AppData\\Local\\Temp/ipykernel_8440/2445100421.py:18: DeprecationWarning: find_element_by_* commands are deprecated. Please use find_element() instead\n",
      "  continuar = driver.find_element_by_xpath('//*[@id=\"root\"]/div[4]/div/div[2]/div/form/button') # Damos a continuar\n",
      "C:\\Users\\HP\\AppData\\Local\\Temp/ipykernel_8440/2445100421.py:26: DeprecationWarning: find_element_by_* commands are deprecated. Please use find_element() instead\n",
      "  products.append(driver.find_element_by_xpath('//*[@id=\"root\"]/div[2]/div[1]/section/div/div[{}]/button/div[2]/h4'.format(i)).text)\n",
      "C:\\Users\\HP\\AppData\\Local\\Temp/ipykernel_8440/2445100421.py:30: DeprecationWarning: find_element_by_* commands are deprecated. Please use find_element() instead\n",
      "  prices.append(driver.find_element_by_xpath('//*[@id=\"root\"]/div[2]/div[1]/section/div/div[{}]/button/div[2]/div[2]/p[1]'.format(i)).text)\n"
     ]
    }
   ],
   "source": [
    "driver=webdriver.Chrome(PATH)\n",
    "driver.get(url)\n",
    "\n",
    "cookies = driver.find_element_by_xpath('//*[@id=\"root\"]/div[1]/div/div/button[2]')\n",
    "cookies.click()\n",
    "\n",
    "# Introducir tu código postal\n",
    "\n",
    "postal_code = input('Introduce tu código postal:') # Tenemos que poner el 28042\n",
    "\n",
    "pc = driver.find_element_by_xpath('//*[@id=\"root\"]/div[4]/div/div[2]/div/form/div/input') # Objeto de búsqueda\n",
    "\n",
    "pc.send_keys(postal_code) # Incrustamos el código postal\n",
    "time.sleep(5)\n",
    "\n",
    "continuar = driver.find_element_by_xpath('//*[@id=\"root\"]/div[4]/div/div[2]/div/form/button') # Damos a continuar\n",
    "continuar.click()\n",
    "time.sleep(5)\n",
    "\n",
    "# Sacamos los datos de la página\n",
    "\n",
    "products = []\n",
    "for i in range(1, 61):\n",
    "    products.append(driver.find_element_by_xpath('//*[@id=\"root\"]/div[2]/div[1]/section/div/div[{}]/button/div[2]/h4'.format(i)).text) \n",
    "       \n",
    "prices = []\n",
    "for i in range(1, 61):\n",
    "    prices.append(driver.find_element_by_xpath('//*[@id=\"root\"]/div[2]/div[1]/section/div/div[{}]/button/div[2]/div[2]/p[1]'.format(i)).text) \n",
    "\n",
    "driver.quit()"
   ]
  },
  {
   "cell_type": "code",
   "execution_count": 6,
   "id": "e25908ad-48eb-4310-8412-e6c8917c09b3",
   "metadata": {},
   "outputs": [
    {
     "data": {
      "text/html": [
       "<div>\n",
       "<style scoped>\n",
       "    .dataframe tbody tr th:only-of-type {\n",
       "        vertical-align: middle;\n",
       "    }\n",
       "\n",
       "    .dataframe tbody tr th {\n",
       "        vertical-align: top;\n",
       "    }\n",
       "\n",
       "    .dataframe thead th {\n",
       "        text-align: right;\n",
       "    }\n",
       "</style>\n",
       "<table border=\"1\" class=\"dataframe\">\n",
       "  <thead>\n",
       "    <tr style=\"text-align: right;\">\n",
       "      <th></th>\n",
       "      <th>Product</th>\n",
       "      <th>Price</th>\n",
       "    </tr>\n",
       "  </thead>\n",
       "  <tbody>\n",
       "    <tr>\n",
       "      <th>0</th>\n",
       "      <td>Chocolate blanco Hacendado fussion relleno con...</td>\n",
       "      <td>0,80 €</td>\n",
       "    </tr>\n",
       "    <tr>\n",
       "      <th>1</th>\n",
       "      <td>Recarga jabón de manos dermoprotector Deliplus...</td>\n",
       "      <td>1,10 €</td>\n",
       "    </tr>\n",
       "    <tr>\n",
       "      <th>2</th>\n",
       "      <td>Paté de Jabalí con boletus Hacendado</td>\n",
       "      <td>1,50 €</td>\n",
       "    </tr>\n",
       "    <tr>\n",
       "      <th>3</th>\n",
       "      <td>Paté de cerdo con cebolla caramelizada Argal</td>\n",
       "      <td>1,50 €</td>\n",
       "    </tr>\n",
       "    <tr>\n",
       "      <th>4</th>\n",
       "      <td>Jamón de cebo de campo ibérico 50% raza ibéric...</td>\n",
       "      <td>149,00 €</td>\n",
       "    </tr>\n",
       "  </tbody>\n",
       "</table>\n",
       "</div>"
      ],
      "text/plain": [
       "                                             Product     Price\n",
       "0  Chocolate blanco Hacendado fussion relleno con...    0,80 €\n",
       "1  Recarga jabón de manos dermoprotector Deliplus...    1,10 €\n",
       "2               Paté de Jabalí con boletus Hacendado    1,50 €\n",
       "3       Paté de cerdo con cebolla caramelizada Argal    1,50 €\n",
       "4  Jamón de cebo de campo ibérico 50% raza ibéric...  149,00 €"
      ]
     },
     "execution_count": 6,
     "metadata": {},
     "output_type": "execute_result"
    }
   ],
   "source": [
    "df = pd.DataFrame(list(zip(products,prices)), columns = ['Product','Price'])\n",
    "df.head()"
   ]
  },
  {
   "cell_type": "markdown",
   "id": "cb652c46",
   "metadata": {},
   "source": [
    "# Ejercicio 2\n",
    "\n",
    "Crea un dataframe con los juguetes con mayor descuento para black friday en Amazon.\n",
    "\n",
    "https://www.amazon.es/"
   ]
  },
  {
   "cell_type": "code",
   "execution_count": 7,
   "id": "598ada19",
   "metadata": {},
   "outputs": [],
   "source": [
    "url = 'https://www.amazon.es/'"
   ]
  },
  {
   "cell_type": "code",
   "execution_count": 26,
   "id": "fe75662e",
   "metadata": {},
   "outputs": [
    {
     "name": "stderr",
     "output_type": "stream",
     "text": [
      "C:\\Users\\HP\\AppData\\Local\\Temp/ipykernel_8440/4179409570.py:1: DeprecationWarning: executable_path has been deprecated, please pass in a Service object\n",
      "  driver=webdriver.Chrome(PATH)\n",
      "C:\\Users\\HP\\AppData\\Local\\Temp/ipykernel_8440/4179409570.py:4: DeprecationWarning: find_element_by_* commands are deprecated. Please use find_element() instead\n",
      "  cookies = driver.find_element_by_xpath('//*[@id=\"sp-cc-accept\"]')\n",
      "C:\\Users\\HP\\AppData\\Local\\Temp/ipykernel_8440/4179409570.py:8: DeprecationWarning: find_element_by_* commands are deprecated. Please use find_element() instead\n",
      "  black = driver.find_element_by_xpath('//*[@id=\"nav-xshop\"]/a[1]')\n",
      "C:\\Users\\HP\\AppData\\Local\\Temp/ipykernel_8440/4179409570.py:12: DeprecationWarning: find_element_by_* commands are deprecated. Please use find_element() instead\n",
      "  juguetes = driver.find_element_by_xpath('//*[@id=\"anonCarousel1\"]/ol/li[9]/div/span[2]')\n",
      "C:\\Users\\HP\\AppData\\Local\\Temp/ipykernel_8440/4179409570.py:18: DeprecationWarning: find_element_by_* commands are deprecated. Please use find_element() instead\n",
      "  ofertas = driver.find_element_by_xpath('//*[@id=\"sorting_dropdown0\"]/span/span')\n",
      "C:\\Users\\HP\\AppData\\Local\\Temp/ipykernel_8440/4179409570.py:22: DeprecationWarning: find_element_by_* commands are deprecated. Please use find_element() instead\n",
      "  mayores = driver.find_element_by_xpath('//*[@id=\"sorting_dropdown0_2\"]')\n"
     ]
    }
   ],
   "source": [
    "driver=webdriver.Chrome(PATH)\n",
    "driver.get(url)\n",
    "\n",
    "cookies = driver.find_element_by_xpath('//*[@id=\"sp-cc-accept\"]')\n",
    "cookies.click()\n",
    "time.sleep(2)\n",
    "\n",
    "black = driver.find_element_by_xpath('//*[@id=\"nav-xshop\"]/a[1]')\n",
    "black.click()\n",
    "time.sleep(2)\n",
    "\n",
    "juguetes = driver.find_element_by_xpath('//*[@id=\"anonCarousel1\"]/ol/li[9]/div/span[2]')\n",
    "juguetes.click()\n",
    "time.sleep(2)\n",
    "\n",
    "# Ordenamos de mayor a menor descuento\n",
    "\n",
    "ofertas = driver.find_element_by_xpath('//*[@id=\"sorting_dropdown0\"]/span/span')\n",
    "ofertas.click()\n",
    "time.sleep(2)\n",
    "\n",
    "mayores = driver.find_element_by_xpath('//*[@id=\"sorting_dropdown0_2\"]')\n",
    "mayores.click()\n",
    "time.sleep(2)\n",
    "\n",
    "# Sacamos los datos de la página con bs4\n",
    "\n",
    "soup = bs(driver.page_source, 'html.parser')\n",
    "time.sleep(2)\n",
    "\n",
    "driver.quit()"
   ]
  },
  {
   "cell_type": "code",
   "execution_count": 41,
   "id": "bc979488-8dce-490f-84e1-799d63af30f0",
   "metadata": {},
   "outputs": [],
   "source": [
    "# Creamos dos listas, una para los productos y otra para los precios (Nos quedamos solo con los 60 priemros resultados)\n",
    "\n",
    "products = [product.text for product in soup.find_all(class_ = 'DealContent-module__truncate_sWbxETx42ZPStTc9jwySW')]\n",
    "\n",
    "prices = [price.text for price in soup.find_all(class_ = 'a-price-whole')]\n",
    "\n",
    "products = products[:60]\n",
    "prices = prices[:60]"
   ]
  },
  {
   "cell_type": "code",
   "execution_count": 45,
   "id": "5707af34-4acc-4b03-8ebf-eb9909f8657e",
   "metadata": {},
   "outputs": [
    {
     "data": {
      "text/html": [
       "<div>\n",
       "<style scoped>\n",
       "    .dataframe tbody tr th:only-of-type {\n",
       "        vertical-align: middle;\n",
       "    }\n",
       "\n",
       "    .dataframe tbody tr th {\n",
       "        vertical-align: top;\n",
       "    }\n",
       "\n",
       "    .dataframe thead th {\n",
       "        text-align: right;\n",
       "    }\n",
       "</style>\n",
       "<table border=\"1\" class=\"dataframe\">\n",
       "  <thead>\n",
       "    <tr style=\"text-align: right;\">\n",
       "      <th></th>\n",
       "      <th>Product</th>\n",
       "      <th>Price</th>\n",
       "    </tr>\n",
       "  </thead>\n",
       "  <tbody>\n",
       "    <tr>\n",
       "      <th>0</th>\n",
       "      <td>Oferta en Famosa</td>\n",
       "      <td>14,66</td>\n",
       "    </tr>\n",
       "    <tr>\n",
       "      <th>1</th>\n",
       "      <td>Oferta en Famosa</td>\n",
       "      <td>29,95</td>\n",
       "    </tr>\n",
       "    <tr>\n",
       "      <th>2</th>\n",
       "      <td>ANTAPRCIS 2 en 1 RC Coche Teledirigido, 4WD Co...</td>\n",
       "      <td>32,28</td>\n",
       "    </tr>\n",
       "    <tr>\n",
       "      <th>3</th>\n",
       "      <td>Zoch 600400821 en Geistesblitz Junior Game</td>\n",
       "      <td>56,40</td>\n",
       "    </tr>\n",
       "    <tr>\n",
       "      <th>4</th>\n",
       "      <td>Nene Toys - Sudoku Infantil con 30 Coloridos P...</td>\n",
       "      <td>23,69</td>\n",
       "    </tr>\n",
       "  </tbody>\n",
       "</table>\n",
       "</div>"
      ],
      "text/plain": [
       "                                             Product  Price\n",
       "0                                   Oferta en Famosa  14,66\n",
       "1                                   Oferta en Famosa  29,95\n",
       "2  ANTAPRCIS 2 en 1 RC Coche Teledirigido, 4WD Co...  32,28\n",
       "3         Zoch 600400821 en Geistesblitz Junior Game  56,40\n",
       "4  Nene Toys - Sudoku Infantil con 30 Coloridos P...  23,69"
      ]
     },
     "execution_count": 45,
     "metadata": {},
     "output_type": "execute_result"
    }
   ],
   "source": [
    "# Creamos el Data frame de los productos con su precio\n",
    "\n",
    "df_amz = pd.DataFrame(list(zip(products, prices)), columns = ['Product', 'Price'])\n",
    "\n",
    "df_amz.head()"
   ]
  },
  {
   "cell_type": "markdown",
   "id": "8bea93e5",
   "metadata": {
    "tags": []
   },
   "source": [
    "# Reto\n",
    "\n",
    "Intenta mandar un mail con selenium."
   ]
  },
  {
   "cell_type": "code",
   "execution_count": 8,
   "id": "faae692a-e66c-40fa-9833-53419d28ad57",
   "metadata": {},
   "outputs": [],
   "source": [
    "url = 'https://outlook.live.com/owa/'"
   ]
  },
  {
   "cell_type": "code",
   "execution_count": 13,
   "id": "343a6ecd-64d2-40f2-a7f9-a65efb51df20",
   "metadata": {},
   "outputs": [],
   "source": [
    "#usuario = 'mariopajares1996@hotmail.com'\n",
    "#passw = '****'\n",
    "#destinatario = 'c.garcia238899@gmail.com'\n",
    "#asunt = 'Hola'\n",
    "#message = 'Hola'\n",
    "\n",
    "def send_mail(usuario, passw, destinatario, asunt, message):\n",
    "    \n",
    "    driver = webdriver.Chrome(PATH)\n",
    "    driver.get(url)\n",
    "    time.sleep(2)\n",
    "    \n",
    "    login = driver.find_element_by_xpath('/html/body/header/div/aside/div/nav/ul/li[2]/a')\n",
    "    login.click()\n",
    "\n",
    "    user = driver.find_element_by_xpath('//*[@id=\"i0116\"]')\n",
    "    user.send_keys(usuario)\n",
    "    time.sleep(2)\n",
    "\n",
    "    siguiente = driver.find_element_by_xpath('//*[@id=\"idSIButton9\"]')\n",
    "    siguiente.click()\n",
    "    time.sleep(2)\n",
    "\n",
    "    password = driver.find_element_by_xpath('//*[@id=\"i0118\"]')\n",
    "    password.send_keys(passw)\n",
    "    time.sleep(2)\n",
    "\n",
    "    login2 = driver.find_element_by_xpath('//*[@id=\"idSIButton9\"]')\n",
    "    login2.click()\n",
    "    time.sleep(2)\n",
    "    \n",
    "    try:\n",
    "        button = driver.find_element_by_xpath('//*[@id=\"iLooksGood\"]')\n",
    "        button.click()\n",
    "        time.sleep(3)\n",
    "    except:\n",
    "        print('No button')\n",
    "    \n",
    "    try:\n",
    "        yes = driver.find_element_by_xpath('//*[@id=\"idSIButton9\"]')\n",
    "        yes.click()\n",
    "        time.sleep(10)\n",
    "    except:\n",
    "        print('No yes')\n",
    "    \n",
    "    try:\n",
    "        button2 = driver.find_element_by_xpath('/html/body/div[6]/div/div/div/div[2]/div[2]/div/div[2]/div[2]/div/span[3]/button/span/span/span')\n",
    "        button2.click()\n",
    "        time.sleep(4)\n",
    "    except:\n",
    "        print('No button2')\n",
    "    \n",
    "    mensaje_nuevo = driver.find_element_by_xpath('//*[@id=\"id__7\"]')\n",
    "    mensaje_nuevo.click()\n",
    "    time.sleep(2)\n",
    "\n",
    "    para = driver.find_element_by_xpath('//*[@id=\"ReadingPaneContainerId\"]/div/div/div/div[1]/div[1]/div[1]/div/div[1]/div/div/div/div/div[1]/div/div/input')\n",
    "    para.send_keys(destinatario)\n",
    "    time.sleep(3)\n",
    "\n",
    "    asunto = driver.find_element_by_xpath('//*[@id=\"TextField93\"]')\n",
    "    asunto.send_keys(asunt)\n",
    "    time.sleep(2)\n",
    "\n",
    "    mensaje = driver.find_element_by_xpath('//*[@id=\"virtualEditScroller96\"]/div[1]/div')\n",
    "    mensaje.send_keys(message)\n",
    "    time.sleep(2)\n",
    "\n",
    "    enviar = driver.find_element_by_xpath('//*[@id=\"ReadingPaneContainerId\"]/div/div/div/div[1]/div[3]/div[2]/div[1]/div/div/span/button[1]/span')\n",
    "    enviar.click()\n"
   ]
  },
  {
   "cell_type": "code",
   "execution_count": 14,
   "id": "83c8aa64-eafb-4e3e-9932-87bd34e3a591",
   "metadata": {},
   "outputs": [
    {
     "name": "stderr",
     "output_type": "stream",
     "text": [
      "C:\\Users\\HP\\AppData\\Local\\Temp/ipykernel_10608/2865667789.py:9: DeprecationWarning: executable_path has been deprecated, please pass in a Service object\n",
      "  driver = webdriver.Chrome(PATH)\n",
      "C:\\Users\\HP\\AppData\\Local\\Temp/ipykernel_10608/2865667789.py:13: DeprecationWarning: find_element_by_* commands are deprecated. Please use find_element() instead\n",
      "  login = driver.find_element_by_xpath('/html/body/header/div/aside/div/nav/ul/li[2]/a')\n",
      "C:\\Users\\HP\\AppData\\Local\\Temp/ipykernel_10608/2865667789.py:16: DeprecationWarning: find_element_by_* commands are deprecated. Please use find_element() instead\n",
      "  user = driver.find_element_by_xpath('//*[@id=\"i0116\"]')\n",
      "C:\\Users\\HP\\AppData\\Local\\Temp/ipykernel_10608/2865667789.py:20: DeprecationWarning: find_element_by_* commands are deprecated. Please use find_element() instead\n",
      "  siguiente = driver.find_element_by_xpath('//*[@id=\"idSIButton9\"]')\n",
      "C:\\Users\\HP\\AppData\\Local\\Temp/ipykernel_10608/2865667789.py:24: DeprecationWarning: find_element_by_* commands are deprecated. Please use find_element() instead\n",
      "  password = driver.find_element_by_xpath('//*[@id=\"i0118\"]')\n",
      "C:\\Users\\HP\\AppData\\Local\\Temp/ipykernel_10608/2865667789.py:28: DeprecationWarning: find_element_by_* commands are deprecated. Please use find_element() instead\n",
      "  login2 = driver.find_element_by_xpath('//*[@id=\"idSIButton9\"]')\n",
      "C:\\Users\\HP\\AppData\\Local\\Temp/ipykernel_10608/2865667789.py:33: DeprecationWarning: find_element_by_* commands are deprecated. Please use find_element() instead\n",
      "  button = driver.find_element_by_xpath('//*[@id=\"iLooksGood\"]')\n",
      "C:\\Users\\HP\\AppData\\Local\\Temp/ipykernel_10608/2865667789.py:40: DeprecationWarning: find_element_by_* commands are deprecated. Please use find_element() instead\n",
      "  yes = driver.find_element_by_xpath('//*[@id=\"idSIButton9\"]')\n"
     ]
    },
    {
     "name": "stdout",
     "output_type": "stream",
     "text": [
      "No button\n",
      "No button2\n"
     ]
    },
    {
     "name": "stderr",
     "output_type": "stream",
     "text": [
      "C:\\Users\\HP\\AppData\\Local\\Temp/ipykernel_10608/2865667789.py:47: DeprecationWarning: find_element_by_* commands are deprecated. Please use find_element() instead\n",
      "  button2 = driver.find_element_by_xpath('/html/body/div[6]/div/div/div/div[2]/div[2]/div/div[2]/div[2]/div/span[3]/button/span/span/span')\n",
      "C:\\Users\\HP\\AppData\\Local\\Temp/ipykernel_10608/2865667789.py:53: DeprecationWarning: find_element_by_* commands are deprecated. Please use find_element() instead\n",
      "  mensaje_nuevo = driver.find_element_by_xpath('//*[@id=\"id__7\"]')\n"
     ]
    },
    {
     "ename": "NoSuchElementException",
     "evalue": "Message: no such element: Unable to locate element: {\"method\":\"xpath\",\"selector\":\"//*[@id=\"id__7\"]\"}\n  (Session info: chrome=96.0.4664.45)\nStacktrace:\nBacktrace:\n\tOrdinal0 [0x002E6903+2517251]\n\tOrdinal0 [0x0027F8E1+2095329]\n\tOrdinal0 [0x00182848+1058888]\n\tOrdinal0 [0x001AD448+1233992]\n\tOrdinal0 [0x001AD63B+1234491]\n\tOrdinal0 [0x001D7812+1406994]\n\tOrdinal0 [0x001C650A+1336586]\n\tOrdinal0 [0x001D5BBF+1399743]\n\tOrdinal0 [0x001C639B+1336219]\n\tOrdinal0 [0x001A27A7+1189799]\n\tOrdinal0 [0x001A3609+1193481]\n\tGetHandleVerifier [0x00475904+1577972]\n\tGetHandleVerifier [0x00520B97+2279047]\n\tGetHandleVerifier [0x00376D09+534521]\n\tGetHandleVerifier [0x00375DB9+530601]\n\tOrdinal0 [0x00284FF9+2117625]\n\tOrdinal0 [0x002898A8+2136232]\n\tOrdinal0 [0x002899E2+2136546]\n\tOrdinal0 [0x00293541+2176321]\n\tBaseThreadInitThunk [0x75CEFA29+25]\n\tRtlGetAppContainerNamedObjectPath [0x77C97A9E+286]\n\tRtlGetAppContainerNamedObjectPath [0x77C97A6E+238]\n\t(No symbol) [0x00000000]\n",
     "output_type": "error",
     "traceback": [
      "\u001b[1;31m---------------------------------------------------------------------------\u001b[0m",
      "\u001b[1;31mNoSuchElementException\u001b[0m                    Traceback (most recent call last)",
      "\u001b[1;32m~\\AppData\\Local\\Temp/ipykernel_10608/1121596742.py\u001b[0m in \u001b[0;36m<module>\u001b[1;34m\u001b[0m\n\u001b[1;32m----> 1\u001b[1;33m \u001b[0msend_mail\u001b[0m\u001b[1;33m(\u001b[0m\u001b[1;34m'mariopajares1996@gmail.com'\u001b[0m\u001b[1;33m,\u001b[0m \u001b[1;34m'ojopipa12'\u001b[0m\u001b[1;33m,\u001b[0m \u001b[1;34m'mario.pajares@totalrenting.es'\u001b[0m\u001b[1;33m,\u001b[0m \u001b[1;34m'Hola'\u001b[0m\u001b[1;33m,\u001b[0m \u001b[1;34m'Hola'\u001b[0m\u001b[1;33m)\u001b[0m\u001b[1;33m\u001b[0m\u001b[1;33m\u001b[0m\u001b[0m\n\u001b[0m",
      "\u001b[1;32m~\\AppData\\Local\\Temp/ipykernel_10608/2865667789.py\u001b[0m in \u001b[0;36msend_mail\u001b[1;34m(usuario, passw, destinatario, asunt, message)\u001b[0m\n\u001b[0;32m     51\u001b[0m         \u001b[0mprint\u001b[0m\u001b[1;33m(\u001b[0m\u001b[1;34m'No button2'\u001b[0m\u001b[1;33m)\u001b[0m\u001b[1;33m\u001b[0m\u001b[1;33m\u001b[0m\u001b[0m\n\u001b[0;32m     52\u001b[0m \u001b[1;33m\u001b[0m\u001b[0m\n\u001b[1;32m---> 53\u001b[1;33m     \u001b[0mmensaje_nuevo\u001b[0m \u001b[1;33m=\u001b[0m \u001b[0mdriver\u001b[0m\u001b[1;33m.\u001b[0m\u001b[0mfind_element_by_xpath\u001b[0m\u001b[1;33m(\u001b[0m\u001b[1;34m'//*[@id=\"id__7\"]'\u001b[0m\u001b[1;33m)\u001b[0m\u001b[1;33m\u001b[0m\u001b[1;33m\u001b[0m\u001b[0m\n\u001b[0m\u001b[0;32m     54\u001b[0m     \u001b[0mmensaje_nuevo\u001b[0m\u001b[1;33m.\u001b[0m\u001b[0mclick\u001b[0m\u001b[1;33m(\u001b[0m\u001b[1;33m)\u001b[0m\u001b[1;33m\u001b[0m\u001b[1;33m\u001b[0m\u001b[0m\n\u001b[0;32m     55\u001b[0m     \u001b[0mtime\u001b[0m\u001b[1;33m.\u001b[0m\u001b[0msleep\u001b[0m\u001b[1;33m(\u001b[0m\u001b[1;36m2\u001b[0m\u001b[1;33m)\u001b[0m\u001b[1;33m\u001b[0m\u001b[1;33m\u001b[0m\u001b[0m\n",
      "\u001b[1;32m~\\anaconda3\\envs\\bootcamp_pt\\lib\\site-packages\\selenium\\webdriver\\remote\\webdriver.py\u001b[0m in \u001b[0;36mfind_element_by_xpath\u001b[1;34m(self, xpath)\u001b[0m\n\u001b[0;32m    512\u001b[0m             \u001b[0mstacklevel\u001b[0m\u001b[1;33m=\u001b[0m\u001b[1;36m2\u001b[0m\u001b[1;33m,\u001b[0m\u001b[1;33m\u001b[0m\u001b[1;33m\u001b[0m\u001b[0m\n\u001b[0;32m    513\u001b[0m         )\n\u001b[1;32m--> 514\u001b[1;33m         \u001b[1;32mreturn\u001b[0m \u001b[0mself\u001b[0m\u001b[1;33m.\u001b[0m\u001b[0mfind_element\u001b[0m\u001b[1;33m(\u001b[0m\u001b[0mby\u001b[0m\u001b[1;33m=\u001b[0m\u001b[0mBy\u001b[0m\u001b[1;33m.\u001b[0m\u001b[0mXPATH\u001b[0m\u001b[1;33m,\u001b[0m \u001b[0mvalue\u001b[0m\u001b[1;33m=\u001b[0m\u001b[0mxpath\u001b[0m\u001b[1;33m)\u001b[0m\u001b[1;33m\u001b[0m\u001b[1;33m\u001b[0m\u001b[0m\n\u001b[0m\u001b[0;32m    515\u001b[0m \u001b[1;33m\u001b[0m\u001b[0m\n\u001b[0;32m    516\u001b[0m     \u001b[1;32mdef\u001b[0m \u001b[0mfind_elements_by_xpath\u001b[0m\u001b[1;33m(\u001b[0m\u001b[0mself\u001b[0m\u001b[1;33m,\u001b[0m \u001b[0mxpath\u001b[0m\u001b[1;33m)\u001b[0m \u001b[1;33m->\u001b[0m \u001b[0mWebElement\u001b[0m\u001b[1;33m:\u001b[0m\u001b[1;33m\u001b[0m\u001b[1;33m\u001b[0m\u001b[0m\n",
      "\u001b[1;32m~\\anaconda3\\envs\\bootcamp_pt\\lib\\site-packages\\selenium\\webdriver\\remote\\webdriver.py\u001b[0m in \u001b[0;36mfind_element\u001b[1;34m(self, by, value)\u001b[0m\n\u001b[0;32m   1236\u001b[0m             \u001b[0mvalue\u001b[0m \u001b[1;33m=\u001b[0m \u001b[1;34m'[name=\"%s\"]'\u001b[0m \u001b[1;33m%\u001b[0m \u001b[0mvalue\u001b[0m\u001b[1;33m\u001b[0m\u001b[1;33m\u001b[0m\u001b[0m\n\u001b[0;32m   1237\u001b[0m \u001b[1;33m\u001b[0m\u001b[0m\n\u001b[1;32m-> 1238\u001b[1;33m         return self.execute(Command.FIND_ELEMENT, {\n\u001b[0m\u001b[0;32m   1239\u001b[0m             \u001b[1;34m'using'\u001b[0m\u001b[1;33m:\u001b[0m \u001b[0mby\u001b[0m\u001b[1;33m,\u001b[0m\u001b[1;33m\u001b[0m\u001b[1;33m\u001b[0m\u001b[0m\n\u001b[0;32m   1240\u001b[0m             'value': value})['value']\n",
      "\u001b[1;32m~\\anaconda3\\envs\\bootcamp_pt\\lib\\site-packages\\selenium\\webdriver\\remote\\webdriver.py\u001b[0m in \u001b[0;36mexecute\u001b[1;34m(self, driver_command, params)\u001b[0m\n\u001b[0;32m    416\u001b[0m         \u001b[0mresponse\u001b[0m \u001b[1;33m=\u001b[0m \u001b[0mself\u001b[0m\u001b[1;33m.\u001b[0m\u001b[0mcommand_executor\u001b[0m\u001b[1;33m.\u001b[0m\u001b[0mexecute\u001b[0m\u001b[1;33m(\u001b[0m\u001b[0mdriver_command\u001b[0m\u001b[1;33m,\u001b[0m \u001b[0mparams\u001b[0m\u001b[1;33m)\u001b[0m\u001b[1;33m\u001b[0m\u001b[1;33m\u001b[0m\u001b[0m\n\u001b[0;32m    417\u001b[0m         \u001b[1;32mif\u001b[0m \u001b[0mresponse\u001b[0m\u001b[1;33m:\u001b[0m\u001b[1;33m\u001b[0m\u001b[1;33m\u001b[0m\u001b[0m\n\u001b[1;32m--> 418\u001b[1;33m             \u001b[0mself\u001b[0m\u001b[1;33m.\u001b[0m\u001b[0merror_handler\u001b[0m\u001b[1;33m.\u001b[0m\u001b[0mcheck_response\u001b[0m\u001b[1;33m(\u001b[0m\u001b[0mresponse\u001b[0m\u001b[1;33m)\u001b[0m\u001b[1;33m\u001b[0m\u001b[1;33m\u001b[0m\u001b[0m\n\u001b[0m\u001b[0;32m    419\u001b[0m             response['value'] = self._unwrap_value(\n\u001b[0;32m    420\u001b[0m                 response.get('value', None))\n",
      "\u001b[1;32m~\\anaconda3\\envs\\bootcamp_pt\\lib\\site-packages\\selenium\\webdriver\\remote\\errorhandler.py\u001b[0m in \u001b[0;36mcheck_response\u001b[1;34m(self, response)\u001b[0m\n\u001b[0;32m    241\u001b[0m                 \u001b[0malert_text\u001b[0m \u001b[1;33m=\u001b[0m \u001b[0mvalue\u001b[0m\u001b[1;33m[\u001b[0m\u001b[1;34m'alert'\u001b[0m\u001b[1;33m]\u001b[0m\u001b[1;33m.\u001b[0m\u001b[0mget\u001b[0m\u001b[1;33m(\u001b[0m\u001b[1;34m'text'\u001b[0m\u001b[1;33m)\u001b[0m\u001b[1;33m\u001b[0m\u001b[1;33m\u001b[0m\u001b[0m\n\u001b[0;32m    242\u001b[0m             \u001b[1;32mraise\u001b[0m \u001b[0mexception_class\u001b[0m\u001b[1;33m(\u001b[0m\u001b[0mmessage\u001b[0m\u001b[1;33m,\u001b[0m \u001b[0mscreen\u001b[0m\u001b[1;33m,\u001b[0m \u001b[0mstacktrace\u001b[0m\u001b[1;33m,\u001b[0m \u001b[0malert_text\u001b[0m\u001b[1;33m)\u001b[0m  \u001b[1;31m# type: ignore[call-arg]  # mypy is not smart enough here\u001b[0m\u001b[1;33m\u001b[0m\u001b[1;33m\u001b[0m\u001b[0m\n\u001b[1;32m--> 243\u001b[1;33m         \u001b[1;32mraise\u001b[0m \u001b[0mexception_class\u001b[0m\u001b[1;33m(\u001b[0m\u001b[0mmessage\u001b[0m\u001b[1;33m,\u001b[0m \u001b[0mscreen\u001b[0m\u001b[1;33m,\u001b[0m \u001b[0mstacktrace\u001b[0m\u001b[1;33m)\u001b[0m\u001b[1;33m\u001b[0m\u001b[1;33m\u001b[0m\u001b[0m\n\u001b[0m\u001b[0;32m    244\u001b[0m \u001b[1;33m\u001b[0m\u001b[0m\n\u001b[0;32m    245\u001b[0m     \u001b[1;32mdef\u001b[0m \u001b[0m_value_or_default\u001b[0m\u001b[1;33m(\u001b[0m\u001b[0mself\u001b[0m\u001b[1;33m,\u001b[0m \u001b[0mobj\u001b[0m\u001b[1;33m:\u001b[0m \u001b[0mMapping\u001b[0m\u001b[1;33m[\u001b[0m\u001b[0m_KT\u001b[0m\u001b[1;33m,\u001b[0m \u001b[0m_VT\u001b[0m\u001b[1;33m]\u001b[0m\u001b[1;33m,\u001b[0m \u001b[0mkey\u001b[0m\u001b[1;33m:\u001b[0m \u001b[0m_KT\u001b[0m\u001b[1;33m,\u001b[0m \u001b[0mdefault\u001b[0m\u001b[1;33m:\u001b[0m \u001b[0m_VT\u001b[0m\u001b[1;33m)\u001b[0m \u001b[1;33m->\u001b[0m \u001b[0m_VT\u001b[0m\u001b[1;33m:\u001b[0m\u001b[1;33m\u001b[0m\u001b[1;33m\u001b[0m\u001b[0m\n",
      "\u001b[1;31mNoSuchElementException\u001b[0m: Message: no such element: Unable to locate element: {\"method\":\"xpath\",\"selector\":\"//*[@id=\"id__7\"]\"}\n  (Session info: chrome=96.0.4664.45)\nStacktrace:\nBacktrace:\n\tOrdinal0 [0x002E6903+2517251]\n\tOrdinal0 [0x0027F8E1+2095329]\n\tOrdinal0 [0x00182848+1058888]\n\tOrdinal0 [0x001AD448+1233992]\n\tOrdinal0 [0x001AD63B+1234491]\n\tOrdinal0 [0x001D7812+1406994]\n\tOrdinal0 [0x001C650A+1336586]\n\tOrdinal0 [0x001D5BBF+1399743]\n\tOrdinal0 [0x001C639B+1336219]\n\tOrdinal0 [0x001A27A7+1189799]\n\tOrdinal0 [0x001A3609+1193481]\n\tGetHandleVerifier [0x00475904+1577972]\n\tGetHandleVerifier [0x00520B97+2279047]\n\tGetHandleVerifier [0x00376D09+534521]\n\tGetHandleVerifier [0x00375DB9+530601]\n\tOrdinal0 [0x00284FF9+2117625]\n\tOrdinal0 [0x002898A8+2136232]\n\tOrdinal0 [0x002899E2+2136546]\n\tOrdinal0 [0x00293541+2176321]\n\tBaseThreadInitThunk [0x75CEFA29+25]\n\tRtlGetAppContainerNamedObjectPath [0x77C97A9E+286]\n\tRtlGetAppContainerNamedObjectPath [0x77C97A6E+238]\n\t(No symbol) [0x00000000]\n"
     ]
    }
   ],
   "source": [
    "send_mail('mariopajares1996@gmail.com', 'ojopipa12', 'mario.pajares@totalrenting.es', 'Hola', 'Hola')"
   ]
  },
  {
   "cell_type": "code",
   "execution_count": null,
   "id": "c67056a8-3259-4f50-a56b-50ef0245cdfb",
   "metadata": {},
   "outputs": [],
   "source": []
  }
 ],
 "metadata": {
  "kernelspec": {
   "display_name": "Python 3 (ipykernel)",
   "language": "python",
   "name": "python3"
  },
  "language_info": {
   "codemirror_mode": {
    "name": "ipython",
    "version": 3
   },
   "file_extension": ".py",
   "mimetype": "text/x-python",
   "name": "python",
   "nbconvert_exporter": "python",
   "pygments_lexer": "ipython3",
   "version": "3.9.7"
  }
 },
 "nbformat": 4,
 "nbformat_minor": 5
}
