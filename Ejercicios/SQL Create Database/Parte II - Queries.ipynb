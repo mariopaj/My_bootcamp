{
 "cells": [
  {
   "cell_type": "markdown",
   "id": "3eaca1dd",
   "metadata": {},
   "source": [
    "# Parte II - Queries\n",
    "\n",
    "![ejercicios](img/ejercicios.png)"
   ]
  },
  {
   "cell_type": "code",
   "execution_count": null,
   "id": "1a9f5c7e",
   "metadata": {},
   "outputs": [],
   "source": []
  },
  {
   "cell_type": "code",
   "execution_count": null,
   "id": "579597a5",
   "metadata": {},
   "outputs": [],
   "source": []
  },
  {
   "cell_type": "markdown",
   "id": "d4f26009",
   "metadata": {},
   "source": [
    "### 1 - Prepara una lista de la localizacion de las oficinas ordenadas por pais, estado y ciudad."
   ]
  },
  {
   "cell_type": "code",
   "execution_count": null,
   "id": "b1cdb75c",
   "metadata": {},
   "outputs": [],
   "source": []
  },
  {
   "cell_type": "markdown",
   "id": "58807345",
   "metadata": {},
   "source": [
    "### 2 - ¿Cuantos empleados tiene la empresa?"
   ]
  },
  {
   "cell_type": "code",
   "execution_count": null,
   "id": "0da5af69",
   "metadata": {},
   "outputs": [],
   "source": []
  },
  {
   "cell_type": "markdown",
   "id": "dc1509c9",
   "metadata": {},
   "source": [
    "### 3 - ¿Cual es la suma total de pagos recibidos?"
   ]
  },
  {
   "cell_type": "code",
   "execution_count": null,
   "id": "bcf2966e",
   "metadata": {},
   "outputs": [],
   "source": []
  },
  {
   "cell_type": "markdown",
   "id": "41957d1f",
   "metadata": {},
   "source": [
    "### 4 - Listado de lineas de producto para coches (Cars)."
   ]
  },
  {
   "cell_type": "code",
   "execution_count": null,
   "id": "b660b6b9",
   "metadata": {},
   "outputs": [],
   "source": []
  },
  {
   "cell_type": "code",
   "execution_count": null,
   "id": "8e273f41",
   "metadata": {},
   "outputs": [],
   "source": []
  },
  {
   "cell_type": "markdown",
   "id": "a41d4409",
   "metadata": {},
   "source": [
    "### 5 - Reporte de pagos totales para el 28 de Octubre de 2004. "
   ]
  },
  {
   "cell_type": "code",
   "execution_count": null,
   "id": "f16298fd",
   "metadata": {},
   "outputs": [],
   "source": []
  },
  {
   "cell_type": "markdown",
   "id": "85fc436b",
   "metadata": {},
   "source": [
    "### 6 - Reporte de pagos mayores a 100.000$"
   ]
  },
  {
   "cell_type": "code",
   "execution_count": null,
   "id": "592e5d12",
   "metadata": {},
   "outputs": [],
   "source": []
  },
  {
   "cell_type": "markdown",
   "id": "fd0440ba",
   "metadata": {},
   "source": [
    "### 7 - Lista de productos en cada linea de producto."
   ]
  },
  {
   "cell_type": "code",
   "execution_count": null,
   "id": "3d463084",
   "metadata": {},
   "outputs": [],
   "source": []
  },
  {
   "cell_type": "markdown",
   "id": "af79444b",
   "metadata": {},
   "source": [
    "### 8 - ¿Cuantos productos hay en cada linea?"
   ]
  },
  {
   "cell_type": "code",
   "execution_count": null,
   "id": "f518e0c9",
   "metadata": {},
   "outputs": [],
   "source": []
  },
  {
   "cell_type": "markdown",
   "id": "1e392851",
   "metadata": {},
   "source": [
    "### 9 - ¿Cual es el pago minimo recibido?"
   ]
  },
  {
   "cell_type": "code",
   "execution_count": null,
   "id": "65b69225",
   "metadata": {},
   "outputs": [],
   "source": []
  },
  {
   "cell_type": "markdown",
   "id": "4b65c1d0",
   "metadata": {},
   "source": [
    "### 10 - Lista todos los pagos mayores que 2 veces la media."
   ]
  },
  {
   "cell_type": "code",
   "execution_count": null,
   "id": "c922efa2",
   "metadata": {},
   "outputs": [],
   "source": []
  },
  {
   "cell_type": "markdown",
   "id": "f06e69a8",
   "metadata": {},
   "source": [
    "### 11 - ¿Cuantos productos distintos hay?"
   ]
  },
  {
   "cell_type": "code",
   "execution_count": null,
   "id": "da5dac02",
   "metadata": {},
   "outputs": [],
   "source": []
  },
  {
   "cell_type": "markdown",
   "id": "3ad24071",
   "metadata": {},
   "source": [
    "### 12 - ¿Que ordenes han tenido un valor mayor a 5000$?"
   ]
  },
  {
   "cell_type": "code",
   "execution_count": null,
   "id": "ed04b2ba",
   "metadata": {},
   "outputs": [],
   "source": []
  },
  {
   "cell_type": "markdown",
   "id": "b69b0572",
   "metadata": {},
   "source": [
    "### 13 - ¿Quien es el representante de cuenta para cada cliente?"
   ]
  },
  {
   "cell_type": "code",
   "execution_count": null,
   "id": "2a2d7f1d",
   "metadata": {},
   "outputs": [],
   "source": []
  },
  {
   "cell_type": "markdown",
   "id": "ea8f69cc",
   "metadata": {},
   "source": [
    "### 14 - Reporte de pagos totales para el cliente Atelier graphique."
   ]
  },
  {
   "cell_type": "code",
   "execution_count": null,
   "id": "c3749e66",
   "metadata": {},
   "outputs": [],
   "source": []
  },
  {
   "cell_type": "markdown",
   "id": "b1265f9b",
   "metadata": {},
   "source": [
    "### 15 - Reporte de pagos totales por fecha."
   ]
  },
  {
   "cell_type": "code",
   "execution_count": null,
   "id": "cbdfdd3f",
   "metadata": {},
   "outputs": [],
   "source": []
  },
  {
   "cell_type": "markdown",
   "id": "b3e6e0a1",
   "metadata": {},
   "source": [
    "### 16 - Reporte de productos que NO han sido vendidos."
   ]
  },
  {
   "cell_type": "code",
   "execution_count": null,
   "id": "614ea426",
   "metadata": {},
   "outputs": [],
   "source": []
  },
  {
   "cell_type": "markdown",
   "id": "4d3233ff",
   "metadata": {},
   "source": [
    "### 17 - ¿Cantidad pagada por cada cliente?"
   ]
  },
  {
   "cell_type": "code",
   "execution_count": null,
   "id": "cdba1e91",
   "metadata": {},
   "outputs": [],
   "source": []
  },
  {
   "cell_type": "markdown",
   "id": "45dfddad",
   "metadata": {},
   "source": [
    "### 18 - Reporte del numero de ordenes en espera (on hold) para cada cliente."
   ]
  },
  {
   "cell_type": "code",
   "execution_count": null,
   "id": "08fb3f4e",
   "metadata": {},
   "outputs": [],
   "source": []
  },
  {
   "cell_type": "markdown",
   "id": "436592cf",
   "metadata": {},
   "source": [
    "### 19 - Listado de todos los productos comprados por Herkku Gifts."
   ]
  },
  {
   "cell_type": "code",
   "execution_count": null,
   "id": "c64c6c8a",
   "metadata": {},
   "outputs": [],
   "source": []
  },
  {
   "cell_type": "markdown",
   "id": "68d9b7c1",
   "metadata": {},
   "source": [
    "### 20 - Listado de todos los productos comprados en Lunes."
   ]
  },
  {
   "cell_type": "code",
   "execution_count": null,
   "id": "e54fb25a",
   "metadata": {},
   "outputs": [],
   "source": []
  },
  {
   "cell_type": "code",
   "execution_count": null,
   "id": "53c944c2",
   "metadata": {},
   "outputs": [],
   "source": []
  }
 ],
 "metadata": {
  "kernelspec": {
   "display_name": "clase",
   "language": "python",
   "name": "clase"
  },
  "language_info": {
   "codemirror_mode": {
    "name": "ipython",
    "version": 3
   },
   "file_extension": ".py",
   "mimetype": "text/x-python",
   "name": "python",
   "nbconvert_exporter": "python",
   "pygments_lexer": "ipython3",
   "version": "3.8.8"
  }
 },
 "nbformat": 4,
 "nbformat_minor": 5
}
