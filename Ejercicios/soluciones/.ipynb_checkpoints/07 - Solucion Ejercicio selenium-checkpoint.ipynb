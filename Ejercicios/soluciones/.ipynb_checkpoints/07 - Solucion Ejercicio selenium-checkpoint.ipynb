{
 "cells": [
  {
   "cell_type": "markdown",
   "id": "a5987718",
   "metadata": {},
   "source": [
    "![imagen](../../images/ejercicios.png)"
   ]
  },
  {
   "cell_type": "code",
   "execution_count": 1,
   "id": "1409ee61",
   "metadata": {},
   "outputs": [],
   "source": [
    "from selenium import webdriver\n",
    "from selenium.webdriver.chrome.options import Options\n",
    "from webdriver_manager.chrome import ChromeDriverManager    \n",
    "\n",
    "from bs4 import BeautifulSoup as bs\n",
    "import time\n",
    "import pandas as pd\n",
    "\n",
    "from selenium.webdriver.common.by import By\n",
    "from selenium.webdriver.support.ui import WebDriverWait\n",
    "from selenium.webdriver.support import expected_conditions as EC"
   ]
  },
  {
   "cell_type": "code",
   "execution_count": 2,
   "id": "4ae966e4",
   "metadata": {},
   "outputs": [],
   "source": [
    "# opciones del webdriver\n",
    "\n",
    "opciones=Options()\n",
    "\n",
    "opciones.add_experimental_option('excludeSwitches', ['enable-automation'])\n",
    "opciones.add_experimental_option('useAutomationExtension', False)\n",
    "\n",
    "opciones.headless=False            "
   ]
  },
  {
   "cell_type": "markdown",
   "id": "d98f420c",
   "metadata": {},
   "source": [
    "# Ejercicio 1 \n",
    "\n",
    "Crea un dataframe con las novedades de mercadona\n",
    "\n",
    "https://tienda.mercadona.es/"
   ]
  },
  {
   "cell_type": "code",
   "execution_count": 3,
   "id": "39266558",
   "metadata": {},
   "outputs": [],
   "source": [
    "url='https://tienda.mercadona.es/'"
   ]
  },
  {
   "cell_type": "code",
   "execution_count": 4,
   "id": "6c67d422",
   "metadata": {},
   "outputs": [
    {
     "name": "stderr",
     "output_type": "stream",
     "text": [
      "[WDM] - \n",
      "\n",
      "[WDM] - ====== WebDriver manager ======\n",
      "[WDM] - Current google-chrome version is 96.0.4664\n",
      "[WDM] - Get LATEST driver version for 96.0.4664\n",
      "[WDM] - Driver [/Users/iudh/.wdm/drivers/chromedriver/mac64/96.0.4664.45/chromedriver] found in cache\n"
     ]
    }
   ],
   "source": [
    "PATH=ChromeDriverManager().install()  "
   ]
  },
  {
   "cell_type": "code",
   "execution_count": 5,
   "id": "d5990343",
   "metadata": {},
   "outputs": [],
   "source": [
    "driver=webdriver.Chrome(PATH, options=opciones)\n",
    "driver.get(url)\n",
    "\n",
    "time.sleep(1)"
   ]
  },
  {
   "cell_type": "code",
   "execution_count": 6,
   "id": "57fa9104",
   "metadata": {},
   "outputs": [],
   "source": [
    "# cookies\n",
    "driver.find_element_by_xpath('//*[@id=\"root\"]/div[1]/div/div/button[2]').click()\n",
    "time.sleep(1)\n",
    "\n",
    "# codigo postal\n",
    "driver.find_element_by_xpath('//*[@id=\"root\"]/div[4]/div/div[2]/div/form/div/input').send_keys('28004')\n",
    "time.sleep(1)\n",
    "driver.find_element_by_xpath('//*[@id=\"root\"]/div[4]/div/div[2]/div/form/button').click()\n",
    "\n",
    "\n",
    "# espera a cargar 3 secs\n",
    "time.sleep(3)"
   ]
  },
  {
   "cell_type": "code",
   "execution_count": 7,
   "id": "9e6fb909",
   "metadata": {},
   "outputs": [],
   "source": [
    "# parseo con bs4\n",
    "soup=bs(driver.page_source, 'html.parser')\n",
    "\n",
    "# productos\n",
    "productos=soup.find_all('div', class_='product-cell__info')\n",
    "\n",
    "# descripcion\n",
    "desc=[p.find('h4').text for p in productos]\n",
    "\n",
    "# formato\n",
    "formato=[p.find('div', class_='product-format product-format__size--cell').text for p in productos]\n",
    "\n",
    "# precio\n",
    "precio=[p.find('p').text for p in productos]\n",
    "\n",
    "# apagar driver\n",
    "driver.quit()"
   ]
  },
  {
   "cell_type": "code",
   "execution_count": 8,
   "id": "b02c62b3",
   "metadata": {},
   "outputs": [
    {
     "data": {
      "text/html": [
       "<div>\n",
       "<style scoped>\n",
       "    .dataframe tbody tr th:only-of-type {\n",
       "        vertical-align: middle;\n",
       "    }\n",
       "\n",
       "    .dataframe tbody tr th {\n",
       "        vertical-align: top;\n",
       "    }\n",
       "\n",
       "    .dataframe thead th {\n",
       "        text-align: right;\n",
       "    }\n",
       "</style>\n",
       "<table border=\"1\" class=\"dataframe\">\n",
       "  <thead>\n",
       "    <tr style=\"text-align: right;\">\n",
       "      <th></th>\n",
       "      <th>desc</th>\n",
       "      <th>formato</th>\n",
       "      <th>precio</th>\n",
       "    </tr>\n",
       "  </thead>\n",
       "  <tbody>\n",
       "    <tr>\n",
       "      <th>0</th>\n",
       "      <td>Chocolate blanco Hacendado fussion relleno con...</td>\n",
       "      <td>Tableta 100 g</td>\n",
       "      <td>0,80 €</td>\n",
       "    </tr>\n",
       "    <tr>\n",
       "      <th>1</th>\n",
       "      <td>Recarga jabón de manos dermoprotector Deliplus...</td>\n",
       "      <td>Paquete 1 L</td>\n",
       "      <td>1,10 €</td>\n",
       "    </tr>\n",
       "    <tr>\n",
       "      <th>2</th>\n",
       "      <td>Paté de Jabalí con boletus Hacendado</td>\n",
       "      <td>Tarro 120 g</td>\n",
       "      <td>1,50 €</td>\n",
       "    </tr>\n",
       "    <tr>\n",
       "      <th>3</th>\n",
       "      <td>Paté de cerdo con cebolla caramelizada Argal</td>\n",
       "      <td>Lata 200 g</td>\n",
       "      <td>1,50 €</td>\n",
       "    </tr>\n",
       "    <tr>\n",
       "      <th>4</th>\n",
       "      <td>Jamón de cebo de campo ibérico 50% raza ibéric...</td>\n",
       "      <td>Pieza 7 kg</td>\n",
       "      <td>149,00 €</td>\n",
       "    </tr>\n",
       "  </tbody>\n",
       "</table>\n",
       "</div>"
      ],
      "text/plain": [
       "                                                desc        formato    precio\n",
       "0  Chocolate blanco Hacendado fussion relleno con...  Tableta 100 g    0,80 €\n",
       "1  Recarga jabón de manos dermoprotector Deliplus...    Paquete 1 L    1,10 €\n",
       "2               Paté de Jabalí con boletus Hacendado    Tarro 120 g    1,50 €\n",
       "3       Paté de cerdo con cebolla caramelizada Argal     Lata 200 g    1,50 €\n",
       "4  Jamón de cebo de campo ibérico 50% raza ibéric...     Pieza 7 kg  149,00 €"
      ]
     },
     "execution_count": 8,
     "metadata": {},
     "output_type": "execute_result"
    }
   ],
   "source": [
    "# dataframe\n",
    "columnas=['desc', 'formato', 'precio']\n",
    "\n",
    "df=pd.DataFrame(columns=columnas)\n",
    "\n",
    "df['desc']=desc\n",
    "df['formato']=formato\n",
    "df['precio']=precio\n",
    "\n",
    "df.head()"
   ]
  },
  {
   "cell_type": "code",
   "execution_count": 9,
   "id": "6c31b59e",
   "metadata": {},
   "outputs": [
    {
     "data": {
      "text/html": [
       "<div>\n",
       "<style scoped>\n",
       "    .dataframe tbody tr th:only-of-type {\n",
       "        vertical-align: middle;\n",
       "    }\n",
       "\n",
       "    .dataframe tbody tr th {\n",
       "        vertical-align: top;\n",
       "    }\n",
       "\n",
       "    .dataframe thead th {\n",
       "        text-align: right;\n",
       "    }\n",
       "</style>\n",
       "<table border=\"1\" class=\"dataframe\">\n",
       "  <thead>\n",
       "    <tr style=\"text-align: right;\">\n",
       "      <th></th>\n",
       "      <th>desc</th>\n",
       "      <th>formato</th>\n",
       "      <th>precio</th>\n",
       "    </tr>\n",
       "  </thead>\n",
       "  <tbody>\n",
       "    <tr>\n",
       "      <th>0</th>\n",
       "      <td>Chocolate blanco Hacendado fussion relleno con...</td>\n",
       "      <td>Tableta 100 g</td>\n",
       "      <td>0.8</td>\n",
       "    </tr>\n",
       "    <tr>\n",
       "      <th>1</th>\n",
       "      <td>Recarga jabón de manos dermoprotector Deliplus...</td>\n",
       "      <td>Paquete 1 L</td>\n",
       "      <td>1.1</td>\n",
       "    </tr>\n",
       "    <tr>\n",
       "      <th>2</th>\n",
       "      <td>Paté de Jabalí con boletus Hacendado</td>\n",
       "      <td>Tarro 120 g</td>\n",
       "      <td>1.5</td>\n",
       "    </tr>\n",
       "    <tr>\n",
       "      <th>3</th>\n",
       "      <td>Paté de cerdo con cebolla caramelizada Argal</td>\n",
       "      <td>Lata 200 g</td>\n",
       "      <td>1.5</td>\n",
       "    </tr>\n",
       "    <tr>\n",
       "      <th>4</th>\n",
       "      <td>Jamón de cebo de campo ibérico 50% raza ibéric...</td>\n",
       "      <td>Pieza 7 kg</td>\n",
       "      <td>149.0</td>\n",
       "    </tr>\n",
       "  </tbody>\n",
       "</table>\n",
       "</div>"
      ],
      "text/plain": [
       "                                                desc        formato  precio\n",
       "0  Chocolate blanco Hacendado fussion relleno con...  Tableta 100 g     0.8\n",
       "1  Recarga jabón de manos dermoprotector Deliplus...    Paquete 1 L     1.1\n",
       "2               Paté de Jabalí con boletus Hacendado    Tarro 120 g     1.5\n",
       "3       Paté de cerdo con cebolla caramelizada Argal     Lata 200 g     1.5\n",
       "4  Jamón de cebo de campo ibérico 50% raza ibéric...     Pieza 7 kg   149.0"
      ]
     },
     "execution_count": 9,
     "metadata": {},
     "output_type": "execute_result"
    }
   ],
   "source": [
    "df['precio']=df['precio'].apply(lambda x: float(x.split()[0].replace(',', '.')))\n",
    "\n",
    "df.head()"
   ]
  },
  {
   "cell_type": "markdown",
   "id": "1771ec5b",
   "metadata": {},
   "source": [
    "# Ejercicio 2\n",
    "\n",
    "Crea un dataframe con los juguetes con mayor descuento para black friday en Amazon.\n",
    "\n",
    "https://www.amazon.es/"
   ]
  },
  {
   "cell_type": "code",
   "execution_count": 10,
   "id": "bb1faaba",
   "metadata": {},
   "outputs": [],
   "source": [
    "url='https://www.amazon.es/'"
   ]
  },
  {
   "cell_type": "code",
   "execution_count": 11,
   "id": "37cc4851",
   "metadata": {},
   "outputs": [],
   "source": [
    "driver=webdriver.Chrome(PATH, options=opciones)\n",
    "driver.get(url)\n",
    "\n",
    "time.sleep(1)"
   ]
  },
  {
   "cell_type": "code",
   "execution_count": 12,
   "id": "06965fcd",
   "metadata": {},
   "outputs": [],
   "source": [
    "# cookies\n",
    "driver.find_element_by_xpath('//*[@id=\"sp-cc-accept\"]').click()\n",
    "\n",
    "\n",
    "# b-friday\n",
    "driver.find_element_by_xpath('//*[@id=\"nav-xshop\"]/a[1]').click()\n",
    "time.sleep(2)\n",
    "\n",
    "# juguetes\n",
    "driver.find_element_by_xpath('//*[@id=\"anonCarousel1\"]/ol/li[9]/div/span[1]').click()\n",
    "\n",
    "# mayor descuento\n",
    "dropdown=driver.find_element_by_xpath('//*[@id=\"sorting_dropdown0\"]/span/span')\n",
    "dropdown.click()\n",
    "\n",
    "orden='Descuento: de mayor a menor'\n",
    "\n",
    "WebDriverWait(dropdown, 5).until(EC.element_to_be_clickable((By.XPATH, '//*[contains(text(),'+'\"'+orden+'\"'+')]'))).click()\n",
    "\n",
    "time.sleep(2)\n"
   ]
  },
  {
   "cell_type": "code",
   "execution_count": 13,
   "id": "ac95378b",
   "metadata": {},
   "outputs": [],
   "source": [
    "# parseo con bs4\n",
    "soup=bs(driver.page_source, 'html.parser')\n",
    "\n",
    "# todos los productos\n",
    "productos=soup.find_all('div', class_='DealGridItem-module__dealItem_2X_WLYkJ3-dM0LtXI9THcu DealGridItem-module__withBorders_2jNNLI6U1oDls7Ten3Dttl DealGridItem-module__withoutActionButton_2OI8DAanWNRCagYDL2iIqN')\n",
    "\n",
    "\n",
    "# precio\n",
    "precio=[p.find_all('a')[1].text for p in productos]\n",
    "\n",
    "# oferta\n",
    "oferta=[p.find_all('a')[2].text for p in productos]\n",
    "\n",
    "# calificacion\n",
    "votos=[]\n",
    "for p in productos:\n",
    "    try:\n",
    "        votos.append(p.find_all('a')[3].attrs['aria-label'])\n",
    "\n",
    "    except:\n",
    "        votos.append('')\n",
    "\n",
    "driver.quit()\n",
    "    "
   ]
  },
  {
   "cell_type": "code",
   "execution_count": 14,
   "id": "08e8c3aa",
   "metadata": {},
   "outputs": [
    {
     "data": {
      "text/html": [
       "<div>\n",
       "<style scoped>\n",
       "    .dataframe tbody tr th:only-of-type {\n",
       "        vertical-align: middle;\n",
       "    }\n",
       "\n",
       "    .dataframe tbody tr th {\n",
       "        vertical-align: top;\n",
       "    }\n",
       "\n",
       "    .dataframe thead th {\n",
       "        text-align: right;\n",
       "    }\n",
       "</style>\n",
       "<table border=\"1\" class=\"dataframe\">\n",
       "  <thead>\n",
       "    <tr style=\"text-align: right;\">\n",
       "      <th></th>\n",
       "      <th>oferta</th>\n",
       "      <th>precio</th>\n",
       "      <th>calificacion</th>\n",
       "    </tr>\n",
       "  </thead>\n",
       "  <tbody>\n",
       "    <tr>\n",
       "      <th>0</th>\n",
       "      <td>Hape Tambor para Bebé, Tambor Colorido que Rue...</td>\n",
       "      <td>Precio de la oferta: 20,90€ Precio recomendado...</td>\n",
       "      <td>Calificación: 4 estrellas y media (1705 reseñas)</td>\n",
       "    </tr>\n",
       "    <tr>\n",
       "      <th>1</th>\n",
       "      <td>Oferta en Famosa</td>\n",
       "      <td>Precio de la oferta: 32,28€ Precio recomendado...</td>\n",
       "      <td>Calificación: 4 estrellas y media (352 reseñas)</td>\n",
       "    </tr>\n",
       "    <tr>\n",
       "      <th>2</th>\n",
       "      <td>Juguetes Bebes 1 año Bailando Caminando Pato H...</td>\n",
       "      <td>Precio de la oferta: 22,94€ Precio recomendado...</td>\n",
       "      <td>Calificación: 4 estrellas y media (107 reseñas)</td>\n",
       "    </tr>\n",
       "    <tr>\n",
       "      <th>3</th>\n",
       "      <td>Super Mario Peluche Mario/ Yoshi, 27 cm , colo...</td>\n",
       "      <td>Precio de la oferta: 15,74€ Precio recomendado...</td>\n",
       "      <td>Calificación: 4 estrellas (118 reseñas)</td>\n",
       "    </tr>\n",
       "    <tr>\n",
       "      <th>4</th>\n",
       "      <td>Papo Figura de Tigre de pie 50208</td>\n",
       "      <td>Precio de la oferta: 8,00€ Precio anterior: 13...</td>\n",
       "      <td>Calificación: 4 estrellas y media (650 reseñas)</td>\n",
       "    </tr>\n",
       "  </tbody>\n",
       "</table>\n",
       "</div>"
      ],
      "text/plain": [
       "                                              oferta  \\\n",
       "0  Hape Tambor para Bebé, Tambor Colorido que Rue...   \n",
       "1                                   Oferta en Famosa   \n",
       "2  Juguetes Bebes 1 año Bailando Caminando Pato H...   \n",
       "3  Super Mario Peluche Mario/ Yoshi, 27 cm , colo...   \n",
       "4                  Papo Figura de Tigre de pie 50208   \n",
       "\n",
       "                                              precio  \\\n",
       "0  Precio de la oferta: 20,90€ Precio recomendado...   \n",
       "1  Precio de la oferta: 32,28€ Precio recomendado...   \n",
       "2  Precio de la oferta: 22,94€ Precio recomendado...   \n",
       "3  Precio de la oferta: 15,74€ Precio recomendado...   \n",
       "4  Precio de la oferta: 8,00€ Precio anterior: 13...   \n",
       "\n",
       "                                       calificacion  \n",
       "0  Calificación: 4 estrellas y media (1705 reseñas)  \n",
       "1   Calificación: 4 estrellas y media (352 reseñas)  \n",
       "2   Calificación: 4 estrellas y media (107 reseñas)  \n",
       "3           Calificación: 4 estrellas (118 reseñas)  \n",
       "4   Calificación: 4 estrellas y media (650 reseñas)  "
      ]
     },
     "execution_count": 14,
     "metadata": {},
     "output_type": "execute_result"
    }
   ],
   "source": [
    "# dataframe\n",
    "columnas=['oferta', 'precio', 'calificacion']\n",
    "\n",
    "df=pd.DataFrame(columns=columnas)\n",
    "\n",
    "df['oferta']=oferta\n",
    "df['calificacion']=votos\n",
    "df['precio']=precio\n",
    "\n",
    "df.head()"
   ]
  },
  {
   "cell_type": "code",
   "execution_count": null,
   "id": "f067ab7b",
   "metadata": {},
   "outputs": [],
   "source": []
  }
 ],
 "metadata": {
  "kernelspec": {
   "display_name": "clase",
   "language": "python",
   "name": "clase"
  },
  "language_info": {
   "codemirror_mode": {
    "name": "ipython",
    "version": 3
   },
   "file_extension": ".py",
   "mimetype": "text/x-python",
   "name": "python",
   "nbconvert_exporter": "python",
   "pygments_lexer": "ipython3",
   "version": "3.8.8"
  }
 },
 "nbformat": 4,
 "nbformat_minor": 5
}
