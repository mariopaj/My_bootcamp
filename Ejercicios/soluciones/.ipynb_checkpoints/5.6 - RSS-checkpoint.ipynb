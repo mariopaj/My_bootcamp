{
 "cells": [
  {
   "cell_type": "markdown",
   "metadata": {},
   "source": [
    "# 5.6 - RSS\n",
    "\n",
    "\n",
    "![rss](images/rss.png)\n",
    "\n"
   ]
  },
  {
   "cell_type": "markdown",
   "metadata": {},
   "source": [
    "RSS son las siglas de **Really Simple Syndication**, un formato XML para distribuir contenido en la web. Se utiliza para difundir información actualizada frecuentemente a usuarios que se han suscrito a la fuente de contenidos. El formato permite distribuir contenidos sin necesidad de un navegador, utilizando programas llamados agregadores de noticias, diseñados para leer contenidos RSS. A pesar de eso, es posible utilizar el mismo navegador para ver los contenidos RSS. Las últimas versiones de los principales navegadores permiten leer los RSS sin necesidad de programas adicionales. RSS es parte de la familia de los formatos XML, desarrollado específicamente para todo tipo de sitios que se actualicen con frecuencia y por medio del cual se puede compartir la información y usarla en otros sitios web o programas. A esto se le conoce como redifusión web o sindicación web .\n",
    "\n",
    "\n",
    "En el archivo RSS simplemente están los datos de las novedades del sitio, como el título, fecha de publicación o la descripción. El programa que lea el RSS será encargado de darle estilo o apariencia a los datos que se incluyan en el archivo y presentarlos de una manera atractiva al usuario y de fácil lectura.\n",
    "\n",
    "Que RSS sea un formato basado en XML significa que el archivo RSS se compone por una serie de etiquetas definidas que tendrán un formato dado, y que respetará las reglas generales de XML. Este archivo normalmente es nombrado index.xml y se encuentra ubicado en la página principal.\n",
    "\n",
    "Vale aclarar que RSS no es un protocolo, dado que no contempla parámetros de ningún tipo. No es posible definir mediante una consulta un criterio de búsqueda. \n"
   ]
  },
  {
   "cell_type": "markdown",
   "metadata": {},
   "source": [
    "## Trabajando con RSS\n",
    "\n",
    "Normalmente, el feed del RSS corresponde a un archivo con la extensión .rss. Tenemos una herramienta pèrfecta para manejar ese tipo de feed."
   ]
  },
  {
   "cell_type": "code",
   "execution_count": 1,
   "metadata": {},
   "outputs": [
    {
     "name": "stdout",
     "output_type": "stream",
     "text": [
      "Requirement already satisfied: feedparser in /Users/iudh/opt/anaconda3/envs/clase/lib/python3.8/site-packages (6.0.8)\r\n",
      "Requirement already satisfied: sgmllib3k in /Users/iudh/opt/anaconda3/envs/clase/lib/python3.8/site-packages (from feedparser) (1.0.0)\r\n"
     ]
    }
   ],
   "source": [
    "!pip install feedparser"
   ]
  },
  {
   "cell_type": "code",
   "execution_count": 2,
   "metadata": {},
   "outputs": [],
   "source": [
    "import feedparser"
   ]
  },
  {
   "cell_type": "markdown",
   "metadata": {},
   "source": [
    "### [Reddit RSS](https://www.reddit.com/r/tech.rss)\n",
    "\n",
    "Para extraer el contenido, tan solo pasamos la url del RSS al feedparser."
   ]
  },
  {
   "cell_type": "code",
   "execution_count": 3,
   "metadata": {},
   "outputs": [],
   "source": [
    "reddit=feedparser.parse('https://www.reddit.com/r/tech.rss')"
   ]
  },
  {
   "cell_type": "code",
   "execution_count": 5,
   "metadata": {},
   "outputs": [
    {
     "data": {
      "text/plain": [
       "feedparser.util.FeedParserDict"
      ]
     },
     "execution_count": 5,
     "metadata": {},
     "output_type": "execute_result"
    }
   ],
   "source": [
    "type(reddit)"
   ]
  },
  {
   "cell_type": "code",
   "execution_count": 6,
   "metadata": {},
   "outputs": [
    {
     "data": {
      "text/plain": [
       "dict_keys(['bozo', 'entries', 'feed', 'headers', 'href', 'status', 'encoding', 'version', 'namespaces'])"
      ]
     },
     "execution_count": 6,
     "metadata": {},
     "output_type": "execute_result"
    }
   ],
   "source": [
    "reddit.keys()"
   ]
  },
  {
   "cell_type": "code",
   "execution_count": 9,
   "metadata": {},
   "outputs": [
    {
     "data": {
      "text/plain": [
       "dict_keys(['tags', 'updated', 'updated_parsed', 'icon', 'id', 'guidislink', 'link', 'links', 'logo', 'subtitle', 'subtitle_detail', 'title', 'title_detail'])"
      ]
     },
     "execution_count": 9,
     "metadata": {},
     "output_type": "execute_result"
    }
   ],
   "source": [
    "reddit['feed'].keys()"
   ]
  },
  {
   "cell_type": "code",
   "execution_count": 13,
   "metadata": {},
   "outputs": [
    {
     "data": {
      "text/plain": [
       "dict_keys(['authors', 'author_detail', 'href', 'author', 'tags', 'content', 'summary', 'id', 'guidislink', 'link', 'links', 'updated', 'updated_parsed', 'published', 'published_parsed', 'title', 'title_detail'])"
      ]
     },
     "execution_count": 13,
     "metadata": {},
     "output_type": "execute_result"
    }
   ],
   "source": [
    "reddit.entries[0].keys()"
   ]
  },
  {
   "cell_type": "code",
   "execution_count": 15,
   "metadata": {},
   "outputs": [
    {
     "data": {
      "text/plain": [
       "'what are some good colocation providers in Europe?'"
      ]
     },
     "execution_count": 15,
     "metadata": {},
     "output_type": "execute_result"
    }
   ],
   "source": [
    "reddit.entries[-1].title"
   ]
  },
  {
   "cell_type": "markdown",
   "metadata": {},
   "source": [
    "### [Nasa](https://www.nasa.gov/content/nasa-rss-feeds) RSS"
   ]
  },
  {
   "cell_type": "code",
   "execution_count": 17,
   "metadata": {},
   "outputs": [],
   "source": [
    "nasa=feedparser.parse('https://www.nasa.gov/rss/dyn/mission_pages/kepler/news/kepler-newsandfeatures-RSS.rss')"
   ]
  },
  {
   "cell_type": "code",
   "execution_count": 23,
   "metadata": {},
   "outputs": [
    {
     "data": {
      "text/plain": [
       "'http://www.nasa.gov/sites/default/files/styles/1x1_cardfeed/public/thumbnails/image/exoplanet_banner_1.gif?itok=L3rCP01p'"
      ]
     },
     "execution_count": 23,
     "metadata": {},
     "output_type": "execute_result"
    }
   ],
   "source": [
    "nasa['entries'][0]['links'][-1]['href']"
   ]
  },
  {
   "cell_type": "code",
   "execution_count": 33,
   "metadata": {},
   "outputs": [
    {
     "data": {
      "text/html": [
       "<img src=\"http://www.nasa.gov/sites/default/files/styles/1x1_cardfeed/public/thumbnails/image/koi_5_art.jpg?itok=jXWOMzRg\"/>"
      ],
      "text/plain": [
       "<IPython.core.display.Image object>"
      ]
     },
     "metadata": {},
     "output_type": "display_data"
    }
   ],
   "source": [
    "from IPython.display import Image\n",
    "\n",
    "url=nasa['entries'][2]['links'][-1]['href']\n",
    "\n",
    "display(Image(url=url))"
   ]
  },
  {
   "cell_type": "markdown",
   "metadata": {},
   "source": [
    "### [ForexLive](https://www.forexlive.com/rss) RSS"
   ]
  },
  {
   "cell_type": "code",
   "execution_count": 34,
   "metadata": {},
   "outputs": [],
   "source": [
    "crypto=feedparser.parse('https://www.forexlive.com/feed/cryptocurrency')"
   ]
  },
  {
   "cell_type": "code",
   "execution_count": 35,
   "metadata": {},
   "outputs": [
    {
     "data": {
      "text/plain": [
       "dict_keys(['bozo', 'entries', 'feed', 'headers', 'href', 'status', 'encoding', 'version', 'namespaces'])"
      ]
     },
     "execution_count": 35,
     "metadata": {},
     "output_type": "execute_result"
    }
   ],
   "source": [
    "crypto.keys()"
   ]
  },
  {
   "cell_type": "code",
   "execution_count": 36,
   "metadata": {
    "scrolled": false
   },
   "outputs": [
    {
     "data": {
      "text/plain": [
       "{'id': 'boes-bailey-we-dont-regard-crypto-as-a-stability-threat-now-but-that-could-change-20211123',\n",
       " 'guidislink': False,\n",
       " 'links': [{'rel': 'alternate',\n",
       "   'type': 'text/html',\n",
       "   'href': 'https://www.forexlive.com/cryptocurrency/!/boes-bailey-we-dont-regard-crypto-as-a-stability-threat-now-but-that-could-change-20211123'}],\n",
       " 'link': 'https://www.forexlive.com/cryptocurrency/!/boes-bailey-we-dont-regard-crypto-as-a-stability-threat-now-but-that-could-change-20211123',\n",
       " 'title': \"BOE's Bailey: We don't regard crypto as a stability threat now but that could change\",\n",
       " 'title_detail': {'type': 'text/plain',\n",
       "  'language': None,\n",
       "  'base': 'https://www.forexlive.com/feed/cryptocurrency',\n",
       "  'value': \"BOE's Bailey: We don't regard crypto as a stability threat now but that could change\"},\n",
       " 'summary': 'Bailey is talking about a central bank digital currency\\nMore to come',\n",
       " 'summary_detail': {'type': 'text/html',\n",
       "  'language': None,\n",
       "  'base': 'https://www.forexlive.com/feed/cryptocurrency',\n",
       "  'value': 'Bailey is talking about a central bank digital currency\\nMore to come'},\n",
       " 'published': 'Tue, 23 Nov 2021 15:18:28 Z',\n",
       " 'published_parsed': time.struct_time(tm_year=2021, tm_mon=11, tm_mday=23, tm_hour=15, tm_min=18, tm_sec=28, tm_wday=1, tm_yday=327, tm_isdst=0),\n",
       " 'updated': '2021-11-23T15:18:28Z',\n",
       " 'updated_parsed': time.struct_time(tm_year=2021, tm_mon=11, tm_mday=23, tm_hour=15, tm_min=18, tm_sec=28, tm_wday=1, tm_yday=327, tm_isdst=0),\n",
       " 'rights': 'Copyright 2015 Forexlive.com',\n",
       " 'rights_detail': {'type': 'text/plain',\n",
       "  'language': None,\n",
       "  'base': 'https://www.forexlive.com/feed/cryptocurrency',\n",
       "  'value': 'Copyright 2015 Forexlive.com'}}"
      ]
     },
     "execution_count": 36,
     "metadata": {},
     "output_type": "execute_result"
    }
   ],
   "source": [
    "crypto['entries'][0]"
   ]
  },
  {
   "cell_type": "markdown",
   "metadata": {},
   "source": [
    "### [Unam](http://www.ssn.unam.mx) RSS\n",
    "\n",
    "A veces el RSS viene directamente en formato .xml\n",
    "\n",
    "Veremos como tratarlo."
   ]
  },
  {
   "cell_type": "code",
   "execution_count": 37,
   "metadata": {},
   "outputs": [
    {
     "name": "stdout",
     "output_type": "stream",
     "text": [
      "Requirement already satisfied: xmltodict in /Users/iudh/opt/anaconda3/envs/clase/lib/python3.8/site-packages (0.12.0)\r\n"
     ]
    }
   ],
   "source": [
    "!pip install xmltodict"
   ]
  },
  {
   "cell_type": "code",
   "execution_count": 38,
   "metadata": {},
   "outputs": [],
   "source": [
    "import requests as req\n",
    "import xmltodict"
   ]
  },
  {
   "cell_type": "code",
   "execution_count": 39,
   "metadata": {},
   "outputs": [],
   "source": [
    "url='http://www.ssn.unam.mx/rss/ultimos-sismos.xml'\n",
    "\n",
    "data=req.get(url).text\n",
    "\n",
    "unam=xmltodict.parse(data)"
   ]
  },
  {
   "cell_type": "code",
   "execution_count": 46,
   "metadata": {},
   "outputs": [
    {
     "data": {
      "text/plain": [
       "OrderedDict([('title', '4.3, 154 km al SUR de  PUERTO PEÑASCO, SON'),\n",
       "             ('description',\n",
       "              '<p>Fecha:2021-11-23 05:30:20 (Hora de M&eacute;xico)<br/>Lat/Lon: 29.94/-113.69<br/>Profundidad: 10.0 km </p>'),\n",
       "             ('link',\n",
       "              'http://www2.ssn.unam.mx:8080/jsp/localizacion-de-sismo.jsp?latitud=29.94&longitud=-113.69&prf=10.0 km&ma=4.3&fecha=2021-11-23&hora=05:30:20&loc=154 km al SUR de  PUERTO PEÑASCO, SON &evento=1'),\n",
       "             ('geo:lat', '29.94'),\n",
       "             ('geo:long', '-113.69')])"
      ]
     },
     "execution_count": 46,
     "metadata": {},
     "output_type": "execute_result"
    }
   ],
   "source": [
    "unam['rss']['channel']['item'][0]"
   ]
  },
  {
   "cell_type": "markdown",
   "metadata": {},
   "source": [
    "También podemos pasar los datos a un dataframe:"
   ]
  },
  {
   "cell_type": "code",
   "execution_count": 47,
   "metadata": {},
   "outputs": [],
   "source": [
    "import pandas as pd"
   ]
  },
  {
   "cell_type": "code",
   "execution_count": 49,
   "metadata": {},
   "outputs": [
    {
     "data": {
      "text/html": [
       "<div>\n",
       "<style scoped>\n",
       "    .dataframe tbody tr th:only-of-type {\n",
       "        vertical-align: middle;\n",
       "    }\n",
       "\n",
       "    .dataframe tbody tr th {\n",
       "        vertical-align: top;\n",
       "    }\n",
       "\n",
       "    .dataframe thead th {\n",
       "        text-align: right;\n",
       "    }\n",
       "</style>\n",
       "<table border=\"1\" class=\"dataframe\">\n",
       "  <thead>\n",
       "    <tr style=\"text-align: right;\">\n",
       "      <th></th>\n",
       "      <th>title</th>\n",
       "      <th>description</th>\n",
       "      <th>link</th>\n",
       "      <th>geo:lat</th>\n",
       "      <th>geo:long</th>\n",
       "    </tr>\n",
       "  </thead>\n",
       "  <tbody>\n",
       "    <tr>\n",
       "      <th>0</th>\n",
       "      <td>4.3, 154 km al SUR de  PUERTO PEÑASCO, SON</td>\n",
       "      <td>&lt;p&gt;Fecha:2021-11-23 05:30:20 (Hora de M&amp;eacute...</td>\n",
       "      <td>http://www2.ssn.unam.mx:8080/jsp/localizacion-...</td>\n",
       "      <td>29.94</td>\n",
       "      <td>-113.69</td>\n",
       "    </tr>\n",
       "    <tr>\n",
       "      <th>1</th>\n",
       "      <td>3.6, 28 km al ESTE de  TECALITLAN, JAL</td>\n",
       "      <td>&lt;p&gt;Fecha:2021-11-23 04:32:49 (Hora de M&amp;eacute...</td>\n",
       "      <td>http://www2.ssn.unam.mx:8080/jsp/localizacion-...</td>\n",
       "      <td>19.43</td>\n",
       "      <td>-103.04</td>\n",
       "    </tr>\n",
       "    <tr>\n",
       "      <th>2</th>\n",
       "      <td>3.6, 145 km al SUR de  PUERTO PEÑASCO, SON</td>\n",
       "      <td>&lt;p&gt;Fecha:2021-11-23 04:28:41 (Hora de M&amp;eacute...</td>\n",
       "      <td>http://www2.ssn.unam.mx:8080/jsp/localizacion-...</td>\n",
       "      <td>30.01</td>\n",
       "      <td>-113.62</td>\n",
       "    </tr>\n",
       "    <tr>\n",
       "      <th>3</th>\n",
       "      <td>3.8, 149 km al SUR de  PUERTO PEÑASCO, SON</td>\n",
       "      <td>&lt;p&gt;Fecha:2021-11-23 04:23:33 (Hora de M&amp;eacute...</td>\n",
       "      <td>http://www2.ssn.unam.mx:8080/jsp/localizacion-...</td>\n",
       "      <td>29.98</td>\n",
       "      <td>-113.67</td>\n",
       "    </tr>\n",
       "    <tr>\n",
       "      <th>4</th>\n",
       "      <td>3.4, 145 km al SUR de  PUERTO PEÑASCO, SON</td>\n",
       "      <td>&lt;p&gt;Fecha:2021-11-23 03:42:54 (Hora de M&amp;eacute...</td>\n",
       "      <td>http://www2.ssn.unam.mx:8080/jsp/localizacion-...</td>\n",
       "      <td>30.01</td>\n",
       "      <td>-113.52</td>\n",
       "    </tr>\n",
       "    <tr>\n",
       "      <th>5</th>\n",
       "      <td>3.0, 29 km al SUROESTE de  CHILPANCINGO, GRO</td>\n",
       "      <td>&lt;p&gt;Fecha:2021-11-23 03:37:08 (Hora de M&amp;eacute...</td>\n",
       "      <td>http://www2.ssn.unam.mx:8080/jsp/localizacion-...</td>\n",
       "      <td>17.36</td>\n",
       "      <td>-99.68</td>\n",
       "    </tr>\n",
       "    <tr>\n",
       "      <th>6</th>\n",
       "      <td>3.7, 157 km al SUR de  PUERTO PEÑASCO, SON</td>\n",
       "      <td>&lt;p&gt;Fecha:2021-11-23 03:26:05 (Hora de M&amp;eacute...</td>\n",
       "      <td>http://www2.ssn.unam.mx:8080/jsp/localizacion-...</td>\n",
       "      <td>29.91</td>\n",
       "      <td>-113.71</td>\n",
       "    </tr>\n",
       "    <tr>\n",
       "      <th>7</th>\n",
       "      <td>3.7, 145 km al SUR de  PUERTO PEÑASCO, SON</td>\n",
       "      <td>&lt;p&gt;Fecha:2021-11-23 03:23:57 (Hora de M&amp;eacute...</td>\n",
       "      <td>http://www2.ssn.unam.mx:8080/jsp/localizacion-...</td>\n",
       "      <td>30.01</td>\n",
       "      <td>-113.53</td>\n",
       "    </tr>\n",
       "    <tr>\n",
       "      <th>8</th>\n",
       "      <td>4.1, 150 km al SUR de  PUERTO PEÑASCO, SON</td>\n",
       "      <td>&lt;p&gt;Fecha:2021-11-23 02:26:18 (Hora de M&amp;eacute...</td>\n",
       "      <td>http://www2.ssn.unam.mx:8080/jsp/localizacion-...</td>\n",
       "      <td>29.96</td>\n",
       "      <td>-113.55</td>\n",
       "    </tr>\n",
       "    <tr>\n",
       "      <th>9</th>\n",
       "      <td>3.7, 143 km al SUROESTE de  CD HIDALGO, CHIS</td>\n",
       "      <td>&lt;p&gt;Fecha:2021-11-23 02:22:07 (Hora de M&amp;eacute...</td>\n",
       "      <td>http://www2.ssn.unam.mx:8080/jsp/localizacion-...</td>\n",
       "      <td>14.12</td>\n",
       "      <td>-93.34</td>\n",
       "    </tr>\n",
       "    <tr>\n",
       "      <th>10</th>\n",
       "      <td>3.8, 70 km al SUR de  COALCOMAN, MICH</td>\n",
       "      <td>&lt;p&gt;Fecha:2021-11-23 02:15:26 (Hora de M&amp;eacute...</td>\n",
       "      <td>http://www2.ssn.unam.mx:8080/jsp/localizacion-...</td>\n",
       "      <td>18.15</td>\n",
       "      <td>-103.19</td>\n",
       "    </tr>\n",
       "    <tr>\n",
       "      <th>11</th>\n",
       "      <td>3.7, 9 km al SUR de  PINOTEPA NACIONAL, OAX</td>\n",
       "      <td>&lt;p&gt;Fecha:2021-11-23 01:51:59 (Hora de M&amp;eacute...</td>\n",
       "      <td>http://www2.ssn.unam.mx:8080/jsp/localizacion-...</td>\n",
       "      <td>16.26</td>\n",
       "      <td>-98.07</td>\n",
       "    </tr>\n",
       "    <tr>\n",
       "      <th>12</th>\n",
       "      <td>3.5, 15 km al SUROESTE de  OMETEPEC, GRO</td>\n",
       "      <td>&lt;p&gt;Fecha:2021-11-23 00:48:51 (Hora de M&amp;eacute...</td>\n",
       "      <td>http://www2.ssn.unam.mx:8080/jsp/localizacion-...</td>\n",
       "      <td>16.57</td>\n",
       "      <td>-98.49</td>\n",
       "    </tr>\n",
       "    <tr>\n",
       "      <th>13</th>\n",
       "      <td>3.7, 47 km al SUROESTE de  SAYULA DE ALEMAN, VER</td>\n",
       "      <td>&lt;p&gt;Fecha:2021-11-22 23:55:05 (Hora de M&amp;eacute...</td>\n",
       "      <td>http://www2.ssn.unam.mx:8080/jsp/localizacion-...</td>\n",
       "      <td>17.51</td>\n",
       "      <td>-95.18</td>\n",
       "    </tr>\n",
       "    <tr>\n",
       "      <th>14</th>\n",
       "      <td>3.7, 11 km al SUROESTE de  PINOTEPA NACIONAL, OAX</td>\n",
       "      <td>&lt;p&gt;Fecha:2021-11-22 23:52:02 (Hora de M&amp;eacute...</td>\n",
       "      <td>http://www2.ssn.unam.mx:8080/jsp/localizacion-...</td>\n",
       "      <td>16.25</td>\n",
       "      <td>-98.09</td>\n",
       "    </tr>\n",
       "  </tbody>\n",
       "</table>\n",
       "</div>"
      ],
      "text/plain": [
       "                                                title  \\\n",
       "0          4.3, 154 km al SUR de  PUERTO PEÑASCO, SON   \n",
       "1              3.6, 28 km al ESTE de  TECALITLAN, JAL   \n",
       "2          3.6, 145 km al SUR de  PUERTO PEÑASCO, SON   \n",
       "3          3.8, 149 km al SUR de  PUERTO PEÑASCO, SON   \n",
       "4          3.4, 145 km al SUR de  PUERTO PEÑASCO, SON   \n",
       "5        3.0, 29 km al SUROESTE de  CHILPANCINGO, GRO   \n",
       "6          3.7, 157 km al SUR de  PUERTO PEÑASCO, SON   \n",
       "7          3.7, 145 km al SUR de  PUERTO PEÑASCO, SON   \n",
       "8          4.1, 150 km al SUR de  PUERTO PEÑASCO, SON   \n",
       "9        3.7, 143 km al SUROESTE de  CD HIDALGO, CHIS   \n",
       "10              3.8, 70 km al SUR de  COALCOMAN, MICH   \n",
       "11        3.7, 9 km al SUR de  PINOTEPA NACIONAL, OAX   \n",
       "12           3.5, 15 km al SUROESTE de  OMETEPEC, GRO   \n",
       "13   3.7, 47 km al SUROESTE de  SAYULA DE ALEMAN, VER   \n",
       "14  3.7, 11 km al SUROESTE de  PINOTEPA NACIONAL, OAX   \n",
       "\n",
       "                                          description  \\\n",
       "0   <p>Fecha:2021-11-23 05:30:20 (Hora de M&eacute...   \n",
       "1   <p>Fecha:2021-11-23 04:32:49 (Hora de M&eacute...   \n",
       "2   <p>Fecha:2021-11-23 04:28:41 (Hora de M&eacute...   \n",
       "3   <p>Fecha:2021-11-23 04:23:33 (Hora de M&eacute...   \n",
       "4   <p>Fecha:2021-11-23 03:42:54 (Hora de M&eacute...   \n",
       "5   <p>Fecha:2021-11-23 03:37:08 (Hora de M&eacute...   \n",
       "6   <p>Fecha:2021-11-23 03:26:05 (Hora de M&eacute...   \n",
       "7   <p>Fecha:2021-11-23 03:23:57 (Hora de M&eacute...   \n",
       "8   <p>Fecha:2021-11-23 02:26:18 (Hora de M&eacute...   \n",
       "9   <p>Fecha:2021-11-23 02:22:07 (Hora de M&eacute...   \n",
       "10  <p>Fecha:2021-11-23 02:15:26 (Hora de M&eacute...   \n",
       "11  <p>Fecha:2021-11-23 01:51:59 (Hora de M&eacute...   \n",
       "12  <p>Fecha:2021-11-23 00:48:51 (Hora de M&eacute...   \n",
       "13  <p>Fecha:2021-11-22 23:55:05 (Hora de M&eacute...   \n",
       "14  <p>Fecha:2021-11-22 23:52:02 (Hora de M&eacute...   \n",
       "\n",
       "                                                 link geo:lat geo:long  \n",
       "0   http://www2.ssn.unam.mx:8080/jsp/localizacion-...   29.94  -113.69  \n",
       "1   http://www2.ssn.unam.mx:8080/jsp/localizacion-...   19.43  -103.04  \n",
       "2   http://www2.ssn.unam.mx:8080/jsp/localizacion-...   30.01  -113.62  \n",
       "3   http://www2.ssn.unam.mx:8080/jsp/localizacion-...   29.98  -113.67  \n",
       "4   http://www2.ssn.unam.mx:8080/jsp/localizacion-...   30.01  -113.52  \n",
       "5   http://www2.ssn.unam.mx:8080/jsp/localizacion-...   17.36   -99.68  \n",
       "6   http://www2.ssn.unam.mx:8080/jsp/localizacion-...   29.91  -113.71  \n",
       "7   http://www2.ssn.unam.mx:8080/jsp/localizacion-...   30.01  -113.53  \n",
       "8   http://www2.ssn.unam.mx:8080/jsp/localizacion-...   29.96  -113.55  \n",
       "9   http://www2.ssn.unam.mx:8080/jsp/localizacion-...   14.12   -93.34  \n",
       "10  http://www2.ssn.unam.mx:8080/jsp/localizacion-...   18.15  -103.19  \n",
       "11  http://www2.ssn.unam.mx:8080/jsp/localizacion-...   16.26   -98.07  \n",
       "12  http://www2.ssn.unam.mx:8080/jsp/localizacion-...   16.57   -98.49  \n",
       "13  http://www2.ssn.unam.mx:8080/jsp/localizacion-...   17.51   -95.18  \n",
       "14  http://www2.ssn.unam.mx:8080/jsp/localizacion-...   16.25   -98.09  "
      ]
     },
     "execution_count": 49,
     "metadata": {},
     "output_type": "execute_result"
    }
   ],
   "source": [
    "pd.DataFrame(unam['rss']['channel']['item'])"
   ]
  },
  {
   "cell_type": "markdown",
   "metadata": {},
   "source": [
    "Como vemos, los datos no están organizados como nos gustaría. Procedemos a un ejemplo de transformación de los datos.\n",
    "\n"
   ]
  },
  {
   "cell_type": "code",
   "execution_count": 53,
   "metadata": {},
   "outputs": [],
   "source": [
    "items=unam['rss']['channel']['item']\n",
    "\n",
    "res=[]\n",
    "\n",
    "for i in items:\n",
    "    \n",
    "    link=i['link']\n",
    "    \n",
    "    data=link.split('?')[1].split('&')\n",
    "    \n",
    "    res.append({k:v for k,v in [e.split('=') for e in data]})"
   ]
  },
  {
   "cell_type": "code",
   "execution_count": 57,
   "metadata": {},
   "outputs": [
    {
     "data": {
      "text/plain": [
       "[['latitud', '16.25'],\n",
       " ['longitud', '-98.09'],\n",
       " ['prf', '10.0 km'],\n",
       " ['ma', '3.7'],\n",
       " ['fecha', '2021-11-22'],\n",
       " ['hora', '23:52:02'],\n",
       " ['loc', '11 km al SUROESTE de  PINOTEPA NACIONAL, OAX '],\n",
       " ['evento', '1']]"
      ]
     },
     "execution_count": 57,
     "metadata": {},
     "output_type": "execute_result"
    }
   ],
   "source": [
    "[e.split('=') for e in data]"
   ]
  },
  {
   "cell_type": "code",
   "execution_count": 55,
   "metadata": {},
   "outputs": [
    {
     "data": {
      "text/html": [
       "<div>\n",
       "<style scoped>\n",
       "    .dataframe tbody tr th:only-of-type {\n",
       "        vertical-align: middle;\n",
       "    }\n",
       "\n",
       "    .dataframe tbody tr th {\n",
       "        vertical-align: top;\n",
       "    }\n",
       "\n",
       "    .dataframe thead th {\n",
       "        text-align: right;\n",
       "    }\n",
       "</style>\n",
       "<table border=\"1\" class=\"dataframe\">\n",
       "  <thead>\n",
       "    <tr style=\"text-align: right;\">\n",
       "      <th></th>\n",
       "      <th>latitud</th>\n",
       "      <th>longitud</th>\n",
       "      <th>prf</th>\n",
       "      <th>ma</th>\n",
       "      <th>fecha</th>\n",
       "      <th>hora</th>\n",
       "      <th>loc</th>\n",
       "      <th>evento</th>\n",
       "    </tr>\n",
       "  </thead>\n",
       "  <tbody>\n",
       "    <tr>\n",
       "      <th>0</th>\n",
       "      <td>29.94</td>\n",
       "      <td>-113.69</td>\n",
       "      <td>10.0 km</td>\n",
       "      <td>4.3</td>\n",
       "      <td>2021-11-23</td>\n",
       "      <td>05:30:20</td>\n",
       "      <td>154 km al SUR de  PUERTO PEÑASCO, SON</td>\n",
       "      <td>1</td>\n",
       "    </tr>\n",
       "    <tr>\n",
       "      <th>1</th>\n",
       "      <td>19.43</td>\n",
       "      <td>-103.04</td>\n",
       "      <td>5.0 km</td>\n",
       "      <td>3.6</td>\n",
       "      <td>2021-11-23</td>\n",
       "      <td>04:32:49</td>\n",
       "      <td>28 km al ESTE de  TECALITLAN, JAL</td>\n",
       "      <td>1</td>\n",
       "    </tr>\n",
       "    <tr>\n",
       "      <th>2</th>\n",
       "      <td>30.01</td>\n",
       "      <td>-113.62</td>\n",
       "      <td>10.0 km</td>\n",
       "      <td>3.6</td>\n",
       "      <td>2021-11-23</td>\n",
       "      <td>04:28:41</td>\n",
       "      <td>145 km al SUR de  PUERTO PEÑASCO, SON</td>\n",
       "      <td>1</td>\n",
       "    </tr>\n",
       "    <tr>\n",
       "      <th>3</th>\n",
       "      <td>29.98</td>\n",
       "      <td>-113.67</td>\n",
       "      <td>8.0 km</td>\n",
       "      <td>3.8</td>\n",
       "      <td>2021-11-23</td>\n",
       "      <td>04:23:33</td>\n",
       "      <td>149 km al SUR de  PUERTO PEÑASCO, SON</td>\n",
       "      <td>1</td>\n",
       "    </tr>\n",
       "    <tr>\n",
       "      <th>4</th>\n",
       "      <td>30.01</td>\n",
       "      <td>-113.52</td>\n",
       "      <td>10.0 km</td>\n",
       "      <td>3.4</td>\n",
       "      <td>2021-11-23</td>\n",
       "      <td>03:42:54</td>\n",
       "      <td>145 km al SUR de  PUERTO PEÑASCO, SON</td>\n",
       "      <td>1</td>\n",
       "    </tr>\n",
       "    <tr>\n",
       "      <th>5</th>\n",
       "      <td>17.36</td>\n",
       "      <td>-99.68</td>\n",
       "      <td>25.0 km</td>\n",
       "      <td>3.0</td>\n",
       "      <td>2021-11-23</td>\n",
       "      <td>03:37:08</td>\n",
       "      <td>29 km al SUROESTE de  CHILPANCINGO, GRO</td>\n",
       "      <td>1</td>\n",
       "    </tr>\n",
       "    <tr>\n",
       "      <th>6</th>\n",
       "      <td>29.91</td>\n",
       "      <td>-113.71</td>\n",
       "      <td>9.0 km</td>\n",
       "      <td>3.7</td>\n",
       "      <td>2021-11-23</td>\n",
       "      <td>03:26:05</td>\n",
       "      <td>157 km al SUR de  PUERTO PEÑASCO, SON</td>\n",
       "      <td>1</td>\n",
       "    </tr>\n",
       "    <tr>\n",
       "      <th>7</th>\n",
       "      <td>30.01</td>\n",
       "      <td>-113.53</td>\n",
       "      <td>10.0 km</td>\n",
       "      <td>3.7</td>\n",
       "      <td>2021-11-23</td>\n",
       "      <td>03:23:57</td>\n",
       "      <td>145 km al SUR de  PUERTO PEÑASCO, SON</td>\n",
       "      <td>1</td>\n",
       "    </tr>\n",
       "    <tr>\n",
       "      <th>8</th>\n",
       "      <td>29.96</td>\n",
       "      <td>-113.55</td>\n",
       "      <td>14.0 km</td>\n",
       "      <td>4.1</td>\n",
       "      <td>2021-11-23</td>\n",
       "      <td>02:26:18</td>\n",
       "      <td>150 km al SUR de  PUERTO PEÑASCO, SON</td>\n",
       "      <td>1</td>\n",
       "    </tr>\n",
       "    <tr>\n",
       "      <th>9</th>\n",
       "      <td>14.12</td>\n",
       "      <td>-93.34</td>\n",
       "      <td>16.0 km</td>\n",
       "      <td>3.7</td>\n",
       "      <td>2021-11-23</td>\n",
       "      <td>02:22:07</td>\n",
       "      <td>143 km al SUROESTE de  CD HIDALGO, CHIS</td>\n",
       "      <td>1</td>\n",
       "    </tr>\n",
       "    <tr>\n",
       "      <th>10</th>\n",
       "      <td>18.15</td>\n",
       "      <td>-103.19</td>\n",
       "      <td>8.0 km</td>\n",
       "      <td>3.8</td>\n",
       "      <td>2021-11-23</td>\n",
       "      <td>02:15:26</td>\n",
       "      <td>70 km al SUR de  COALCOMAN, MICH</td>\n",
       "      <td>1</td>\n",
       "    </tr>\n",
       "    <tr>\n",
       "      <th>11</th>\n",
       "      <td>16.26</td>\n",
       "      <td>-98.07</td>\n",
       "      <td>8.0 km</td>\n",
       "      <td>3.7</td>\n",
       "      <td>2021-11-23</td>\n",
       "      <td>01:51:59</td>\n",
       "      <td>9 km al SUR de  PINOTEPA NACIONAL, OAX</td>\n",
       "      <td>1</td>\n",
       "    </tr>\n",
       "    <tr>\n",
       "      <th>12</th>\n",
       "      <td>16.57</td>\n",
       "      <td>-98.49</td>\n",
       "      <td>27.0 km</td>\n",
       "      <td>3.5</td>\n",
       "      <td>2021-11-23</td>\n",
       "      <td>00:48:51</td>\n",
       "      <td>15 km al SUROESTE de  OMETEPEC, GRO</td>\n",
       "      <td>1</td>\n",
       "    </tr>\n",
       "    <tr>\n",
       "      <th>13</th>\n",
       "      <td>17.51</td>\n",
       "      <td>-95.18</td>\n",
       "      <td>127.0 km</td>\n",
       "      <td>3.7</td>\n",
       "      <td>2021-11-22</td>\n",
       "      <td>23:55:05</td>\n",
       "      <td>47 km al SUROESTE de  SAYULA DE ALEMAN, VER</td>\n",
       "      <td>1</td>\n",
       "    </tr>\n",
       "    <tr>\n",
       "      <th>14</th>\n",
       "      <td>16.25</td>\n",
       "      <td>-98.09</td>\n",
       "      <td>10.0 km</td>\n",
       "      <td>3.7</td>\n",
       "      <td>2021-11-22</td>\n",
       "      <td>23:52:02</td>\n",
       "      <td>11 km al SUROESTE de  PINOTEPA NACIONAL, OAX</td>\n",
       "      <td>1</td>\n",
       "    </tr>\n",
       "  </tbody>\n",
       "</table>\n",
       "</div>"
      ],
      "text/plain": [
       "   latitud longitud       prf   ma       fecha      hora  \\\n",
       "0    29.94  -113.69   10.0 km  4.3  2021-11-23  05:30:20   \n",
       "1    19.43  -103.04    5.0 km  3.6  2021-11-23  04:32:49   \n",
       "2    30.01  -113.62   10.0 km  3.6  2021-11-23  04:28:41   \n",
       "3    29.98  -113.67    8.0 km  3.8  2021-11-23  04:23:33   \n",
       "4    30.01  -113.52   10.0 km  3.4  2021-11-23  03:42:54   \n",
       "5    17.36   -99.68   25.0 km  3.0  2021-11-23  03:37:08   \n",
       "6    29.91  -113.71    9.0 km  3.7  2021-11-23  03:26:05   \n",
       "7    30.01  -113.53   10.0 km  3.7  2021-11-23  03:23:57   \n",
       "8    29.96  -113.55   14.0 km  4.1  2021-11-23  02:26:18   \n",
       "9    14.12   -93.34   16.0 km  3.7  2021-11-23  02:22:07   \n",
       "10   18.15  -103.19    8.0 km  3.8  2021-11-23  02:15:26   \n",
       "11   16.26   -98.07    8.0 km  3.7  2021-11-23  01:51:59   \n",
       "12   16.57   -98.49   27.0 km  3.5  2021-11-23  00:48:51   \n",
       "13   17.51   -95.18  127.0 km  3.7  2021-11-22  23:55:05   \n",
       "14   16.25   -98.09   10.0 km  3.7  2021-11-22  23:52:02   \n",
       "\n",
       "                                              loc evento  \n",
       "0          154 km al SUR de  PUERTO PEÑASCO, SON       1  \n",
       "1              28 km al ESTE de  TECALITLAN, JAL       1  \n",
       "2          145 km al SUR de  PUERTO PEÑASCO, SON       1  \n",
       "3          149 km al SUR de  PUERTO PEÑASCO, SON       1  \n",
       "4          145 km al SUR de  PUERTO PEÑASCO, SON       1  \n",
       "5        29 km al SUROESTE de  CHILPANCINGO, GRO       1  \n",
       "6          157 km al SUR de  PUERTO PEÑASCO, SON       1  \n",
       "7          145 km al SUR de  PUERTO PEÑASCO, SON       1  \n",
       "8          150 km al SUR de  PUERTO PEÑASCO, SON       1  \n",
       "9        143 km al SUROESTE de  CD HIDALGO, CHIS       1  \n",
       "10              70 km al SUR de  COALCOMAN, MICH       1  \n",
       "11        9 km al SUR de  PINOTEPA NACIONAL, OAX       1  \n",
       "12           15 km al SUROESTE de  OMETEPEC, GRO       1  \n",
       "13   47 km al SUROESTE de  SAYULA DE ALEMAN, VER       1  \n",
       "14  11 km al SUROESTE de  PINOTEPA NACIONAL, OAX       1  "
      ]
     },
     "execution_count": 55,
     "metadata": {},
     "output_type": "execute_result"
    }
   ],
   "source": [
    "pd.DataFrame(res)"
   ]
  },
  {
   "cell_type": "code",
   "execution_count": null,
   "metadata": {},
   "outputs": [],
   "source": []
  }
 ],
 "metadata": {
  "kernelspec": {
   "display_name": "clase",
   "language": "python",
   "name": "clase"
  },
  "language_info": {
   "codemirror_mode": {
    "name": "ipython",
    "version": 3
   },
   "file_extension": ".py",
   "mimetype": "text/x-python",
   "name": "python",
   "nbconvert_exporter": "python",
   "pygments_lexer": "ipython3",
   "version": "3.8.8"
  }
 },
 "nbformat": 4,
 "nbformat_minor": 4
}
