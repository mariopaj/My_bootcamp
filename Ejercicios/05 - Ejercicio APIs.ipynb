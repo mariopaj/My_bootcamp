{
 "cells": [
  {
   "cell_type": "markdown",
   "id": "6c14e37d",
   "metadata": {},
   "source": [
    "![imagen](../images/ejercicios.png)"
   ]
  },
  {
   "cell_type": "markdown",
   "id": "7f412fff",
   "metadata": {},
   "source": [
    "# [Rick y Morty API](https://rickandmortyapi.com/api/)"
   ]
  },
  {
   "cell_type": "markdown",
   "id": "73b735b6",
   "metadata": {},
   "source": [
    "# Ejercicio 1 \n",
    "\n",
    "Importa la librería `requests` y accede a la API mostrando el `.json()`."
   ]
  },
  {
   "cell_type": "code",
   "execution_count": 2,
   "id": "5b377a72",
   "metadata": {},
   "outputs": [],
   "source": [
    "import requests as req"
   ]
  },
  {
   "cell_type": "code",
   "execution_count": 19,
   "id": "8715a4a7",
   "metadata": {},
   "outputs": [
    {
     "data": {
      "text/plain": [
       "{'characters': 'https://rickandmortyapi.com/api/character',\n",
       " 'locations': 'https://rickandmortyapi.com/api/location',\n",
       " 'episodes': 'https://rickandmortyapi.com/api/episode'}"
      ]
     },
     "execution_count": 19,
     "metadata": {},
     "output_type": "execute_result"
    }
   ],
   "source": [
    "URL_BASE = 'https://rickandmortyapi.com/api/'\n",
    "req.get(URL_BASE).json()"
   ]
  },
  {
   "cell_type": "markdown",
   "id": "422b3643-b707-4956-ab4b-75c81f68bcfc",
   "metadata": {},
   "source": [
    "# Ejercicio 2\n",
    "\n",
    "¿Cuántos personajes hay en la serie?"
   ]
  },
  {
   "cell_type": "code",
   "execution_count": 28,
   "id": "c29a84d6",
   "metadata": {},
   "outputs": [
    {
     "data": {
      "text/plain": [
       "826"
      ]
     },
     "execution_count": 28,
     "metadata": {},
     "output_type": "execute_result"
    }
   ],
   "source": [
    "## Navegamso en la API de personajes navegamos en ella y observamos que existen 826 personajes\n",
    "\n",
    "URL_CHAR = 'https://rickandmortyapi.com/api/character'\n",
    "\n",
    "req.get(URL_CHAR).json()['info']['count']"
   ]
  },
  {
   "cell_type": "markdown",
   "id": "2e0a1a77",
   "metadata": {},
   "source": [
    "# Ejercicio 3\n",
    "\n",
    "Crea un dataframe con todos los personajes."
   ]
  },
  {
   "cell_type": "code",
   "execution_count": 171,
   "id": "d5b233d1-7f27-47d5-b31f-d47da3e320c4",
   "metadata": {},
   "outputs": [],
   "source": [
    "import pandas as pd\n",
    "\n",
    "pages = req.get(URL_CHAR).json()['info']['pages']"
   ]
  },
  {
   "cell_type": "code",
   "execution_count": 172,
   "id": "ea5bab38-5451-409c-a14b-e0b3b2eefcc7",
   "metadata": {},
   "outputs": [],
   "source": [
    "df_char = pd.DataFrame()\n",
    "\n",
    "for i in range(pages):\n",
    "    \n",
    "      df_char = df_char.append(pd.json_normalize(req.get('https://rickandmortyapi.com/api/character?page={}'.format(i + 1)).json()['results']))"
   ]
  },
  {
   "cell_type": "code",
   "execution_count": 174,
   "id": "e6fc2c4d-234e-47c9-9947-6d0f390dcc66",
   "metadata": {},
   "outputs": [
    {
     "data": {
      "text/plain": [
       "(826, 14)"
      ]
     },
     "execution_count": 174,
     "metadata": {},
     "output_type": "execute_result"
    }
   ],
   "source": [
    "df_char.shape"
   ]
  },
  {
   "cell_type": "code",
   "execution_count": 74,
   "id": "6da82a28-c9b0-409f-bc6e-2cec34d98ef1",
   "metadata": {},
   "outputs": [
    {
     "data": {
      "text/html": [
       "<div>\n",
       "<style scoped>\n",
       "    .dataframe tbody tr th:only-of-type {\n",
       "        vertical-align: middle;\n",
       "    }\n",
       "\n",
       "    .dataframe tbody tr th {\n",
       "        vertical-align: top;\n",
       "    }\n",
       "\n",
       "    .dataframe thead th {\n",
       "        text-align: right;\n",
       "    }\n",
       "</style>\n",
       "<table border=\"1\" class=\"dataframe\">\n",
       "  <thead>\n",
       "    <tr style=\"text-align: right;\">\n",
       "      <th></th>\n",
       "      <th>id</th>\n",
       "      <th>name</th>\n",
       "      <th>status</th>\n",
       "      <th>species</th>\n",
       "      <th>type</th>\n",
       "      <th>gender</th>\n",
       "      <th>image</th>\n",
       "      <th>episode</th>\n",
       "      <th>url</th>\n",
       "      <th>created</th>\n",
       "      <th>origin.name</th>\n",
       "      <th>origin.url</th>\n",
       "      <th>location.name</th>\n",
       "      <th>location.url</th>\n",
       "    </tr>\n",
       "  </thead>\n",
       "  <tbody>\n",
       "    <tr>\n",
       "      <th>0</th>\n",
       "      <td>1</td>\n",
       "      <td>Rick Sanchez</td>\n",
       "      <td>Alive</td>\n",
       "      <td>Human</td>\n",
       "      <td></td>\n",
       "      <td>Male</td>\n",
       "      <td>https://rickandmortyapi.com/api/character/avat...</td>\n",
       "      <td>[https://rickandmortyapi.com/api/episode/1, ht...</td>\n",
       "      <td>https://rickandmortyapi.com/api/character/1</td>\n",
       "      <td>2017-11-04T18:48:46.250Z</td>\n",
       "      <td>Earth (C-137)</td>\n",
       "      <td>https://rickandmortyapi.com/api/location/1</td>\n",
       "      <td>Citadel of Ricks</td>\n",
       "      <td>https://rickandmortyapi.com/api/location/3</td>\n",
       "    </tr>\n",
       "    <tr>\n",
       "      <th>1</th>\n",
       "      <td>2</td>\n",
       "      <td>Morty Smith</td>\n",
       "      <td>Alive</td>\n",
       "      <td>Human</td>\n",
       "      <td></td>\n",
       "      <td>Male</td>\n",
       "      <td>https://rickandmortyapi.com/api/character/avat...</td>\n",
       "      <td>[https://rickandmortyapi.com/api/episode/1, ht...</td>\n",
       "      <td>https://rickandmortyapi.com/api/character/2</td>\n",
       "      <td>2017-11-04T18:50:21.651Z</td>\n",
       "      <td>unknown</td>\n",
       "      <td></td>\n",
       "      <td>Citadel of Ricks</td>\n",
       "      <td>https://rickandmortyapi.com/api/location/3</td>\n",
       "    </tr>\n",
       "    <tr>\n",
       "      <th>2</th>\n",
       "      <td>3</td>\n",
       "      <td>Summer Smith</td>\n",
       "      <td>Alive</td>\n",
       "      <td>Human</td>\n",
       "      <td></td>\n",
       "      <td>Female</td>\n",
       "      <td>https://rickandmortyapi.com/api/character/avat...</td>\n",
       "      <td>[https://rickandmortyapi.com/api/episode/6, ht...</td>\n",
       "      <td>https://rickandmortyapi.com/api/character/3</td>\n",
       "      <td>2017-11-04T19:09:56.428Z</td>\n",
       "      <td>Earth (Replacement Dimension)</td>\n",
       "      <td>https://rickandmortyapi.com/api/location/20</td>\n",
       "      <td>Earth (Replacement Dimension)</td>\n",
       "      <td>https://rickandmortyapi.com/api/location/20</td>\n",
       "    </tr>\n",
       "    <tr>\n",
       "      <th>3</th>\n",
       "      <td>4</td>\n",
       "      <td>Beth Smith</td>\n",
       "      <td>Alive</td>\n",
       "      <td>Human</td>\n",
       "      <td></td>\n",
       "      <td>Female</td>\n",
       "      <td>https://rickandmortyapi.com/api/character/avat...</td>\n",
       "      <td>[https://rickandmortyapi.com/api/episode/6, ht...</td>\n",
       "      <td>https://rickandmortyapi.com/api/character/4</td>\n",
       "      <td>2017-11-04T19:22:43.665Z</td>\n",
       "      <td>Earth (Replacement Dimension)</td>\n",
       "      <td>https://rickandmortyapi.com/api/location/20</td>\n",
       "      <td>Earth (Replacement Dimension)</td>\n",
       "      <td>https://rickandmortyapi.com/api/location/20</td>\n",
       "    </tr>\n",
       "    <tr>\n",
       "      <th>4</th>\n",
       "      <td>5</td>\n",
       "      <td>Jerry Smith</td>\n",
       "      <td>Alive</td>\n",
       "      <td>Human</td>\n",
       "      <td></td>\n",
       "      <td>Male</td>\n",
       "      <td>https://rickandmortyapi.com/api/character/avat...</td>\n",
       "      <td>[https://rickandmortyapi.com/api/episode/6, ht...</td>\n",
       "      <td>https://rickandmortyapi.com/api/character/5</td>\n",
       "      <td>2017-11-04T19:26:56.301Z</td>\n",
       "      <td>Earth (Replacement Dimension)</td>\n",
       "      <td>https://rickandmortyapi.com/api/location/20</td>\n",
       "      <td>Earth (Replacement Dimension)</td>\n",
       "      <td>https://rickandmortyapi.com/api/location/20</td>\n",
       "    </tr>\n",
       "  </tbody>\n",
       "</table>\n",
       "</div>"
      ],
      "text/plain": [
       "   id          name status species type  gender  \\\n",
       "0   1  Rick Sanchez  Alive   Human         Male   \n",
       "1   2   Morty Smith  Alive   Human         Male   \n",
       "2   3  Summer Smith  Alive   Human       Female   \n",
       "3   4    Beth Smith  Alive   Human       Female   \n",
       "4   5   Jerry Smith  Alive   Human         Male   \n",
       "\n",
       "                                               image  \\\n",
       "0  https://rickandmortyapi.com/api/character/avat...   \n",
       "1  https://rickandmortyapi.com/api/character/avat...   \n",
       "2  https://rickandmortyapi.com/api/character/avat...   \n",
       "3  https://rickandmortyapi.com/api/character/avat...   \n",
       "4  https://rickandmortyapi.com/api/character/avat...   \n",
       "\n",
       "                                             episode  \\\n",
       "0  [https://rickandmortyapi.com/api/episode/1, ht...   \n",
       "1  [https://rickandmortyapi.com/api/episode/1, ht...   \n",
       "2  [https://rickandmortyapi.com/api/episode/6, ht...   \n",
       "3  [https://rickandmortyapi.com/api/episode/6, ht...   \n",
       "4  [https://rickandmortyapi.com/api/episode/6, ht...   \n",
       "\n",
       "                                           url                   created  \\\n",
       "0  https://rickandmortyapi.com/api/character/1  2017-11-04T18:48:46.250Z   \n",
       "1  https://rickandmortyapi.com/api/character/2  2017-11-04T18:50:21.651Z   \n",
       "2  https://rickandmortyapi.com/api/character/3  2017-11-04T19:09:56.428Z   \n",
       "3  https://rickandmortyapi.com/api/character/4  2017-11-04T19:22:43.665Z   \n",
       "4  https://rickandmortyapi.com/api/character/5  2017-11-04T19:26:56.301Z   \n",
       "\n",
       "                     origin.name                                   origin.url  \\\n",
       "0                  Earth (C-137)   https://rickandmortyapi.com/api/location/1   \n",
       "1                        unknown                                                \n",
       "2  Earth (Replacement Dimension)  https://rickandmortyapi.com/api/location/20   \n",
       "3  Earth (Replacement Dimension)  https://rickandmortyapi.com/api/location/20   \n",
       "4  Earth (Replacement Dimension)  https://rickandmortyapi.com/api/location/20   \n",
       "\n",
       "                   location.name                                 location.url  \n",
       "0               Citadel of Ricks   https://rickandmortyapi.com/api/location/3  \n",
       "1               Citadel of Ricks   https://rickandmortyapi.com/api/location/3  \n",
       "2  Earth (Replacement Dimension)  https://rickandmortyapi.com/api/location/20  \n",
       "3  Earth (Replacement Dimension)  https://rickandmortyapi.com/api/location/20  \n",
       "4  Earth (Replacement Dimension)  https://rickandmortyapi.com/api/location/20  "
      ]
     },
     "execution_count": 74,
     "metadata": {},
     "output_type": "execute_result"
    }
   ],
   "source": [
    "df_char.head()"
   ]
  },
  {
   "cell_type": "markdown",
   "id": "51169f52",
   "metadata": {},
   "source": [
    "# Ejercicio 4\n",
    "\n",
    "¿Cuántos personajes han muerto?"
   ]
  },
  {
   "cell_type": "code",
   "execution_count": 176,
   "id": "8e47734b",
   "metadata": {},
   "outputs": [
    {
     "data": {
      "text/plain": [
       "287"
      ]
     },
     "execution_count": 176,
     "metadata": {},
     "output_type": "execute_result"
    }
   ],
   "source": [
    "# Localizamos las filas en las que la columna status == Dead y contamos cuantas son\n",
    "\n",
    "df_char[df_char.status == 'Dead']['status'].count() "
   ]
  },
  {
   "cell_type": "markdown",
   "id": "d1eadbb1",
   "metadata": {},
   "source": [
    "# Ejercicio 5\n",
    "\n",
    "Muestra una foto de Rick."
   ]
  },
  {
   "cell_type": "code",
   "execution_count": 177,
   "id": "ef25e7e5",
   "metadata": {},
   "outputs": [
    {
     "data": {
      "text/html": [
       "<img src=\"https://rickandmortyapi.com/api/character/avatar/1.jpeg\"/>"
      ],
      "text/plain": [
       "<IPython.core.display.Image object>"
      ]
     },
     "metadata": {},
     "output_type": "display_data"
    }
   ],
   "source": [
    "from IPython.display import Image\n",
    "\n",
    "foto_url = df_char[df_char.name == 'Rick Sanchez']['image'][0]\n",
    "\n",
    "display(Image(url=foto_url))"
   ]
  },
  {
   "cell_type": "markdown",
   "id": "2a5c5a76",
   "metadata": {},
   "source": [
    "# Ejercicio 6\n",
    "\n",
    "Muestra una foto de Cronenberg Morty."
   ]
  },
  {
   "cell_type": "code",
   "execution_count": 178,
   "id": "445a2ca5",
   "metadata": {},
   "outputs": [
    {
     "data": {
      "text/html": [
       "<img src=\"https://rickandmortyapi.com/api/character/avatar/83.jpeg\"/>"
      ],
      "text/plain": [
       "<IPython.core.display.Image object>"
      ]
     },
     "metadata": {},
     "output_type": "display_data"
    }
   ],
   "source": [
    "foto_url = df_char[df_char.name == 'Cronenberg Morty']['image'][2]\n",
    "\n",
    "display(Image(url=foto_url))"
   ]
  },
  {
   "cell_type": "markdown",
   "id": "474d4120",
   "metadata": {},
   "source": [
    "# Ejercicio 7\n",
    "\n",
    "¿Cuántas localizaciones hay en la serie?"
   ]
  },
  {
   "cell_type": "code",
   "execution_count": 4,
   "id": "b3545a83",
   "metadata": {},
   "outputs": [
    {
     "data": {
      "text/plain": [
       "126"
      ]
     },
     "execution_count": 4,
     "metadata": {},
     "output_type": "execute_result"
    }
   ],
   "source": [
    "url='https://rickandmortyapi.com/api/location/'\n",
    "\n",
    "req.get(url).json()['info']['count']"
   ]
  },
  {
   "cell_type": "markdown",
   "id": "621de907",
   "metadata": {},
   "source": [
    "# Ejercicio 8\n",
    "\n",
    "¿Cuántos personajes hay en la Ciudadela de los Rick?"
   ]
  },
  {
   "cell_type": "code",
   "execution_count": 180,
   "id": "cc10737a",
   "metadata": {},
   "outputs": [
    {
     "data": {
      "text/plain": [
       "101"
      ]
     },
     "execution_count": 180,
     "metadata": {},
     "output_type": "execute_result"
    }
   ],
   "source": [
    "len(df_char[df_char['location.name'] == 'Citadel of Ricks'])"
   ]
  },
  {
   "cell_type": "markdown",
   "id": "08848f67",
   "metadata": {},
   "source": [
    "# Ejercicio 9\n",
    "\n",
    "¿y en la TV por cable interdimensional?"
   ]
  },
  {
   "cell_type": "code",
   "execution_count": 109,
   "id": "24f0b983",
   "metadata": {},
   "outputs": [
    {
     "data": {
      "text/plain": [
       "'Interdimensional Cable'"
      ]
     },
     "execution_count": 109,
     "metadata": {},
     "output_type": "execute_result"
    }
   ],
   "source": [
    "df_char['location.name'].unique()[7]"
   ]
  },
  {
   "cell_type": "code",
   "execution_count": 110,
   "id": "6ef36ec7-a8b2-4c9a-bd5e-3e4319928b4e",
   "metadata": {},
   "outputs": [
    {
     "data": {
      "text/plain": [
       "62"
      ]
     },
     "execution_count": 110,
     "metadata": {},
     "output_type": "execute_result"
    }
   ],
   "source": [
    "len(df_char.loc[df_char['location.name'] == 'Interdimensional Cable']) # 62 personajes"
   ]
  },
  {
   "cell_type": "markdown",
   "id": "aa4c018e",
   "metadata": {},
   "source": [
    "# Ejercicio 10\n",
    "\n",
    "¿Cuál es la fecha de emisión del episodio piloto?"
   ]
  },
  {
   "cell_type": "code",
   "execution_count": 5,
   "id": "6ebb0f9f",
   "metadata": {},
   "outputs": [
    {
     "data": {
      "text/plain": [
       "'December 2, 2013'"
      ]
     },
     "execution_count": 5,
     "metadata": {},
     "output_type": "execute_result"
    }
   ],
   "source": [
    "url='https://rickandmortyapi.com/api/episode/'\n",
    "\n",
    "req.get(url).json()['results'][0]['air_date']"
   ]
  },
  {
   "cell_type": "markdown",
   "id": "b5b7d22c",
   "metadata": {},
   "source": [
    "# [API de Cervecerías](https://www.openbrewerydb.org/)"
   ]
  },
  {
   "cell_type": "markdown",
   "id": "68be020a",
   "metadata": {},
   "source": [
    "# Ejercicio 11\n",
    "\n",
    "Accede a la API mostrando el `.json()`."
   ]
  },
  {
   "cell_type": "code",
   "execution_count": 190,
   "id": "fc397bd9",
   "metadata": {},
   "outputs": [
    {
     "data": {
      "text/plain": [
       "[{'id': 'alphabet-city-brewing-co-new-york',\n",
       "  'name': 'Alphabet City Brewing Co',\n",
       "  'brewery_type': 'contract',\n",
       "  'street': '96 Avenue C Frnt 4',\n",
       "  'address_2': None,\n",
       "  'address_3': None,\n",
       "  'city': 'New York',\n",
       "  'state': 'New York',\n",
       "  'county_province': None,\n",
       "  'postal_code': '10009-7055',\n",
       "  'country': 'United States',\n",
       "  'longitude': None,\n",
       "  'latitude': None,\n",
       "  'phone': '9143566809',\n",
       "  'website_url': 'http://www.acbnyc.com',\n",
       "  'updated_at': '2021-10-23T02:24:55.243Z',\n",
       "  'created_at': '2021-10-23T02:24:55.243Z'},\n",
       " {'id': 'b9-beverages-inc-new-york',\n",
       "  'name': 'B9 Beverages Inc',\n",
       "  'brewery_type': 'contract',\n",
       "  'street': '404 5th Ave # 7.055',\n",
       "  'address_2': None,\n",
       "  'address_3': None,\n",
       "  'city': 'New York',\n",
       "  'state': 'New York',\n",
       "  'county_province': None,\n",
       "  'postal_code': '10018-2797',\n",
       "  'country': 'United States',\n",
       "  'longitude': None,\n",
       "  'latitude': None,\n",
       "  'phone': None,\n",
       "  'website_url': None,\n",
       "  'updated_at': '2021-10-23T02:24:55.243Z',\n",
       "  'created_at': '2021-10-23T02:24:55.243Z'},\n",
       " {'id': 'birreria-eataly-new-york',\n",
       "  'name': 'Birreria @ Eataly',\n",
       "  'brewery_type': 'brewpub',\n",
       "  'street': '200 5th Ave Fl 14',\n",
       "  'address_2': None,\n",
       "  'address_3': None,\n",
       "  'city': 'New York',\n",
       "  'state': 'New York',\n",
       "  'county_province': None,\n",
       "  'postal_code': '10010-3302',\n",
       "  'country': 'United States',\n",
       "  'longitude': None,\n",
       "  'latitude': None,\n",
       "  'phone': '2125390204',\n",
       "  'website_url': 'http://www.eatalyny.com',\n",
       "  'updated_at': '2021-10-23T02:24:55.243Z',\n",
       "  'created_at': '2021-10-23T02:24:55.243Z'},\n",
       " {'id': 'death-avenue-new-york',\n",
       "  'name': 'Death Avenue',\n",
       "  'brewery_type': 'brewpub',\n",
       "  'street': '315 10th Ave B/W 28th & 29th St.',\n",
       "  'address_2': None,\n",
       "  'address_3': None,\n",
       "  'city': 'New York',\n",
       "  'state': 'New York',\n",
       "  'county_province': None,\n",
       "  'postal_code': '10001-1416',\n",
       "  'country': 'United States',\n",
       "  'longitude': None,\n",
       "  'latitude': None,\n",
       "  'phone': '2126958080',\n",
       "  'website_url': 'http://www.deathave.com',\n",
       "  'updated_at': '2021-10-23T02:24:55.243Z',\n",
       "  'created_at': '2021-10-23T02:24:55.243Z'},\n",
       " {'id': 'empire-city-beer-company-new-york',\n",
       "  'name': 'Empire City Beer Company',\n",
       "  'brewery_type': 'planning',\n",
       "  'street': None,\n",
       "  'address_2': None,\n",
       "  'address_3': None,\n",
       "  'city': 'New York',\n",
       "  'state': 'New York',\n",
       "  'county_province': None,\n",
       "  'postal_code': '10012',\n",
       "  'country': 'United States',\n",
       "  'longitude': None,\n",
       "  'latitude': None,\n",
       "  'phone': '9178040571',\n",
       "  'website_url': 'http://www.hitemhard.com',\n",
       "  'updated_at': '2021-10-23T02:24:55.243Z',\n",
       "  'created_at': '2021-10-23T02:24:55.243Z'},\n",
       " {'id': 'harlem-blue-beer-new-york',\n",
       "  'name': 'Harlem Blue Beer',\n",
       "  'brewery_type': 'proprietor',\n",
       "  'street': '2214 Frederick Douglass Blvd Ste 267',\n",
       "  'address_2': None,\n",
       "  'address_3': None,\n",
       "  'city': 'New York',\n",
       "  'state': 'New York',\n",
       "  'county_province': None,\n",
       "  'postal_code': '10026-1123',\n",
       "  'country': 'United States',\n",
       "  'longitude': None,\n",
       "  'latitude': None,\n",
       "  'phone': None,\n",
       "  'website_url': 'http://www.harlemblue.com',\n",
       "  'updated_at': '2021-10-23T02:24:55.243Z',\n",
       "  'created_at': '2021-10-23T02:24:55.243Z'},\n",
       " {'id': 'harlem-brewing-co-new-york',\n",
       "  'name': 'Harlem Brewing Co',\n",
       "  'brewery_type': 'contract',\n",
       "  'street': '2 W 123rd St',\n",
       "  'address_2': None,\n",
       "  'address_3': None,\n",
       "  'city': 'New York',\n",
       "  'state': 'New York',\n",
       "  'county_province': None,\n",
       "  'postal_code': '10027-5623',\n",
       "  'country': 'United States',\n",
       "  'longitude': '-73.94532799',\n",
       "  'latitude': '40.8058068',\n",
       "  'phone': '8885596735',\n",
       "  'website_url': 'http://www.harlembrewingcompany.com',\n",
       "  'updated_at': '2021-10-23T02:24:55.243Z',\n",
       "  'created_at': '2021-10-23T02:24:55.243Z'},\n",
       " {'id': 'heartland-brewery-new-york',\n",
       "  'name': 'Heartland Brewery',\n",
       "  'brewery_type': 'contract',\n",
       "  'street': '35 Union Sq W Frnt 1',\n",
       "  'address_2': None,\n",
       "  'address_3': None,\n",
       "  'city': 'New York',\n",
       "  'state': 'New York',\n",
       "  'county_province': None,\n",
       "  'postal_code': '10003-3200',\n",
       "  'country': 'United States',\n",
       "  'longitude': None,\n",
       "  'latitude': None,\n",
       "  'phone': '2126453400',\n",
       "  'website_url': 'http://www.heartlandbrewery.com',\n",
       "  'updated_at': '2021-10-23T02:24:55.243Z',\n",
       "  'created_at': '2021-10-23T02:24:55.243Z'},\n",
       " {'id': 'radiant-pig-craft-beers-new-york',\n",
       "  'name': 'Radiant Pig Craft Beers',\n",
       "  'brewery_type': 'contract',\n",
       "  'street': '122 W 27th St Fl 10',\n",
       "  'address_2': None,\n",
       "  'address_3': None,\n",
       "  'city': 'New York',\n",
       "  'state': 'New York',\n",
       "  'county_province': None,\n",
       "  'postal_code': '10001-6227',\n",
       "  'country': 'United States',\n",
       "  'longitude': None,\n",
       "  'latitude': None,\n",
       "  'phone': None,\n",
       "  'website_url': None,\n",
       "  'updated_at': '2021-10-23T02:24:55.243Z',\n",
       "  'created_at': '2021-10-23T02:24:55.243Z'},\n",
       " {'id': 'ruckus-brewing-co-new-york',\n",
       "  'name': 'Ruckus Brewing Co',\n",
       "  'brewery_type': 'contract',\n",
       "  'street': '261 W 35th St Ste 1002',\n",
       "  'address_2': None,\n",
       "  'address_3': None,\n",
       "  'city': 'New York',\n",
       "  'state': 'New York',\n",
       "  'county_province': None,\n",
       "  'postal_code': '10001-1902',\n",
       "  'country': 'United States',\n",
       "  'longitude': None,\n",
       "  'latitude': None,\n",
       "  'phone': '6467105098',\n",
       "  'website_url': 'http://www.ruckusbrewing.com',\n",
       "  'updated_at': '2021-10-23T02:24:55.243Z',\n",
       "  'created_at': '2021-10-23T02:24:55.243Z'},\n",
       " {'id': 'the-owls-brew-new-york',\n",
       "  'name': 'The Owls Brew',\n",
       "  'brewery_type': 'large',\n",
       "  'street': '135 W 29th St Rm 602',\n",
       "  'address_2': None,\n",
       "  'address_3': None,\n",
       "  'city': 'New York',\n",
       "  'state': 'New York',\n",
       "  'county_province': None,\n",
       "  'postal_code': '10001-5175',\n",
       "  'country': 'United States',\n",
       "  'longitude': None,\n",
       "  'latitude': None,\n",
       "  'phone': '2125640218',\n",
       "  'website_url': 'http://www.theowlsbrew.com',\n",
       "  'updated_at': '2021-10-23T02:24:55.243Z',\n",
       "  'created_at': '2021-10-23T02:24:55.243Z'},\n",
       " {'id': 'third-rail-beer-new-york',\n",
       "  'name': 'Third Rail Beer',\n",
       "  'brewery_type': 'contract',\n",
       "  'street': '928 Broadway Ste 902',\n",
       "  'address_2': None,\n",
       "  'address_3': None,\n",
       "  'city': 'New York',\n",
       "  'state': 'New York',\n",
       "  'county_province': None,\n",
       "  'postal_code': '10010-8139',\n",
       "  'country': 'United States',\n",
       "  'longitude': '-73.9893474',\n",
       "  'latitude': '40.7400479',\n",
       "  'phone': None,\n",
       "  'website_url': 'http://www.thirdrailbeer.com',\n",
       "  'updated_at': '2021-10-23T02:24:55.243Z',\n",
       "  'created_at': '2021-10-23T02:24:55.243Z'},\n",
       " {'id': 'toast-ale-new-york',\n",
       "  'name': 'Toast Ale',\n",
       "  'brewery_type': 'contract',\n",
       "  'street': '601 W 26th St Ste 325-291',\n",
       "  'address_2': None,\n",
       "  'address_3': None,\n",
       "  'city': 'New York',\n",
       "  'state': 'New York',\n",
       "  'county_province': None,\n",
       "  'postal_code': '10001-1101',\n",
       "  'country': 'United States',\n",
       "  'longitude': None,\n",
       "  'latitude': None,\n",
       "  'phone': '9162023851',\n",
       "  'website_url': 'http://www.toastale.com/us',\n",
       "  'updated_at': '2021-10-23T02:24:55.243Z',\n",
       "  'created_at': '2021-10-23T02:24:55.243Z'}]"
      ]
     },
     "execution_count": 190,
     "metadata": {},
     "output_type": "execute_result"
    }
   ],
   "source": [
    "URL_BASE = 'https://api.openbrewerydb.org/breweries?by_city=new_york' # cogemos solo de la ciudad de nueva yo\n",
    "\n",
    "req.get(URL_BASE).json()"
   ]
  },
  {
   "cell_type": "markdown",
   "id": "5a0f02ba",
   "metadata": {},
   "source": [
    "# Ejercicio 11 \n",
    "\n",
    "¿Cuántas cervecerías hay en la ciudad de Nueva York?"
   ]
  },
  {
   "cell_type": "code",
   "execution_count": 191,
   "id": "c6356921",
   "metadata": {},
   "outputs": [
    {
     "data": {
      "text/html": [
       "<div>\n",
       "<style scoped>\n",
       "    .dataframe tbody tr th:only-of-type {\n",
       "        vertical-align: middle;\n",
       "    }\n",
       "\n",
       "    .dataframe tbody tr th {\n",
       "        vertical-align: top;\n",
       "    }\n",
       "\n",
       "    .dataframe thead th {\n",
       "        text-align: right;\n",
       "    }\n",
       "</style>\n",
       "<table border=\"1\" class=\"dataframe\">\n",
       "  <thead>\n",
       "    <tr style=\"text-align: right;\">\n",
       "      <th></th>\n",
       "      <th>id</th>\n",
       "      <th>name</th>\n",
       "      <th>brewery_type</th>\n",
       "      <th>street</th>\n",
       "      <th>address_2</th>\n",
       "      <th>address_3</th>\n",
       "      <th>city</th>\n",
       "      <th>state</th>\n",
       "      <th>county_province</th>\n",
       "      <th>postal_code</th>\n",
       "      <th>country</th>\n",
       "      <th>longitude</th>\n",
       "      <th>latitude</th>\n",
       "      <th>phone</th>\n",
       "      <th>website_url</th>\n",
       "      <th>updated_at</th>\n",
       "      <th>created_at</th>\n",
       "    </tr>\n",
       "  </thead>\n",
       "  <tbody>\n",
       "    <tr>\n",
       "      <th>0</th>\n",
       "      <td>alphabet-city-brewing-co-new-york</td>\n",
       "      <td>Alphabet City Brewing Co</td>\n",
       "      <td>contract</td>\n",
       "      <td>96 Avenue C Frnt 4</td>\n",
       "      <td>None</td>\n",
       "      <td>None</td>\n",
       "      <td>New York</td>\n",
       "      <td>New York</td>\n",
       "      <td>None</td>\n",
       "      <td>10009-7055</td>\n",
       "      <td>United States</td>\n",
       "      <td>None</td>\n",
       "      <td>None</td>\n",
       "      <td>9143566809</td>\n",
       "      <td>http://www.acbnyc.com</td>\n",
       "      <td>2021-10-23T02:24:55.243Z</td>\n",
       "      <td>2021-10-23T02:24:55.243Z</td>\n",
       "    </tr>\n",
       "    <tr>\n",
       "      <th>1</th>\n",
       "      <td>b9-beverages-inc-new-york</td>\n",
       "      <td>B9 Beverages Inc</td>\n",
       "      <td>contract</td>\n",
       "      <td>404 5th Ave # 7.055</td>\n",
       "      <td>None</td>\n",
       "      <td>None</td>\n",
       "      <td>New York</td>\n",
       "      <td>New York</td>\n",
       "      <td>None</td>\n",
       "      <td>10018-2797</td>\n",
       "      <td>United States</td>\n",
       "      <td>None</td>\n",
       "      <td>None</td>\n",
       "      <td>None</td>\n",
       "      <td>None</td>\n",
       "      <td>2021-10-23T02:24:55.243Z</td>\n",
       "      <td>2021-10-23T02:24:55.243Z</td>\n",
       "    </tr>\n",
       "    <tr>\n",
       "      <th>2</th>\n",
       "      <td>birreria-eataly-new-york</td>\n",
       "      <td>Birreria @ Eataly</td>\n",
       "      <td>brewpub</td>\n",
       "      <td>200 5th Ave Fl 14</td>\n",
       "      <td>None</td>\n",
       "      <td>None</td>\n",
       "      <td>New York</td>\n",
       "      <td>New York</td>\n",
       "      <td>None</td>\n",
       "      <td>10010-3302</td>\n",
       "      <td>United States</td>\n",
       "      <td>None</td>\n",
       "      <td>None</td>\n",
       "      <td>2125390204</td>\n",
       "      <td>http://www.eatalyny.com</td>\n",
       "      <td>2021-10-23T02:24:55.243Z</td>\n",
       "      <td>2021-10-23T02:24:55.243Z</td>\n",
       "    </tr>\n",
       "    <tr>\n",
       "      <th>3</th>\n",
       "      <td>death-avenue-new-york</td>\n",
       "      <td>Death Avenue</td>\n",
       "      <td>brewpub</td>\n",
       "      <td>315 10th Ave B/W 28th &amp; 29th St.</td>\n",
       "      <td>None</td>\n",
       "      <td>None</td>\n",
       "      <td>New York</td>\n",
       "      <td>New York</td>\n",
       "      <td>None</td>\n",
       "      <td>10001-1416</td>\n",
       "      <td>United States</td>\n",
       "      <td>None</td>\n",
       "      <td>None</td>\n",
       "      <td>2126958080</td>\n",
       "      <td>http://www.deathave.com</td>\n",
       "      <td>2021-10-23T02:24:55.243Z</td>\n",
       "      <td>2021-10-23T02:24:55.243Z</td>\n",
       "    </tr>\n",
       "    <tr>\n",
       "      <th>4</th>\n",
       "      <td>empire-city-beer-company-new-york</td>\n",
       "      <td>Empire City Beer Company</td>\n",
       "      <td>planning</td>\n",
       "      <td>None</td>\n",
       "      <td>None</td>\n",
       "      <td>None</td>\n",
       "      <td>New York</td>\n",
       "      <td>New York</td>\n",
       "      <td>None</td>\n",
       "      <td>10012</td>\n",
       "      <td>United States</td>\n",
       "      <td>None</td>\n",
       "      <td>None</td>\n",
       "      <td>9178040571</td>\n",
       "      <td>http://www.hitemhard.com</td>\n",
       "      <td>2021-10-23T02:24:55.243Z</td>\n",
       "      <td>2021-10-23T02:24:55.243Z</td>\n",
       "    </tr>\n",
       "  </tbody>\n",
       "</table>\n",
       "</div>"
      ],
      "text/plain": [
       "                                  id                      name brewery_type  \\\n",
       "0  alphabet-city-brewing-co-new-york  Alphabet City Brewing Co     contract   \n",
       "1          b9-beverages-inc-new-york          B9 Beverages Inc     contract   \n",
       "2           birreria-eataly-new-york         Birreria @ Eataly      brewpub   \n",
       "3              death-avenue-new-york              Death Avenue      brewpub   \n",
       "4  empire-city-beer-company-new-york  Empire City Beer Company     planning   \n",
       "\n",
       "                             street address_2 address_3      city     state  \\\n",
       "0                96 Avenue C Frnt 4      None      None  New York  New York   \n",
       "1               404 5th Ave # 7.055      None      None  New York  New York   \n",
       "2                 200 5th Ave Fl 14      None      None  New York  New York   \n",
       "3  315 10th Ave B/W 28th & 29th St.      None      None  New York  New York   \n",
       "4                              None      None      None  New York  New York   \n",
       "\n",
       "  county_province postal_code        country longitude latitude       phone  \\\n",
       "0            None  10009-7055  United States      None     None  9143566809   \n",
       "1            None  10018-2797  United States      None     None        None   \n",
       "2            None  10010-3302  United States      None     None  2125390204   \n",
       "3            None  10001-1416  United States      None     None  2126958080   \n",
       "4            None       10012  United States      None     None  9178040571   \n",
       "\n",
       "                website_url                updated_at  \\\n",
       "0     http://www.acbnyc.com  2021-10-23T02:24:55.243Z   \n",
       "1                      None  2021-10-23T02:24:55.243Z   \n",
       "2   http://www.eatalyny.com  2021-10-23T02:24:55.243Z   \n",
       "3   http://www.deathave.com  2021-10-23T02:24:55.243Z   \n",
       "4  http://www.hitemhard.com  2021-10-23T02:24:55.243Z   \n",
       "\n",
       "                 created_at  \n",
       "0  2021-10-23T02:24:55.243Z  \n",
       "1  2021-10-23T02:24:55.243Z  \n",
       "2  2021-10-23T02:24:55.243Z  \n",
       "3  2021-10-23T02:24:55.243Z  \n",
       "4  2021-10-23T02:24:55.243Z  "
      ]
     },
     "execution_count": 191,
     "metadata": {},
     "output_type": "execute_result"
    }
   ],
   "source": [
    "df_beer = pd.json_normalize(req.get(URL_BASE).json())\n",
    "\n",
    "df_beer.head()"
   ]
  },
  {
   "cell_type": "code",
   "execution_count": 192,
   "id": "815c780b-3d7c-4687-9e2c-ff7b26a10c79",
   "metadata": {},
   "outputs": [
    {
     "data": {
      "text/plain": [
       "13"
      ]
     },
     "execution_count": 192,
     "metadata": {},
     "output_type": "execute_result"
    }
   ],
   "source": [
    "len(df_beer)"
   ]
  },
  {
   "cell_type": "markdown",
   "id": "3b9a628e",
   "metadata": {},
   "source": [
    "# Ejercicio 12\n",
    "\n",
    "¿Cuántas de ellas tienen página web?"
   ]
  },
  {
   "cell_type": "code",
   "execution_count": 193,
   "id": "4d1b721d",
   "metadata": {},
   "outputs": [
    {
     "data": {
      "text/plain": [
       "11"
      ]
     },
     "execution_count": 193,
     "metadata": {},
     "output_type": "execute_result"
    }
   ],
   "source": [
    "len(df_beer[df_beer['website_url'].notnull()]) # Tienen 11 cervecerías página web"
   ]
  },
  {
   "cell_type": "markdown",
   "id": "eecaaeab",
   "metadata": {},
   "source": [
    "# Ejercicio 13\n",
    "\n",
    "¿Cuántas de ellas han sido cerradas?"
   ]
  },
  {
   "cell_type": "code",
   "execution_count": 194,
   "id": "27377d2b",
   "metadata": {},
   "outputs": [
    {
     "data": {
      "text/plain": [
       "0"
      ]
     },
     "execution_count": 194,
     "metadata": {},
     "output_type": "execute_result"
    }
   ],
   "source": [
    "URL_BASE = 'https://api.openbrewerydb.org/breweries?by_city=new_york?by_type=closed' # cogemos solo de la ciudad de nueva yo\n",
    "\n",
    "len(req.get(URL_BASE).json()) # no parece que haya cervecerias cerradas"
   ]
  },
  {
   "cell_type": "markdown",
   "id": "9a17a300",
   "metadata": {},
   "source": [
    "# Ejercicio 14\n",
    "\n",
    "¿Cuántas grandes cervecerías en el estado de California?"
   ]
  },
  {
   "cell_type": "code",
   "execution_count": 197,
   "id": "d02093c9",
   "metadata": {},
   "outputs": [
    {
     "data": {
      "text/plain": [
       "0"
      ]
     },
     "execution_count": 197,
     "metadata": {},
     "output_type": "execute_result"
    }
   ],
   "source": [
    "URL_BASE = 'https://api.openbrewerydb.org/breweries?by_state=california?by_type=large' # cogemos solo de la ciudad de nueva yo\n",
    "\n",
    "len(req.get(URL_BASE).json())"
   ]
  },
  {
   "cell_type": "markdown",
   "id": "b77911bf",
   "metadata": {},
   "source": [
    "# Ejercicio 15\n",
    "\n",
    "Enumera todas las cervecerías de San Francisco y ordenalas según su tipo."
   ]
  },
  {
   "cell_type": "code",
   "execution_count": 6,
   "id": "97666bd7",
   "metadata": {},
   "outputs": [
    {
     "data": {
      "text/plain": [
       "[{'id': '21st-amendment-brewery-cafe-san-francisco',\n",
       "  'name': '21st Amendment Brewery Cafe',\n",
       "  'brewery_type': 'brewpub',\n",
       "  'street': '563 2nd St',\n",
       "  'address_2': None,\n",
       "  'address_3': None,\n",
       "  'city': 'San Francisco',\n",
       "  'state': 'California',\n",
       "  'county_province': None,\n",
       "  'postal_code': '94107-1411',\n",
       "  'country': 'United States',\n",
       "  'longitude': '-122.3925769',\n",
       "  'latitude': '37.782448',\n",
       "  'phone': '4153690900',\n",
       "  'website_url': 'http://www.21st-amendment.com',\n",
       "  'updated_at': '2021-10-23T02:24:55.243Z',\n",
       "  'created_at': '2021-10-23T02:24:55.243Z'},\n",
       " {'id': '47-hills-brewing-co-south-san-francisco',\n",
       "  'name': '47 Hills Brewing Co',\n",
       "  'brewery_type': 'brewpub',\n",
       "  'street': '137 S Linden Ave',\n",
       "  'address_2': None,\n",
       "  'address_3': None,\n",
       "  'city': 'South San Francisco',\n",
       "  'state': 'California',\n",
       "  'county_province': None,\n",
       "  'postal_code': '94080-6410',\n",
       "  'country': 'United States',\n",
       "  'longitude': '-122.4136168',\n",
       "  'latitude': '37.64425595',\n",
       "  'phone': '6508678476',\n",
       "  'website_url': 'http://47hillsbrewingcompany.com',\n",
       "  'updated_at': '2021-10-23T02:24:55.243Z',\n",
       "  'created_at': '2021-10-23T02:24:55.243Z'},\n",
       " {'id': 'barrel-head-brewhouse-san-francisco',\n",
       "  'name': 'Barrel Head Brewhouse',\n",
       "  'brewery_type': 'brewpub',\n",
       "  'street': '1785 Fulton St',\n",
       "  'address_2': None,\n",
       "  'address_3': None,\n",
       "  'city': 'San Francisco',\n",
       "  'state': 'California',\n",
       "  'county_province': None,\n",
       "  'postal_code': '94117-1202',\n",
       "  'country': 'United States',\n",
       "  'longitude': '-122.4461033',\n",
       "  'latitude': '37.77576514',\n",
       "  'phone': '4154166989',\n",
       "  'website_url': 'http://www.barrelheadsf.com',\n",
       "  'updated_at': '2021-10-23T02:24:55.243Z',\n",
       "  'created_at': '2021-10-23T02:24:55.243Z'},\n",
       " {'id': 'bartlett-hall-san-francisco',\n",
       "  'name': 'Bartlett Hall',\n",
       "  'brewery_type': 'brewpub',\n",
       "  'street': '242 Ofarrell St',\n",
       "  'address_2': None,\n",
       "  'address_3': None,\n",
       "  'city': 'San Francisco',\n",
       "  'state': 'California',\n",
       "  'county_province': None,\n",
       "  'postal_code': '94102-2119',\n",
       "  'country': 'United States',\n",
       "  'longitude': '-122.4087293',\n",
       "  'latitude': '37.78640638',\n",
       "  'phone': '4154334332',\n",
       "  'website_url': 'http://www.bartletthall.com',\n",
       "  'updated_at': '2021-10-23T02:24:55.243Z',\n",
       "  'created_at': '2021-10-23T02:24:55.243Z'},\n",
       " {'id': 'beach-chalet-brewing-co-san-francisco',\n",
       "  'name': 'Beach Chalet Brewing Co',\n",
       "  'brewery_type': 'brewpub',\n",
       "  'street': '1000 Great Hwy',\n",
       "  'address_2': None,\n",
       "  'address_3': None,\n",
       "  'city': 'San Francisco',\n",
       "  'state': 'California',\n",
       "  'county_province': None,\n",
       "  'postal_code': '94121-3268',\n",
       "  'country': 'United States',\n",
       "  'longitude': '-122.502981',\n",
       "  'latitude': '37.7252994',\n",
       "  'phone': '4153868439',\n",
       "  'website_url': 'http://www.beachchalet.com',\n",
       "  'updated_at': '2021-10-23T02:24:55.243Z',\n",
       "  'created_at': '2021-10-23T02:24:55.243Z'},\n",
       " {'id': 'hardwood-bar-and-smokery-san-francisco',\n",
       "  'name': 'Hardwood Bar and Smokery',\n",
       "  'brewery_type': 'brewpub',\n",
       "  'street': '680 8th St Ste 170',\n",
       "  'address_2': None,\n",
       "  'address_3': None,\n",
       "  'city': 'San Francisco',\n",
       "  'state': 'California',\n",
       "  'county_province': None,\n",
       "  'postal_code': '94103',\n",
       "  'country': 'United States',\n",
       "  'longitude': None,\n",
       "  'latitude': None,\n",
       "  'phone': '4157962437',\n",
       "  'website_url': 'http://www.hardwoodsf.com',\n",
       "  'updated_at': '2021-10-23T02:24:55.243Z',\n",
       "  'created_at': '2021-10-23T02:24:55.243Z'},\n",
       " {'id': 'k-oz-restaurant-brewery-san-francisco',\n",
       "  'name': 'K-Oz Restaurant Brewery',\n",
       "  'brewery_type': 'brewpub',\n",
       "  'street': '121 7th St',\n",
       "  'address_2': None,\n",
       "  'address_3': None,\n",
       "  'city': 'San Francisco',\n",
       "  'state': 'California',\n",
       "  'county_province': None,\n",
       "  'postal_code': '94103-2835',\n",
       "  'country': 'United States',\n",
       "  'longitude': '-122.409904',\n",
       "  'latitude': '37.7786408',\n",
       "  'phone': '4158729431',\n",
       "  'website_url': 'http://www.kandoz.com',\n",
       "  'updated_at': '2021-10-23T02:24:55.243Z',\n",
       "  'created_at': '2021-10-23T02:24:55.243Z'},\n",
       " {'id': 'magnolia-brewing-company-san-francisco',\n",
       "  'name': 'Magnolia Brewing Company',\n",
       "  'brewery_type': 'brewpub',\n",
       "  'street': '1398 Haight St',\n",
       "  'address_2': None,\n",
       "  'address_3': None,\n",
       "  'city': 'San Francisco',\n",
       "  'state': 'California',\n",
       "  'county_province': None,\n",
       "  'postal_code': '94117-2909',\n",
       "  'country': 'United States',\n",
       "  'longitude': '-122.4452044',\n",
       "  'latitude': '37.7703537',\n",
       "  'phone': None,\n",
       "  'website_url': None,\n",
       "  'updated_at': '2021-10-23T02:24:55.243Z',\n",
       "  'created_at': '2021-10-23T02:24:55.243Z'},\n",
       " {'id': 'oda-restaurant-san-francisco',\n",
       "  'name': 'Oda Restaurant',\n",
       "  'brewery_type': 'brewpub',\n",
       "  'street': '1500 Owens St',\n",
       "  'address_2': None,\n",
       "  'address_3': None,\n",
       "  'city': 'San Francisco',\n",
       "  'state': 'California',\n",
       "  'county_province': None,\n",
       "  'postal_code': '94158-2334',\n",
       "  'country': 'United States',\n",
       "  'longitude': '-122.3954096',\n",
       "  'latitude': '37.7687392',\n",
       "  'phone': '4155589450',\n",
       "  'website_url': 'http://www.barodasf.com',\n",
       "  'updated_at': '2021-10-23T02:24:55.243Z',\n",
       "  'created_at': '2021-10-23T02:24:55.243Z'},\n",
       " {'id': 'old-bus-tavern-san-francisco',\n",
       "  'name': 'Old Bus Tavern',\n",
       "  'brewery_type': 'brewpub',\n",
       "  'street': '3193 Mission St',\n",
       "  'address_2': None,\n",
       "  'address_3': None,\n",
       "  'city': 'San Francisco',\n",
       "  'state': 'California',\n",
       "  'county_province': None,\n",
       "  'postal_code': '94110-4515',\n",
       "  'country': 'United States',\n",
       "  'longitude': '-122.4195103',\n",
       "  'latitude': '37.745701',\n",
       "  'phone': '4158431938',\n",
       "  'website_url': 'http://www.oldbustavern.com',\n",
       "  'updated_at': '2021-10-23T02:24:55.243Z',\n",
       "  'created_at': '2021-10-23T02:24:55.243Z'},\n",
       " {'id': 'social-kitchen-and-brewery-san-francisco',\n",
       "  'name': 'Social Kitchen & Brewery',\n",
       "  'brewery_type': 'brewpub',\n",
       "  'street': '1326 9th Ave',\n",
       "  'address_2': None,\n",
       "  'address_3': None,\n",
       "  'city': 'San Francisco',\n",
       "  'state': 'California',\n",
       "  'county_province': None,\n",
       "  'postal_code': '94122-2309',\n",
       "  'country': 'United States',\n",
       "  'longitude': '-122.4660662',\n",
       "  'latitude': '37.7635041',\n",
       "  'phone': '4156810330',\n",
       "  'website_url': 'http://www.socialkitchenandbrewery.com',\n",
       "  'updated_at': '2021-10-23T02:24:55.243Z',\n",
       "  'created_at': '2021-10-23T02:24:55.243Z'},\n",
       " {'id': 'southern-pacific-brewing-san-francisco',\n",
       "  'name': 'Southern Pacific Brewing',\n",
       "  'brewery_type': 'brewpub',\n",
       "  'street': '620 Treat Ave',\n",
       "  'address_2': None,\n",
       "  'address_3': None,\n",
       "  'city': 'San Francisco',\n",
       "  'state': 'California',\n",
       "  'county_province': None,\n",
       "  'postal_code': '94110-2016',\n",
       "  'country': 'United States',\n",
       "  'longitude': '-122.4139896',\n",
       "  'latitude': '37.7601311',\n",
       "  'phone': '4153410152',\n",
       "  'website_url': 'http://www.southernpacificbrewing.com',\n",
       "  'updated_at': '2021-10-23T02:24:55.243Z',\n",
       "  'created_at': '2021-10-23T02:24:55.243Z'},\n",
       " {'id': 'southpaw-bbq-and-southern-cooking-san-francisco',\n",
       "  'name': 'Southpaw BBQ & Southern Cooking',\n",
       "  'brewery_type': 'brewpub',\n",
       "  'street': '2170 Mission St',\n",
       "  'address_2': None,\n",
       "  'address_3': None,\n",
       "  'city': 'San Francisco',\n",
       "  'state': 'California',\n",
       "  'county_province': None,\n",
       "  'postal_code': '94110-1247',\n",
       "  'country': 'United States',\n",
       "  'longitude': '-122.4195306',\n",
       "  'latitude': '37.7634391',\n",
       "  'phone': '4159349300',\n",
       "  'website_url': 'http://www.southpawbbqsf.com',\n",
       "  'updated_at': '2021-10-23T02:24:55.243Z',\n",
       "  'created_at': '2021-10-23T02:24:55.243Z'},\n",
       " {'id': 'sunset-reservoir-brewing-company-san-francisco',\n",
       "  'name': 'Sunset Reservoir Brewing Company',\n",
       "  'brewery_type': 'brewpub',\n",
       "  'street': '1735 Noriega St',\n",
       "  'address_2': None,\n",
       "  'address_3': None,\n",
       "  'city': 'San Francisco',\n",
       "  'state': 'California',\n",
       "  'county_province': None,\n",
       "  'postal_code': '94122-4307',\n",
       "  'country': 'United States',\n",
       "  'longitude': '-122.4823594',\n",
       "  'latitude': '37.7538314',\n",
       "  'phone': '4155718452',\n",
       "  'website_url': 'http://www.sunsetbeersf.com',\n",
       "  'updated_at': '2021-10-23T02:24:55.243Z',\n",
       "  'created_at': '2021-10-23T02:24:55.243Z'},\n",
       " {'id': 'thirstybear-organic-brewery-san-francisco',\n",
       "  'name': 'ThirstyBear Organic Brewery',\n",
       "  'brewery_type': 'brewpub',\n",
       "  'street': '661 Howard St',\n",
       "  'address_2': None,\n",
       "  'address_3': None,\n",
       "  'city': 'San Francisco',\n",
       "  'state': 'California',\n",
       "  'county_province': None,\n",
       "  'postal_code': '94105-3915',\n",
       "  'country': 'United States',\n",
       "  'longitude': '-122.399512',\n",
       "  'latitude': '37.785543',\n",
       "  'phone': '4159740905',\n",
       "  'website_url': 'http://www.thirstybear.com',\n",
       "  'updated_at': '2021-10-23T02:24:55.243Z',\n",
       "  'created_at': '2021-10-23T02:24:55.243Z'},\n",
       " {'id': 'topsys-san-francisco',\n",
       "  'name': \"Topsy's\",\n",
       "  'brewery_type': 'brewpub',\n",
       "  'street': '260 Kearny St',\n",
       "  'address_2': None,\n",
       "  'address_3': None,\n",
       "  'city': 'San Francisco',\n",
       "  'state': 'California',\n",
       "  'county_province': None,\n",
       "  'postal_code': '94108-4538',\n",
       "  'country': 'United States',\n",
       "  'longitude': '-122.4038779',\n",
       "  'latitude': '37.79052614',\n",
       "  'phone': '4157570290',\n",
       "  'website_url': 'http://www.topsyssf.com',\n",
       "  'updated_at': '2021-10-23T02:24:55.243Z',\n",
       "  'created_at': '2021-10-23T02:24:55.243Z'},\n",
       " {'id': 'toy-soldier-san-francisco',\n",
       "  'name': 'Toy Soldier',\n",
       "  'brewery_type': 'brewpub',\n",
       "  'street': '52 Belden Pl',\n",
       "  'address_2': None,\n",
       "  'address_3': None,\n",
       "  'city': 'San Francisco',\n",
       "  'state': 'California',\n",
       "  'county_province': None,\n",
       "  'postal_code': '94104',\n",
       "  'country': 'United States',\n",
       "  'longitude': '-122.403671',\n",
       "  'latitude': '37.79129781',\n",
       "  'phone': '4159069048',\n",
       "  'website_url': 'http://www.toysoldiersf.com',\n",
       "  'updated_at': '2021-10-23T02:24:55.243Z',\n",
       "  'created_at': '2021-10-23T02:24:55.243Z'},\n",
       " {'id': 'woods-cerveceraa-san-francisco',\n",
       "  'name': 'Woods CervecerÃ\\xada',\n",
       "  'brewery_type': 'brewpub',\n",
       "  'street': '3801 18th St',\n",
       "  'address_2': None,\n",
       "  'address_3': None,\n",
       "  'city': 'San Francisco',\n",
       "  'state': 'California',\n",
       "  'county_province': None,\n",
       "  'postal_code': '94114-2615',\n",
       "  'country': 'United States',\n",
       "  'longitude': '-122.4285438',\n",
       "  'latitude': '37.761163',\n",
       "  'phone': '4152739295',\n",
       "  'website_url': 'http://www.cerveceriasf.com',\n",
       "  'updated_at': '2021-10-23T02:24:55.243Z',\n",
       "  'created_at': '2021-10-23T02:24:55.243Z'},\n",
       " {'id': 'tw-pitchers-brewing-co-san-francisco',\n",
       "  'name': 'TW Pitchers Brewing Co',\n",
       "  'brewery_type': 'contract',\n",
       "  'street': '1329 17th Ave',\n",
       "  'address_2': None,\n",
       "  'address_3': None,\n",
       "  'city': 'San Francisco',\n",
       "  'state': 'California',\n",
       "  'county_province': None,\n",
       "  'postal_code': '94122-1912',\n",
       "  'country': 'United States',\n",
       "  'longitude': '-122.4750486',\n",
       "  'latitude': '37.76307771',\n",
       "  'phone': '4159992009',\n",
       "  'website_url': 'http://www.twpitchers.com',\n",
       "  'updated_at': '2021-10-23T02:24:55.243Z',\n",
       "  'created_at': '2021-10-23T02:24:55.243Z'},\n",
       " {'id': 'anchor-brewing-co-san-francisco',\n",
       "  'name': 'Anchor Brewing Co',\n",
       "  'brewery_type': 'large',\n",
       "  'street': '1705 Mariposa St',\n",
       "  'address_2': None,\n",
       "  'address_3': None,\n",
       "  'city': 'San Francisco',\n",
       "  'state': 'California',\n",
       "  'county_province': None,\n",
       "  'postal_code': '94107-2334',\n",
       "  'country': 'United States',\n",
       "  'longitude': '-122.4011065',\n",
       "  'latitude': '37.7630772',\n",
       "  'phone': '4158638350',\n",
       "  'website_url': 'http://www.anchorbrewing.com',\n",
       "  'updated_at': '2021-10-23T02:24:55.243Z',\n",
       "  'created_at': '2021-10-23T02:24:55.243Z'}]"
      ]
     },
     "execution_count": 6,
     "metadata": {},
     "output_type": "execute_result"
    }
   ],
   "source": [
    "url='https://api.openbrewerydb.org/breweries?by_city=san_francisco&sort=type'\n",
    "\n",
    "req.get(url).json()"
   ]
  },
  {
   "cell_type": "code",
   "execution_count": null,
   "id": "92cf7c32-2f20-4018-8666-f41702017dc8",
   "metadata": {},
   "outputs": [],
   "source": []
  }
 ],
 "metadata": {
  "kernelspec": {
   "display_name": "Python 3 (ipykernel)",
   "language": "python",
   "name": "python3"
  },
  "language_info": {
   "codemirror_mode": {
    "name": "ipython",
    "version": 3
   },
   "file_extension": ".py",
   "mimetype": "text/x-python",
   "name": "python",
   "nbconvert_exporter": "python",
   "pygments_lexer": "ipython3",
   "version": "3.9.7"
  }
 },
 "nbformat": 4,
 "nbformat_minor": 5
}
