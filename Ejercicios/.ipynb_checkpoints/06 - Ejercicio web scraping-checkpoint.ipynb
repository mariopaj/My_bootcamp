{
 "cells": [
  {
   "cell_type": "markdown",
   "metadata": {},
   "source": [
    "![imagen](../images/ejercicios.png)"
   ]
  },
  {
   "cell_type": "markdown",
   "metadata": {},
   "source": [
    "# Ejercicio 1 \n",
    "\n",
    "Muestra los nombres de los Trending Developers in Github.\n",
    "\n",
    "https://github.com/trending/developers"
   ]
  },
  {
   "cell_type": "code",
   "execution_count": 1,
   "metadata": {},
   "outputs": [],
   "source": [
    "import requests as req\n",
    "\n",
    "from bs4 import BeautifulSoup as bs"
   ]
  },
  {
   "cell_type": "code",
   "execution_count": 2,
   "metadata": {},
   "outputs": [],
   "source": [
    "# Tomamos la url\n",
    "\n",
    "url = 'https://github.com/trending/developers'"
   ]
  },
  {
   "cell_type": "code",
   "execution_count": 3,
   "metadata": {},
   "outputs": [
    {
     "data": {
      "text/plain": [
       "'\\n\\n<!DOCTYPE html>\\n<html lang=\"en\" data-color-mode=\"auto\" data-light-theme=\"light\" data-dark-theme=\"dark\">\\n  <head>\\n    <meta charset=\"utf-8\">\\n  <link rel=\"dns-prefetch\" href=\"https://github.githubassets.com\">\\n  <link rel=\"dns-prefetch\" href=\"https://avatars.githubusercontent.com\">\\n  <link rel=\"dns-prefetch\" href=\"https://github-cloud.s3.amazonaws.com\">\\n  <link rel=\"dns-prefetch\" href=\"https://user-images.githubusercontent.com/\">\\n  <link rel=\"preconnect\" href=\"https://github.githubassets.com\" crossorigin>\\n  <link rel=\"preconnect\" href=\"https://avatars.githubusercontent.com\">\\n\\n\\n\\n  <link crossorigin=\"anonymous\" media=\"all\" integrity=\"sha512-gTJi5qrypRHWpLXsMZQXoL53mXDuVqfZc7AfuiFXreLhf7Pk1RMvXJMWJsiS8dpkFDfq/7t6bFZK+3xS1Ak+Lg==\" rel=\"stylesheet\" href=\"https://github.githubassets.com/assets/light-813262e6aaf2a511d6a4b5ec319417a0.css\" /><link crossorigin=\"anonymous\" media=\"all\" integrity=\"sha512-CMdm0es1Ti46ZuFcKKz+jobtyuFMFz3OIWxrFfOGbsHzri6ehzY0MqUHRn9C23aqIUH6HrnhiqjxF6EcdWJ/ZQ==\" rel=\"s'"
      ]
     },
     "execution_count": 3,
     "metadata": {},
     "output_type": "execute_result"
    }
   ],
   "source": [
    "# Extraemos el html\n",
    "\n",
    "html = req.get(url).text\n",
    "\n",
    "html[:1000]"
   ]
  },
  {
   "cell_type": "code",
   "execution_count": 4,
   "metadata": {},
   "outputs": [],
   "source": [
    "# Convertimos en soup para manejar mejor el html\n",
    "\n",
    "soup = bs(html, 'html.parser')"
   ]
  },
  {
   "cell_type": "code",
   "execution_count": 5,
   "metadata": {},
   "outputs": [
    {
     "data": {
      "text/plain": [
       "'bdring'"
      ]
     },
     "execution_count": 5,
     "metadata": {},
     "output_type": "execute_result"
    }
   ],
   "source": [
    "soup.find('h1', class_='h3 lh-condensed').text.strip()"
   ]
  },
  {
   "cell_type": "code",
   "execution_count": 6,
   "metadata": {},
   "outputs": [
    {
     "data": {
      "text/plain": [
       "['bdring',\n",
       " 'Yagiz Degirmenci',\n",
       " 'Nico Schlömer',\n",
       " 'Matthias Fey',\n",
       " 'Greg Bergé',\n",
       " 'Juliette',\n",
       " 'Anthony Fu',\n",
       " 'Jovi De Croock',\n",
       " 'Jan De Dobbeleer',\n",
       " 'Felix Angelov',\n",
       " 'Rico Suter',\n",
       " 'Charles Kerr',\n",
       " 'Taner Şener',\n",
       " 'Nuno Maduro',\n",
       " 'Milad akarie',\n",
       " 'Michael Bui',\n",
       " 'Tatsuro Shibamura',\n",
       " 'Nicola Corti',\n",
       " 'David de la Iglesia Castro',\n",
       " 'Carlos Alexandro Becker',\n",
       " 'Sean Doyle',\n",
       " 'MichaIng',\n",
       " 'Steven',\n",
       " 'lestrrat',\n",
       " 'Joakim Sørensen']"
      ]
     },
     "execution_count": 6,
     "metadata": {},
     "output_type": "execute_result"
    }
   ],
   "source": [
    "developers = soup.find_all(class_=\"h3 lh-condensed\")\n",
    "\n",
    "lis_names = []\n",
    "for i in range(len(developers)):\n",
    "    \n",
    "    lis_names.append(developers[i].text.strip())\n",
    "    \n",
    "lis_names"
   ]
  },
  {
   "cell_type": "markdown",
   "metadata": {},
   "source": [
    "# Ejercicio 2\n",
    "\n",
    "Imprime los repositorios de Github relacionadps con Python.\n",
    "\n",
    "https://github.com/trending/python?since=daily"
   ]
  },
  {
   "cell_type": "code",
   "execution_count": 7,
   "metadata": {},
   "outputs": [],
   "source": [
    "url = 'https://github.com/trending/python?since=daily'"
   ]
  },
  {
   "cell_type": "code",
   "execution_count": 8,
   "metadata": {},
   "outputs": [
    {
     "data": {
      "text/plain": [
       "'\\n\\n<!DOCTYPE html>\\n<html lang=\"en\" data-color-mode=\"auto\" data-light-theme=\"light\" data-dark-theme=\"dark\">\\n  <head>\\n    <meta charset=\"utf-8\">\\n  <link rel=\"dns-prefetch\" href=\"https://github.githubassets.com\">\\n  <link rel=\"dns-prefetch\" href=\"https://avatars.githubusercontent.com\">\\n  <link rel=\"dns-prefetch\" href=\"https://github-cloud.s3.amazonaws.com\">\\n  <link rel=\"dns-prefetch\" href=\"https://user-images.githubusercontent.com/\">\\n  <link rel=\"preconnect\" href=\"https://github.githubassets.com\" crossorigin>\\n  <link rel=\"preconnect\" href=\"https://avatars.githubusercontent.com\">\\n\\n\\n\\n  <link crossorigin=\"anonymous\" media=\"all\" integrity=\"sha512-gTJi5qrypRHWpLXsMZQXoL53mXDuVqfZc7AfuiFXreLhf7Pk1RMvXJMWJsiS8dpkFDfq/7t6bFZK+3xS1Ak+Lg==\" rel=\"stylesheet\" href=\"https://github.githubassets.com/assets/light-813262e6aaf2a511d6a4b5ec319417a0.css\" /><link crossorigin=\"anonymous\" media=\"all\" integrity=\"sha512-CMdm0es1Ti46ZuFcKKz+jobtyuFMFz3OIWxrFfOGbsHzri6ehzY0MqUHRn9C23aqIUH6HrnhiqjxF6EcdWJ/ZQ==\" rel=\"s'"
      ]
     },
     "execution_count": 8,
     "metadata": {},
     "output_type": "execute_result"
    }
   ],
   "source": [
    "html = req.get(url).text\n",
    "\n",
    "html[:1000]"
   ]
  },
  {
   "cell_type": "code",
   "execution_count": 9,
   "metadata": {},
   "outputs": [],
   "source": [
    "soup = bs(html, 'html.parser')"
   ]
  },
  {
   "cell_type": "code",
   "execution_count": 10,
   "metadata": {},
   "outputs": [
    {
     "data": {
      "text/plain": [
       "['Janspiry / Image-Super-Resolution-via-Iterative-Refinement',\n",
       " 'aqlaboratory / openfold',\n",
       " 'microsoft / unilm',\n",
       " 'pengzhiliang / MAE-pytorch',\n",
       " 'rougier / scientific-visualization-book',\n",
       " 'PaddlePaddle / PaddleSeg',\n",
       " 'CyberPunkMetalHead / gateio-crypto-trading-bot-binance-announcements-new-coins',\n",
       " 'PaddlePaddle / PaddleOCR',\n",
       " 'frappe / erpnext',\n",
       " 'miloyip / game-programmer',\n",
       " 'lucidrains / vit-pytorch',\n",
       " 'kubernetes-client / python',\n",
       " 'donnemartin / system-design-primer',\n",
       " 'JingyunLiang / SwinIR',\n",
       " 'redis / redis-py',\n",
       " 'localstack / localstack',\n",
       " 'UKPLab / sentence-transformers',\n",
       " 'floodsung / Deep-Learning-Papers-Reading-Roadmap',\n",
       " 'sivel / speedtest-cli',\n",
       " 'PyCQA / bandit',\n",
       " '0xCGonzalo / Golden-Guide-for-Pentesting',\n",
       " 'pre-commit / pre-commit',\n",
       " 'albumentations-team / albumentations',\n",
       " 'kovidgoyal / kitty',\n",
       " 'awslabs / gluon-ts']"
      ]
     },
     "execution_count": 10,
     "metadata": {},
     "output_type": "execute_result"
    }
   ],
   "source": [
    "datasets = soup.find_all(class_=\"h3 lh-condensed\")\n",
    "\n",
    "lis_names = []\n",
    "for i in range(len(datasets)):\n",
    "    \n",
    "    lis_names.append(datasets[i].text.strip().replace('\\n','').replace('     ', ''))\n",
    "    \n",
    "lis_names"
   ]
  },
  {
   "cell_type": "markdown",
   "metadata": {},
   "source": [
    "# Ejercicio 3\n",
    "\n",
    "Muestra todos los links de imagenes de la página de wikipedis de Walt Disney.\n",
    "\n",
    "https://en.wikipedia.org/wiki/Walt_Disney"
   ]
  },
  {
   "cell_type": "code",
   "execution_count": 11,
   "metadata": {},
   "outputs": [],
   "source": [
    "url = 'https://en.wikipedia.org/wiki/Walt_Disney'"
   ]
  },
  {
   "cell_type": "code",
   "execution_count": 12,
   "metadata": {},
   "outputs": [
    {
     "data": {
      "text/plain": [
       "'<!DOCTYPE html>\\n<html class=\"client-nojs\" lang=\"en\" dir=\"ltr\">\\n<head>\\n<meta charset=\"UTF-8\"/>\\n<title>Walt Disney - Wikipedia</title>\\n<script>document.documentElement.className=\"client-js\";RLCONF={\"wgBreakFrames\":!1,\"wgSeparatorTransformTable\":[\"\",\"\"],\"wgDigitTransformTable\":[\"\",\"\"],\"wgDefaultDateFormat\":\"dmy\",\"wgMonthNames\":[\"\",\"January\",\"February\",\"March\",\"April\",\"May\",\"June\",\"July\",\"August\",\"September\",\"October\",\"November\",\"December\"],\"wgRequestId\":\"313dd056-3047-401a-9e8a-e55d1d682e3e\",\"wgCSPNonce\":!1,\"wgCanonicalNamespace\":\"\",\"wgCanonicalSpecialPageName\":!1,\"wgNamespaceNumber\":0,\"wgPageName\":\"Walt_Disney\",\"wgTitle\":\"Walt Disney\",\"wgCurRevisionId\":1055142565,\"wgRevisionId\":1055142565,\"wgArticleId\":32917,\"wgIsArticle\":!0,\"wgIsRedirect\":!1,\"wgAction\":\"view\",\"wgUserName\":null,\"wgUserGroups\":[\"*\"],\"wgCategories\":[\"Pages containing links to subscription-only content\",\"Articles with short description\",\"Short description is different from Wikidata\",\"Wikipedia indefinitely move-protected pa'"
      ]
     },
     "execution_count": 12,
     "metadata": {},
     "output_type": "execute_result"
    }
   ],
   "source": [
    "html = req.get(url).text\n",
    "\n",
    "html[:1000]"
   ]
  },
  {
   "cell_type": "code",
   "execution_count": 13,
   "metadata": {},
   "outputs": [],
   "source": [
    "soup = bs(html, 'html.parser')"
   ]
  },
  {
   "cell_type": "code",
   "execution_count": 14,
   "metadata": {},
   "outputs": [
    {
     "data": {
      "text/plain": [
       "34"
      ]
     },
     "execution_count": 14,
     "metadata": {},
     "output_type": "execute_result"
    }
   ],
   "source": [
    "images = soup.find_all('img')\n",
    "\n",
    "len(images)"
   ]
  },
  {
   "cell_type": "code",
   "execution_count": 44,
   "metadata": {},
   "outputs": [
    {
     "data": {
      "text/plain": [
       "['//upload.wikimedia.org/wikipedia/en/thumb/e/e7/Cscr-featured.svg/20px-Cscr-featured.svg.png',\n",
       " '//upload.wikimedia.org/wikipedia/en/thumb/8/8c/Extended-protection-shackle.svg/20px-Extended-protection-shackle.svg.png',\n",
       " '//upload.wikimedia.org/wikipedia/commons/thumb/d/df/Walt_Disney_1946.JPG/220px-Walt_Disney_1946.JPG',\n",
       " '//upload.wikimedia.org/wikipedia/commons/thumb/8/87/Walt_Disney_1942_signature.svg/150px-Walt_Disney_1942_signature.svg.png',\n",
       " '//upload.wikimedia.org/wikipedia/commons/thumb/c/c4/Walt_Disney_envelope_ca._1921.jpg/220px-Walt_Disney_envelope_ca._1921.jpg',\n",
       " '//upload.wikimedia.org/wikipedia/commons/thumb/4/4d/Newman_Laugh-O-Gram_%281921%29.webm/220px-seek%3D2-Newman_Laugh-O-Gram_%281921%29.webm.jpg',\n",
       " '//upload.wikimedia.org/wikipedia/commons/thumb/0/0d/Trolley_Troubles_poster.jpg/170px-Trolley_Troubles_poster.jpg',\n",
       " '//upload.wikimedia.org/wikipedia/en/thumb/4/4e/Steamboat-willie.jpg/170px-Steamboat-willie.jpg',\n",
       " '//upload.wikimedia.org/wikipedia/commons/thumb/5/57/Walt_Disney_1935.jpg/170px-Walt_Disney_1935.jpg',\n",
       " '//upload.wikimedia.org/wikipedia/commons/thumb/c/cd/Walt_Disney_Snow_white_1937_trailer_screenshot_%2813%29.jpg/220px-Walt_Disney_Snow_white_1937_trailer_screenshot_%2813%29.jpg']"
      ]
     },
     "execution_count": 44,
     "metadata": {},
     "output_type": "execute_result"
    }
   ],
   "source": [
    "list_img = []\n",
    "\n",
    "for i in range(len(images)):\n",
    "    list_img.append(images[i].attrs['src'])\n",
    "    \n",
    "list_img[:10]"
   ]
  },
  {
   "cell_type": "code",
   "execution_count": 43,
   "metadata": {},
   "outputs": [
    {
     "data": {
      "text/plain": [
       "['https://upload.wikimedia.org/wikipedia/en/thumb/e/e7/Cscr-featured.svg/20px-Cscr-featured.svg.png',\n",
       " 'https://upload.wikimedia.org/wikipedia/en/thumb/8/8c/Extended-protection-shackle.svg/20px-Extended-protection-shackle.svg.png',\n",
       " 'https://upload.wikimedia.org/wikipedia/commons/thumb/d/df/Walt_Disney_1946.JPG/220px-Walt_Disney_1946.JPG',\n",
       " 'https://upload.wikimedia.org/wikipedia/commons/thumb/8/87/Walt_Disney_1942_signature.svg/150px-Walt_Disney_1942_signature.svg.png',\n",
       " 'https://upload.wikimedia.org/wikipedia/commons/thumb/c/c4/Walt_Disney_envelope_ca._1921.jpg/220px-Walt_Disney_envelope_ca._1921.jpg',\n",
       " 'https://upload.wikimedia.org/wikipedia/commons/thumb/4/4d/Newman_Laugh-O-Gram_%281921%29.webm/220px-seek%3D2-Newman_Laugh-O-Gram_%281921%29.webm.jpg',\n",
       " 'https://upload.wikimedia.org/wikipedia/commons/thumb/0/0d/Trolley_Troubles_poster.jpg/170px-Trolley_Troubles_poster.jpg',\n",
       " 'https://upload.wikimedia.org/wikipedia/en/thumb/4/4e/Steamboat-willie.jpg/170px-Steamboat-willie.jpg',\n",
       " 'https://upload.wikimedia.org/wikipedia/commons/thumb/5/57/Walt_Disney_1935.jpg/170px-Walt_Disney_1935.jpg',\n",
       " 'https://upload.wikimedia.org/wikipedia/commons/thumb/c/cd/Walt_Disney_Snow_white_1937_trailer_screenshot_%2813%29.jpg/220px-Walt_Disney_Snow_white_1937_trailer_screenshot_%2813%29.jpg']"
      ]
     },
     "execution_count": 43,
     "metadata": {},
     "output_type": "execute_result"
    }
   ],
   "source": [
    "# Añadimos https://donate.wikimedia.org\n",
    "\n",
    "lis_img2 = []\n",
    "\n",
    "for i in range(len(list_img)):\n",
    "   \n",
    "    if 'https:' not in list_img[i]:\n",
    "        lis_img2.append('https:' + list_img[i])\n",
    "    else:\n",
    "        lis_img2.append(list_img[i])\n",
    "\n",
    "lis_img2[:10]"
   ]
  },
  {
   "cell_type": "markdown",
   "metadata": {},
   "source": [
    "# Ejercicio 4\n",
    "\n",
    "Crea una lista de todos los links de la página de wikipedia de Python.\n",
    "\n",
    "https://en.wikipedia.org/wiki/Python"
   ]
  },
  {
   "cell_type": "code",
   "execution_count": 16,
   "metadata": {},
   "outputs": [],
   "source": [
    "url = 'https://en.wikipedia.org/wiki/Python'"
   ]
  },
  {
   "cell_type": "code",
   "execution_count": 17,
   "metadata": {},
   "outputs": [
    {
     "data": {
      "text/plain": [
       "'<!DOCTYPE html>\\n<html class=\"client-nojs\" lang=\"en\" dir=\"ltr\">\\n<head>\\n<meta charset=\"UTF-8\"/>\\n<title>Python - Wikipedia</title>\\n<script>document.documentElement.className=\"client-js\";RLCONF={\"wgBreakFrames\":!1,\"wgSeparatorTransformTable\":[\"\",\"\"],\"wgDigitTransformTable\":[\"\",\"\"],\"wgDefaultDateFormat\":\"dmy\",\"wgMonthNames\":[\"\",\"January\",\"February\",\"March\",\"April\",\"May\",\"June\",\"July\",\"August\",\"September\",\"October\",\"November\",\"December\"],\"wgRequestId\":\"3eca2a39-33db-4734-bec3-3a18721189a5\",\"wgCSPNonce\":!1,\"wgCanonicalNamespace\":\"\",\"wgCanonicalSpecialPageName\":!1,\"wgNamespaceNumber\":0,\"wgPageName\":\"Python\",\"wgTitle\":\"Python\",\"wgCurRevisionId\":1048703433,\"wgRevisionId\":1048703433,\"wgArticleId\":46332325,\"wgIsArticle\":!0,\"wgIsRedirect\":!1,\"wgAction\":\"view\",\"wgUserName\":null,\"wgUserGroups\":[\"*\"],\"wgCategories\":[\"Disambiguation pages with short descriptions\",\"Short description is different from Wikidata\",\"All article disambiguation pages\",\"All disambiguation pages\",\"Animal common name disambiguati'"
      ]
     },
     "execution_count": 17,
     "metadata": {},
     "output_type": "execute_result"
    }
   ],
   "source": [
    "html = req.get(url).text\n",
    "\n",
    "html[:1000]"
   ]
  },
  {
   "cell_type": "code",
   "execution_count": 18,
   "metadata": {},
   "outputs": [],
   "source": [
    "soup = bs(html, 'html.parser')"
   ]
  },
  {
   "cell_type": "code",
   "execution_count": 19,
   "metadata": {},
   "outputs": [
    {
     "data": {
      "text/plain": [
       "152"
      ]
     },
     "execution_count": 19,
     "metadata": {},
     "output_type": "execute_result"
    }
   ],
   "source": [
    "links = soup.find_all('a')\n",
    "\n",
    "len(links)"
   ]
  },
  {
   "cell_type": "code",
   "execution_count": 20,
   "metadata": {},
   "outputs": [
    {
     "data": {
      "text/plain": [
       "'/wiki/Python_(genus)'"
      ]
     },
     "execution_count": 20,
     "metadata": {},
     "output_type": "execute_result"
    }
   ],
   "source": [
    "links = links[1:]\n",
    "\n",
    "links[5].attrs['href']"
   ]
  },
  {
   "cell_type": "code",
   "execution_count": 40,
   "metadata": {},
   "outputs": [
    {
     "data": {
      "text/plain": [
       "['#mw-head',\n",
       " '#searchInput',\n",
       " 'https://en.wiktionary.org/wiki/Python',\n",
       " 'https://en.wiktionary.org/wiki/python',\n",
       " '/wiki/Pythonidae',\n",
       " '/wiki/Python_(genus)',\n",
       " '#Computing',\n",
       " '#People',\n",
       " '#Roller_coasters',\n",
       " '#Vehicles']"
      ]
     },
     "execution_count": 40,
     "metadata": {},
     "output_type": "execute_result"
    }
   ],
   "source": [
    "lis_links = []\n",
    "\n",
    "for i in range(len(links)):\n",
    "    \n",
    "    lis_links.append(links[i].attrs['href'])\n",
    "    \n",
    "\n",
    "lis_links[:10]"
   ]
  },
  {
   "cell_type": "code",
   "execution_count": 39,
   "metadata": {},
   "outputs": [
    {
     "data": {
      "text/plain": [
       "['https://donate.wikimedia.org#mw-head',\n",
       " 'https://donate.wikimedia.org#searchInput',\n",
       " 'https://donate.wikimedia.orghttps://en.wiktionary.org/wiki/Python',\n",
       " 'https://donate.wikimedia.orghttps://en.wiktionary.org/wiki/python',\n",
       " 'https://donate.wikimedia.org/wiki/Pythonidae',\n",
       " 'https://donate.wikimedia.org/wiki/Python_(genus)',\n",
       " 'https://donate.wikimedia.org#Computing',\n",
       " 'https://donate.wikimedia.org#People',\n",
       " 'https://donate.wikimedia.org#Roller_coasters',\n",
       " 'https://donate.wikimedia.org#Vehicles']"
      ]
     },
     "execution_count": 39,
     "metadata": {},
     "output_type": "execute_result"
    }
   ],
   "source": [
    "# Añadimos https://donate.wikimedia.org\n",
    "\n",
    "lis_links2 = []\n",
    "\n",
    "for i in range(len(lis_links)):\n",
    "   \n",
    "    if 'https://donate.wikimedia.org' not in lis_links[i]:\n",
    "        lis_links2.append('https://donate.wikimedia.org' + lis_links[i])\n",
    "    else:\n",
    "        lis_links2.append(lis_links[i])\n",
    "\n",
    "lis_links2[:10]"
   ]
  },
  {
   "cell_type": "markdown",
   "metadata": {},
   "source": [
    "# Ejercicio 5\n",
    "\n",
    "Crea una lista con los nombres de las 10 personas más buscadas por el FBI:\n",
    "\n",
    "https://www.fbi.gov/wanted/topten"
   ]
  },
  {
   "cell_type": "code",
   "execution_count": 22,
   "metadata": {},
   "outputs": [],
   "source": [
    "url = 'https://www.fbi.gov/wanted/topten'"
   ]
  },
  {
   "cell_type": "code",
   "execution_count": 23,
   "metadata": {},
   "outputs": [],
   "source": [
    "html = req.get(url).text"
   ]
  },
  {
   "cell_type": "code",
   "execution_count": 24,
   "metadata": {
    "tags": []
   },
   "outputs": [],
   "source": [
    "soup = bs(html, 'html.parser')"
   ]
  },
  {
   "cell_type": "code",
   "execution_count": 25,
   "metadata": {},
   "outputs": [
    {
     "data": {
      "text/plain": [
       "11"
      ]
     },
     "execution_count": 25,
     "metadata": {},
     "output_type": "execute_result"
    }
   ],
   "source": [
    "wanted = soup.find_all(class_='title')\n",
    "\n",
    "len(wanted)"
   ]
  },
  {
   "cell_type": "code",
   "execution_count": 26,
   "metadata": {},
   "outputs": [
    {
     "data": {
      "text/plain": [
       "['Most Wanted',\n",
       " 'YULAN ADONAY ARCHAGA CARIAS',\n",
       " 'EUGENE PALMER',\n",
       " 'BHADRESHKUMAR CHETANBHAI PATEL',\n",
       " 'ALEJANDRO ROSALES CASTILLO',\n",
       " 'ARNOLDO JIMENEZ',\n",
       " 'JASON DEREK BROWN',\n",
       " 'ALEXIS FLORES',\n",
       " 'JOSE RODOLFO VILLARREAL-HERNANDEZ',\n",
       " 'OCTAVIANO JUAREZ-CORRO',\n",
       " 'RAFAEL CARO-QUINTERO']"
      ]
     },
     "execution_count": 26,
     "metadata": {},
     "output_type": "execute_result"
    }
   ],
   "source": [
    "lis_wanted = []\n",
    "\n",
    "for i in range(len(wanted)):\n",
    "    \n",
    "    lis_wanted.append(wanted[i].text.strip())\n",
    "    \n",
    "lis_wanted"
   ]
  },
  {
   "cell_type": "code",
   "execution_count": 27,
   "metadata": {},
   "outputs": [
    {
     "data": {
      "text/plain": [
       "['YULAN ADONAY ARCHAGA CARIAS',\n",
       " 'EUGENE PALMER',\n",
       " 'BHADRESHKUMAR CHETANBHAI PATEL',\n",
       " 'ALEJANDRO ROSALES CASTILLO',\n",
       " 'ARNOLDO JIMENEZ',\n",
       " 'JASON DEREK BROWN',\n",
       " 'ALEXIS FLORES',\n",
       " 'JOSE RODOLFO VILLARREAL-HERNANDEZ',\n",
       " 'OCTAVIANO JUAREZ-CORRO',\n",
       " 'RAFAEL CARO-QUINTERO']"
      ]
     },
     "execution_count": 27,
     "metadata": {},
     "output_type": "execute_result"
    }
   ],
   "source": [
    "lis_wanted = lis_wanted[1:]\n",
    "\n",
    "lis_wanted"
   ]
  },
  {
   "cell_type": "markdown",
   "metadata": {},
   "source": [
    "# Ejercicio 6\n",
    "\n",
    "Crea un dataframe con los ultimos 20 terremotos desde el Centro Sismológico Euromediterráneo que incluya fecha, hora, latitud, longitud, profundidad, magnitud y region.\n",
    "\n",
    "https://www.emsc-csem.org/Earthquake/"
   ]
  },
  {
   "cell_type": "code",
   "execution_count": 47,
   "metadata": {},
   "outputs": [],
   "source": [
    "url = 'https://www.emsc-csem.org/Earthquake/?view=1'"
   ]
  },
  {
   "cell_type": "code",
   "execution_count": 97,
   "metadata": {},
   "outputs": [],
   "source": [
    "html = req.get(url).text\n",
    "\n",
    "soup = bs(html, 'html.parser')"
   ]
  },
  {
   "cell_type": "code",
   "execution_count": 144,
   "metadata": {},
   "outputs": [
    {
     "data": {
      "text/plain": [
       "50"
      ]
     },
     "execution_count": 144,
     "metadata": {},
     "output_type": "execute_result"
    }
   ],
   "source": [
    "terremotos = soup.find_all('tbody')[0]\n",
    "\n",
    "len(terremotos.find_all('tr'))"
   ]
  },
  {
   "cell_type": "code",
   "execution_count": 157,
   "metadata": {},
   "outputs": [
    {
     "data": {
      "text/plain": [
       "{'time': '2021-11-16 17:53:15.018min ago',\n",
       " 'latitude 1': '6.18',\n",
       " 'latitude 2': 'N',\n",
       " 'longitude 1': '126.69',\n",
       " 'longitude 2': 'E',\n",
       " 'Depth': 70,\n",
       " 'Mag': 4.6,\n",
       " 'Region Name': 'MINDANAO, PHILIPPINES'}"
      ]
     },
     "execution_count": 157,
     "metadata": {},
     "output_type": "execute_result"
    }
   ],
   "source": [
    "lis_terr = []\n",
    "\n",
    "for f in terremoto.find_all('tr'):  # bucle por filas de la tabla\n",
    "    \n",
    "    fila = [e for e in f.find_all('td')]\n",
    "    \n",
    "    if len(fila)>0:\n",
    "        \n",
    "        terremotos = {\n",
    "            'Time': fila[3].text.strip().replace('earthquake', '').replace('\\xa0\\xa0\\xa0', ' '),\n",
    "            'latitude 1': fila[4].text.strip(),\n",
    "            'latitude 2': fila[5].text.strip(),\n",
    "            'longitude 1': fila[6].text.strip(),\n",
    "            'longitude 2': fila[7].text.strip(),\n",
    "            'Depth': int(fila[8].text.strip()),\n",
    "            'Mag': float(fila[10].text.strip()),\n",
    "            'Region Name': fila[11].text.strip()\n",
    "        }\n",
    "        \n",
    "        lis_terr.append(terremotos)\n",
    "        \n",
    "lis_terr[1]"
   ]
  },
  {
   "cell_type": "code",
   "execution_count": 178,
   "metadata": {},
   "outputs": [
    {
     "data": {
      "text/html": [
       "<div>\n",
       "<style scoped>\n",
       "    .dataframe tbody tr th:only-of-type {\n",
       "        vertical-align: middle;\n",
       "    }\n",
       "\n",
       "    .dataframe tbody tr th {\n",
       "        vertical-align: top;\n",
       "    }\n",
       "\n",
       "    .dataframe thead th {\n",
       "        text-align: right;\n",
       "    }\n",
       "</style>\n",
       "<table border=\"1\" class=\"dataframe\">\n",
       "  <thead>\n",
       "    <tr style=\"text-align: right;\">\n",
       "      <th></th>\n",
       "      <th>time</th>\n",
       "      <th>latitude 1</th>\n",
       "      <th>latitude 2</th>\n",
       "      <th>longitude 1</th>\n",
       "      <th>longitude 2</th>\n",
       "      <th>Depth</th>\n",
       "      <th>Mag</th>\n",
       "      <th>Region Name</th>\n",
       "    </tr>\n",
       "  </thead>\n",
       "  <tbody>\n",
       "    <tr>\n",
       "      <th>0</th>\n",
       "      <td>2021-11-16 17:54:30.017min ago</td>\n",
       "      <td>35.40</td>\n",
       "      <td>N</td>\n",
       "      <td>139.20</td>\n",
       "      <td>E</td>\n",
       "      <td>20</td>\n",
       "      <td>4.4</td>\n",
       "      <td>NEAR S. COAST OF HONSHU, JAPAN</td>\n",
       "    </tr>\n",
       "    <tr>\n",
       "      <th>1</th>\n",
       "      <td>2021-11-16 17:53:15.018min ago</td>\n",
       "      <td>6.18</td>\n",
       "      <td>N</td>\n",
       "      <td>126.69</td>\n",
       "      <td>E</td>\n",
       "      <td>70</td>\n",
       "      <td>4.6</td>\n",
       "      <td>MINDANAO, PHILIPPINES</td>\n",
       "    </tr>\n",
       "    <tr>\n",
       "      <th>2</th>\n",
       "      <td>2021-11-16 17:37:32.634min ago</td>\n",
       "      <td>28.57</td>\n",
       "      <td>N</td>\n",
       "      <td>17.83</td>\n",
       "      <td>W</td>\n",
       "      <td>10</td>\n",
       "      <td>2.8</td>\n",
       "      <td>CANARY ISLANDS, SPAIN REGION</td>\n",
       "    </tr>\n",
       "    <tr>\n",
       "      <th>3</th>\n",
       "      <td>2021-11-16 17:36:25.035min ago</td>\n",
       "      <td>41.39</td>\n",
       "      <td>N</td>\n",
       "      <td>20.94</td>\n",
       "      <td>E</td>\n",
       "      <td>3</td>\n",
       "      <td>3.2</td>\n",
       "      <td>REPUBLIC OF NORTH MACEDONIA</td>\n",
       "    </tr>\n",
       "    <tr>\n",
       "      <th>4</th>\n",
       "      <td>2021-11-16 17:30:56.040min ago</td>\n",
       "      <td>2.37</td>\n",
       "      <td>N</td>\n",
       "      <td>128.27</td>\n",
       "      <td>E</td>\n",
       "      <td>134</td>\n",
       "      <td>2.8</td>\n",
       "      <td>HALMAHERA, INDONESIA</td>\n",
       "    </tr>\n",
       "  </tbody>\n",
       "</table>\n",
       "</div>"
      ],
      "text/plain": [
       "                             time latitude 1 latitude 2 longitude 1  \\\n",
       "0  2021-11-16 17:54:30.017min ago      35.40          N      139.20   \n",
       "1  2021-11-16 17:53:15.018min ago       6.18          N      126.69   \n",
       "2  2021-11-16 17:37:32.634min ago      28.57          N       17.83   \n",
       "3  2021-11-16 17:36:25.035min ago      41.39          N       20.94   \n",
       "4  2021-11-16 17:30:56.040min ago       2.37          N      128.27   \n",
       "\n",
       "  longitude 2  Depth  Mag                     Region Name  \n",
       "0           E     20  4.4  NEAR S. COAST OF HONSHU, JAPAN  \n",
       "1           E     70  4.6           MINDANAO, PHILIPPINES  \n",
       "2           W     10  2.8    CANARY ISLANDS, SPAIN REGION  \n",
       "3           E      3  3.2     REPUBLIC OF NORTH MACEDONIA  \n",
       "4           E    134  2.8            HALMAHERA, INDONESIA  "
      ]
     },
     "execution_count": 178,
     "metadata": {},
     "output_type": "execute_result"
    }
   ],
   "source": [
    "import pandas as pd\n",
    "\n",
    "pd_terremotos = pd.DataFrame(lis_terr)\n",
    "\n",
    "pd_terremotos.head()"
   ]
  },
  {
   "cell_type": "code",
   "execution_count": 179,
   "metadata": {},
   "outputs": [],
   "source": [
    "pd_terremotos['latitude'] = pd_terremotos['latitude 1'] + \" \" + pd_terremotos['latitude 2']\n",
    "\n",
    "pd_terremotos['longitude'] = pd_terremotos['longitude 1'] + \" \" + pd_terremotos['longitude 2']\n",
    "\n",
    "pd_terremotos = pd_terremotos.drop(['latitude 1', 'latitude 2', 'longitude 1', 'longitude 2'], axis = 1)"
   ]
  },
  {
   "cell_type": "code",
   "execution_count": 181,
   "metadata": {},
   "outputs": [
    {
     "data": {
      "text/html": [
       "<div>\n",
       "<style scoped>\n",
       "    .dataframe tbody tr th:only-of-type {\n",
       "        vertical-align: middle;\n",
       "    }\n",
       "\n",
       "    .dataframe tbody tr th {\n",
       "        vertical-align: top;\n",
       "    }\n",
       "\n",
       "    .dataframe thead th {\n",
       "        text-align: right;\n",
       "    }\n",
       "</style>\n",
       "<table border=\"1\" class=\"dataframe\">\n",
       "  <thead>\n",
       "    <tr style=\"text-align: right;\">\n",
       "      <th></th>\n",
       "      <th>time</th>\n",
       "      <th>Depth</th>\n",
       "      <th>Mag</th>\n",
       "      <th>Region Name</th>\n",
       "      <th>latitude</th>\n",
       "      <th>longitude</th>\n",
       "    </tr>\n",
       "  </thead>\n",
       "  <tbody>\n",
       "    <tr>\n",
       "      <th>0</th>\n",
       "      <td>2021-11-16 17:54:30.017min ago</td>\n",
       "      <td>20</td>\n",
       "      <td>4.4</td>\n",
       "      <td>NEAR S. COAST OF HONSHU, JAPAN</td>\n",
       "      <td>35.40 N</td>\n",
       "      <td>139.20 E</td>\n",
       "    </tr>\n",
       "    <tr>\n",
       "      <th>1</th>\n",
       "      <td>2021-11-16 17:53:15.018min ago</td>\n",
       "      <td>70</td>\n",
       "      <td>4.6</td>\n",
       "      <td>MINDANAO, PHILIPPINES</td>\n",
       "      <td>6.18 N</td>\n",
       "      <td>126.69 E</td>\n",
       "    </tr>\n",
       "    <tr>\n",
       "      <th>2</th>\n",
       "      <td>2021-11-16 17:37:32.634min ago</td>\n",
       "      <td>10</td>\n",
       "      <td>2.8</td>\n",
       "      <td>CANARY ISLANDS, SPAIN REGION</td>\n",
       "      <td>28.57 N</td>\n",
       "      <td>17.83 W</td>\n",
       "    </tr>\n",
       "    <tr>\n",
       "      <th>3</th>\n",
       "      <td>2021-11-16 17:36:25.035min ago</td>\n",
       "      <td>3</td>\n",
       "      <td>3.2</td>\n",
       "      <td>REPUBLIC OF NORTH MACEDONIA</td>\n",
       "      <td>41.39 N</td>\n",
       "      <td>20.94 E</td>\n",
       "    </tr>\n",
       "    <tr>\n",
       "      <th>4</th>\n",
       "      <td>2021-11-16 17:30:56.040min ago</td>\n",
       "      <td>134</td>\n",
       "      <td>2.8</td>\n",
       "      <td>HALMAHERA, INDONESIA</td>\n",
       "      <td>2.37 N</td>\n",
       "      <td>128.27 E</td>\n",
       "    </tr>\n",
       "    <tr>\n",
       "      <th>5</th>\n",
       "      <td>2021-11-16 17:27:32.444min ago</td>\n",
       "      <td>9</td>\n",
       "      <td>2.4</td>\n",
       "      <td>SWITZERLAND</td>\n",
       "      <td>46.73 N</td>\n",
       "      <td>7.56 E</td>\n",
       "    </tr>\n",
       "    <tr>\n",
       "      <th>6</th>\n",
       "      <td>2021-11-16 17:26:32.145min ago</td>\n",
       "      <td>2</td>\n",
       "      <td>2.9</td>\n",
       "      <td>AEGEAN SEA</td>\n",
       "      <td>39.54 N</td>\n",
       "      <td>23.75 E</td>\n",
       "    </tr>\n",
       "    <tr>\n",
       "      <th>7</th>\n",
       "      <td>2021-11-16 17:26:22.045min ago</td>\n",
       "      <td>10</td>\n",
       "      <td>2.4</td>\n",
       "      <td>CANARY ISLANDS, SPAIN REGION</td>\n",
       "      <td>28.57 N</td>\n",
       "      <td>17.83 W</td>\n",
       "    </tr>\n",
       "    <tr>\n",
       "      <th>8</th>\n",
       "      <td>2021-11-16 17:22:40.849min ago</td>\n",
       "      <td>8</td>\n",
       "      <td>3.3</td>\n",
       "      <td>CENTRAL CALIFORNIA</td>\n",
       "      <td>37.50 N</td>\n",
       "      <td>118.84 W</td>\n",
       "    </tr>\n",
       "    <tr>\n",
       "      <th>9</th>\n",
       "      <td>2021-11-16 17:11:17.51hr 00min ago</td>\n",
       "      <td>211</td>\n",
       "      <td>4.4</td>\n",
       "      <td>SOUTHERN SUMATRA, INDONESIA</td>\n",
       "      <td>2.22 S</td>\n",
       "      <td>102.35 E</td>\n",
       "    </tr>\n",
       "    <tr>\n",
       "      <th>10</th>\n",
       "      <td>2021-11-16 17:05:41.71hr 06min ago</td>\n",
       "      <td>8</td>\n",
       "      <td>2.5</td>\n",
       "      <td>CENTRAL CALIFORNIA</td>\n",
       "      <td>37.51 N</td>\n",
       "      <td>118.84 W</td>\n",
       "    </tr>\n",
       "    <tr>\n",
       "      <th>11</th>\n",
       "      <td>2021-11-16 17:05:16.71hr 06min ago</td>\n",
       "      <td>10</td>\n",
       "      <td>4.1</td>\n",
       "      <td>OFFSHORE BIO-BIO, CHILE</td>\n",
       "      <td>36.85 S</td>\n",
       "      <td>74.18 W</td>\n",
       "    </tr>\n",
       "    <tr>\n",
       "      <th>12</th>\n",
       "      <td>2021-11-16 17:05:05.51hr 06min ago</td>\n",
       "      <td>10</td>\n",
       "      <td>2.6</td>\n",
       "      <td>CANARY ISLANDS, SPAIN REGION</td>\n",
       "      <td>28.56 N</td>\n",
       "      <td>17.84 W</td>\n",
       "    </tr>\n",
       "    <tr>\n",
       "      <th>13</th>\n",
       "      <td>2021-11-16 16:57:06.91hr 14min ago</td>\n",
       "      <td>10</td>\n",
       "      <td>2.6</td>\n",
       "      <td>CANARY ISLANDS, SPAIN REGION</td>\n",
       "      <td>28.55 N</td>\n",
       "      <td>17.84 W</td>\n",
       "    </tr>\n",
       "    <tr>\n",
       "      <th>14</th>\n",
       "      <td>2021-11-16 16:49:09.51hr 22min ago</td>\n",
       "      <td>33</td>\n",
       "      <td>2.2</td>\n",
       "      <td>ISLAND OF HAWAII, HAWAII</td>\n",
       "      <td>19.16 N</td>\n",
       "      <td>155.48 W</td>\n",
       "    </tr>\n",
       "    <tr>\n",
       "      <th>15</th>\n",
       "      <td>2021-11-16 16:43:50.01hr 28min ago</td>\n",
       "      <td>242</td>\n",
       "      <td>3.6</td>\n",
       "      <td>SALTA, ARGENTINA</td>\n",
       "      <td>23.95 S</td>\n",
       "      <td>67.12 W</td>\n",
       "    </tr>\n",
       "    <tr>\n",
       "      <th>16</th>\n",
       "      <td>2021-11-16 16:40:07.91hr 31min ago</td>\n",
       "      <td>5</td>\n",
       "      <td>2.5</td>\n",
       "      <td>WESTERN TURKEY</td>\n",
       "      <td>38.59 N</td>\n",
       "      <td>31.64 E</td>\n",
       "    </tr>\n",
       "    <tr>\n",
       "      <th>17</th>\n",
       "      <td>2021-11-16 16:36:07.01hr 35min ago</td>\n",
       "      <td>10</td>\n",
       "      <td>2.8</td>\n",
       "      <td>UTTAR PRADESH, INDIA</td>\n",
       "      <td>29.05 N</td>\n",
       "      <td>77.20 E</td>\n",
       "    </tr>\n",
       "    <tr>\n",
       "      <th>18</th>\n",
       "      <td>2021-11-16 16:31:43.11hr 40min ago</td>\n",
       "      <td>33</td>\n",
       "      <td>2.3</td>\n",
       "      <td>ISLAND OF HAWAII, HAWAII</td>\n",
       "      <td>19.12 N</td>\n",
       "      <td>155.41 W</td>\n",
       "    </tr>\n",
       "    <tr>\n",
       "      <th>19</th>\n",
       "      <td>2021-11-16 16:30:56.01hr 40min ago</td>\n",
       "      <td>119</td>\n",
       "      <td>2.6</td>\n",
       "      <td>ANTOFAGASTA, CHILE</td>\n",
       "      <td>22.28 S</td>\n",
       "      <td>68.91 W</td>\n",
       "    </tr>\n",
       "  </tbody>\n",
       "</table>\n",
       "</div>"
      ],
      "text/plain": [
       "                                  time  Depth  Mag  \\\n",
       "0       2021-11-16 17:54:30.017min ago     20  4.4   \n",
       "1       2021-11-16 17:53:15.018min ago     70  4.6   \n",
       "2       2021-11-16 17:37:32.634min ago     10  2.8   \n",
       "3       2021-11-16 17:36:25.035min ago      3  3.2   \n",
       "4       2021-11-16 17:30:56.040min ago    134  2.8   \n",
       "5       2021-11-16 17:27:32.444min ago      9  2.4   \n",
       "6       2021-11-16 17:26:32.145min ago      2  2.9   \n",
       "7       2021-11-16 17:26:22.045min ago     10  2.4   \n",
       "8       2021-11-16 17:22:40.849min ago      8  3.3   \n",
       "9   2021-11-16 17:11:17.51hr 00min ago    211  4.4   \n",
       "10  2021-11-16 17:05:41.71hr 06min ago      8  2.5   \n",
       "11  2021-11-16 17:05:16.71hr 06min ago     10  4.1   \n",
       "12  2021-11-16 17:05:05.51hr 06min ago     10  2.6   \n",
       "13  2021-11-16 16:57:06.91hr 14min ago     10  2.6   \n",
       "14  2021-11-16 16:49:09.51hr 22min ago     33  2.2   \n",
       "15  2021-11-16 16:43:50.01hr 28min ago    242  3.6   \n",
       "16  2021-11-16 16:40:07.91hr 31min ago      5  2.5   \n",
       "17  2021-11-16 16:36:07.01hr 35min ago     10  2.8   \n",
       "18  2021-11-16 16:31:43.11hr 40min ago     33  2.3   \n",
       "19  2021-11-16 16:30:56.01hr 40min ago    119  2.6   \n",
       "\n",
       "                       Region Name latitude longitude  \n",
       "0   NEAR S. COAST OF HONSHU, JAPAN  35.40 N  139.20 E  \n",
       "1            MINDANAO, PHILIPPINES   6.18 N  126.69 E  \n",
       "2     CANARY ISLANDS, SPAIN REGION  28.57 N   17.83 W  \n",
       "3      REPUBLIC OF NORTH MACEDONIA  41.39 N   20.94 E  \n",
       "4             HALMAHERA, INDONESIA   2.37 N  128.27 E  \n",
       "5                      SWITZERLAND  46.73 N    7.56 E  \n",
       "6                       AEGEAN SEA  39.54 N   23.75 E  \n",
       "7     CANARY ISLANDS, SPAIN REGION  28.57 N   17.83 W  \n",
       "8               CENTRAL CALIFORNIA  37.50 N  118.84 W  \n",
       "9      SOUTHERN SUMATRA, INDONESIA   2.22 S  102.35 E  \n",
       "10              CENTRAL CALIFORNIA  37.51 N  118.84 W  \n",
       "11         OFFSHORE BIO-BIO, CHILE  36.85 S   74.18 W  \n",
       "12    CANARY ISLANDS, SPAIN REGION  28.56 N   17.84 W  \n",
       "13    CANARY ISLANDS, SPAIN REGION  28.55 N   17.84 W  \n",
       "14        ISLAND OF HAWAII, HAWAII  19.16 N  155.48 W  \n",
       "15                SALTA, ARGENTINA  23.95 S   67.12 W  \n",
       "16                  WESTERN TURKEY  38.59 N   31.64 E  \n",
       "17            UTTAR PRADESH, INDIA  29.05 N   77.20 E  \n",
       "18        ISLAND OF HAWAII, HAWAII  19.12 N  155.41 W  \n",
       "19              ANTOFAGASTA, CHILE  22.28 S   68.91 W  "
      ]
     },
     "execution_count": 181,
     "metadata": {},
     "output_type": "execute_result"
    }
   ],
   "source": [
    "pd_terremotos.head(20)"
   ]
  },
  {
   "cell_type": "markdown",
   "metadata": {},
   "source": [
    "# Ejercicio 7\n",
    "\n",
    "Crea un diccionario cuyas keys sean los idiomas y los values sean los articulos para cada uno de la pagina de wikipedia.\n",
    "\n",
    "https://www.wikipedia.org/"
   ]
  },
  {
   "cell_type": "code",
   "execution_count": 182,
   "metadata": {},
   "outputs": [],
   "source": [
    "url = 'https://www.wikipedia.org/'"
   ]
  },
  {
   "cell_type": "code",
   "execution_count": 183,
   "metadata": {},
   "outputs": [],
   "source": [
    "html = req.get(url).text\n",
    "\n",
    "soup = bs(html, 'html.parser')"
   ]
  },
  {
   "cell_type": "code",
   "execution_count": 208,
   "metadata": {},
   "outputs": [
    {
     "data": {
      "text/plain": [
       "['English',\n",
       " 'æ\\x97¥æ\\x9c¬èª\\x9e',\n",
       " 'Ð\\xa0Ñ\\x83Ñ\\x81Ñ\\x81ÐºÐ¸Ð¹',\n",
       " 'Deutsch',\n",
       " 'EspaÃ±ol',\n",
       " 'FranÃ§ais',\n",
       " 'ä¸\\xadæ\\x96\\x87',\n",
       " 'Italiano',\n",
       " 'PortuguÃªs',\n",
       " 'Polski']"
      ]
     },
     "execution_count": 208,
     "metadata": {},
     "output_type": "execute_result"
    }
   ],
   "source": [
    "lis_keys = []\n",
    "\n",
    "for i in range(11):\n",
    "    \n",
    "    lis_keys.append(soup.find_all('strong')[i].text.strip())\n",
    "    \n",
    "lis_wanted\n",
    "\n",
    "keys = lis_keys[1:11]\n",
    "\n",
    "keys"
   ]
  },
  {
   "cell_type": "code",
   "execution_count": 211,
   "metadata": {},
   "outputs": [
    {
     "data": {
      "text/plain": [
       "['//en.wikipedia.org/',\n",
       " '//ja.wikipedia.org/',\n",
       " '//ru.wikipedia.org/',\n",
       " '//de.wikipedia.org/',\n",
       " '//es.wikipedia.org/',\n",
       " '//fr.wikipedia.org/',\n",
       " '//zh.wikipedia.org/',\n",
       " '//it.wikipedia.org/',\n",
       " '//pt.wikipedia.org/',\n",
       " '//pl.wikipedia.org/']"
      ]
     },
     "execution_count": 211,
     "metadata": {},
     "output_type": "execute_result"
    }
   ],
   "source": [
    "values = []\n",
    "\n",
    "for i in range(10):\n",
    "    \n",
    "    values.append(soup.find_all('a')[i].attrs['href'])\n",
    "    \n",
    "\n",
    "values"
   ]
  },
  {
   "cell_type": "code",
   "execution_count": 213,
   "metadata": {},
   "outputs": [
    {
     "data": {
      "text/plain": [
       "['https://en.wikipedia.org/',\n",
       " 'https://ja.wikipedia.org/',\n",
       " 'https://ru.wikipedia.org/',\n",
       " 'https://de.wikipedia.org/',\n",
       " 'https://es.wikipedia.org/',\n",
       " 'https://fr.wikipedia.org/',\n",
       " 'https://zh.wikipedia.org/',\n",
       " 'https://it.wikipedia.org/',\n",
       " 'https://pt.wikipedia.org/',\n",
       " 'https://pl.wikipedia.org/']"
      ]
     },
     "execution_count": 213,
     "metadata": {},
     "output_type": "execute_result"
    }
   ],
   "source": [
    "values2 = []\n",
    "\n",
    "for i in range(len(values)):\n",
    "   \n",
    "    if 'https:' not in values[i]:\n",
    "        values2.append('https:' + values[i])\n",
    "    else:\n",
    "        values2.append(values[i])\n",
    "\n",
    "values2"
   ]
  },
  {
   "cell_type": "code",
   "execution_count": 214,
   "metadata": {},
   "outputs": [
    {
     "data": {
      "text/plain": [
       "{'English': 'https://en.wikipedia.org/',\n",
       " 'æ\\x97¥æ\\x9c¬èª\\x9e': 'https://ja.wikipedia.org/',\n",
       " 'Ð\\xa0Ñ\\x83Ñ\\x81Ñ\\x81ÐºÐ¸Ð¹': 'https://ru.wikipedia.org/',\n",
       " 'Deutsch': 'https://de.wikipedia.org/',\n",
       " 'EspaÃ±ol': 'https://es.wikipedia.org/',\n",
       " 'FranÃ§ais': 'https://fr.wikipedia.org/',\n",
       " 'ä¸\\xadæ\\x96\\x87': 'https://zh.wikipedia.org/',\n",
       " 'Italiano': 'https://it.wikipedia.org/',\n",
       " 'PortuguÃªs': 'https://pt.wikipedia.org/',\n",
       " 'Polski': 'https://pl.wikipedia.org/'}"
      ]
     },
     "execution_count": 214,
     "metadata": {},
     "output_type": "execute_result"
    }
   ],
   "source": [
    "dict_from_list = dict(zip(keys, values2))\n",
    "\n",
    "dict_from_list"
   ]
  },
  {
   "cell_type": "markdown",
   "metadata": {},
   "source": [
    "# Ejercicio 8\n",
    "\n",
    "Crea una lista de las clases de datos disponibles en:\n",
    "\n",
    "https://data.gov.uk"
   ]
  },
  {
   "cell_type": "code",
   "execution_count": 233,
   "metadata": {},
   "outputs": [],
   "source": [
    "url = 'https://data.gov.uk'"
   ]
  },
  {
   "cell_type": "code",
   "execution_count": 234,
   "metadata": {},
   "outputs": [],
   "source": [
    "html = req.get(url).text\n",
    "\n",
    "soup = bs(html, 'html.parser')"
   ]
  },
  {
   "cell_type": "code",
   "execution_count": 242,
   "metadata": {},
   "outputs": [
    {
     "data": {
      "text/plain": [
       "'Government reference data'"
      ]
     },
     "execution_count": 242,
     "metadata": {},
     "output_type": "execute_result"
    }
   ],
   "source": [
    "data = soup.find_all('a')[9:23]\n",
    "\n",
    "data[-1].text"
   ]
  },
  {
   "cell_type": "code",
   "execution_count": 243,
   "metadata": {},
   "outputs": [
    {
     "data": {
      "text/plain": [
       "['Business and economy',\n",
       " 'Crime and justice',\n",
       " 'Defence',\n",
       " 'Education',\n",
       " 'Environment',\n",
       " 'Government',\n",
       " 'Government spending',\n",
       " 'Health',\n",
       " 'Mapping',\n",
       " 'Society',\n",
       " 'Towns and cities',\n",
       " 'Transport',\n",
       " 'Digital service performance',\n",
       " 'Government reference data']"
      ]
     },
     "execution_count": 243,
     "metadata": {},
     "output_type": "execute_result"
    }
   ],
   "source": [
    "lis_data = []\n",
    "\n",
    "for i in range(len(data)):\n",
    "    \n",
    "    lis_data.append(data[i].text.strip())\n",
    "    \n",
    "lis_data"
   ]
  },
  {
   "cell_type": "markdown",
   "metadata": {},
   "source": [
    "# Ejercicio 9\n",
    "\n",
    "Crea una lista con los 10 idiomas más hablados.\n",
    "\n",
    "https://en.wikipedia.org/wiki/List_of_languages_by_number_of_native_speakers"
   ]
  },
  {
   "cell_type": "code",
   "execution_count": 244,
   "metadata": {},
   "outputs": [],
   "source": [
    "url = 'https://en.wikipedia.org/wiki/List_of_languages_by_number_of_native_speakers'"
   ]
  },
  {
   "cell_type": "code",
   "execution_count": 245,
   "metadata": {},
   "outputs": [],
   "source": [
    "html = req.get(url).text\n",
    "\n",
    "soup = bs(html, 'html.parser')"
   ]
  },
  {
   "cell_type": "code",
   "execution_count": 273,
   "metadata": {},
   "outputs": [
    {
     "data": {
      "text/plain": [
       "'Spanish'"
      ]
     },
     "execution_count": 273,
     "metadata": {},
     "output_type": "execute_result"
    }
   ],
   "source": []
  },
  {
   "cell_type": "markdown",
   "metadata": {},
   "source": [
    "# Ejercicio 10\n",
    "\n",
    "Crea una dataframe de las 250 peliculas top en IMDB con nombre, año, director y estrellas.\n",
    "\n",
    "https://www.imdb.com/chart/top"
   ]
  },
  {
   "cell_type": "code",
   "execution_count": null,
   "metadata": {},
   "outputs": [],
   "source": []
  },
  {
   "cell_type": "code",
   "execution_count": null,
   "metadata": {},
   "outputs": [],
   "source": []
  },
  {
   "cell_type": "code",
   "execution_count": null,
   "metadata": {},
   "outputs": [],
   "source": []
  },
  {
   "cell_type": "code",
   "execution_count": null,
   "metadata": {},
   "outputs": [],
   "source": []
  },
  {
   "cell_type": "code",
   "execution_count": null,
   "metadata": {},
   "outputs": [],
   "source": []
  }
 ],
 "metadata": {
  "kernelspec": {
   "display_name": "Python 3",
   "language": "python",
   "name": "python3"
  },
  "language_info": {
   "codemirror_mode": {
    "name": "ipython",
    "version": 3
   },
   "file_extension": ".py",
   "mimetype": "text/x-python",
   "name": "python",
   "nbconvert_exporter": "python",
   "pygments_lexer": "ipython3",
   "version": "3.8.8"
  }
 },
 "nbformat": 4,
 "nbformat_minor": 4
}
