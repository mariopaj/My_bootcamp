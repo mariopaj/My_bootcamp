{
 "cells": [
  {
   "cell_type": "markdown",
   "id": "99fff3ea",
   "metadata": {},
   "source": [
    "# Ejercicios Intro Pandas\n",
    "\n",
    "![imagen](img/ejercicios.png)"
   ]
  },
  {
   "cell_type": "markdown",
   "id": "e70f7da1",
   "metadata": {},
   "source": [
    "## Ejercicio 1\n",
    "Importa el módulo `pandas` y el módulo `numpy`."
   ]
  },
  {
   "cell_type": "code",
   "execution_count": null,
   "id": "d2b0adcd",
   "metadata": {},
   "outputs": [],
   "source": []
  },
  {
   "cell_type": "markdown",
   "id": "3ade1ed1",
   "metadata": {},
   "source": [
    "## Ejercicio 2\n",
    "\n",
    "Define una lista de 10 elementos y crea con ella un objeto `pandas.Series`."
   ]
  },
  {
   "cell_type": "code",
   "execution_count": null,
   "id": "88b3e998",
   "metadata": {},
   "outputs": [],
   "source": []
  },
  {
   "cell_type": "code",
   "execution_count": null,
   "id": "48335607",
   "metadata": {},
   "outputs": [],
   "source": []
  },
  {
   "cell_type": "markdown",
   "id": "67159926",
   "metadata": {},
   "source": [
    "## Ejercicio 3\n",
    "\n",
    "Usa los índices para devolver el cuarto valor de la serie anterior.\n",
    "\n",
    "*Recuerda que los índices en Python empiezan en 0.*"
   ]
  },
  {
   "cell_type": "code",
   "execution_count": null,
   "id": "8054f4b3",
   "metadata": {},
   "outputs": [],
   "source": []
  },
  {
   "cell_type": "markdown",
   "id": "b14ebffa",
   "metadata": {},
   "source": [
    "## Ejercicio 4\n",
    "\n",
    "Define un `numpy.ndarray` de dimensiones (10, 5) y crea con él un `pandas.DataFrame`."
   ]
  },
  {
   "cell_type": "code",
   "execution_count": null,
   "id": "7e3669ee",
   "metadata": {},
   "outputs": [],
   "source": []
  },
  {
   "cell_type": "code",
   "execution_count": null,
   "id": "a8228cd2",
   "metadata": {},
   "outputs": [],
   "source": []
  },
  {
   "cell_type": "markdown",
   "id": "a8e46b27",
   "metadata": {},
   "source": [
    "## Ejercicio 5\n",
    "\n",
    "Renombra las columnas con la siguiente lista:"
   ]
  },
  {
   "cell_type": "code",
   "execution_count": null,
   "id": "45482e05",
   "metadata": {},
   "outputs": [],
   "source": [
    "columns = ['Rate_1', 'Rate_2', 'Rate_3', 'Rate_4', 'Rate_5']"
   ]
  },
  {
   "cell_type": "code",
   "execution_count": null,
   "id": "4f19bac6",
   "metadata": {},
   "outputs": [],
   "source": []
  },
  {
   "cell_type": "markdown",
   "id": "a3910466",
   "metadata": {},
   "source": [
    "## Ejercicio 6\n",
    "\n",
    "Crea un subconjunto del dataframe que contenga las columnas `Rate_1`, `Rate_3` y `Rate_5`."
   ]
  },
  {
   "cell_type": "code",
   "execution_count": null,
   "id": "33b01233",
   "metadata": {},
   "outputs": [],
   "source": []
  },
  {
   "cell_type": "markdown",
   "id": "875589f0",
   "metadata": {},
   "source": [
    "## Ejercicio 7\n",
    "\n",
    "Crea un subconjunto del dataframe que contenga las filas pares."
   ]
  },
  {
   "cell_type": "code",
   "execution_count": null,
   "id": "3de3e518",
   "metadata": {},
   "outputs": [],
   "source": []
  },
  {
   "cell_type": "markdown",
   "id": "27b3fe24",
   "metadata": {},
   "source": [
    "## Ejercicio 8\n",
    "\n",
    "Calcula la media de la columna `Rate_4`."
   ]
  },
  {
   "cell_type": "code",
   "execution_count": null,
   "id": "813a5781",
   "metadata": {},
   "outputs": [],
   "source": []
  },
  {
   "cell_type": "markdown",
   "id": "f6cbe38c",
   "metadata": {},
   "source": [
    "## Ejercicio 8\n",
    "\n",
    "Calcula la mediana de la columna `Rate_1`."
   ]
  },
  {
   "cell_type": "code",
   "execution_count": null,
   "id": "afaee0f2",
   "metadata": {},
   "outputs": [],
   "source": []
  },
  {
   "cell_type": "markdown",
   "id": "a11d9fc6",
   "metadata": {},
   "source": [
    "## Ejercicio 9\n",
    "\n",
    "Calcula el mínimo de la columna `Rate_2`."
   ]
  },
  {
   "cell_type": "code",
   "execution_count": null,
   "id": "a8d50f79",
   "metadata": {},
   "outputs": [],
   "source": []
  },
  {
   "cell_type": "markdown",
   "id": "539a8999",
   "metadata": {},
   "source": [
    "## Ejercicio 10\n",
    "\n",
    "Calcula el máximo de la columna `Rate_5`."
   ]
  },
  {
   "cell_type": "code",
   "execution_count": null,
   "id": "6b317e57",
   "metadata": {},
   "outputs": [],
   "source": []
  },
  {
   "cell_type": "markdown",
   "id": "5eeb3de9",
   "metadata": {},
   "source": [
    "## Ejercicio 11\n",
    "\n",
    "Crea un `pandas.DataFrame` con el siguiente diccionario:"
   ]
  },
  {
   "cell_type": "code",
   "execution_count": null,
   "id": "50900e98",
   "metadata": {},
   "outputs": [],
   "source": [
    "products = {'Desc': ['Lunch bag', 'Vintage leaf cake cases', 'Ribbon reel stripes','Gliders', 'Playing cards',\n",
    "                     'Popcorn holder', 'Alphabet blocks', 'Party bunting', 'Color Pen', 'Paint book'],\n",
    "           'Quantity': [1, 24, 1, 2880, 2, 7, 1, 4, 10, 48],\n",
    "           'UnitPrice': [1.65, 0.55, 1.65, 0.18, 1.25, 0.85, 11.95, 4.95, 0.19, 1.25],\n",
    "           'Revenue': [1.65, 13.2, 1.65, 518.4, 2.5, 5.95, 11.95, 19.8, 1.9, 60.0]}"
   ]
  },
  {
   "cell_type": "code",
   "execution_count": null,
   "id": "af4d8225",
   "metadata": {},
   "outputs": [],
   "source": []
  },
  {
   "cell_type": "markdown",
   "id": "77c4d987",
   "metadata": {},
   "source": [
    "## Ejercicio 12\n",
    "\n",
    "Calcula la cantidad (`Quantity`) y beneficio (`Revenue`) totales."
   ]
  },
  {
   "cell_type": "code",
   "execution_count": null,
   "id": "17db53f0",
   "metadata": {},
   "outputs": [],
   "source": []
  },
  {
   "cell_type": "code",
   "execution_count": null,
   "id": "39e2ecdf",
   "metadata": {},
   "outputs": [],
   "source": []
  },
  {
   "cell_type": "markdown",
   "id": "5a025c21",
   "metadata": {},
   "source": [
    "## Ejercicio 13\n",
    "\n",
    "¿Cuál es el producto más caro?. ¿El más barato?. ¿Y el más vendido?"
   ]
  },
  {
   "cell_type": "code",
   "execution_count": null,
   "id": "f0e544a5",
   "metadata": {},
   "outputs": [],
   "source": []
  },
  {
   "cell_type": "code",
   "execution_count": null,
   "id": "fdf77c1b",
   "metadata": {},
   "outputs": [],
   "source": []
  },
  {
   "cell_type": "code",
   "execution_count": null,
   "id": "ca605fcc",
   "metadata": {},
   "outputs": [],
   "source": []
  },
  {
   "cell_type": "code",
   "execution_count": null,
   "id": "cf2a0e89",
   "metadata": {},
   "outputs": [],
   "source": []
  }
 ],
 "metadata": {
  "kernelspec": {
   "display_name": "clase",
   "language": "python",
   "name": "clase"
  },
  "language_info": {
   "codemirror_mode": {
    "name": "ipython",
    "version": 3
   },
   "file_extension": ".py",
   "mimetype": "text/x-python",
   "name": "python",
   "nbconvert_exporter": "python",
   "pygments_lexer": "ipython3",
   "version": "3.8.8"
  }
 },
 "nbformat": 4,
 "nbformat_minor": 5
}
