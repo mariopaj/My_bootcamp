{
 "cells": [
  {
   "cell_type": "markdown",
   "metadata": {},
   "source": [
    "![imagen](./img/sql_murder.png)\n",
    "\n",
    "# Ejercicio SQL Murder\n",
    "Para este ejercicio vas a ponerte la gabardina y el sombrero ya que tendrás que investigar un asesinato en *SQL City*. \n",
    "\n",
    "Aplicarás los conecptos básicos de SQL y aprenderás a manejarte con un modelo de datos, mientras resuelves un caso de asesinato :)\n",
    "\n",
    "Este espectacular juego está creado por **Joon Park y Cathy He**, y podrás encontrar todos los detalles en [su web](http://mystery.knightlab.com)\n",
    "\n",
    "Para realizar el ejercicio tienes dos opciones, o bien desde la propia web, donde encontrarás un intérprete de sentencias SQL interactivo. Si usas esta opción te recomiendo que vayas apuntando las queries y sus outputs. O la otra opción es [acudir a su GitHub](https://github.com/NUKnightLab/sql-mysteries), descargarte la base de datos y realizar las queries desde Jupyter. Probablemente la primera opción te sea más cómoda\n",
    "\n",
    "\n",
    "### Enunciado\n",
    "A crime has taken place and the detective needs your help. The detective gave you the crime scene report, but you somehow lost it. You vaguely remember that the crime was a **murder** that occurred sometime on **Jan.15, 2018** and that it took place in **SQL City**. Start by retrieving the corresponding crime scene report from the police department’s database.\n",
    "\n",
    "\n",
    "### Modelo de datos\n",
    "![imagen](./img/sql_game_schemma.png)\n",
    "\n",
    "¡Suerte Sherlock!"
   ]
  },
  {
   "cell_type": "markdown",
   "metadata": {},
   "source": [
    "### Este código es una reproducción del que hemos elaborado en la página"
   ]
  },
  {
   "cell_type": "code",
   "execution_count": null,
   "metadata": {},
   "outputs": [],
   "source": [
    "#Recuperamso el informe sabiendo que fue un asesinato en 15/01/2018\n",
    "\n",
    "select * \n",
    "    from crime_scene_report \n",
    "        where date = '20180115' \n",
    "            and type = 'murder' \n",
    "            and city = 'SQL City';\n",
    "\n",
    "# Hay 2 testigos el 1º vive en Northwestern Dr (última casa) y la 2ª se llama Annabel y vive en Franklin Ave"
   ]
  },
  {
   "cell_type": "code",
   "execution_count": null,
   "metadata": {},
   "outputs": [],
   "source": [
    "# Vemos lo que dijo Annabel (2º testigo)\n",
    "\n",
    "select * \n",
    "    from person\n",
    "        inner join interview on person.id = interview.person_id\n",
    "            where address_street_name = 'Franklin Ave'\n",
    "                and name like '%Annabel%'\n",
    "                or (address_street_name = 'Northwestern Dr'\n",
    "                and address_number = (select max(address_number) from person));\n",
    "\n",
    "\n",
    "# Morty (1º testigo),vió que llevaba una bolsa de Get Fit Now Gym(Nº de bolsa \"48Z\", pertenece a un miembro dorado),\n",
    "# Se montó en un coche cuya matrícula empezaba por \"H42W\"\n",
    "\n",
    "# Annabel reconoció al asesino en su gimnasio el 9 de enero "
   ]
  },
  {
   "cell_type": "code",
   "execution_count": null,
   "metadata": {},
   "outputs": [],
   "source": [
    "select * \n",
    "\tfrom person\n",
    "\t\tinner join get_fit_now_member on person.id = get_fit_now_member.person_id\n",
    "\t\tinner join drivers_license on person.license_id = drivers_license.id\n",
    "\t\t\twhere membership_status = 'gold' \n",
    "\t\t\t\tand membership_start_date <= '20180109'\n",
    "\t\t\t\tand plate_number like '%H42W%';\n",
    "                \n",
    "# Parece que el asesino es Jeremy Bowers con id = 67318, veamos su entrevista para comprobar si es así realmente"
   ]
  },
  {
   "cell_type": "code",
   "execution_count": null,
   "metadata": {},
   "outputs": [],
   "source": [
    "select * \n",
    "\tfrom interview\n",
    "\t\twhere person_id = 67318 \n",
    "\n",
    "# Vemos la entrevista del asesino"
   ]
  },
  {
   "cell_type": "code",
   "execution_count": null,
   "metadata": {},
   "outputs": [],
   "source": [
    "select * \n",
    "\tfrom person\n",
    "\t\tinner join drivers_license on person.license_id = drivers_license.id\n",
    "\t\tinner join facebook_event_checkin on person.id = facebook_event_checkin.person_id\n",
    "\t\t\twhere car_make = 'Tesla'\n",
    "\t\t\t\tand car_model = 'Model S'\n",
    "\t\t\t\tand hair_color = 'red'\n",
    "\t\t\t\tand event_name = 'SQL Symphony Concert'\n",
    "\t\t\t\tand height >= 65 and height <= 67;\n",
    "                \n",
    "# La encargada del asesinato fue Miranda Priestly"
   ]
  }
 ],
 "metadata": {
  "kernelspec": {
   "display_name": "Python 3 (ipykernel)",
   "language": "python",
   "name": "python3"
  },
  "language_info": {
   "codemirror_mode": {
    "name": "ipython",
    "version": 3
   },
   "file_extension": ".py",
   "mimetype": "text/x-python",
   "name": "python",
   "nbconvert_exporter": "python",
   "pygments_lexer": "ipython3",
   "version": "3.9.7"
  }
 },
 "nbformat": 4,
 "nbformat_minor": 4
}
