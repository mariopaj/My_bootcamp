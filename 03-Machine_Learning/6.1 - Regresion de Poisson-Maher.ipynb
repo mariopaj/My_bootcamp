{
 "cells": [
  {
   "cell_type": "markdown",
   "id": "466d51c9",
   "metadata": {},
   "source": [
    "# Recordatorio distribución de Poisson"
   ]
  },
  {
   "cell_type": "markdown",
   "id": "45198b28",
   "metadata": {},
   "source": [
    "$$X \\sim Poisson(\\lambda)$$\n",
    "\n",
    "$$P(X=k)=\\frac{\\lambda ^{k}e^{-\\lambda }}{k!}$$\n",
    "\n",
    "para $k = 0, 1, 2,..$\n",
    "\n",
    "La distribución de Poisson es una distribución de probabilidad discreta que expresa, a partir de una frecuencia de ocurrencia media, la probabilidad de que ocurra un determinado número de eventos durante cierto período de tiempo. Concretamente, se especializa en la probabilidad de ocurrencia de sucesos con probabilidades muy pequeñas, o sucesos raros. "
   ]
  },
  {
   "cell_type": "code",
   "execution_count": 1,
   "id": "71f47a80",
   "metadata": {},
   "outputs": [],
   "source": [
    "from scipy.stats import poisson        # distribucion de poisson\n",
    "\n",
    "import pylab as plt\n",
    "import seaborn as sns"
   ]
  },
  {
   "cell_type": "code",
   "execution_count": 2,
   "id": "10d1e7d6",
   "metadata": {},
   "outputs": [
    {
     "data": {
      "image/png": "[encoded data removed]",
      "text/plain": [
       "<Figure size 432x288 with 1 Axes>"
      ]
     },
     "metadata": {
      "needs_background": "light"
     },
     "output_type": "display_data"
    }
   ],
   "source": [
    "x=[i for i in range(20)]  # nº de sucesos, eje x\n",
    "\n",
    "lamb=2.4  # media de ocurrencia\n",
    "\n",
    "y=[poisson.pmf(x, lamb) for x in x]   # evaluacion de la pmf para cada nº de sucesos, eje y\n",
    "\n",
    "plt.plot(x, y);"
   ]
  },
  {
   "cell_type": "markdown",
   "id": "48661a3c",
   "metadata": {},
   "source": [
    "# Modelo de Dixon-Coles (Maher)\n",
    "\n",
    "La idea detrás del modelo de [Dixon-Coles](http://web.math.ku.dk/~rolf/teaching/thesis/DixonColes.pdf) es que el gol es un evento raro en un partido de fútbol y se podría usar la distribución de Poisson para predecir el resultado de un partido.\n",
    "\n",
    "\n",
    "Para el nº de goles X del equipo local i-esimo y el nº de goles Y del equipo visitante j-esimo se tendria:"
   ]
  },
  {
   "cell_type": "markdown",
   "id": "93731113",
   "metadata": {},
   "source": [
    "$$X \\sim Poisson(\\lambda)$$\n",
    "\n",
    "$$P(X=k)=\\frac{\\lambda^{k}e^{-\\lambda}}{k!}$$"
   ]
  },
  {
   "cell_type": "markdown",
   "id": "b0e588da",
   "metadata": {},
   "source": [
    "$$Y \\sim Poisson(\\mu)$$\n",
    "\n",
    "$$P(Y=k)=\\frac{\\mu^{k}e^{-\\mu}}{k!}$$"
   ]
  },
  {
   "cell_type": "markdown",
   "id": "150be319",
   "metadata": {},
   "source": [
    "donde:\n",
    "\n",
    "$\\lambda = \\gamma\\alpha_{i}\\beta_{j} = \\exp^{(\\gamma+\\alpha_{i}+\\beta_{j})}$\n",
    "\n",
    "$\\mu = \\alpha_{j}\\beta_{i}  = \\exp^{(\\alpha_{j}+\\beta_{i})}$"
   ]
  },
  {
   "cell_type": "markdown",
   "id": "8434a6cf",
   "metadata": {},
   "source": [
    "El modelo introduce varios parámetros para relacionar los equipos y los partidos, un parámetro llamado `gamma` es el parámetro de jugar en casa, los parámetros llamados `alfa` son los parámetros de ataque de cada equipo y los parámetros `beta` son los de defensa de cada equipo."
   ]
  },
  {
   "cell_type": "markdown",
   "id": "47f44cc2",
   "metadata": {},
   "source": [
    "Asi pues, la funcion que define el partido, la funcion principal del modelo, nuestro `predict` es:\n",
    "\n",
    "$$P(X=x, Y=y)=\\frac{\\lambda^{x}e^{-\\lambda}}{x!} · \\frac{\\mu^{y}e^{-\\mu}}{y!}$$"
   ]
  },
  {
   "cell_type": "markdown",
   "id": "e2253963",
   "metadata": {},
   "source": [
    "La funcion de coste o perdida, nuestro `fit`, en este caso se calcula con la [estamacion maximo verosimil](https://es.wikipedia.org/wiki/M%C3%A1xima_verosimilitud). Sería el productorio en todo el espacio de probabilidad de la funcion principal, llamada funcion de verosimilitud.\n",
    "\n",
    "$$L(X=x, Y=y)=\\prod_{i=1}^{n}\\frac{\\lambda^{x}e^{-\\lambda}}{x!} · \\frac{\\mu^{y}e^{-\\mu}}{y!}$$"
   ]
  },
  {
   "cell_type": "markdown",
   "id": "321a82a3",
   "metadata": {},
   "source": [
    "Debido a la regla de la cadena, minimizar esta funcion es muy costoso, por lo que se realiza un truco matematico que consiste en aplicar el logaritmo. Esto es debido a la regla de los logaritmos: $log(a·b)=log(a)+log(b)$. Por tanto, la nueva funcion a ser optimizada (maximizada) es llamada log-verosimilitud.\n",
    "\n",
    "$$l(X=x, Y=y)=\\sum_{i=1}^{n}\\log(\\frac{\\lambda^{x}e^{-\\lambda}}{x!}) + \\log(\\frac{\\mu^{y}e^{-\\mu}}{y!})$$"
   ]
  },
  {
   "cell_type": "markdown",
   "id": "7a1f1237",
   "metadata": {},
   "source": [
    "La idea es: dados los resultados de los partidos de futbol, estimar el parametro de jugar en casa `gamma`, los parametros de ataque para cada equipo `alfa` y los parametros de defensa para cada equipo `beta`."
   ]
  },
  {
   "cell_type": "markdown",
   "id": "97a7c5aa",
   "metadata": {},
   "source": [
    "### Datos\n",
    "\n",
    "Veamos primero la extracción de datos desde [aqui](https://www.football-data.co.uk/)."
   ]
  },
  {
   "cell_type": "code",
   "execution_count": 3,
   "id": "8ffed00c",
   "metadata": {},
   "outputs": [],
   "source": [
    "import warnings\n",
    "warnings.simplefilter('ignore')\n",
    "\n",
    "import pandas as pd\n",
    "pd.set_option('display.max_columns', None)"
   ]
  },
  {
   "cell_type": "code",
   "execution_count": 4,
   "id": "66fe7b84",
   "metadata": {},
   "outputs": [
    {
     "data": {
      "text/html": [
       "<div>\n",
       "<style scoped>\n",
       "    .dataframe tbody tr th:only-of-type {\n",
       "        vertical-align: middle;\n",
       "    }\n",
       "\n",
       "    .dataframe tbody tr th {\n",
       "        vertical-align: top;\n",
       "    }\n",
       "\n",
       "    .dataframe thead th {\n",
       "        text-align: right;\n",
       "    }\n",
       "</style>\n",
       "<table border=\"1\" class=\"dataframe\">\n",
       "  <thead>\n",
       "    <tr style=\"text-align: right;\">\n",
       "      <th></th>\n",
       "      <th>Div</th>\n",
       "      <th>Date</th>\n",
       "      <th>HomeTeam</th>\n",
       "      <th>AwayTeam</th>\n",
       "      <th>FTHG</th>\n",
       "      <th>FTAG</th>\n",
       "      <th>FTR</th>\n",
       "      <th>HTHG</th>\n",
       "      <th>HTAG</th>\n",
       "      <th>HTR</th>\n",
       "      <th>GBH</th>\n",
       "      <th>GBD</th>\n",
       "      <th>GBA</th>\n",
       "      <th>IWH</th>\n",
       "      <th>IWD</th>\n",
       "      <th>IWA</th>\n",
       "      <th>LBH</th>\n",
       "      <th>LBD</th>\n",
       "      <th>LBA</th>\n",
       "      <th>SBH</th>\n",
       "      <th>SBD</th>\n",
       "      <th>SBA</th>\n",
       "      <th>WHH</th>\n",
       "      <th>WHD</th>\n",
       "      <th>WHA</th>\n",
       "    </tr>\n",
       "  </thead>\n",
       "  <tbody>\n",
       "    <tr>\n",
       "      <th>0</th>\n",
       "      <td>SP1</td>\n",
       "      <td>09/09/00</td>\n",
       "      <td>Barcelona</td>\n",
       "      <td>Malaga</td>\n",
       "      <td>2</td>\n",
       "      <td>1</td>\n",
       "      <td>H</td>\n",
       "      <td>2</td>\n",
       "      <td>0</td>\n",
       "      <td>H</td>\n",
       "      <td>1.28</td>\n",
       "      <td>3.90</td>\n",
       "      <td>7.90</td>\n",
       "      <td>1.25</td>\n",
       "      <td>4.3</td>\n",
       "      <td>8.0</td>\n",
       "      <td>1.35</td>\n",
       "      <td>3.75</td>\n",
       "      <td>8.0</td>\n",
       "      <td>1.30</td>\n",
       "      <td>4.33</td>\n",
       "      <td>8.50</td>\n",
       "      <td>1.28</td>\n",
       "      <td>4.50</td>\n",
       "      <td>8.00</td>\n",
       "    </tr>\n",
       "    <tr>\n",
       "      <th>1</th>\n",
       "      <td>SP1</td>\n",
       "      <td>09/09/00</td>\n",
       "      <td>La Coruna</td>\n",
       "      <td>Ath Bilbao</td>\n",
       "      <td>2</td>\n",
       "      <td>0</td>\n",
       "      <td>H</td>\n",
       "      <td>0</td>\n",
       "      <td>0</td>\n",
       "      <td>D</td>\n",
       "      <td>1.51</td>\n",
       "      <td>3.20</td>\n",
       "      <td>6.20</td>\n",
       "      <td>1.55</td>\n",
       "      <td>3.3</td>\n",
       "      <td>4.5</td>\n",
       "      <td>1.55</td>\n",
       "      <td>3.25</td>\n",
       "      <td>5.5</td>\n",
       "      <td>1.53</td>\n",
       "      <td>3.50</td>\n",
       "      <td>5.50</td>\n",
       "      <td>1.57</td>\n",
       "      <td>3.50</td>\n",
       "      <td>5.00</td>\n",
       "    </tr>\n",
       "    <tr>\n",
       "      <th>2</th>\n",
       "      <td>SP1</td>\n",
       "      <td>09/09/00</td>\n",
       "      <td>Real Madrid</td>\n",
       "      <td>Valencia</td>\n",
       "      <td>2</td>\n",
       "      <td>1</td>\n",
       "      <td>H</td>\n",
       "      <td>0</td>\n",
       "      <td>0</td>\n",
       "      <td>D</td>\n",
       "      <td>1.65</td>\n",
       "      <td>3.20</td>\n",
       "      <td>4.10</td>\n",
       "      <td>1.60</td>\n",
       "      <td>3.2</td>\n",
       "      <td>4.2</td>\n",
       "      <td>1.55</td>\n",
       "      <td>3.50</td>\n",
       "      <td>5.0</td>\n",
       "      <td>1.67</td>\n",
       "      <td>3.30</td>\n",
       "      <td>4.75</td>\n",
       "      <td>1.66</td>\n",
       "      <td>3.30</td>\n",
       "      <td>4.50</td>\n",
       "    </tr>\n",
       "    <tr>\n",
       "      <th>3</th>\n",
       "      <td>SP1</td>\n",
       "      <td>09/09/00</td>\n",
       "      <td>Sociedad</td>\n",
       "      <td>Santander</td>\n",
       "      <td>2</td>\n",
       "      <td>2</td>\n",
       "      <td>D</td>\n",
       "      <td>0</td>\n",
       "      <td>0</td>\n",
       "      <td>D</td>\n",
       "      <td>1.85</td>\n",
       "      <td>3.15</td>\n",
       "      <td>3.45</td>\n",
       "      <td>1.80</td>\n",
       "      <td>3.0</td>\n",
       "      <td>3.5</td>\n",
       "      <td>1.70</td>\n",
       "      <td>3.40</td>\n",
       "      <td>4.0</td>\n",
       "      <td>1.85</td>\n",
       "      <td>3.25</td>\n",
       "      <td>3.80</td>\n",
       "      <td>1.80</td>\n",
       "      <td>3.25</td>\n",
       "      <td>3.75</td>\n",
       "    </tr>\n",
       "    <tr>\n",
       "      <th>4</th>\n",
       "      <td>SP1</td>\n",
       "      <td>09/09/00</td>\n",
       "      <td>Zaragoza</td>\n",
       "      <td>Espanol</td>\n",
       "      <td>1</td>\n",
       "      <td>2</td>\n",
       "      <td>A</td>\n",
       "      <td>0</td>\n",
       "      <td>0</td>\n",
       "      <td>D</td>\n",
       "      <td>1.70</td>\n",
       "      <td>3.10</td>\n",
       "      <td>4.30</td>\n",
       "      <td>1.70</td>\n",
       "      <td>3.1</td>\n",
       "      <td>3.8</td>\n",
       "      <td>1.70</td>\n",
       "      <td>3.20</td>\n",
       "      <td>4.3</td>\n",
       "      <td>1.73</td>\n",
       "      <td>3.25</td>\n",
       "      <td>4.33</td>\n",
       "      <td>1.72</td>\n",
       "      <td>3.20</td>\n",
       "      <td>4.33</td>\n",
       "    </tr>\n",
       "  </tbody>\n",
       "</table>\n",
       "</div>"
      ],
      "text/plain": [
       "   Div      Date     HomeTeam    AwayTeam  FTHG  FTAG FTR  HTHG  HTAG HTR  \\\n",
       "0  SP1  09/09/00    Barcelona      Malaga     2     1   H     2     0   H   \n",
       "1  SP1  09/09/00    La Coruna  Ath Bilbao     2     0   H     0     0   D   \n",
       "2  SP1  09/09/00  Real Madrid    Valencia     2     1   H     0     0   D   \n",
       "3  SP1  09/09/00     Sociedad   Santander     2     2   D     0     0   D   \n",
       "4  SP1  09/09/00     Zaragoza     Espanol     1     2   A     0     0   D   \n",
       "\n",
       "    GBH   GBD   GBA   IWH  IWD  IWA   LBH   LBD  LBA   SBH   SBD   SBA   WHH  \\\n",
       "0  1.28  3.90  7.90  1.25  4.3  8.0  1.35  3.75  8.0  1.30  4.33  8.50  1.28   \n",
       "1  1.51  3.20  6.20  1.55  3.3  4.5  1.55  3.25  5.5  1.53  3.50  5.50  1.57   \n",
       "2  1.65  3.20  4.10  1.60  3.2  4.2  1.55  3.50  5.0  1.67  3.30  4.75  1.66   \n",
       "3  1.85  3.15  3.45  1.80  3.0  3.5  1.70  3.40  4.0  1.85  3.25  3.80  1.80   \n",
       "4  1.70  3.10  4.30  1.70  3.1  3.8  1.70  3.20  4.3  1.73  3.25  4.33  1.72   \n",
       "\n",
       "    WHD   WHA  \n",
       "0  4.50  8.00  \n",
       "1  3.50  5.00  \n",
       "2  3.30  4.50  \n",
       "3  3.25  3.75  \n",
       "4  3.20  4.33  "
      ]
     },
     "execution_count": 4,
     "metadata": {},
     "output_type": "execute_result"
    }
   ],
   "source": [
    "df=pd.read_csv('https://www.football-data.co.uk/mmz4281/0001/SP1.csv')\n",
    "\n",
    "df.head()"
   ]
  },
  {
   "cell_type": "code",
   "execution_count": 5,
   "id": "a8b2f011",
   "metadata": {},
   "outputs": [
    {
     "data": {
      "text/plain": [
       "(380, 5)"
      ]
     },
     "execution_count": 5,
     "metadata": {},
     "output_type": "execute_result"
    }
   ],
   "source": [
    "df=df[['Date', 'HomeTeam', 'AwayTeam', 'FTHG', 'FTAG']]\n",
    "\n",
    "df.shape"
   ]
  },
  {
   "cell_type": "code",
   "execution_count": 6,
   "id": "8aafc6c2",
   "metadata": {},
   "outputs": [
    {
     "data": {
      "text/plain": [
       "(8116, 5)"
      ]
     },
     "execution_count": 6,
     "metadata": {},
     "output_type": "execute_result"
    }
   ],
   "source": [
    "for i in range(1, 22):\n",
    "    \n",
    "    year=''\n",
    "    if i<9:\n",
    "        year=f'0{i}0{i+1}'\n",
    "    elif i==9:\n",
    "        year=f'0{i}{i+1}'\n",
    "    else:\n",
    "        year=f'{i}{i+1}'\n",
    "    \n",
    "    n_df=pd.read_csv(f'https://www.football-data.co.uk/mmz4281/{year}/SP1.csv',\n",
    "                    error_bad_lines=False,\n",
    "                    warn_bad_lines=False)[['Date', 'HomeTeam', 'AwayTeam', 'FTHG', 'FTAG']]\n",
    "    \n",
    "    df=pd.concat([df, n_df])\n",
    "    \n",
    "df.shape"
   ]
  },
  {
   "cell_type": "code",
   "execution_count": 7,
   "id": "a2c971a1",
   "metadata": {},
   "outputs": [
    {
     "data": {
      "text/html": [
       "<div>\n",
       "<style scoped>\n",
       "    .dataframe tbody tr th:only-of-type {\n",
       "        vertical-align: middle;\n",
       "    }\n",
       "\n",
       "    .dataframe tbody tr th {\n",
       "        vertical-align: top;\n",
       "    }\n",
       "\n",
       "    .dataframe thead th {\n",
       "        text-align: right;\n",
       "    }\n",
       "</style>\n",
       "<table border=\"1\" class=\"dataframe\">\n",
       "  <thead>\n",
       "    <tr style=\"text-align: right;\">\n",
       "      <th></th>\n",
       "      <th>Date</th>\n",
       "      <th>HomeTeam</th>\n",
       "      <th>AwayTeam</th>\n",
       "      <th>FTHG</th>\n",
       "      <th>FTAG</th>\n",
       "    </tr>\n",
       "  </thead>\n",
       "  <tbody>\n",
       "    <tr>\n",
       "      <th>0</th>\n",
       "      <td>09/09/00</td>\n",
       "      <td>barcelona</td>\n",
       "      <td>malaga</td>\n",
       "      <td>2</td>\n",
       "      <td>1</td>\n",
       "    </tr>\n",
       "    <tr>\n",
       "      <th>1</th>\n",
       "      <td>09/09/00</td>\n",
       "      <td>la_coruna</td>\n",
       "      <td>ath_bilbao</td>\n",
       "      <td>2</td>\n",
       "      <td>0</td>\n",
       "    </tr>\n",
       "    <tr>\n",
       "      <th>2</th>\n",
       "      <td>09/09/00</td>\n",
       "      <td>real_madrid</td>\n",
       "      <td>valencia</td>\n",
       "      <td>2</td>\n",
       "      <td>1</td>\n",
       "    </tr>\n",
       "    <tr>\n",
       "      <th>3</th>\n",
       "      <td>09/09/00</td>\n",
       "      <td>sociedad</td>\n",
       "      <td>santander</td>\n",
       "      <td>2</td>\n",
       "      <td>2</td>\n",
       "    </tr>\n",
       "    <tr>\n",
       "      <th>4</th>\n",
       "      <td>09/09/00</td>\n",
       "      <td>zaragoza</td>\n",
       "      <td>espanol</td>\n",
       "      <td>1</td>\n",
       "      <td>2</td>\n",
       "    </tr>\n",
       "  </tbody>\n",
       "</table>\n",
       "</div>"
      ],
      "text/plain": [
       "       Date     HomeTeam    AwayTeam  FTHG  FTAG\n",
       "0  09/09/00    barcelona      malaga     2     1\n",
       "1  09/09/00    la_coruna  ath_bilbao     2     0\n",
       "2  09/09/00  real_madrid    valencia     2     1\n",
       "3  09/09/00     sociedad   santander     2     2\n",
       "4  09/09/00     zaragoza     espanol     1     2"
      ]
     },
     "execution_count": 7,
     "metadata": {},
     "output_type": "execute_result"
    }
   ],
   "source": [
    "df.HomeTeam=df.HomeTeam.apply(lambda x: x.lower().replace(' ', '_'))\n",
    "df.AwayTeam=df.AwayTeam.apply(lambda x: x.lower().replace(' ', '_'))\n",
    "\n",
    "df.head()"
   ]
  },
  {
   "cell_type": "code",
   "execution_count": 8,
   "id": "458ca3be",
   "metadata": {},
   "outputs": [
    {
     "data": {
      "text/html": [
       "<div>\n",
       "<style scoped>\n",
       "    .dataframe tbody tr th:only-of-type {\n",
       "        vertical-align: middle;\n",
       "    }\n",
       "\n",
       "    .dataframe tbody tr th {\n",
       "        vertical-align: top;\n",
       "    }\n",
       "\n",
       "    .dataframe thead th {\n",
       "        text-align: right;\n",
       "    }\n",
       "</style>\n",
       "<table border=\"1\" class=\"dataframe\">\n",
       "  <thead>\n",
       "    <tr style=\"text-align: right;\">\n",
       "      <th></th>\n",
       "      <th>Date</th>\n",
       "      <th>HomeTeam</th>\n",
       "      <th>AwayTeam</th>\n",
       "      <th>FTHG</th>\n",
       "      <th>FTAG</th>\n",
       "    </tr>\n",
       "  </thead>\n",
       "  <tbody>\n",
       "    <tr>\n",
       "      <th>243</th>\n",
       "      <td>20/02/2022</td>\n",
       "      <td>espanol</td>\n",
       "      <td>sevilla</td>\n",
       "      <td>1</td>\n",
       "      <td>1</td>\n",
       "    </tr>\n",
       "    <tr>\n",
       "      <th>244</th>\n",
       "      <td>20/02/2022</td>\n",
       "      <td>valencia</td>\n",
       "      <td>barcelona</td>\n",
       "      <td>1</td>\n",
       "      <td>4</td>\n",
       "    </tr>\n",
       "    <tr>\n",
       "      <th>245</th>\n",
       "      <td>20/02/2022</td>\n",
       "      <td>betis</td>\n",
       "      <td>mallorca</td>\n",
       "      <td>2</td>\n",
       "      <td>1</td>\n",
       "    </tr>\n",
       "    <tr>\n",
       "      <th>246</th>\n",
       "      <td>20/02/2022</td>\n",
       "      <td>ath_bilbao</td>\n",
       "      <td>sociedad</td>\n",
       "      <td>4</td>\n",
       "      <td>0</td>\n",
       "    </tr>\n",
       "    <tr>\n",
       "      <th>247</th>\n",
       "      <td>21/02/2022</td>\n",
       "      <td>celta</td>\n",
       "      <td>levante</td>\n",
       "      <td>1</td>\n",
       "      <td>1</td>\n",
       "    </tr>\n",
       "  </tbody>\n",
       "</table>\n",
       "</div>"
      ],
      "text/plain": [
       "           Date    HomeTeam   AwayTeam  FTHG  FTAG\n",
       "243  20/02/2022     espanol    sevilla     1     1\n",
       "244  20/02/2022    valencia  barcelona     1     4\n",
       "245  20/02/2022       betis   mallorca     2     1\n",
       "246  20/02/2022  ath_bilbao   sociedad     4     0\n",
       "247  21/02/2022       celta    levante     1     1"
      ]
     },
     "execution_count": 8,
     "metadata": {},
     "output_type": "execute_result"
    }
   ],
   "source": [
    "df.tail()"
   ]
  },
  {
   "cell_type": "code",
   "execution_count": 9,
   "id": "0c16ea7b",
   "metadata": {},
   "outputs": [
    {
     "name": "stdout",
     "output_type": "stream",
     "text": [
      "<class 'pandas.core.frame.DataFrame'>\n",
      "Int64Index: 8116 entries, 0 to 247\n",
      "Data columns (total 5 columns):\n",
      " #   Column    Non-Null Count  Dtype \n",
      "---  ------    --------------  ----- \n",
      " 0   Date      8116 non-null   object\n",
      " 1   HomeTeam  8116 non-null   object\n",
      " 2   AwayTeam  8116 non-null   object\n",
      " 3   FTHG      8116 non-null   int64 \n",
      " 4   FTAG      8116 non-null   int64 \n",
      "dtypes: int64(2), object(3)\n",
      "memory usage: 1.7 MB\n"
     ]
    }
   ],
   "source": [
    "df.info(memory_usage='deep')"
   ]
  },
  {
   "cell_type": "markdown",
   "id": "c947b209",
   "metadata": {},
   "source": [
    "## Modelo de Poisson\n",
    "\n",
    "**fit**"
   ]
  },
  {
   "cell_type": "code",
   "execution_count": 10,
   "id": "43172485",
   "metadata": {},
   "outputs": [],
   "source": [
    "import numpy as np\n",
    "\n",
    "from scipy.optimize import minimize    # minimizar funciones, optimizacion"
   ]
  },
  {
   "cell_type": "code",
   "execution_count": 11,
   "id": "55a5eb8c",
   "metadata": {},
   "outputs": [],
   "source": [
    "# funcion de log-verosimilitud, funcion de perdida, optimizar para sacar los parametros\n",
    "\n",
    "def loglike(x,  # goles de local \n",
    "            y,  # goles de visitante\n",
    "            alfai, # ataque local\n",
    "            betai, # defensa local\n",
    "            alfaj, # ataque visitante\n",
    "            betaj, # defensa visitante\n",
    "            gamma  # jugar en casa\n",
    "           ):\n",
    "    \n",
    "    \n",
    "    # medias de cada equipo, es aqui donde podriamos añadir valores exogenos (clima, distancia recorrida, etc...)\n",
    "    lamb=np.exp(gamma + alfai + betaj) # local\n",
    "    mu=np.exp(alfaj + betai) # visitante\n",
    "    \n",
    "    \n",
    "    l=(np.log(poisson.pmf(x, lamb)) + np.log(poisson.pmf(y, mu)))\n",
    "    \n",
    "    return l"
   ]
  },
  {
   "cell_type": "code",
   "execution_count": 21,
   "id": "110d11fc",
   "metadata": {},
   "outputs": [],
   "source": [
    "# funcion fit, para obtener alfas, betas y gamma\n",
    "\n",
    "def fit(data):\n",
    "\n",
    "    #data=df.iloc[-40:]\n",
    "\n",
    "    equipos=np.sort(data.HomeTeam.unique())\n",
    "\n",
    "    n_equipos=len(equipos)\n",
    "\n",
    "\n",
    "\n",
    "    # inicilizar los parametros, de existir valores exogenos necesitarian su propio parametro\n",
    "\n",
    "    val_inicial=np.concatenate((np.random.uniform(0, 1, (n_equipos)),  # alfas iniciales\n",
    "                                np.random.uniform(0, -1, (n_equipos)), # betas iniciales\n",
    "                                np.random.uniform(0, 1, (n_equipos)))) # gammas inicial\n",
    "\n",
    "\n",
    "\n",
    "\n",
    "    def menos_loglike(params): # funcion a minimizar\n",
    "\n",
    "        alfa_coefs=dict(zip(equipos, params[:n_equipos]))  # alfas ataque\n",
    "\n",
    "        beta_coefs=dict(zip(equipos, params[n_equipos:(2*n_equipos)])) # betas defensa\n",
    "\n",
    "        gamma_coefs=dict(zip(equipos, params[(2*n_equipos):(3*n_equipos)])) # jugar en casa\n",
    "\n",
    "        log_like=[loglike(dato.FTHG,\n",
    "                          dato.FTAG,\n",
    "                          alfa_coefs[dato.HomeTeam],\n",
    "                          beta_coefs[dato.HomeTeam],\n",
    "                          alfa_coefs[dato.AwayTeam],\n",
    "                          beta_coefs[dato.AwayTeam],\n",
    "                          gamma_coefs[dato.HomeTeam]) for dato in data.itertuples()]  # seleccion por filas de los datos\n",
    "\n",
    "        return -sum(log_like)\n",
    "\n",
    "\n",
    "    #minimizacion\n",
    "\n",
    "    optimizacion=minimize(menos_loglike, # funcion a minimizar\n",
    "                          val_inicial,\n",
    "                          method='trust-constr',\n",
    "                          options={'disp':True,'maxiter':100},\n",
    "                          #constraints=[{'type':'eq','fun':lambda x:sum(x[:20])-20}]\n",
    "                          )\n",
    "\n",
    "    return dict(zip(['alfa_'+equipo for equipo in equipos]+\n",
    "                    ['beta_'+equipo for equipo in equipos]+\n",
    "                    ['gamma_'+equipo for equipo in equipos],\n",
    "              optimizacion.x))"
   ]
  },
  {
   "cell_type": "code",
   "execution_count": 23,
   "id": "49348973",
   "metadata": {},
   "outputs": [
    {
     "name": "stdout",
     "output_type": "stream",
     "text": [
      "The maximum number of function evaluations is exceeded.\n",
      "Number of iterations: 100, function evaluations: 6100, CG iterations: 696, optimality: 6.66e-03, constraint violation: 0.00e+00, execution time: 3.3e+01 s.\n",
      "CPU times: user 58.1 s, sys: 1min 42s, total: 2min 40s\n",
      "Wall time: 33.3 s\n"
     ]
    },
    {
     "data": {
      "text/plain": [
       "{'alfa_alaves': -0.24759127680198828,\n",
       " 'alfa_ath_bilbao': 0.5121570395659109,\n",
       " 'alfa_ath_madrid': 3.0348118122138685,\n",
       " 'alfa_barcelona': 0.917200525316251,\n",
       " 'alfa_betis': 2.1936225788735655,\n",
       " 'alfa_cadiz': 0.7367921435175516,\n",
       " 'alfa_celta': 2.762072214184603,\n",
       " 'alfa_elche': 2.0394718743697013,\n",
       " 'alfa_espanol': 2.6454047038312436,\n",
       " 'alfa_getafe': 0.7660739657964838,\n",
       " 'alfa_granada': -7.011265264605378,\n",
       " 'alfa_levante': -0.5607190564710884,\n",
       " 'alfa_mallorca': 0.3390791883564513,\n",
       " 'alfa_osasuna': 1.072688737273057,\n",
       " 'alfa_real_madrid': -5.071238257687412,\n",
       " 'alfa_sevilla': 0.7375238982240322,\n",
       " 'alfa_sociedad': -8.026164519462682,\n",
       " 'alfa_valencia': 0.204540847097529,\n",
       " 'alfa_vallecano': -0.6506100697505849,\n",
       " 'alfa_villarreal': 1.403316953959535,\n",
       " 'beta_alaves': -0.0791808049948559,\n",
       " 'beta_ath_bilbao': -2.648273141242695,\n",
       " 'beta_ath_madrid': 0.4188786950143168,\n",
       " 'beta_barcelona': -2.0490781824999975,\n",
       " 'beta_betis': -0.5529750650225473,\n",
       " 'beta_cadiz': -3.054275332362734,\n",
       " 'beta_celta': -0.20659471452328484,\n",
       " 'beta_elche': 0.09736584165117096,\n",
       " 'beta_espanol': -1.0086954969852788,\n",
       " 'beta_getafe': 0.1544875217314228,\n",
       " 'beta_granada': -0.10630606522772687,\n",
       " 'beta_levante': -0.8066279719108492,\n",
       " 'beta_mallorca': -0.012108894841428686,\n",
       " 'beta_osasuna': -2.193154047551783,\n",
       " 'beta_real_madrid': -1.7075549384934052,\n",
       " 'beta_sevilla': -2.5377566996771455,\n",
       " 'beta_sociedad': -1.2264329959206002,\n",
       " 'beta_valencia': 0.41145563725860634,\n",
       " 'beta_vallecano': -0.20859273476225543,\n",
       " 'beta_villarreal': -1.9692981301408654,\n",
       " 'gamma_alaves': 0.44654065102849383,\n",
       " 'gamma_ath_bilbao': 1.6983856686614567,\n",
       " 'gamma_ath_madrid': -2.22696119180983,\n",
       " 'gamma_barcelona': 0.05091765594573164,\n",
       " 'gamma_betis': -1.6212154335361249,\n",
       " 'gamma_cadiz': -1.4182472569539255,\n",
       " 'gamma_celta': -1.8921453578883025,\n",
       " 'gamma_elche': -0.9811438133148419,\n",
       " 'gamma_espanol': 0.02404110351444705,\n",
       " 'gamma_getafe': 1.1389200083772375,\n",
       " 'gamma_granada': 8.3948317245325,\n",
       " 'gamma_levante': 1.7286679433447376,\n",
       " 'gamma_mallorca': 3.4076024448225106,\n",
       " 'gamma_osasuna': -9.73651321323684,\n",
       " 'gamma_real_madrid': 5.789507259588052,\n",
       " 'gamma_sevilla': -0.0008992403755109599,\n",
       " 'gamma_sociedad': 7.993062787902084,\n",
       " 'gamma_valencia': 0.6577603858857413,\n",
       " 'gamma_vallecano': -4.4504641502835875,\n",
       " 'gamma_villarreal': -0.461047094002311}"
      ]
     },
     "execution_count": 23,
     "metadata": {},
     "output_type": "execute_result"
    }
   ],
   "source": [
    "%%time\n",
    "\n",
    "data=df.iloc[-40:]\n",
    "\n",
    "params=fit(data)\n",
    "\n",
    "params"
   ]
  },
  {
   "cell_type": "code",
   "execution_count": 18,
   "id": "a9994200",
   "metadata": {},
   "outputs": [
    {
     "data": {
      "text/plain": [
       "1.2712491503214047"
      ]
     },
     "execution_count": 18,
     "metadata": {},
     "output_type": "execute_result"
    }
   ],
   "source": [
    "# valor de jugar en casa\n",
    "\n",
    "np.exp(0.24)"
   ]
  },
  {
   "cell_type": "markdown",
   "id": "559d0c16",
   "metadata": {},
   "source": [
    "**predict**"
   ]
  },
  {
   "cell_type": "code",
   "execution_count": 25,
   "id": "a2b3bde9",
   "metadata": {},
   "outputs": [],
   "source": [
    "# funciones para prediccion\n",
    "\n",
    "def predict_matrix(params, local, visitante, g_max=9):\n",
    "    \n",
    "    # se define las medias\n",
    "    \n",
    "    lamb=np.exp(params['gamma_'+local] + params['alfa_'+local] + params['beta_'+visitante])\n",
    "    mu=np.exp(params['alfa_'+visitante] + params['beta_'+local])\n",
    "    \n",
    "    avgs=[lamb, mu]\n",
    "    \n",
    "    pred=[[poisson.pmf(i, avg) for i in range(g_max+1)] for avg in avgs]\n",
    "    \n",
    "    matriz=np.outer(np.array(pred[0]), np.array(pred[1]))\n",
    "    \n",
    "    return matriz"
   ]
  },
  {
   "cell_type": "code",
   "execution_count": 26,
   "id": "b2277495",
   "metadata": {},
   "outputs": [],
   "source": [
    "partido=predict_matrix(params, 'vallecano', 'real_madrid')"
   ]
  },
  {
   "cell_type": "code",
   "execution_count": 27,
   "id": "caffcb5d",
   "metadata": {},
   "outputs": [
    {
     "data": {
      "text/html": [
       "<div>\n",
       "<style scoped>\n",
       "    .dataframe tbody tr th:only-of-type {\n",
       "        vertical-align: middle;\n",
       "    }\n",
       "\n",
       "    .dataframe tbody tr th {\n",
       "        vertical-align: top;\n",
       "    }\n",
       "\n",
       "    .dataframe thead th {\n",
       "        text-align: right;\n",
       "    }\n",
       "</style>\n",
       "<table border=\"1\" class=\"dataframe\">\n",
       "  <thead>\n",
       "    <tr style=\"text-align: right;\">\n",
       "      <th></th>\n",
       "      <th>0</th>\n",
       "      <th>1</th>\n",
       "      <th>2</th>\n",
       "      <th>3</th>\n",
       "      <th>4</th>\n",
       "      <th>5</th>\n",
       "      <th>6</th>\n",
       "      <th>7</th>\n",
       "      <th>8</th>\n",
       "      <th>9</th>\n",
       "    </tr>\n",
       "  </thead>\n",
       "  <tbody>\n",
       "    <tr>\n",
       "      <th>0</th>\n",
       "      <td>9.938217e-01</td>\n",
       "      <td>5.061823e-03</td>\n",
       "      <td>1.289067e-05</td>\n",
       "      <td>2.188532e-08</td>\n",
       "      <td>2.786707e-11</td>\n",
       "      <td>2.838703e-14</td>\n",
       "      <td>2.409723e-17</td>\n",
       "      <td>1.753346e-20</td>\n",
       "      <td>1.116288e-23</td>\n",
       "      <td>6.317311e-27</td>\n",
       "    </tr>\n",
       "    <tr>\n",
       "      <th>1</th>\n",
       "      <td>1.097383e-03</td>\n",
       "      <td>5.589294e-06</td>\n",
       "      <td>1.423395e-08</td>\n",
       "      <td>2.416589e-11</td>\n",
       "      <td>3.077098e-14</td>\n",
       "      <td>3.134511e-17</td>\n",
       "      <td>2.660830e-20</td>\n",
       "      <td>1.936055e-23</td>\n",
       "      <td>1.232611e-26</td>\n",
       "      <td>6.975610e-30</td>\n",
       "    </tr>\n",
       "    <tr>\n",
       "      <th>2</th>\n",
       "      <td>6.058684e-07</td>\n",
       "      <td>3.085865e-09</td>\n",
       "      <td>7.858604e-12</td>\n",
       "      <td>1.334205e-14</td>\n",
       "      <td>1.698874e-17</td>\n",
       "      <td>1.730572e-20</td>\n",
       "      <td>1.469052e-23</td>\n",
       "      <td>1.068901e-26</td>\n",
       "      <td>6.805281e-30</td>\n",
       "      <td>3.851253e-33</td>\n",
       "    </tr>\n",
       "    <tr>\n",
       "      <th>3</th>\n",
       "      <td>2.230011e-10</td>\n",
       "      <td>1.135810e-12</td>\n",
       "      <td>2.892505e-15</td>\n",
       "      <td>4.910790e-18</td>\n",
       "      <td>6.253021e-21</td>\n",
       "      <td>6.369692e-24</td>\n",
       "      <td>5.407116e-27</td>\n",
       "      <td>3.934288e-30</td>\n",
       "      <td>2.504810e-33</td>\n",
       "      <td>1.417525e-36</td>\n",
       "    </tr>\n",
       "    <tr>\n",
       "      <th>4</th>\n",
       "      <td>6.155976e-14</td>\n",
       "      <td>3.135418e-16</td>\n",
       "      <td>7.984799e-19</td>\n",
       "      <td>1.355630e-21</td>\n",
       "      <td>1.726155e-24</td>\n",
       "      <td>1.758362e-27</td>\n",
       "      <td>1.492642e-30</td>\n",
       "      <td>1.086066e-33</td>\n",
       "      <td>6.914562e-37</td>\n",
       "      <td>3.913098e-40</td>\n",
       "    </tr>\n",
       "    <tr>\n",
       "      <th>5</th>\n",
       "      <td>1.359493e-17</td>\n",
       "      <td>6.924292e-20</td>\n",
       "      <td>1.763372e-22</td>\n",
       "      <td>2.993789e-25</td>\n",
       "      <td>3.812060e-28</td>\n",
       "      <td>3.883187e-31</td>\n",
       "      <td>3.296367e-34</td>\n",
       "      <td>2.398480e-37</td>\n",
       "      <td>1.527020e-40</td>\n",
       "      <td>8.641729e-44</td>\n",
       "    </tr>\n",
       "    <tr>\n",
       "      <th>6</th>\n",
       "      <td>2.501932e-21</td>\n",
       "      <td>1.274307e-23</td>\n",
       "      <td>3.245208e-26</td>\n",
       "      <td>5.509598e-29</td>\n",
       "      <td>7.015497e-32</td>\n",
       "      <td>7.146394e-35</td>\n",
       "      <td>6.066445e-38</td>\n",
       "      <td>4.414024e-41</td>\n",
       "      <td>2.810239e-44</td>\n",
       "      <td>1.590374e-47</td>\n",
       "    </tr>\n",
       "    <tr>\n",
       "      <th>7</th>\n",
       "      <td>3.946639e-25</td>\n",
       "      <td>2.010138e-27</td>\n",
       "      <td>5.119110e-30</td>\n",
       "      <td>8.691040e-33</td>\n",
       "      <td>1.106650e-35</td>\n",
       "      <td>1.127298e-38</td>\n",
       "      <td>9.569431e-42</td>\n",
       "      <td>6.962843e-45</td>\n",
       "      <td>4.432974e-48</td>\n",
       "      <td>2.508714e-51</td>\n",
       "    </tr>\n",
       "    <tr>\n",
       "      <th>8</th>\n",
       "      <td>5.447376e-29</td>\n",
       "      <td>2.774507e-31</td>\n",
       "      <td>7.065688e-34</td>\n",
       "      <td>1.199587e-36</td>\n",
       "      <td>1.527461e-39</td>\n",
       "      <td>1.555961e-42</td>\n",
       "      <td>1.320827e-45</td>\n",
       "      <td>9.610513e-49</td>\n",
       "      <td>6.118643e-52</td>\n",
       "      <td>3.462670e-55</td>\n",
       "    </tr>\n",
       "    <tr>\n",
       "      <th>9</th>\n",
       "      <td>6.683359e-33</td>\n",
       "      <td>3.404029e-35</td>\n",
       "      <td>8.668857e-38</td>\n",
       "      <td>1.471767e-40</td>\n",
       "      <td>1.874035e-43</td>\n",
       "      <td>1.909001e-46</td>\n",
       "      <td>1.620517e-49</td>\n",
       "      <td>1.179109e-52</td>\n",
       "      <td>7.506933e-56</td>\n",
       "      <td>4.248333e-59</td>\n",
       "    </tr>\n",
       "  </tbody>\n",
       "</table>\n",
       "</div>"
      ],
      "text/plain": [
       "              0             1             2             3             4  \\\n",
       "0  9.938217e-01  5.061823e-03  1.289067e-05  2.188532e-08  2.786707e-11   \n",
       "1  1.097383e-03  5.589294e-06  1.423395e-08  2.416589e-11  3.077098e-14   \n",
       "2  6.058684e-07  3.085865e-09  7.858604e-12  1.334205e-14  1.698874e-17   \n",
       "3  2.230011e-10  1.135810e-12  2.892505e-15  4.910790e-18  6.253021e-21   \n",
       "4  6.155976e-14  3.135418e-16  7.984799e-19  1.355630e-21  1.726155e-24   \n",
       "5  1.359493e-17  6.924292e-20  1.763372e-22  2.993789e-25  3.812060e-28   \n",
       "6  2.501932e-21  1.274307e-23  3.245208e-26  5.509598e-29  7.015497e-32   \n",
       "7  3.946639e-25  2.010138e-27  5.119110e-30  8.691040e-33  1.106650e-35   \n",
       "8  5.447376e-29  2.774507e-31  7.065688e-34  1.199587e-36  1.527461e-39   \n",
       "9  6.683359e-33  3.404029e-35  8.668857e-38  1.471767e-40  1.874035e-43   \n",
       "\n",
       "              5             6             7             8             9  \n",
       "0  2.838703e-14  2.409723e-17  1.753346e-20  1.116288e-23  6.317311e-27  \n",
       "1  3.134511e-17  2.660830e-20  1.936055e-23  1.232611e-26  6.975610e-30  \n",
       "2  1.730572e-20  1.469052e-23  1.068901e-26  6.805281e-30  3.851253e-33  \n",
       "3  6.369692e-24  5.407116e-27  3.934288e-30  2.504810e-33  1.417525e-36  \n",
       "4  1.758362e-27  1.492642e-30  1.086066e-33  6.914562e-37  3.913098e-40  \n",
       "5  3.883187e-31  3.296367e-34  2.398480e-37  1.527020e-40  8.641729e-44  \n",
       "6  7.146394e-35  6.066445e-38  4.414024e-41  2.810239e-44  1.590374e-47  \n",
       "7  1.127298e-38  9.569431e-42  6.962843e-45  4.432974e-48  2.508714e-51  \n",
       "8  1.555961e-42  1.320827e-45  9.610513e-49  6.118643e-52  3.462670e-55  \n",
       "9  1.909001e-46  1.620517e-49  1.179109e-52  7.506933e-56  4.248333e-59  "
      ]
     },
     "execution_count": 27,
     "metadata": {},
     "output_type": "execute_result"
    }
   ],
   "source": [
    "pd.DataFrame(partido)"
   ]
  },
  {
   "cell_type": "code",
   "execution_count": 28,
   "id": "5d2343d3",
   "metadata": {},
   "outputs": [
    {
     "data": {
      "image/png": "[encoded data removed]",
      "text/plain": [
       "<Figure size 432x288 with 2 Axes>"
      ]
     },
     "metadata": {
      "needs_background": "light"
     },
     "output_type": "display_data"
    }
   ],
   "source": [
    "sns.heatmap(partido);"
   ]
  },
  {
   "cell_type": "code",
   "execution_count": 29,
   "id": "362b19e5",
   "metadata": {},
   "outputs": [],
   "source": [
    "uno=np.sum(np.tril(partido, -1))\n",
    "\n",
    "empate=np.sum(np.diag(partido))\n",
    "\n",
    "dos=np.sum(np.triu(partido, 1))"
   ]
  },
  {
   "cell_type": "code",
   "execution_count": 30,
   "id": "d6b94608",
   "metadata": {},
   "outputs": [
    {
     "data": {
      "text/plain": [
       "(0.001097992583441498, 0.9938272570962491, 0.005074750320309346)"
      ]
     },
     "execution_count": 30,
     "metadata": {},
     "output_type": "execute_result"
    }
   ],
   "source": [
    "uno, empate, dos"
   ]
  },
  {
   "cell_type": "code",
   "execution_count": 31,
   "id": "277b11fa",
   "metadata": {},
   "outputs": [
    {
     "data": {
      "text/plain": [
       "0.9999999999999999"
      ]
     },
     "execution_count": 31,
     "metadata": {},
     "output_type": "execute_result"
    }
   ],
   "source": [
    "uno+empate+dos"
   ]
  },
  {
   "cell_type": "code",
   "execution_count": 32,
   "id": "2c96ff9f",
   "metadata": {},
   "outputs": [
    {
     "data": {
      "text/plain": [
       "(910.752964164517, 1.0062110823180543, 197.0540296333322)"
      ]
     },
     "execution_count": 32,
     "metadata": {},
     "output_type": "execute_result"
    }
   ],
   "source": [
    "1/uno, 1/empate, 1/dos  # cuotas calculadas"
   ]
  },
  {
   "cell_type": "code",
   "execution_count": 37,
   "id": "8508484b",
   "metadata": {},
   "outputs": [
    {
     "data": {
      "text/plain": [
       "1.0628221051579654"
      ]
     },
     "execution_count": 37,
     "metadata": {},
     "output_type": "execute_result"
    }
   ],
   "source": [
    "1/4.3 + 1/3.6 + 1/1.81"
   ]
  },
  {
   "cell_type": "code",
   "execution_count": 33,
   "id": "726bbe35",
   "metadata": {},
   "outputs": [],
   "source": [
    "def predict_proba(params, local, visitante, g_max=9):\n",
    "    \n",
    "    partido=predict_matrix(params, local, visitante, g_max)\n",
    "    \n",
    "    uno=np.sum(np.tril(partido, -1))\n",
    "\n",
    "    empate=np.sum(np.diag(partido))\n",
    "\n",
    "    dos=np.sum(np.triu(partido, 1))\n",
    "    \n",
    "    return uno, empate, dos"
   ]
  },
  {
   "cell_type": "code",
   "execution_count": 34,
   "id": "6afa4125",
   "metadata": {},
   "outputs": [
    {
     "data": {
      "text/plain": [
       "(0.001097992583441498, 0.9938272570962491, 0.005074750320309346)"
      ]
     },
     "execution_count": 34,
     "metadata": {},
     "output_type": "execute_result"
    }
   ],
   "source": [
    "predict_proba(params, 'vallecano', 'real_madrid')# probabilidad (1, X, 2)"
   ]
  },
  {
   "cell_type": "code",
   "execution_count": 35,
   "id": "7596f0e0",
   "metadata": {},
   "outputs": [],
   "source": [
    "def predict(params, local, visitante, g_max=9):\n",
    "    \n",
    "    prob=predict_proba(params, local, visitante, g_max)\n",
    "    \n",
    "    return prob.index(max(prob))"
   ]
  },
  {
   "cell_type": "code",
   "execution_count": 36,
   "id": "bc1e62a5",
   "metadata": {},
   "outputs": [
    {
     "data": {
      "text/plain": [
       "1"
      ]
     },
     "execution_count": 36,
     "metadata": {},
     "output_type": "execute_result"
    }
   ],
   "source": [
    "predict(params, 'vallecano', 'real_madrid')  # etiquetas: 0-gana local , 1-empate, 2-gana visitante"
   ]
  },
  {
   "cell_type": "markdown",
   "id": "3464ec07",
   "metadata": {},
   "source": [
    "**Walk-Forward BackTesting**\n",
    "\n",
    "![wfbt](images/wfbt.gif)"
   ]
  }
 ],
 "metadata": {
  "kernelspec": {
   "display_name": "clase",
   "language": "python",
   "name": "clase"
  },
  "language_info": {
   "codemirror_mode": {
    "name": "ipython",
    "version": 3
   },
   "file_extension": ".py",
   "mimetype": "text/x-python",
   "name": "python",
   "nbconvert_exporter": "python",
   "pygments_lexer": "ipython3",
   "version": "3.8.8"
  }
 },
 "nbformat": 4,
 "nbformat_minor": 5
}
