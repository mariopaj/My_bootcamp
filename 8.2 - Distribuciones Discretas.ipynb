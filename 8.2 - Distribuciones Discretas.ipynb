{
 "cells": [
  {
   "cell_type": "markdown",
   "id": "464ab54d",
   "metadata": {},
   "source": [
    "# 8.2 - Distribuciones Discretas\n",
    "\n",
    "\n",
    "Una distribución discreta describe la probabilidad de ocurrencia de cada valor de una variable aleatoria discreta. Una variable aleatoria discreta es una variable aleatoria que tiene valores contables, tales como una lista de enteros no negativos. Con una distribución de probabilidad discreta, cada valor posible de la variable aleatoria discreta puede estar asociado con una probabilidad distinta de cero. Por lo tanto, una distribución de probabilidad discreta suele representarse en forma tabular.\n",
    "\n",
    "### Variables aleatorias\n",
    "\n",
    "+ Variable aleatoria: Es aquella cuyo valor es el resultado de un evento aleatorio. Lo que quiere decir que son los resultados que se presentan al azar en cualquier evento o experimento.\n",
    "\n",
    "+ Variable aleatoria discreta: Es aquella que solo toma ciertos valores, frecuentemente enteros, y que resulta principalmente del conteo realizado.\n",
    "\n",
    "+ Variable aleatoria continua: Es aquella que resulta generalmente de la medición y puede tomar cualquier valor dentro de un intervalo dado.\n"
   ]
  },
  {
   "cell_type": "markdown",
   "id": "192fc85e",
   "metadata": {},
   "source": [
    "### Bernoulli\n",
    "\n",
    "https://es.wikipedia.org/wiki/Distribuci%C3%B3n_Bernoulli\n",
    "\n",
    "$$X \\sim Bernoulli(p)$$\n",
    "\n",
    "Se basa en el experiemento de Bernoulli. Solo tiene dos posibles resultados, con probabilidad $p$ y $1-p$.\n",
    "\n",
    "**Ejemplo :** Moneda sesgada.\n",
    "\n",
    "$\\Omega = \\{0, 1\\}$  Espacio muestral, pensando en cara-cruz.\n",
    "\n",
    "Llamamos $p$ a la probabilidad de éxito, que salga cara por ejemplo."
   ]
  },
  {
   "cell_type": "code",
   "execution_count": 1,
   "id": "4a18ebd9",
   "metadata": {},
   "outputs": [],
   "source": [
    "p=0.8"
   ]
  },
  {
   "cell_type": "markdown",
   "id": "8435f1c1",
   "metadata": {},
   "source": [
    "$P(X=1)=p=0.8$\n",
    "\n",
    "$P(X=0)=1-p=0.2$"
   ]
  },
  {
   "cell_type": "code",
   "execution_count": 2,
   "id": "6eba77a4",
   "metadata": {},
   "outputs": [],
   "source": [
    "from scipy.stats import bernoulli"
   ]
  },
  {
   "cell_type": "code",
   "execution_count": 3,
   "id": "cc7f7c00",
   "metadata": {},
   "outputs": [],
   "source": [
    "b=bernoulli(p)"
   ]
  },
  {
   "cell_type": "code",
   "execution_count": 4,
   "id": "89c15534",
   "metadata": {},
   "outputs": [
    {
     "data": {
      "text/plain": [
       "<scipy.stats._distn_infrastructure.rv_frozen at 0x7fc01a4a0ac0>"
      ]
     },
     "execution_count": 4,
     "metadata": {},
     "output_type": "execute_result"
    }
   ],
   "source": [
    "b"
   ]
  },
  {
   "cell_type": "code",
   "execution_count": 5,
   "id": "2853ec0a",
   "metadata": {},
   "outputs": [
    {
     "data": {
      "text/plain": [
       "array([1])"
      ]
     },
     "execution_count": 5,
     "metadata": {},
     "output_type": "execute_result"
    }
   ],
   "source": [
    "b.rvs(size=1)  # rvs=random variable sample (muestra aleatoria simple, m.a.s. en castellano)"
   ]
  },
  {
   "cell_type": "code",
   "execution_count": 6,
   "id": "7c6ca3c4",
   "metadata": {},
   "outputs": [
    {
     "data": {
      "text/plain": [
       "array([0, 1, 1, 1, 1, 0, 1, 1, 1, 0, 0, 1, 0, 1, 1, 0, 1, 0, 0, 1, 1, 0,\n",
       "       1, 1, 1, 1, 1, 1, 0, 1, 1, 0, 1, 1, 1, 0, 1, 1, 1, 1, 1, 1, 1, 1,\n",
       "       1, 1, 1, 1, 1, 1, 1, 1, 1, 1, 1, 1, 1, 1, 1, 1, 1, 1, 1, 1, 1, 1,\n",
       "       1, 1, 1, 1, 0, 1, 1, 1, 1, 1, 1, 1, 1, 1, 1, 1, 1, 1, 1, 1, 1, 1,\n",
       "       1, 1, 1, 0, 1, 1, 1, 1, 1, 0, 0, 1])"
      ]
     },
     "execution_count": 6,
     "metadata": {},
     "output_type": "execute_result"
    }
   ],
   "source": [
    "muestra=b.rvs(size=100) \n",
    "\n",
    "muestra"
   ]
  },
  {
   "cell_type": "code",
   "execution_count": 7,
   "id": "c5f60a03",
   "metadata": {},
   "outputs": [
    {
     "data": {
      "text/plain": [
       "84"
      ]
     },
     "execution_count": 7,
     "metadata": {},
     "output_type": "execute_result"
    }
   ],
   "source": [
    "sum(muestra)"
   ]
  },
  {
   "cell_type": "code",
   "execution_count": 8,
   "id": "5eaf1a26",
   "metadata": {},
   "outputs": [
    {
     "name": "stderr",
     "output_type": "stream",
     "text": [
      "/Users/iudh/opt/anaconda3/envs/clase/lib/python3.8/site-packages/seaborn/_decorators.py:36: FutureWarning: Pass the following variable as a keyword arg: x. From version 0.12, the only valid positional argument will be `data`, and passing other arguments without an explicit keyword will result in an error or misinterpretation.\n",
      "  warnings.warn(\n"
     ]
    },
    {
     "data": {
      "image/png": "[encoded data removed]",
      "text/plain": [
       "<Figure size 432x288 with 1 Axes>"
      ]
     },
     "metadata": {
      "needs_background": "light"
     },
     "output_type": "display_data"
    }
   ],
   "source": [
    "import seaborn as sns\n",
    "\n",
    "sns.countplot(muestra);"
   ]
  },
  {
   "cell_type": "markdown",
   "id": "6e25fb8f",
   "metadata": {},
   "source": [
    "### Distribución Binomial\n",
    "\n",
    "https://es.wikipedia.org/wiki/Distribuci%C3%B3n_binomial\n",
    "\n",
    "\n",
    "$$X \\sim Binomial(N, p)$$\n",
    "\n",
    "$$P(X=k)={N \\choose k} p^{k}(1-p)^{N-k}$$\n",
    "\n",
    "donde:\n",
    "${N \\choose k} \\equiv \\frac{N!}{k!(N-k)!}$\n",
    "\n",
    "\n",
    "La distribución binomial es una distribución de probabilidad discreta que cuenta el número de éxitos en una secuencia de $N$ ensayos de Bernoulli independientes entre sí con una probabilidad fija $p$ de ocurrencia de éxito entre los ensayos.\n",
    "\n",
    "\n",
    "**Ejemplo :** Lanzamiento de moneda y/o dado.\n",
    "\n",
    "$N$ es el número de lanzamientos.\n",
    "\n",
    "$k$ es el número de exitos, cara x ej\n",
    "\n",
    "$p$ es la probabilidad de éxito, que salga cara por ejemplo.\n",
    "\n",
    "$\\Omega = \\{0, 1, 2, 3, ..., N-1, N\\}$"
   ]
  },
  {
   "cell_type": "code",
   "execution_count": 9,
   "id": "4a3db714",
   "metadata": {},
   "outputs": [],
   "source": [
    "from scipy.stats import binom\n",
    "import pylab as plt"
   ]
  },
  {
   "cell_type": "code",
   "execution_count": 10,
   "id": "ef83b8ed",
   "metadata": {},
   "outputs": [
    {
     "data": {
      "text/plain": [
       "0.11718750000000014"
      ]
     },
     "execution_count": 10,
     "metadata": {},
     "output_type": "execute_result"
    }
   ],
   "source": [
    "# binom.pmf(k, n, p)  # k=nº de exitos, n=nº de repeticiones, p=prob del evento\n",
    "\n",
    "# ¿Cuál es la prob de que salgan tres caras si tiro 10 veces la moneda?\n",
    "binom.pmf(3, 10, 0.5)"
   ]
  },
  {
   "cell_type": "code",
   "execution_count": 11,
   "id": "b3f13151",
   "metadata": {},
   "outputs": [
    {
     "data": {
      "text/plain": [
       "0.1294102919789899"
      ]
     },
     "execution_count": 11,
     "metadata": {},
     "output_type": "execute_result"
    }
   ],
   "source": [
    "# ¿Cuál es la prob de que salgan 5 doses si tiro 20 veces un dado?\n",
    "\n",
    "binom.pmf(5, 20, 1/6)"
   ]
  },
  {
   "cell_type": "code",
   "execution_count": 12,
   "id": "40bd738a",
   "metadata": {},
   "outputs": [
    {
     "data": {
      "text/plain": [
       "0.9999990463256827"
      ]
     },
     "execution_count": 12,
     "metadata": {},
     "output_type": "execute_result"
    },
    {
     "data": {
      "image/png": "[encoded data removed]",
      "text/plain": [
       "<Figure size 432x288 with 1 Axes>"
      ]
     },
     "metadata": {
      "needs_background": "light"
     },
     "output_type": "display_data"
    }
   ],
   "source": [
    "x=[i for i in range(20)]                # nº de exitos\n",
    "y=[binom.pmf(x, 20, 0.5) for x in x]    # su prob\n",
    "\n",
    "plt.plot(x, y);\n",
    "sum(y)"
   ]
  },
  {
   "cell_type": "code",
   "execution_count": 13,
   "id": "43abc6ba",
   "metadata": {},
   "outputs": [
    {
     "data": {
      "text/plain": [
       "[0, 1, 2, 3, 4, 5, 6, 7, 8, 9, 10, 11, 12, 13, 14, 15, 16, 17, 18, 19]"
      ]
     },
     "execution_count": 13,
     "metadata": {},
     "output_type": "execute_result"
    }
   ],
   "source": [
    "x"
   ]
  },
  {
   "cell_type": "code",
   "execution_count": 14,
   "id": "a2d0df8a",
   "metadata": {},
   "outputs": [
    {
     "data": {
      "text/plain": [
       "array([4.76837158e-07, 1.00135803e-05, 1.00135803e-04, 6.34193420e-04,\n",
       "       2.85387039e-03, 9.70315933e-03, 2.58750916e-02, 5.54466248e-02,\n",
       "       9.70315933e-02, 1.40156746e-01, 1.68188095e-01, 1.68188095e-01,\n",
       "       1.40156746e-01, 9.70315933e-02, 5.54466248e-02, 2.58750916e-02,\n",
       "       9.70315933e-03, 2.85387039e-03, 6.34193420e-04, 1.00135803e-04])"
      ]
     },
     "execution_count": 14,
     "metadata": {},
     "output_type": "execute_result"
    }
   ],
   "source": [
    "binom.pmf(x, 21, 0.5)  # probabilidad"
   ]
  },
  {
   "cell_type": "code",
   "execution_count": 15,
   "id": "2bedd85f",
   "metadata": {},
   "outputs": [
    {
     "data": {
      "text/plain": [
       "array([9.53674316e-07, 2.00271606e-05, 2.01225281e-04, 1.28841400e-03,\n",
       "       5.90896606e-03, 2.06947327e-02, 5.76591492e-02, 1.31587982e-01,\n",
       "       2.51722336e-01, 4.11901474e-01, 5.88098526e-01, 7.48277664e-01,\n",
       "       8.68412018e-01, 9.42340851e-01, 9.79305267e-01, 9.94091034e-01,\n",
       "       9.98711586e-01, 9.99798775e-01, 9.99979973e-01, 9.99999046e-01])"
      ]
     },
     "execution_count": 15,
     "metadata": {},
     "output_type": "execute_result"
    }
   ],
   "source": [
    "binom.cdf(x, 20, 0.5)  # probabilidad acumulada"
   ]
  },
  {
   "cell_type": "code",
   "execution_count": 16,
   "id": "752a28d1",
   "metadata": {},
   "outputs": [
    {
     "data": {
      "image/png": "[encoded data removed]",
      "text/plain": [
       "<Figure size 432x288 with 1 Axes>"
      ]
     },
     "metadata": {
      "needs_background": "light"
     },
     "output_type": "display_data"
    }
   ],
   "source": [
    "x=[i for i in range(20)]                # nº de exitos\n",
    "y=[binom.cdf(x, 20, 0.5) for x in x]    # su prob acumulada\n",
    "\n",
    "plt.plot(x, y);"
   ]
  },
  {
   "cell_type": "code",
   "execution_count": 17,
   "id": "6dca2b6d",
   "metadata": {},
   "outputs": [
    {
     "data": {
      "text/plain": [
       "0.9987115859985352"
      ]
     },
     "execution_count": 17,
     "metadata": {},
     "output_type": "execute_result"
    }
   ],
   "source": [
    "prob_moneda=binom.cdf(x, 20, 0.5)\n",
    "\n",
    "1-prob_moneda[3]  # prob de 3 exitos o mas"
   ]
  },
  {
   "cell_type": "code",
   "execution_count": 18,
   "id": "a38e1ccf",
   "metadata": {},
   "outputs": [
    {
     "data": {
      "text/plain": [
       "0.0015106201171874998"
      ]
     },
     "execution_count": 18,
     "metadata": {},
     "output_type": "execute_result"
    }
   ],
   "source": [
    "sum(prob_moneda[0:4])  # prob de 3 exitos o menos"
   ]
  },
  {
   "cell_type": "code",
   "execution_count": 19,
   "id": "025e84d7",
   "metadata": {},
   "outputs": [
    {
     "data": {
      "text/plain": [
       "array([4])"
      ]
     },
     "execution_count": 19,
     "metadata": {},
     "output_type": "execute_result"
    }
   ],
   "source": [
    "binom(10, 0.5).rvs(size=1)"
   ]
  },
  {
   "cell_type": "code",
   "execution_count": 20,
   "id": "7fd8da32",
   "metadata": {},
   "outputs": [
    {
     "data": {
      "text/plain": [
       "array([2, 3, 4, 2, 8, 1, 4, 7, 8, 4])"
      ]
     },
     "execution_count": 20,
     "metadata": {},
     "output_type": "execute_result"
    }
   ],
   "source": [
    "muestra=binom(10, 0.5).rvs(size=500)\n",
    "\n",
    "muestra[:10]"
   ]
  },
  {
   "cell_type": "code",
   "execution_count": 21,
   "id": "798c89af",
   "metadata": {},
   "outputs": [
    {
     "data": {
      "image/png": "[encoded data removed]",
      "text/plain": [
       "<Figure size 432x288 with 1 Axes>"
      ]
     },
     "metadata": {
      "needs_background": "light"
     },
     "output_type": "display_data"
    }
   ],
   "source": [
    "sns.countplot(x=muestra);"
   ]
  },
  {
   "cell_type": "markdown",
   "id": "f507e8da",
   "metadata": {},
   "source": [
    "**Momentos centrales**\n",
    "\n",
    "https://es.wikipedia.org/wiki/Momento_central"
   ]
  },
  {
   "cell_type": "code",
   "execution_count": 22,
   "id": "c134987e",
   "metadata": {},
   "outputs": [
    {
     "data": {
      "text/plain": [
       "(array(3.), array(2.1), array(0.27602622), array(-0.12380952))"
      ]
     },
     "execution_count": 22,
     "metadata": {},
     "output_type": "execute_result"
    }
   ],
   "source": [
    "n=10\n",
    "p=0.3\n",
    "\n",
    "media, var, simetria, kurtosis = binom.stats(n, p, moments='mvsk')\n",
    "\n",
    "media, var, simetria, kurtosis"
   ]
  },
  {
   "cell_type": "markdown",
   "id": "f941bc8c",
   "metadata": {},
   "source": [
    "**Aclaración:**\n",
    "\n",
    " * `.rvs`: Devuelve una muestra aleatoria simple\n",
    " * `.pmf`: (probability mass function) Funcion de masa de probabilidad, para distribuciones discretas\n",
    " * `.pdf`: (probability density function) Funcion de densidad de probabilidad, para distribuciones continuas\n",
    " * `.cdf`: (cumulative mass function) Funcion acumulada de probabilidad, para distribuciones discretas y continuas\n",
    " * `.ppf`: (percentile probability function) Inversa de la funcion acumulada, para distribuciones continuas\n"
   ]
  },
  {
   "cell_type": "markdown",
   "id": "25f2d891",
   "metadata": {},
   "source": [
    "### Distribución Binomial Negativa\n",
    "\n",
    "https://es.wikipedia.org/wiki/Distribuci%C3%B3n_binomial_negativa\n",
    "\n",
    "\n",
    "$$X \\sim BN(r, p)$$\n",
    "\n",
    "$$P(X=k)={r+k-1 \\choose k} p^{r}(1-p)^{k}$$\n"
   ]
  },
  {
   "cell_type": "code",
   "execution_count": 23,
   "id": "4062da7f",
   "metadata": {},
   "outputs": [],
   "source": [
    "from scipy.stats import nbinom"
   ]
  },
  {
   "cell_type": "code",
   "execution_count": 28,
   "id": "d7847e51",
   "metadata": {},
   "outputs": [
    {
     "data": {
      "text/plain": [
       "0.013427734375000036"
      ]
     },
     "execution_count": 28,
     "metadata": {},
     "output_type": "execute_result"
    }
   ],
   "source": [
    "# ¿Que prob hay de que la decima tirada correspoonda con la tercera cara que sale?\n",
    "\n",
    "nbinom.pmf(2, 10, 0.5)  # nbinom.pmf(k, n, p)"
   ]
  },
  {
   "cell_type": "code",
   "execution_count": 26,
   "id": "7866d20e",
   "metadata": {},
   "outputs": [
    {
     "data": {
      "text/plain": [
       "0.5"
      ]
     },
     "execution_count": 26,
     "metadata": {},
     "output_type": "execute_result"
    }
   ],
   "source": [
    "nbinom.pmf(0, 1, 0.5)"
   ]
  },
  {
   "cell_type": "code",
   "execution_count": 32,
   "id": "971d6749",
   "metadata": {},
   "outputs": [
    {
     "data": {
      "image/png": "[encoded data removed]",
      "text/plain": [
       "<Figure size 432x288 with 1 Axes>"
      ]
     },
     "metadata": {
      "needs_background": "light"
     },
     "output_type": "display_data"
    }
   ],
   "source": [
    "x=[i for i in range(100)]\n",
    "y=[nbinom.pmf(x, 50, 0.5) for x in x]\n",
    "\n",
    "plt.plot(x, y);"
   ]
  },
  {
   "cell_type": "code",
   "execution_count": 34,
   "id": "cefefc96",
   "metadata": {},
   "outputs": [
    {
     "data": {
      "image/png": "[encoded data removed]",
      "text/plain": [
       "<Figure size 432x288 with 1 Axes>"
      ]
     },
     "metadata": {
      "needs_background": "light"
     },
     "output_type": "display_data"
    }
   ],
   "source": [
    "x=[i for i in range(50)]                \n",
    "y=[nbinom.cdf(x, 20, 0.5) for x in x]    \n",
    "\n",
    "plt.plot(x, y);"
   ]
  },
  {
   "cell_type": "markdown",
   "id": "10fce477",
   "metadata": {},
   "source": [
    "### Distribución Geométrica\n",
    "\n",
    "https://es.wikipedia.org/wiki/Distribuci%C3%B3n_geom%C3%A9trica\n",
    "\n",
    "\n",
    "$$X \\sim Geom(p)$$\n",
    "\n",
    "$$P(X=k)= p · (1-p)^{k}$$\n",
    "\n",
    "para $k = 0, 1, 2, 3, 4...$\n",
    "\n",
    "\n",
    "La distribución geométrica es un modelo adecuado para aquellos procesos en los que se repiten pruebas hasta la consecución del éxito a resultado deseado y tiene interesantes aplicaciones en los muestreos realizados de esta manera. "
   ]
  },
  {
   "cell_type": "code",
   "execution_count": 35,
   "id": "2e16b50f",
   "metadata": {},
   "outputs": [],
   "source": [
    "from scipy.stats import geom"
   ]
  },
  {
   "cell_type": "code",
   "execution_count": 36,
   "id": "dbdad20c",
   "metadata": {},
   "outputs": [
    {
     "data": {
      "text/plain": [
       "0.03125"
      ]
     },
     "execution_count": 36,
     "metadata": {},
     "output_type": "execute_result"
    }
   ],
   "source": [
    "# ¿Cual es la prob de exito en el k-esimo intento?\n",
    "\n",
    "geom.pmf(5, 0.5)  #geom.pmf(k, p)"
   ]
  },
  {
   "cell_type": "code",
   "execution_count": 37,
   "id": "7f35aacc",
   "metadata": {},
   "outputs": [
    {
     "data": {
      "image/png": "[encoded data removed]",
      "text/plain": [
       "<Figure size 432x288 with 1 Axes>"
      ]
     },
     "metadata": {
      "needs_background": "light"
     },
     "output_type": "display_data"
    }
   ],
   "source": [
    "x=[i for i in range(20)]\n",
    "y=[geom.pmf(x, 0.5) for x in x]\n",
    "\n",
    "plt.plot(x, y);"
   ]
  },
  {
   "cell_type": "code",
   "execution_count": 38,
   "id": "9bf2152a",
   "metadata": {},
   "outputs": [
    {
     "data": {
      "image/png": "[encoded data removed]",
      "text/plain": [
       "<Figure size 432x288 with 1 Axes>"
      ]
     },
     "metadata": {
      "needs_background": "light"
     },
     "output_type": "display_data"
    }
   ],
   "source": [
    "x=[i for i in range(20)]\n",
    "y=[geom.cdf(x, 0.5) for x in x]\n",
    "\n",
    "plt.plot(x, y);"
   ]
  },
  {
   "cell_type": "markdown",
   "id": "af7cd1ab",
   "metadata": {},
   "source": [
    "### Distribución Uniforme Discreta\n",
    "\n",
    "https://es.wikipedia.org/wiki/Distribuci%C3%B3n_uniforme_discreta\n",
    "\n",
    "$$X \\sim Uniforme(x_{1}, x_{2},..., x_{n})$$\n",
    "\n",
    "$$P(X=k)= \\frac{1}{n}$$\n",
    "\n",
    "para $k = k_{1}, k_{2},..., k_{n}$\n",
    "\n",
    "La distribución uniforme discreta es una distribución de probabilidad discreta que surge en espacios de probabilidad equiprobables, es decir, en situaciones donde de $n$ resultados diferentes, todos tienen la misma probabilidad de ocurrir. "
   ]
  },
  {
   "cell_type": "code",
   "execution_count": 39,
   "id": "cebf6613",
   "metadata": {},
   "outputs": [
    {
     "data": {
      "text/plain": [
       "array([0.2, 0.2, 0.2, 0. , 0. , 0. , 0. ])"
      ]
     },
     "execution_count": 39,
     "metadata": {},
     "output_type": "execute_result"
    }
   ],
   "source": [
    "from scipy.stats import randint\n",
    "\n",
    "randint.pmf([0,2,3,5,6,7,8], 0, 5)  # (elementos, intervalo)"
   ]
  },
  {
   "cell_type": "code",
   "execution_count": 40,
   "id": "41baffd3",
   "metadata": {},
   "outputs": [
    {
     "data": {
      "image/png": "[encoded data removed]",
      "text/plain": [
       "<Figure size 432x288 with 1 Axes>"
      ]
     },
     "metadata": {
      "needs_background": "light"
     },
     "output_type": "display_data"
    }
   ],
   "source": [
    "x=[i for i in range(-5, 20)]\n",
    "y=[randint.pmf(x, 0, 8)]\n",
    "\n",
    "plt.scatter(x, y);"
   ]
  },
  {
   "cell_type": "code",
   "execution_count": 41,
   "id": "f3b90df7",
   "metadata": {},
   "outputs": [
    {
     "data": {
      "image/png": "[encoded data removed]",
      "text/plain": [
       "<Figure size 432x288 with 1 Axes>"
      ]
     },
     "metadata": {
      "needs_background": "light"
     },
     "output_type": "display_data"
    }
   ],
   "source": [
    "x=[i for i in range(-5, 20)]\n",
    "y=[randint.cdf(x, 0, 8) for x in x]\n",
    "\n",
    "plt.scatter(x, y);"
   ]
  },
  {
   "cell_type": "markdown",
   "id": "c8bcc4c3",
   "metadata": {},
   "source": [
    "### Distribución de Poisson (ley de sucesos raros)\n",
    "\n",
    "https://es.wikipedia.org/wiki/Distribuci%C3%B3n_de_Poisson\n",
    "\n",
    "\n",
    "$$X \\sim Poisson(\\lambda)$$\n",
    "\n",
    "$$P(X=k)=\\frac{\\lambda ^{k}e^{-\\lambda }}{k!}$$\n",
    "\n",
    "para $k = 0, 1, 2,..$\n",
    "\n",
    "La distribución de Poisson es una distribución de probabilidad discreta que expresa, a partir de una frecuencia de ocurrencia media, la probabilidad de que ocurra un determinado número de eventos durante cierto período de tiempo. Concretamente, se especializa en la probabilidad de ocurrencia de sucesos con probabilidades muy pequeñas, o sucesos raros. "
   ]
  },
  {
   "cell_type": "code",
   "execution_count": 42,
   "id": "dc0f3060",
   "metadata": {},
   "outputs": [],
   "source": [
    "from scipy.stats import poisson"
   ]
  },
  {
   "cell_type": "code",
   "execution_count": 43,
   "id": "0e8f4156",
   "metadata": {},
   "outputs": [
    {
     "data": {
      "text/plain": [
       "0.08099148330800089"
      ]
     },
     "execution_count": 43,
     "metadata": {},
     "output_type": "execute_result"
    }
   ],
   "source": [
    "# poisson.pmf(x, lambda), poisson.pmf(evento, media)\n",
    "\n",
    "# si de media tengo 5.4 llamdas a la hora, ¿que prob hay de que la siguiente hora reciba 8 llamadas?\n",
    "poisson.pmf(8 ,5.4)  "
   ]
  },
  {
   "cell_type": "code",
   "execution_count": 47,
   "id": "e8d5ae1e",
   "metadata": {},
   "outputs": [
    {
     "data": {
      "image/png": "[encoded data removed]",
      "text/plain": [
       "<Figure size 432x288 with 1 Axes>"
      ]
     },
     "metadata": {
      "needs_background": "light"
     },
     "output_type": "display_data"
    }
   ],
   "source": [
    "x=[i for i in range(20)]\n",
    "y=[poisson.pmf(x, 5.4) for x in x]\n",
    "\n",
    "plt.plot(x, y);"
   ]
  },
  {
   "cell_type": "code",
   "execution_count": 48,
   "id": "93b986df",
   "metadata": {},
   "outputs": [
    {
     "data": {
      "image/png": "[encoded data removed]",
      "text/plain": [
       "<Figure size 432x288 with 1 Axes>"
      ]
     },
     "metadata": {
      "needs_background": "light"
     },
     "output_type": "display_data"
    }
   ],
   "source": [
    "x=[i for i in range(20)]\n",
    "y=[poisson.pmf(x, 1) for x in x]\n",
    "plt.plot(x, y);\n",
    "\n",
    "y=[poisson.pmf(x, 1.4) for x in x]\n",
    "plt.plot(x, y);\n",
    "\n",
    "y=[poisson.pmf(x, 2) for x in x]\n",
    "plt.plot(x, y);\n",
    "\n",
    "y=[poisson.pmf(x, 3) for x in x]\n",
    "plt.plot(x, y);\n",
    "\n",
    "y=[poisson.pmf(x, 5) for x in x]\n",
    "plt.plot(x, y);\n",
    "\n",
    "y=[poisson.pmf(x, 10) for x in x]\n",
    "plt.plot(x, y);"
   ]
  },
  {
   "cell_type": "code",
   "execution_count": 52,
   "id": "2c179f80",
   "metadata": {},
   "outputs": [
    {
     "data": {
      "image/png": "[encoded data removed]",
      "text/plain": [
       "<Figure size 432x288 with 1 Axes>"
      ]
     },
     "metadata": {
      "needs_background": "light"
     },
     "output_type": "display_data"
    }
   ],
   "source": [
    "x=[i for i in range(20)]  \n",
    "y=[poisson.cdf(x, 0.4) for x in x] \n",
    "\n",
    "plt.plot(x, y);"
   ]
  },
  {
   "cell_type": "markdown",
   "id": "ce3b00f8",
   "metadata": {},
   "source": [
    "**ejemplo futbol**\n",
    "\n",
    "Supongamos que los goles de futbol son eventos raros dentro del partido y que siguen una distribución de Poisson. Partiendo de eso, ¿podríamos predecir el resultado de un partido?. Veamoslo."
   ]
  },
  {
   "cell_type": "code",
   "execution_count": 54,
   "id": "837b35b7",
   "metadata": {},
   "outputs": [],
   "source": [
    "import numpy as np\n",
    "import pandas as pd"
   ]
  },
  {
   "cell_type": "code",
   "execution_count": 56,
   "id": "9b169c59",
   "metadata": {},
   "outputs": [],
   "source": [
    "equipo_A=2.1    # medias de goles de los dos equipos por partido\n",
    "equipo_B=1.4"
   ]
  },
  {
   "cell_type": "code",
   "execution_count": 57,
   "id": "7b95aabc",
   "metadata": {},
   "outputs": [],
   "source": [
    "A=[poisson.pmf(i, equipo_A) for i in range(10)]\n",
    "B=[poisson.pmf(i, equipo_B) for i in range(10)]"
   ]
  },
  {
   "cell_type": "code",
   "execution_count": 62,
   "id": "c972958c",
   "metadata": {},
   "outputs": [
    {
     "data": {
      "image/png": "[encoded data removed]",
      "text/plain": [
       "<Figure size 432x288 with 1 Axes>"
      ]
     },
     "metadata": {
      "needs_background": "light"
     },
     "output_type": "display_data"
    }
   ],
   "source": [
    "# distribucion de prob de goles para el equipo A\n",
    "\n",
    "plt.plot([i for i in range(10)], A)\n",
    "plt.plot([i for i in range(10)], B);"
   ]
  },
  {
   "cell_type": "markdown",
   "id": "9584ca96",
   "metadata": {},
   "source": [
    "para ver la distribucion del partido se necesita realizar el producto externo de los dos vectores para crear una matriz"
   ]
  },
  {
   "cell_type": "code",
   "execution_count": 64,
   "id": "a60c9c0f",
   "metadata": {},
   "outputs": [],
   "source": [
    "partido=np.outer(A, B)"
   ]
  },
  {
   "cell_type": "code",
   "execution_count": 65,
   "id": "e8c19cb5",
   "metadata": {},
   "outputs": [
    {
     "data": {
      "text/html": [
       "<div>\n",
       "<style scoped>\n",
       "    .dataframe tbody tr th:only-of-type {\n",
       "        vertical-align: middle;\n",
       "    }\n",
       "\n",
       "    .dataframe tbody tr th {\n",
       "        vertical-align: top;\n",
       "    }\n",
       "\n",
       "    .dataframe thead th {\n",
       "        text-align: right;\n",
       "    }\n",
       "</style>\n",
       "<table border=\"1\" class=\"dataframe\">\n",
       "  <thead>\n",
       "    <tr style=\"text-align: right;\">\n",
       "      <th></th>\n",
       "      <th>0</th>\n",
       "      <th>1</th>\n",
       "      <th>2</th>\n",
       "      <th>3</th>\n",
       "      <th>4</th>\n",
       "      <th>5</th>\n",
       "      <th>6</th>\n",
       "      <th>7</th>\n",
       "      <th>8</th>\n",
       "      <th>9</th>\n",
       "    </tr>\n",
       "  </thead>\n",
       "  <tbody>\n",
       "    <tr>\n",
       "      <th>0</th>\n",
       "      <td>0.030197</td>\n",
       "      <td>0.042276</td>\n",
       "      <td>0.029593</td>\n",
       "      <td>0.013810</td>\n",
       "      <td>0.004834</td>\n",
       "      <td>0.001353</td>\n",
       "      <td>3.157948e-04</td>\n",
       "      <td>6.315897e-05</td>\n",
       "      <td>1.105282e-05</td>\n",
       "      <td>1.719327e-06</td>\n",
       "    </tr>\n",
       "    <tr>\n",
       "      <th>1</th>\n",
       "      <td>0.063415</td>\n",
       "      <td>0.088780</td>\n",
       "      <td>0.062146</td>\n",
       "      <td>0.029002</td>\n",
       "      <td>0.010151</td>\n",
       "      <td>0.002842</td>\n",
       "      <td>6.631692e-04</td>\n",
       "      <td>1.326338e-04</td>\n",
       "      <td>2.321092e-05</td>\n",
       "      <td>3.610588e-06</td>\n",
       "    </tr>\n",
       "    <tr>\n",
       "      <th>2</th>\n",
       "      <td>0.066585</td>\n",
       "      <td>0.093219</td>\n",
       "      <td>0.065254</td>\n",
       "      <td>0.030452</td>\n",
       "      <td>0.010658</td>\n",
       "      <td>0.002984</td>\n",
       "      <td>6.963276e-04</td>\n",
       "      <td>1.392655e-04</td>\n",
       "      <td>2.437147e-05</td>\n",
       "      <td>3.791117e-06</td>\n",
       "    </tr>\n",
       "    <tr>\n",
       "      <th>3</th>\n",
       "      <td>0.046610</td>\n",
       "      <td>0.065254</td>\n",
       "      <td>0.045677</td>\n",
       "      <td>0.021316</td>\n",
       "      <td>0.007461</td>\n",
       "      <td>0.002089</td>\n",
       "      <td>4.874293e-04</td>\n",
       "      <td>9.748587e-05</td>\n",
       "      <td>1.706003e-05</td>\n",
       "      <td>2.653782e-06</td>\n",
       "    </tr>\n",
       "    <tr>\n",
       "      <th>4</th>\n",
       "      <td>0.024470</td>\n",
       "      <td>0.034258</td>\n",
       "      <td>0.023981</td>\n",
       "      <td>0.011191</td>\n",
       "      <td>0.003917</td>\n",
       "      <td>0.001097</td>\n",
       "      <td>2.559004e-04</td>\n",
       "      <td>5.118008e-05</td>\n",
       "      <td>8.956514e-06</td>\n",
       "      <td>1.393236e-06</td>\n",
       "    </tr>\n",
       "    <tr>\n",
       "      <th>5</th>\n",
       "      <td>0.010277</td>\n",
       "      <td>0.014388</td>\n",
       "      <td>0.010072</td>\n",
       "      <td>0.004700</td>\n",
       "      <td>0.001645</td>\n",
       "      <td>0.000461</td>\n",
       "      <td>1.074782e-04</td>\n",
       "      <td>2.149563e-05</td>\n",
       "      <td>3.761736e-06</td>\n",
       "      <td>5.851589e-07</td>\n",
       "    </tr>\n",
       "    <tr>\n",
       "      <th>6</th>\n",
       "      <td>0.003597</td>\n",
       "      <td>0.005036</td>\n",
       "      <td>0.003525</td>\n",
       "      <td>0.001645</td>\n",
       "      <td>0.000576</td>\n",
       "      <td>0.000161</td>\n",
       "      <td>3.761736e-05</td>\n",
       "      <td>7.523472e-06</td>\n",
       "      <td>1.316608e-06</td>\n",
       "      <td>2.048056e-07</td>\n",
       "    </tr>\n",
       "    <tr>\n",
       "      <th>7</th>\n",
       "      <td>0.001079</td>\n",
       "      <td>0.001511</td>\n",
       "      <td>0.001058</td>\n",
       "      <td>0.000494</td>\n",
       "      <td>0.000173</td>\n",
       "      <td>0.000048</td>\n",
       "      <td>1.128521e-05</td>\n",
       "      <td>2.257042e-06</td>\n",
       "      <td>3.949823e-07</td>\n",
       "      <td>6.144169e-08</td>\n",
       "    </tr>\n",
       "    <tr>\n",
       "      <th>8</th>\n",
       "      <td>0.000283</td>\n",
       "      <td>0.000397</td>\n",
       "      <td>0.000278</td>\n",
       "      <td>0.000130</td>\n",
       "      <td>0.000045</td>\n",
       "      <td>0.000013</td>\n",
       "      <td>2.962367e-06</td>\n",
       "      <td>5.924734e-07</td>\n",
       "      <td>1.036828e-07</td>\n",
       "      <td>1.612844e-08</td>\n",
       "    </tr>\n",
       "    <tr>\n",
       "      <th>9</th>\n",
       "      <td>0.000066</td>\n",
       "      <td>0.000093</td>\n",
       "      <td>0.000065</td>\n",
       "      <td>0.000030</td>\n",
       "      <td>0.000011</td>\n",
       "      <td>0.000003</td>\n",
       "      <td>6.912190e-07</td>\n",
       "      <td>1.382438e-07</td>\n",
       "      <td>2.419266e-08</td>\n",
       "      <td>3.763303e-09</td>\n",
       "    </tr>\n",
       "  </tbody>\n",
       "</table>\n",
       "</div>"
      ],
      "text/plain": [
       "          0         1         2         3         4         5             6  \\\n",
       "0  0.030197  0.042276  0.029593  0.013810  0.004834  0.001353  3.157948e-04   \n",
       "1  0.063415  0.088780  0.062146  0.029002  0.010151  0.002842  6.631692e-04   \n",
       "2  0.066585  0.093219  0.065254  0.030452  0.010658  0.002984  6.963276e-04   \n",
       "3  0.046610  0.065254  0.045677  0.021316  0.007461  0.002089  4.874293e-04   \n",
       "4  0.024470  0.034258  0.023981  0.011191  0.003917  0.001097  2.559004e-04   \n",
       "5  0.010277  0.014388  0.010072  0.004700  0.001645  0.000461  1.074782e-04   \n",
       "6  0.003597  0.005036  0.003525  0.001645  0.000576  0.000161  3.761736e-05   \n",
       "7  0.001079  0.001511  0.001058  0.000494  0.000173  0.000048  1.128521e-05   \n",
       "8  0.000283  0.000397  0.000278  0.000130  0.000045  0.000013  2.962367e-06   \n",
       "9  0.000066  0.000093  0.000065  0.000030  0.000011  0.000003  6.912190e-07   \n",
       "\n",
       "              7             8             9  \n",
       "0  6.315897e-05  1.105282e-05  1.719327e-06  \n",
       "1  1.326338e-04  2.321092e-05  3.610588e-06  \n",
       "2  1.392655e-04  2.437147e-05  3.791117e-06  \n",
       "3  9.748587e-05  1.706003e-05  2.653782e-06  \n",
       "4  5.118008e-05  8.956514e-06  1.393236e-06  \n",
       "5  2.149563e-05  3.761736e-06  5.851589e-07  \n",
       "6  7.523472e-06  1.316608e-06  2.048056e-07  \n",
       "7  2.257042e-06  3.949823e-07  6.144169e-08  \n",
       "8  5.924734e-07  1.036828e-07  1.612844e-08  \n",
       "9  1.382438e-07  2.419266e-08  3.763303e-09  "
      ]
     },
     "execution_count": 65,
     "metadata": {},
     "output_type": "execute_result"
    }
   ],
   "source": [
    "pd.DataFrame(partido)"
   ]
  },
  {
   "cell_type": "code",
   "execution_count": 66,
   "id": "dab1551f",
   "metadata": {},
   "outputs": [
    {
     "data": {
      "image/png": "[encoded data removed]",
      "text/plain": [
       "<Figure size 432x288 with 2 Axes>"
      ]
     },
     "metadata": {
      "needs_background": "light"
     },
     "output_type": "display_data"
    }
   ],
   "source": [
    "sns.heatmap(partido);"
   ]
  },
  {
   "cell_type": "code",
   "execution_count": 67,
   "id": "0772fcc4",
   "metadata": {},
   "outputs": [],
   "source": [
    "uno=np.sum(np.tril(partido, -1))\n",
    "\n",
    "empate=np.sum(np.diag(partido))\n",
    "\n",
    "dos=np.sum(np.triu(partido, 1))"
   ]
  },
  {
   "cell_type": "code",
   "execution_count": 68,
   "id": "0304b8f2",
   "metadata": {},
   "outputs": [
    {
     "data": {
      "text/plain": [
       "(0.5360728017016652, 0.2099648137535895, 0.2538908657942761)"
      ]
     },
     "execution_count": 68,
     "metadata": {},
     "output_type": "execute_result"
    }
   ],
   "source": [
    "uno, empate, dos"
   ]
  },
  {
   "cell_type": "code",
   "execution_count": 69,
   "id": "9c499fca",
   "metadata": {},
   "outputs": [
    {
     "data": {
      "text/plain": [
       "0.9999284812495307"
      ]
     },
     "execution_count": 69,
     "metadata": {},
     "output_type": "execute_result"
    }
   ],
   "source": [
    "uno+empate+dos"
   ]
  },
  {
   "cell_type": "markdown",
   "id": "309c708c",
   "metadata": {},
   "source": [
    "![discretas](images/discretas.jpg)"
   ]
  }
 ],
 "metadata": {
  "finalized": {
   "timestamp": 1624202568327,
   "trusted": false
  },
  "kernelspec": {
   "display_name": "clase",
   "language": "python",
   "name": "clase"
  },
  "language_info": {
   "codemirror_mode": {
    "name": "ipython",
    "version": 3
   },
   "file_extension": ".py",
   "mimetype": "text/x-python",
   "name": "python",
   "nbconvert_exporter": "python",
   "pygments_lexer": "ipython3",
   "version": "3.8.8"
  },
  "varInspector": {
   "cols": {
    "lenName": 16,
    "lenType": 16,
    "lenVar": 40
   },
   "kernels_config": {
    "python": {
     "delete_cmd_postfix": "",
     "delete_cmd_prefix": "del ",
     "library": "var_list.py",
     "varRefreshCmd": "print(var_dic_list())"
    },
    "r": {
     "delete_cmd_postfix": ") ",
     "delete_cmd_prefix": "rm(",
     "library": "var_list.r",
     "varRefreshCmd": "cat(var_dic_list()) "
    }
   },
   "types_to_exclude": [
    "module",
    "function",
    "builtin_function_or_method",
    "instance",
    "_Feature"
   ],
   "window_display": false
  }
 },
 "nbformat": 4,
 "nbformat_minor": 5
}
