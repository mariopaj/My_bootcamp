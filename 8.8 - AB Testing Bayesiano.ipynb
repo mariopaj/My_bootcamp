{
 "cells": [
  {
   "cell_type": "markdown",
   "metadata": {},
   "source": [
    "# 8.8 - AB Testing Bayesiano\n",
    "\n",
    "\n",
    "### Conjugado a priori\n",
    "\n",
    "https://en.wikipedia.org/wiki/Conjugate_prior\n",
    "\n",
    "https://en.wikipedia.org/wiki/Beta_distribution"
   ]
  },
  {
   "cell_type": "code",
   "execution_count": null,
   "metadata": {},
   "outputs": [],
   "source": [
    "# tiros_de_moneda  (modelo beta-binomial)\n",
    "\n",
    "import warnings\n",
    "warnings.simplefilter('ignore')\n",
    "\n",
    "\n",
    "import numpy as np\n",
    "import matplotlib.pyplot as plt\n",
    "from scipy.stats import bernoulli, beta  \n",
    "\n",
    "plt.figure(figsize=(10, 8))\n",
    "\n",
    "\n",
    "tiradas=[0,2,10,20,50,500]    # lista del numero de intentos (experimentos de Bernoulli)\n",
    "  \n",
    "datos=bernoulli.rvs(0.5,size=tiradas[-1])   # se tiran 500 veces la moneda, 0-cruz, 1-cara (B(p,n))\n",
    "\n",
    "x=np.linspace(0,1,100)  # espaciado lineal entre 0 y 1, 100 puntos, se discretiza el eje x\n",
    "\n",
    "\n",
    "for i,N in enumerate(tiradas):  # se actualiza la informacion respecto al nº de tiradas, modelo beta-binomial (i actualizaciones , N tiradas)\n",
    "\n",
    "    caras=datos[:N].sum()                              # suma las caras que van saliendo\n",
    "    ax=plt.subplot(len(tiradas)/2, 2, i+1)             # se crea un plot cada vez que se actualiza\n",
    "    \n",
    "    ax.set_title(\"%s tiradas, %s caras\" % (N, caras))  # titulo  \n",
    "    plt.xlabel(\"$P(x)$, Probabilidad de Cara\")         # etiqueta x\n",
    "    plt.ylabel(\"Densidad\")                             # etiqueta y\n",
    "    \n",
    "    if i == 0:                                         # limite del eje y en el primer plot (0 tiradas)\n",
    "        plt.ylim([0.0, 2.0])\n",
    "    plt.setp(ax.get_yticklabels(), visible=False)      # quita los numeros del eje y\n",
    "    \n",
    "    y=beta.pdf(x, 1+caras, 1+N-caras)                  # se crea y se dibuja la distribucion beta que representa... (Beta(x,a,b))\n",
    "    plt.plot(x,y)                                      # ... la creencia a posteriori de la perfeccion de la moneda (beta-binomial, bayesiano)\n",
    "    plt.fill_between(x, 0, y, color='b', alpha=0.5)    # se rellena de color la distribucion \n",
    "\n",
    "\n",
    "plt.tight_layout()  # se expande el plot\n",
    "plt.show();         # se plotea"
   ]
  },
  {
   "cell_type": "code",
   "execution_count": null,
   "metadata": {},
   "outputs": [],
   "source": [
    "from lib.bayes_func import *"
   ]
  },
  {
   "cell_type": "code",
   "execution_count": null,
   "metadata": {},
   "outputs": [],
   "source": [
    "# los datos son conocidos: impresiones, conversiones, control y test\n",
    "\n",
    "imps_crtl, convs_ctrl = 16500, 30\n",
    "imps_test, convs_test = 17000, 50\n",
    "\n",
    "CR_ctrl=convs_ctrl/imps_crtl  # tasas de conversion\n",
    "CR_test=convs_test/imps_test\n",
    "\n",
    "\n",
    "'Tasas: ', CR_ctrl, CR_test"
   ]
  },
  {
   "cell_type": "code",
   "execution_count": null,
   "metadata": {},
   "outputs": [],
   "source": [
    "# se crean las betas a prioris\n",
    "\n",
    "a_C, b_C = convs_ctrl+1, imps_crtl-convs_ctrl+1\n",
    "a_T, b_T = convs_test+1, imps_test-convs_test+1\n",
    "\n",
    "\n",
    "beta_C=beta(a_C, b_C)   # control \n",
    "beta_T=beta(a_T, b_T)   # test"
   ]
  },
  {
   "cell_type": "code",
   "execution_count": null,
   "metadata": {},
   "outputs": [],
   "source": [
    "salto=(beta_T.mean()-beta_C.mean())/beta_C.mean()\n",
    "\n",
    "salto"
   ]
  },
  {
   "cell_type": "code",
   "execution_count": null,
   "metadata": {},
   "outputs": [],
   "source": [
    "prob=calc_prob(beta_T, beta_C)\n",
    "\n",
    "prob"
   ]
  },
  {
   "cell_type": "code",
   "execution_count": null,
   "metadata": {},
   "outputs": [],
   "source": [
    "'El test aumenta la tasa de conversion en un {:2.2f}%, con una probabilidad del {:2.2f}%'.format(salto*100, prob*100)"
   ]
  },
  {
   "cell_type": "code",
   "execution_count": null,
   "metadata": {},
   "outputs": [],
   "source": [
    "print (CR_ctrl, CR_test)\n",
    "plot([beta_C, beta_T], ['Control', 'Test'])"
   ]
  },
  {
   "cell_type": "code",
   "execution_count": null,
   "metadata": {},
   "outputs": [],
   "source": [
    "import seaborn as sns\n",
    "import pandas as pd\n",
    "\n",
    "val_C=np.random.beta(a_C, b_C, 50000)\n",
    "val_T=np.random.beta(a_T, b_T, 50000)\n",
    "\n",
    "vals=np.vstack([val_C, val_T]).T\n",
    "limit=0.004\n",
    "\n",
    "df=pd.DataFrame(vals, columns=['Control','Test'])\n",
    "df=df[df.Control<limit]\n",
    "df=df[df.Test<limit]\n",
    "\n",
    "\n",
    "g=sns.jointplot(x=df.Control, y=df.Test, kind='kde', n_levels=15)\n",
    "g.ax_joint.plot([0.0015, limit], [0.0015, limit])\n",
    "plt.show();"
   ]
  },
  {
   "cell_type": "markdown",
   "metadata": {},
   "source": [
    "### what if...? \n",
    "\n",
    "¿cual es la prob de que el test sea superior a 0.003 (CR)?"
   ]
  },
  {
   "cell_type": "code",
   "execution_count": null,
   "metadata": {},
   "outputs": [],
   "source": [
    "!pip install mpmath"
   ]
  },
  {
   "cell_type": "code",
   "execution_count": null,
   "metadata": {},
   "outputs": [],
   "source": [
    "from mpmath import betainc   # integral de beta\n",
    "\n",
    "p=betainc(a_T, b_T, 0.003, 1, regularized=True)\n",
    "\n",
    "p"
   ]
  },
  {
   "cell_type": "code",
   "execution_count": null,
   "metadata": {},
   "outputs": [],
   "source": []
  }
 ],
 "metadata": {
  "finalized": {
   "timestamp": 1624202918088,
   "trusted": false
  },
  "kernelspec": {
   "display_name": "clase",
   "language": "python",
   "name": "clase"
  },
  "language_info": {
   "codemirror_mode": {
    "name": "ipython",
    "version": 3
   },
   "file_extension": ".py",
   "mimetype": "text/x-python",
   "name": "python",
   "nbconvert_exporter": "python",
   "pygments_lexer": "ipython3",
   "version": "3.8.8"
  },
  "varInspector": {
   "cols": {
    "lenName": 16,
    "lenType": 16,
    "lenVar": 40
   },
   "kernels_config": {
    "python": {
     "delete_cmd_postfix": "",
     "delete_cmd_prefix": "del ",
     "library": "var_list.py",
     "varRefreshCmd": "print(var_dic_list())"
    },
    "r": {
     "delete_cmd_postfix": ") ",
     "delete_cmd_prefix": "rm(",
     "library": "var_list.r",
     "varRefreshCmd": "cat(var_dic_list()) "
    }
   },
   "types_to_exclude": [
    "module",
    "function",
    "builtin_function_or_method",
    "instance",
    "_Feature"
   ],
   "window_display": false
  }
 },
 "nbformat": 4,
 "nbformat_minor": 4
}
