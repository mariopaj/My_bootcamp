{
 "cells": [
  {
   "cell_type": "markdown",
   "metadata": {},
   "source": [
    "# 7.1 - Programación funcional"
   ]
  },
  {
   "cell_type": "markdown",
   "metadata": {},
   "source": [
    "### Filosofía de la programación funcional\n",
    "\n",
    "- Abstracción: una función podría funcionar como una caja negra, donde nosotros no comprendemos su funcionamiento interno, pero somos capaces de usarla y trabajar con su resultado.\n",
    "\n",
    "- Modularización: las funciones tienen un objetivo específico, realizan una acción, para luego poder construir un proceso completo con varias funciones, varios pasos dentro del mismo. \n",
    "\n",
    "- Reusabilidad: las funciones pueden ser utilizadas cuantas veces sea necesario, son módulos independientes.\n",
    "\n",
    "\n",
    "En la programación funcional se hace la distinción entre datos y comportamiento, esto quiere decir que los programas tienen dos partes separadas, las acciones y los datos, funciones que se ejecutan con o sobre los datos. Esto hace que los datos sean inmutables en la programación funcional, a no ser que sean sobreescrito a propósito."
   ]
  },
  {
   "cell_type": "code",
   "execution_count": 1,
   "metadata": {},
   "outputs": [],
   "source": [
    "data=[104.5, 1143.78, 200]"
   ]
  },
  {
   "cell_type": "code",
   "execution_count": 2,
   "metadata": {},
   "outputs": [],
   "source": [
    "def sumar(a, b):\n",
    "    return a+b"
   ]
  },
  {
   "cell_type": "code",
   "execution_count": 3,
   "metadata": {},
   "outputs": [],
   "source": [
    "def restar(a, b):\n",
    "    return a-b"
   ]
  },
  {
   "cell_type": "code",
   "execution_count": 4,
   "metadata": {},
   "outputs": [],
   "source": [
    "def multiplicar(a, b):\n",
    "    return a*b"
   ]
  },
  {
   "cell_type": "code",
   "execution_count": 5,
   "metadata": {},
   "outputs": [],
   "source": [
    "def dividir(a, b):\n",
    "    return a/b"
   ]
  },
  {
   "cell_type": "code",
   "execution_count": 6,
   "metadata": {},
   "outputs": [],
   "source": [
    "def exe(precio):\n",
    "    precio=sumar(precio, 1.2)\n",
    "    precio=dividir(precio, 3)\n",
    "    \n",
    "    tax=multiplicar(precio, .21)\n",
    "    \n",
    "    ret=multiplicar(precio, .15)\n",
    "    \n",
    "    precio=sumar(precio, tax)\n",
    "    precio=restar(precio, ret)\n",
    "    \n",
    "    return precio"
   ]
  },
  {
   "cell_type": "code",
   "execution_count": 7,
   "metadata": {},
   "outputs": [
    {
     "name": "stdout",
     "output_type": "stream",
     "text": [
      "37.34733333333334\n",
      "404.5596\n",
      "71.09066666666666\n"
     ]
    }
   ],
   "source": [
    "for e in data:\n",
    "    print(exe(e))"
   ]
  },
  {
   "cell_type": "code",
   "execution_count": 8,
   "metadata": {},
   "outputs": [
    {
     "data": {
      "text/plain": [
       "[37.34733333333334, 404.5596, 71.09066666666666]"
      ]
     },
     "execution_count": 8,
     "metadata": {},
     "output_type": "execute_result"
    }
   ],
   "source": [
    "list(map(exe, data))  # resultado de aplicar las funciones"
   ]
  },
  {
   "cell_type": "code",
   "execution_count": 9,
   "metadata": {},
   "outputs": [
    {
     "data": {
      "text/plain": [
       "[104.5, 1143.78, 200]"
      ]
     },
     "execution_count": 9,
     "metadata": {},
     "output_type": "execute_result"
    }
   ],
   "source": [
    "data  # esto son los datos"
   ]
  },
  {
   "cell_type": "markdown",
   "metadata": {},
   "source": [
    "### Recursión \n",
    "- Cuando una función se llama a si misma\n",
    "- Permite continuar un bucle hasta que complete cierto proceso\n",
    "- **Cuidado** con la recursión infinita"
   ]
  },
  {
   "cell_type": "markdown",
   "metadata": {},
   "source": [
    "##### Función de Ackermann\n",
    "\n",
    "Debido a su definición, profundamente recursiva, la función de Ackermann se utiliza con frecuencia para comparar compiladores en cuanto a su habilidad para optimizar la recursión. [ver wikipedia](https://es.wikipedia.org/wiki/Funci%C3%B3n_de_Ackermann)\n",
    "\n",
    "\n",
    "$$\n",
    "   \\begin{equation}\n",
    "     \\label{eq:ackermann}\n",
    "     A(m,n) = \\left\\{\n",
    "\t       \\begin{array}{}\n",
    "\t\t n + 1   & \\mathrm{si\\ } m = 0 \\\\\n",
    "\t\t A(m-1,1)  & \\mathrm{si\\ } m \\gt 0 ; n = 0 \\\\\n",
    "\t\t A(m-1,A(m,n-1))  & \\mathrm{si\\ }  m \\gt 0 ; n \\gt 0\n",
    "\t       \\end{array}\n",
    "\t     \\right.\n",
    "   \\end{equation}$$"
   ]
  },
  {
   "cell_type": "code",
   "execution_count": 10,
   "metadata": {},
   "outputs": [],
   "source": [
    "def ackermann(m,n):\n",
    "\n",
    "    if m==0            : return n+1\n",
    "    \n",
    "    elif m>0 and n==0  : return ackermann(m-1, 1)\n",
    "    \n",
    "    elif m>0 and n>0   : return ackermann(m-1, ackermann(m, n-1))"
   ]
  },
  {
   "cell_type": "code",
   "execution_count": 11,
   "metadata": {},
   "outputs": [
    {
     "data": {
      "text/plain": [
       "6"
      ]
     },
     "execution_count": 11,
     "metadata": {},
     "output_type": "execute_result"
    }
   ],
   "source": [
    "ackermann(0,5)"
   ]
  },
  {
   "cell_type": "code",
   "execution_count": 12,
   "metadata": {},
   "outputs": [
    {
     "data": {
      "text/plain": [
       "2"
      ]
     },
     "execution_count": 12,
     "metadata": {},
     "output_type": "execute_result"
    }
   ],
   "source": [
    "ackermann(1,0)"
   ]
  },
  {
   "cell_type": "code",
   "execution_count": 13,
   "metadata": {},
   "outputs": [
    {
     "data": {
      "text/plain": [
       "3"
      ]
     },
     "execution_count": 13,
     "metadata": {},
     "output_type": "execute_result"
    }
   ],
   "source": [
    "ackermann(1,1)"
   ]
  },
  {
   "cell_type": "markdown",
   "metadata": {},
   "source": [
    "### Decoradores\n",
    "\n",
    "Los decoradores pueden definirse como patrones de diseño funcional. Permiten a una función tomar otra función como argumento para devolver una tercera función. De esta manera se obtienen funciones dinámicas sin tener que cambiar constantemente su código.\n",
    "\n",
    "Un decorador es como un envoltorio con el cual envolvemos una función.\n"
   ]
  },
  {
   "cell_type": "code",
   "execution_count": 14,
   "metadata": {},
   "outputs": [],
   "source": [
    "def suma(*args, **kwargs):\n",
    "    if kwargs['a']:\n",
    "        kwargs['a']='hola'\n",
    "    return args, kwargs"
   ]
  },
  {
   "cell_type": "code",
   "execution_count": 15,
   "metadata": {},
   "outputs": [
    {
     "data": {
      "text/plain": [
       "((1, 2, 3), {'a': 'hola'})"
      ]
     },
     "execution_count": 15,
     "metadata": {},
     "output_type": "execute_result"
    }
   ],
   "source": [
    "suma(1, 2, 3, a=4)"
   ]
  },
  {
   "cell_type": "code",
   "execution_count": 16,
   "metadata": {},
   "outputs": [],
   "source": [
    "def debug(fn):\n",
    "    \n",
    "    def wrap(*args, **kwargs):\n",
    "        print('--Args :', args)\n",
    "        print('--Kwargs :', kwargs)\n",
    "        print('--Return :', fn(*args, **kwargs))\n",
    "        return fn(*args, **kwargs)\n",
    "    \n",
    "    return wrap"
   ]
  },
  {
   "cell_type": "code",
   "execution_count": 17,
   "metadata": {},
   "outputs": [
    {
     "name": "stdout",
     "output_type": "stream",
     "text": [
      "--Args : (2, 4)\n",
      "--Kwargs : {}\n",
      "--Return : 6\n"
     ]
    },
    {
     "data": {
      "text/plain": [
       "6"
      ]
     },
     "execution_count": 17,
     "metadata": {},
     "output_type": "execute_result"
    }
   ],
   "source": [
    "@debug\n",
    "def suma(a, b):\n",
    "    return a+b\n",
    "\n",
    "suma(2, 4)"
   ]
  },
  {
   "cell_type": "code",
   "execution_count": 18,
   "metadata": {},
   "outputs": [
    {
     "name": "stdout",
     "output_type": "stream",
     "text": [
      "--Args : (2,)\n",
      "--Kwargs : {}\n",
      "--Return : 6\n"
     ]
    },
    {
     "data": {
      "text/plain": [
       "6"
      ]
     },
     "execution_count": 18,
     "metadata": {},
     "output_type": "execute_result"
    }
   ],
   "source": [
    "@debug\n",
    "def suma(a, b=4):\n",
    "    return a+b\n",
    "\n",
    "suma(2)"
   ]
  },
  {
   "cell_type": "code",
   "execution_count": 19,
   "metadata": {},
   "outputs": [
    {
     "name": "stdout",
     "output_type": "stream",
     "text": [
      "--Args : ('hola',)\n",
      "--Kwargs : {}\n",
      "--Return : holaholaholaholaholaholaholaholaholahola\n"
     ]
    },
    {
     "data": {
      "text/plain": [
       "'holaholaholaholaholaholaholaholaholahola'"
      ]
     },
     "execution_count": 19,
     "metadata": {},
     "output_type": "execute_result"
    }
   ],
   "source": [
    "@debug \n",
    "def multi(n):\n",
    "    return n*10\n",
    "\n",
    "multi('hola')"
   ]
  },
  {
   "cell_type": "markdown",
   "metadata": {},
   "source": [
    "**Compilador con [numba](https://numba.pydata.org/)**"
   ]
  },
  {
   "cell_type": "code",
   "execution_count": 20,
   "metadata": {},
   "outputs": [
    {
     "name": "stdout",
     "output_type": "stream",
     "text": [
      "Requirement already satisfied: numba in /Users/iudh/opt/anaconda3/envs/clase/lib/python3.8/site-packages (0.54.1)\r\n",
      "Requirement already satisfied: setuptools in /Users/iudh/opt/anaconda3/envs/clase/lib/python3.8/site-packages (from numba) (52.0.0.post20210125)\r\n",
      "Requirement already satisfied: numpy<1.21,>=1.17 in /Users/iudh/opt/anaconda3/envs/clase/lib/python3.8/site-packages (from numba) (1.20.2)\r\n",
      "Requirement already satisfied: llvmlite<0.38,>=0.37.0rc1 in /Users/iudh/opt/anaconda3/envs/clase/lib/python3.8/site-packages (from numba) (0.37.0)\r\n"
     ]
    }
   ],
   "source": [
    "!pip3 install numba"
   ]
  },
  {
   "cell_type": "code",
   "execution_count": 21,
   "metadata": {},
   "outputs": [],
   "source": [
    "from numba import jit\n",
    "\n",
    "@jit\n",
    "def fn(a, b, c, d):\n",
    "    return a**b/c+d"
   ]
  },
  {
   "cell_type": "code",
   "execution_count": 22,
   "metadata": {},
   "outputs": [
    {
     "name": "stdout",
     "output_type": "stream",
     "text": [
      "CPU times: user 176 ms, sys: 20.9 ms, total: 197 ms\n",
      "Wall time: 232 ms\n"
     ]
    },
    {
     "data": {
      "text/plain": [
       "7.0"
      ]
     },
     "execution_count": 22,
     "metadata": {},
     "output_type": "execute_result"
    }
   ],
   "source": [
    "%%time \n",
    "\n",
    "fn(2,3,4,5)"
   ]
  },
  {
   "cell_type": "code",
   "execution_count": 23,
   "metadata": {},
   "outputs": [],
   "source": [
    "def fn2(a, b, c, d):\n",
    "    return a**b/c+d"
   ]
  },
  {
   "cell_type": "code",
   "execution_count": 24,
   "metadata": {},
   "outputs": [
    {
     "name": "stdout",
     "output_type": "stream",
     "text": [
      "CPU times: user 5 µs, sys: 0 ns, total: 5 µs\n",
      "Wall time: 5.96 µs\n"
     ]
    },
    {
     "data": {
      "text/plain": [
       "7.0"
      ]
     },
     "execution_count": 24,
     "metadata": {},
     "output_type": "execute_result"
    }
   ],
   "source": [
    "%%time \n",
    "\n",
    "fn2(2,3,4,5)"
   ]
  },
  {
   "cell_type": "markdown",
   "metadata": {},
   "source": [
    "### Scripting (code pipeline)\n",
    "\n",
    "Se trabaja con archivos externos al actual, realizando importanciones sobre nuestro código."
   ]
  },
  {
   "cell_type": "code",
   "execution_count": 25,
   "metadata": {},
   "outputs": [],
   "source": [
    "import src.funciones as func"
   ]
  },
  {
   "cell_type": "code",
   "execution_count": 26,
   "metadata": {},
   "outputs": [
    {
     "name": "stdout",
     "output_type": "stream",
     "text": [
      "Help on module src.funciones in src:\n",
      "\n",
      "NAME\n",
      "    src.funciones\n",
      "\n",
      "FUNCTIONS\n",
      "    dividir(a, b)\n",
      "    \n",
      "    multiplicar(a, b)\n",
      "    \n",
      "    restar(a, b)\n",
      "    \n",
      "    sumar(a, b)\n",
      "\n",
      "FILE\n",
      "    /Users/iudh/ds_tb_part_21_09/02-Data_Analysis/src/funciones.py\n",
      "\n",
      "\n"
     ]
    }
   ],
   "source": [
    "help(func)"
   ]
  },
  {
   "cell_type": "code",
   "execution_count": 27,
   "metadata": {},
   "outputs": [
    {
     "data": {
      "text/plain": [
       "-1"
      ]
     },
     "execution_count": 27,
     "metadata": {},
     "output_type": "execute_result"
    }
   ],
   "source": [
    "func.restar(2, 3)"
   ]
  },
  {
   "cell_type": "code",
   "execution_count": 28,
   "metadata": {},
   "outputs": [
    {
     "data": {
      "text/plain": [
       "6"
      ]
     },
     "execution_count": 28,
     "metadata": {},
     "output_type": "execute_result"
    }
   ],
   "source": [
    "func.multiplicar(2, 3)"
   ]
  },
  {
   "cell_type": "code",
   "execution_count": 29,
   "metadata": {},
   "outputs": [],
   "source": [
    "from src.funciones import dividir"
   ]
  },
  {
   "cell_type": "code",
   "execution_count": 30,
   "metadata": {},
   "outputs": [
    {
     "data": {
      "text/plain": [
       "0.4"
      ]
     },
     "execution_count": 30,
     "metadata": {},
     "output_type": "execute_result"
    }
   ],
   "source": [
    "dividir(2, 5)"
   ]
  },
  {
   "cell_type": "code",
   "execution_count": 31,
   "metadata": {},
   "outputs": [
    {
     "data": {
      "text/plain": [
       "6"
      ]
     },
     "execution_count": 31,
     "metadata": {},
     "output_type": "execute_result"
    }
   ],
   "source": [
    "multiplicar(2, 3)"
   ]
  },
  {
   "cell_type": "code",
   "execution_count": 32,
   "metadata": {},
   "outputs": [],
   "source": [
    "from src.funciones import *"
   ]
  },
  {
   "cell_type": "code",
   "execution_count": 33,
   "metadata": {},
   "outputs": [
    {
     "data": {
      "text/plain": [
       "6"
      ]
     },
     "execution_count": 33,
     "metadata": {},
     "output_type": "execute_result"
    }
   ],
   "source": [
    "multiplicar(2, 3)"
   ]
  },
  {
   "cell_type": "code",
   "execution_count": 34,
   "metadata": {},
   "outputs": [
    {
     "data": {
      "text/plain": [
       "0.4"
      ]
     },
     "execution_count": 34,
     "metadata": {},
     "output_type": "execute_result"
    }
   ],
   "source": [
    "dividir(2, 5)"
   ]
  },
  {
   "cell_type": "code",
   "execution_count": 35,
   "metadata": {},
   "outputs": [
    {
     "data": {
      "text/plain": [
       "11"
      ]
     },
     "execution_count": 35,
     "metadata": {},
     "output_type": "execute_result"
    }
   ],
   "source": [
    "sumar(5, 6)"
   ]
  },
  {
   "cell_type": "code",
   "execution_count": 36,
   "metadata": {},
   "outputs": [
    {
     "name": "stdout",
     "output_type": "stream",
     "text": [
      "Requirement already satisfied: import_ipynb in /Users/iudh/opt/anaconda3/envs/clase/lib/python3.8/site-packages (0.1.3)\r\n"
     ]
    }
   ],
   "source": [
    "!pip3 install import_ipynb"
   ]
  },
  {
   "cell_type": "code",
   "execution_count": 37,
   "metadata": {},
   "outputs": [
    {
     "name": "stdout",
     "output_type": "stream",
     "text": [
      "importing Jupyter notebook from /Users/iudh/ds_tb_part_21_09/02-Data_Analysis/src/funciones_jup.ipynb\n"
     ]
    }
   ],
   "source": [
    "import import_ipynb\n",
    "\n",
    "from src.funciones_jup import *"
   ]
  },
  {
   "cell_type": "code",
   "execution_count": 38,
   "metadata": {},
   "outputs": [
    {
     "data": {
      "text/plain": [
       "7"
      ]
     },
     "execution_count": 38,
     "metadata": {},
     "output_type": "execute_result"
    }
   ],
   "source": [
    "sumar_jup(3, 4)"
   ]
  },
  {
   "cell_type": "code",
   "execution_count": 39,
   "metadata": {},
   "outputs": [
    {
     "data": {
      "text/plain": [
       "35"
      ]
     },
     "execution_count": 39,
     "metadata": {},
     "output_type": "execute_result"
    }
   ],
   "source": [
    "multiplicar_jup(5, 7)"
   ]
  },
  {
   "cell_type": "code",
   "execution_count": 40,
   "metadata": {},
   "outputs": [],
   "source": [
    "def main(x, y):\n",
    "    \n",
    "    a=sumar(x, y)\n",
    "    print ('a: ',a)\n",
    "    \n",
    "    b=restar_jup(a, 7)\n",
    "    print ('b: ',b)\n",
    "    \n",
    "    c=multiplicar_jup(b, 6)\n",
    "    print ('c: ',c)\n",
    "    \n",
    "    d=dividir(c,7)\n",
    "    \n",
    "    return a, b, c, d"
   ]
  },
  {
   "cell_type": "code",
   "execution_count": 41,
   "metadata": {},
   "outputs": [
    {
     "name": "stdout",
     "output_type": "stream",
     "text": [
      "a:  18\n",
      "b:  11\n",
      "c:  66\n"
     ]
    },
    {
     "data": {
      "text/plain": [
       "(18, 11, 66, 9.428571428571429)"
      ]
     },
     "execution_count": 41,
     "metadata": {},
     "output_type": "execute_result"
    }
   ],
   "source": [
    "main(3, 15)"
   ]
  },
  {
   "cell_type": "code",
   "execution_count": null,
   "metadata": {},
   "outputs": [],
   "source": []
  }
 ],
 "metadata": {
  "finalized": {
   "timestamp": 1640108966502,
   "trusted": true
  },
  "kernelspec": {
   "display_name": "clase",
   "language": "python",
   "name": "clase"
  },
  "language_info": {
   "codemirror_mode": {
    "name": "ipython",
    "version": 3
   },
   "file_extension": ".py",
   "mimetype": "text/x-python",
   "name": "python",
   "nbconvert_exporter": "python",
   "pygments_lexer": "ipython3",
   "version": "3.8.8"
  }
 },
 "nbformat": 4,
 "nbformat_minor": 4
}
