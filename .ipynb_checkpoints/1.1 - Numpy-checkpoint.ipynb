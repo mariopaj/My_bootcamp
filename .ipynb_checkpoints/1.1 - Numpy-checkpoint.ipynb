{
 "cells": [
  {
   "cell_type": "markdown",
   "metadata": {},
   "source": [
    "# 1.1 - Numpy  (Numerical Python)\n",
    "\n",
    "**[Documentación](https://numpy.org/doc/stable/)**\n",
    "\n",
    "**[Código fuente](https://github.com/numpy/numpy)**\n",
    "\n",
    "\n",
    "![numpy](images/numpy.png)"
   ]
  },
  {
   "cell_type": "markdown",
   "metadata": {},
   "source": [
    "NumPy es el paquete fundamental para computación cientifíca en python. Es una librería de python nos permite manejar vectores, matrices, [tensores](https://es.wikipedia.org/wiki/C%C3%A1lculo_tensorial) (arrays multidimensionales) y además realizar todas las operaciones matemáticas y lógicas de los mismos, como la manipulación de la dimensión, ordenado, selección, I/O, operaciones estadísticas, transformadas de Fourier, simulación aleatoria y un largo etcétera. Constituye la herramienta de álgebra lineal."
   ]
  },
  {
   "cell_type": "markdown",
   "metadata": {},
   "source": [
    "## Recordatorio de álgebra\n",
    "\n",
    "+ Contenidos:\n",
    "\n",
    "    + Concepto de tensor\n",
    "    + Operaciones con vectores\n",
    "        + Concepto de espacio vectorial y base\n",
    "        + Suma de vectores\n",
    "        + Producto escalar\n",
    "        + Producto vectorial\n",
    "    + Operaciones con matrices\n",
    "        + Suma de matrices\n",
    "        + Producto matricial\n",
    "        + Matriz Identidad\n",
    "        + Matriz Traspuesta (Hermítica)\n",
    "        + Matriz Inversa \n",
    "        + Determinate"
   ]
  },
  {
   "cell_type": "markdown",
   "metadata": {},
   "source": [
    "### Tensor\n",
    "\n",
    "La palabra ['tensor'](https://es.wikipedia.org/wiki/C%C3%A1lculo_tensorial) se utiliza a menudo como abreviatura de campo tensorial, que es un valor tensorial definido en cada punto en una variedad. El primero en utilizar esta palabra fue William Rowan Hamilton en 1846, empleándola para lo que actualmente se conoce como módulo y fue Woldemar Voigt en 1899 quien la empleó en su acepción actual. La palabra tensor proviene del latín tensus, participio pasado de tendere 'estirar, extender'. El nombre se extendió porque la teoría de la elasticidad fue una de las primeras aplicaciones físicas donde se usaron tensores. Gregorio Ricci-Curbastro en 1890 desarrolló la notación actual con el nombre de geometría diferencial absoluta, y se popularizó con la publicación de Cálculo Diferencial Absoluto de Tullio Levi-Civita en 1900. Con la introducción de la teoría de la relatividad general por parte de Albert Einstein alrededor de 1915 se encontró su aplicación más pragmática. La Relatividad General es netamente tensorial. Einstein había aprendido del mismo Levi-Civita el uso de tensores con gran dificultad.\n",
    "\n",
    "Podemos pensar en un tensor como la generalización del ente algebraico. Con un ejemplo se verá más claro.\n",
    "\n",
    "Un **número**, cualquier número, $2$, $3.6$, $\\pi$, $\\phi$, $\\sqrt{2}$, es un **tensor de rango $0$**.\n",
    "\n",
    "Un **vector**, cualquier vector, sea como sea su longitud, $(1, 2, 3)$, $(0, 5, 2, 1, 5)$, $(9,2)$, es un **tensor de rango $1$**.\n",
    "\n",
    "Una **matriz**, cualquier matriz, sean cuales sean sus dimensiones, es un **tensor de rango $2$**.\n",
    "\n",
    "Un **cubo de Rubik** por ejemplo es un **tensor de rango $3$**.\n",
    "\n",
    "Pensar en dimensiones superiores es complicado por no decir imposible, pero se pueden interpretar a través del contenido. Una **bolsa llena de cubos de Rubik** es un **tensor de rango $4$**.\n",
    "\n",
    "Una **caja llena de bolsas que están llenas de cubos de Rubik es un tensor de rango $5$**.\n",
    "\n",
    "Y así sucesivamente."
   ]
  },
  {
   "cell_type": "markdown",
   "metadata": {},
   "source": [
    "### Operaciones con vectores\n",
    "\n",
    "**Espacio vectorial**\n",
    "\n",
    "La definición matemática de [espacio vectorial](https://es.wikipedia.org/wiki/Espacio_vectorial) implica los conceptos de conjunto, ley de composición(operación) interna y ley de composición externa, definida sobre un segundo conjunto. Resumiendo, un espacio vectorial es una estructura creada sobre un conjunto no vacío con ambas leyes de composición. A los elementos de un espacio vectorial se les llama vectores.\n",
    "\n",
    "Veamos un ejemplo:\n",
    "\n",
    "Un espacio vectorial es el espacio tridimensional ${\\Bbb R}^{3}$. Los elementos de ${\\Bbb R}^{3}$ son vectores, por lo que la ley de composición interna es la suma de vectores. Para la ley de composición externa se necesita otro conjunto, que en esta caso son los números reales ${\\Bbb R}$, y queda definida como el producto por escalares, multiplicar un vector por un número.\n",
    "\n",
    "\n",
    "\n",
    "**Base vectorial**\n",
    "\n",
    "Una [base](https://es.wikipedia.org/wiki/Base_(%C3%A1lgebra)) es un conjunto de vectores {$v_{1}, v_{2}, v_{3}, ... ,v_{n}$} que cumplen las siguientes propiedades:\n",
    "\n",
    "+ Todos los elementos de la base pertenecen al mismo espacio vectorial.\n",
    "+ Los elementos de la base forman un sistema linealmente independiente (ninguno es combinación lineal de los demás).\n",
    "+ Cualquier elemento del espacio vectorial se puede escribir como combinación lineal de los elementos de la base (es lo que se llama sistema generador del espacio vectorial).\n",
    "\n",
    "Ejemplo:\n",
    "\n",
    "En ${\\Bbb R}^{3}$, la base principal (llamada canónica) es {$(1,0,0), (0,1,0), (0,0,1)$}. Todos esos vectores pertenecen a ${\\Bbb R}^{3}$, son linealmente independientes(ninguno puede ser una suma de los otros) y cualquier otro vector en ${\\Bbb R}^{3}$ se puede representar como una suma de esos tres, una combinación lineal. No es única, otra base de ${\\Bbb R}^{3}$ podría ser {$(1,1,1), (1,1,0), (1,0,0)$}\n",
    "\n",
    "\n",
    "\n",
    "**Suma de vectores**\n",
    "\n",
    "Los vectores se suman por componentes, lo que implica que ambos tienen la misma longitud. Por ejemplo en ${\\Bbb R}^{3}$:\n",
    "\n",
    "$$\\vec{A}=A_{x}\\vec{i}+A_{y}\\vec{j}+A_{z}\\vec{k}$$\n",
    "\n",
    "$$\\vec{B}=B_{x}\\vec{i}+B_{y}\\vec{j}+B_{z}\\vec{k}$$\n",
    "\n",
    "$$\\vec{A}+\\vec{B}=(B_{x}+A_{x})\\vec{i}+(B_{y}+A_{y})\\vec{j}+(B_{z}+A_{z})\\vec{k}$$\n",
    "\n",
    "$$$$\n",
    "\n",
    "$$\\vec{A}=(1,8,9)$$\n",
    "\n",
    "$$\\vec{B}=(4,3,0)$$\n",
    "\n",
    "$$\\vec{A}+\\vec{B}=(5,11,9)$$\n",
    "\n",
    "\n",
    "\n",
    "**Producto escalar**\n",
    "\n",
    "Hay que diferenciar entre producto por escalares, un número por un vector resultando un vector, y el productor escalar donde se multiplican dos vectores resultando un número, un escalar.\n",
    "\n",
    "+ Producto por escalares:\n",
    "\n",
    "Se realiza elemento a elemento la multiplicación por el número:\n",
    "\n",
    "$$\\vec{A}=(1,8,9)$$\n",
    "\n",
    "$$2*\\vec{A}=(2,16,18)$$\n",
    "\n",
    "+ Productos escalar:\n",
    "\n",
    "Se realiza multiplicando elemento un vector fila por un vector columna y sumando los resultados. Hay que tener en cuenta, igual que en la suma, que ambos vectores tienen el mismo número de elementos. También se le llama producto punto (dot product) o producto interno (inner product).\n",
    "\n",
    "$$\\vec{A}\\cdot\\vec{B}=(1, 8, 9)\\cdot\\begin{pmatrix}4\\\\3\\\\0\\end{pmatrix} = 1·4+8·3+9·0 = 4+24+0 = 28$$\n",
    "\n",
    "\n",
    "\n",
    "**Producto vectorial**\n",
    "\n",
    "En este caso, se multiplican dos vectores resultando otro vector. La manera más fácil de hacerlo es a través de un determinante:\n",
    "\n",
    "\n",
    "$$\\vec{A}\\times \\vec{B} = \\begin{vmatrix}\n",
    "\\hat{\\imath}&\\hat{\\jmath}&\\hat{k}\\\\\n",
    "1 & 8 & 9 \\\\\n",
    "4 & 3 & 0\n",
    "\\end{vmatrix} = \\begin{vmatrix}\n",
    "8 & 9 \\\\\n",
    "3 & 0\n",
    "\\end{vmatrix}·\\hat{\\imath} - \n",
    "\\begin{vmatrix}\n",
    "1 & 9 \\\\\n",
    "4 & 0\n",
    "\\end{vmatrix}·\\hat{\\jmath} +\n",
    "\\begin{vmatrix}\n",
    "1 & 8 \\\\\n",
    "4 & 3\n",
    "\\end{vmatrix}·\\hat{k} = (8·0-9·3)·\\hat{\\imath}-(1·0-9·4)·\\hat{\\jmath}+(1·3-8·4)·\\hat{k}$$\n",
    "\n",
    "$$\\vec{A}\\times \\vec{B} = (-27, 36, -29)$$"
   ]
  },
  {
   "cell_type": "markdown",
   "metadata": {},
   "source": [
    "### Operaciones con matrices\n",
    "\n",
    "\n",
    "**Suma de matrices**\n",
    "\n",
    "Las matrices tienen definidas sus dimensiones sugún el número de filas($m$) y de columnas($n$), y se representan como $A_{mxn}$. Para sumar matrices las dimensiones tienen que ser las mismas, igual que ocurría con los vectores, y se realiza elemento a elemento (element wise):\n",
    "\n",
    "\n",
    "$$\\begin{pmatrix}\n",
    "5 & 7 & 1 \\\\\n",
    "4 & 0 & 2 \n",
    "\\end{pmatrix}+\\begin{pmatrix}\n",
    "0 & 0 & 3 \\\\\n",
    "2 & 2 & 7 \n",
    "\\end{pmatrix}=\\begin{pmatrix}\n",
    "5 & 7 & 4 \\\\\n",
    "6 & 2 & 9 \n",
    "\\end{pmatrix}$$\n",
    "\n",
    "\n",
    "\n",
    "**Producto matricial**\n",
    "\n",
    "Para multiplicar matrices tenemos que tener en cuenta las dimensiones, porque el producto matricial no es conmutativo e incluso a veces no se puede realizar. El número de columnas de la primera matriz tiene que ser igual que el número de filas de la segunda y el resultado tendrá el número de filas de la primera y el número de columnas de la segunda. Es decir:\n",
    "\n",
    "$$A_{rxn}\\cdot B_{nxq} = C_{rxq}$$\n",
    "\n",
    "\n",
    "$$\\begin{pmatrix}\n",
    "5 & 7 & 1 \\\\\n",
    "4 & 0 & 2 \n",
    "\\end{pmatrix}\\cdot\\begin{pmatrix}\n",
    "0 & 0 \\\\\n",
    "2 & 3 \\\\\n",
    "2 & 7 \n",
    "\\end{pmatrix}=\\begin{pmatrix}\n",
    "5·0+7·2+1·2 & 5·0+7·3+1·7 \\\\\n",
    "4·0+0·2+2·2 & 4·0+0·3+2·7\n",
    "\\end{pmatrix}=\\begin{pmatrix}\n",
    "18 & 28 \\\\\n",
    "4 & 14\n",
    "\\end{pmatrix}$$\n",
    "\n",
    "\n",
    "\n",
    "**Matriz Identidad**\n",
    "\n",
    "Elemento neutro de la multiplicación, solo $1_s$ en la diagonal:\n",
    "\n",
    "$$I = \\begin{pmatrix}\n",
    "1&0&\\cdots&0&0\\\\\n",
    "0&1&\\cdots&0&0\\\\\n",
    "\\vdots&\\vdots&\\ddots&\\vdots&\\vdots\\\\\n",
    "0&\\cdots&\\cdots&\\cdots&0\\\\\n",
    "0&0&\\cdots&1&0\\\\\n",
    "0&0&\\cdots&0&1\\\\\n",
    "\\end{pmatrix}$$\n",
    "\n",
    "\n",
    "\n",
    "**Matriz traspuesta  (hermítica)**\n",
    "\n",
    "La traspuesta $A^{T}$ de una matriz $A$ puede ser obtenida reflejando los elementos a lo largo de su diagonal.\n",
    "\n",
    "$$A=\\begin{pmatrix}\n",
    "5 & 7 & 9 \\\\\n",
    "4 & 0 & 7 \\\\\n",
    "1 & 2 & 2\n",
    "\\end{pmatrix}$$\n",
    "\n",
    "$$A^{T}=\\begin{pmatrix}\n",
    "5 & 4 & 1 \\\\\n",
    "7 & 0 & 2 \\\\\n",
    "9 & 7 & 2\n",
    "\\end{pmatrix}$$\n",
    "\n",
    "\n",
    "Se le dice hermítica si los elementos son números complejos, es la traspuesta conjugada (el conjugado de $x+iy$ es $x-iy$).\n",
    "\n",
    "\n",
    "**Matriz Inversa**\n",
    "\n",
    "¿Como se dividen las matrices? Se multiplica por la inversa. El cálculo de la matriz inversa es:\n",
    "\n",
    "$$A= \\begin{pmatrix}\n",
    "       a_{11} & a_{12} \\\\ \n",
    "       a_{21} & a_{22}\n",
    "    \\end{pmatrix}$$\n",
    "    \n",
    "    \n",
    "$$A^{-1}=\\begin{pmatrix}\n",
    "a_{11} & a_{12} \\\\ \n",
    "a_{21} & a_{22}\n",
    "\\end{pmatrix}^{-1}\n",
    "=\\frac{1}{\\lvert A\\rvert}\n",
    "\\begin{pmatrix}\n",
    "a_{22} & -a_{12} \\\\ \n",
    "-a_{21} &  a_{11}\n",
    "\\end{pmatrix}$$\n",
    "\n",
    "\n",
    "**Determinante**\n",
    "\n",
    "$$A=\\begin{pmatrix}\n",
    "    1 & 3 & 2 & -6 \\\\ \n",
    "    0 & -1 & -4 & 1 \\\\ \n",
    "    0 & -2 & -6 & 3 \\\\ \n",
    "    0 & -2 & -10 & 3\n",
    "  \\end{pmatrix}$$\n",
    "  \n",
    "\n",
    "$$$$\n",
    "\n",
    "\n",
    "$$det(A)=\\begin{vmatrix}\n",
    "    1 & 3 & 2 & -6 \\\\ \n",
    "    0 & -1 & -4 & 1 \\\\ \n",
    "    0 & -2 & -6 & 3 \\\\ \n",
    "    0 & -2 & -10 & 3\n",
    "  \\end{vmatrix}=\\begin{vmatrix}\n",
    "    1 & 0 & 0 \\\\ \n",
    "    -2 & 1 & 0 \\\\ \n",
    "    -2 & 0 & 1\n",
    "  \\end{vmatrix}\\cdot\n",
    "  \\begin{vmatrix}\n",
    "    1 & 4 & 1 \\\\ \n",
    "    2 & 6 & 3 \\\\ \n",
    "    2 & 10 & 3\n",
    "  \\end{vmatrix}=\\begin{vmatrix}\n",
    "    1 & 4 & 1 \\\\ \n",
    "    0 & -2 & 1 \\\\ \n",
    "    0 & 2 & 1\n",
    "  \\end{vmatrix}\n",
    "  =\n",
    "  \\begin{vmatrix}\n",
    "    -2 & 1 \\\\ \n",
    "    2 & 1\n",
    "  \\end{vmatrix}\n",
    "  =-4$$\n",
    "  \n",
    "  "
   ]
  },
  {
   "cell_type": "markdown",
   "metadata": {},
   "source": [
    "**Veamos algo de todo esto en python:**\n",
    "\n",
    "\n",
    "**Arrays**"
   ]
  },
  {
   "cell_type": "code",
   "execution_count": 2,
   "metadata": {},
   "outputs": [],
   "source": [
    "# importar libreria\n",
    "\n",
    "import numpy as np"
   ]
  },
  {
   "cell_type": "code",
   "execution_count": 3,
   "metadata": {},
   "outputs": [
    {
     "data": {
      "text/plain": [
       "array([0.54678057, 0.51186238, 0.35897858, 0.87783358, 0.30962156])"
      ]
     },
     "execution_count": 3,
     "metadata": {},
     "output_type": "execute_result"
    }
   ],
   "source": [
    "# vector, tensor rango 1\n",
    "\n",
    "# números aleatorios distribuidos uniformemente entre 0 y 1\n",
    "\n",
    "vector=np.random.random(5)\n",
    "\n",
    "vector"
   ]
  },
  {
   "cell_type": "code",
   "execution_count": 4,
   "metadata": {},
   "outputs": [
    {
     "data": {
      "text/plain": [
       "array([[0.53740513, 0.99324031, 0.64198906],\n",
       "       [0.85870556, 0.32392426, 0.49374409],\n",
       "       [0.77147219, 0.92498922, 0.94697844],\n",
       "       [0.06995627, 0.8218838 , 0.54538279],\n",
       "       [0.03705467, 0.68975874, 0.20439685]])"
      ]
     },
     "execution_count": 4,
     "metadata": {},
     "output_type": "execute_result"
    }
   ],
   "source": [
    "# matriz, tensor rango 2\n",
    "\n",
    "matriz=np.random.random((5, 3))\n",
    "\n",
    "matriz"
   ]
  },
  {
   "cell_type": "code",
   "execution_count": 5,
   "metadata": {},
   "outputs": [
    {
     "data": {
      "text/plain": [
       "(5, 3)"
      ]
     },
     "execution_count": 5,
     "metadata": {},
     "output_type": "execute_result"
    }
   ],
   "source": [
    "# dimension\n",
    "\n",
    "matriz.shape"
   ]
  },
  {
   "cell_type": "code",
   "execution_count": 6,
   "metadata": {},
   "outputs": [
    {
     "data": {
      "text/plain": [
       "15"
      ]
     },
     "execution_count": 6,
     "metadata": {},
     "output_type": "execute_result"
    }
   ],
   "source": [
    "# numero de elementos\n",
    "\n",
    "matriz.size"
   ]
  },
  {
   "cell_type": "code",
   "execution_count": 7,
   "metadata": {},
   "outputs": [
    {
     "data": {
      "text/plain": [
       "numpy.ndarray"
      ]
     },
     "execution_count": 7,
     "metadata": {},
     "output_type": "execute_result"
    }
   ],
   "source": [
    "type(matriz)"
   ]
  },
  {
   "cell_type": "code",
   "execution_count": 8,
   "metadata": {},
   "outputs": [
    {
     "data": {
      "text/plain": [
       "array([0.53740513, 0.99324031, 0.64198906])"
      ]
     },
     "execution_count": 8,
     "metadata": {},
     "output_type": "execute_result"
    }
   ],
   "source": [
    "# primera fila de la matriz\n",
    "\n",
    "matriz[0]"
   ]
  },
  {
   "cell_type": "code",
   "execution_count": 9,
   "metadata": {},
   "outputs": [
    {
     "data": {
      "text/plain": [
       "0.9932403053521435"
      ]
     },
     "execution_count": 9,
     "metadata": {},
     "output_type": "execute_result"
    }
   ],
   "source": [
    "matriz[0][1]   # segundo elemento de la primera fila"
   ]
  },
  {
   "cell_type": "code",
   "execution_count": 10,
   "metadata": {},
   "outputs": [
    {
     "data": {
      "text/plain": [
       "array([[[0.42610842, 0.98530751, 0.6692604 , 0.77895539],\n",
       "        [0.19829162, 0.6973127 , 0.86932865, 0.09866917]],\n",
       "\n",
       "       [[0.65002127, 0.84035488, 0.8288467 , 0.52406832],\n",
       "        [0.0262195 , 0.46723109, 0.88130489, 0.66279736]],\n",
       "\n",
       "       [[0.08482248, 0.61569346, 0.88331939, 0.41970573],\n",
       "        [0.43665368, 0.19702437, 0.38377241, 0.89721121]]])"
      ]
     },
     "execution_count": 10,
     "metadata": {},
     "output_type": "execute_result"
    }
   ],
   "source": [
    "# cubo, tensor rango 3\n",
    "\n",
    "cubo=np.random.random((3, 2, 4))  # 3 capas, 2 filas, 4 columnas\n",
    "\n",
    "cubo"
   ]
  },
  {
   "cell_type": "code",
   "execution_count": 11,
   "metadata": {},
   "outputs": [
    {
     "data": {
      "text/plain": [
       "array([[[[0.15254708, 0.86161629, 0.42642457, 0.4242238 , 0.74458476],\n",
       "         [0.17703683, 0.70717005, 0.04372164, 0.91873625, 0.17466326],\n",
       "         [0.60821613, 0.42239174, 0.0611186 , 0.46202651, 0.83553639],\n",
       "         [0.0599899 , 0.24590111, 0.23053132, 0.67443503, 0.33118456]],\n",
       "\n",
       "        [[0.47009135, 0.87662051, 0.27750996, 0.76019549, 0.71901058],\n",
       "         [0.40534343, 0.46481257, 0.87630967, 0.56328823, 0.89514598],\n",
       "         [0.81121947, 0.44076942, 0.70034629, 0.9510986 , 0.50204397],\n",
       "         [0.08061183, 0.7836144 , 0.35443958, 0.91956043, 0.22594151]],\n",
       "\n",
       "        [[0.4247396 , 0.55162161, 0.52143161, 0.4681097 , 0.87120162],\n",
       "         [0.06154853, 0.44508564, 0.85091115, 0.20714582, 0.38523224],\n",
       "         [0.30117679, 0.7012306 , 0.32212952, 0.86849452, 0.62793981],\n",
       "         [0.33679849, 0.53123079, 0.99849769, 0.28767173, 0.45877786]]],\n",
       "\n",
       "\n",
       "       [[[0.64325562, 0.98507473, 0.81415685, 0.85488936, 0.55765188],\n",
       "         [0.51805462, 0.58541189, 0.78675342, 0.07776721, 0.10908368],\n",
       "         [0.89067838, 0.01997164, 0.46219072, 0.31148683, 0.11053051],\n",
       "         [0.21238837, 0.56509451, 0.80608758, 0.03283923, 0.35717536]],\n",
       "\n",
       "        [[0.86929232, 0.05253099, 0.20867428, 0.76711093, 0.41236291],\n",
       "         [0.39245447, 0.0737259 , 0.64453263, 0.5511216 , 0.85870753],\n",
       "         [0.24868185, 0.24603074, 0.9740165 , 0.61841839, 0.34941989],\n",
       "         [0.93796827, 0.82140247, 0.55586247, 0.51664035, 0.24205529]],\n",
       "\n",
       "        [[0.99817763, 0.16379105, 0.70724675, 0.51974499, 0.8420645 ],\n",
       "         [0.40882496, 0.39333049, 0.86586873, 0.61369757, 0.38191024],\n",
       "         [0.9273158 , 0.98691049, 0.32127868, 0.38599535, 0.90459138],\n",
       "         [0.57992099, 0.93282964, 0.09026901, 0.84154242, 0.58777839]]]])"
      ]
     },
     "execution_count": 11,
     "metadata": {},
     "output_type": "execute_result"
    }
   ],
   "source": [
    "# tensor rango 4\n",
    "\n",
    "tensor=np.random.random((2,3,4,5))\n",
    "\n",
    "tensor"
   ]
  },
  {
   "cell_type": "code",
   "execution_count": 13,
   "metadata": {},
   "outputs": [
    {
     "data": {
      "text/plain": [
       "numpy.ndarray"
      ]
     },
     "execution_count": 13,
     "metadata": {},
     "output_type": "execute_result"
    }
   ],
   "source": [
    "type(tensor)"
   ]
  },
  {
   "cell_type": "code",
   "execution_count": 14,
   "metadata": {},
   "outputs": [
    {
     "data": {
      "text/plain": [
       "array([[[0.15254708, 0.86161629, 0.42642457, 0.4242238 , 0.74458476],\n",
       "        [0.17703683, 0.70717005, 0.04372164, 0.91873625, 0.17466326],\n",
       "        [0.60821613, 0.42239174, 0.0611186 , 0.46202651, 0.83553639],\n",
       "        [0.0599899 , 0.24590111, 0.23053132, 0.67443503, 0.33118456]],\n",
       "\n",
       "       [[0.47009135, 0.87662051, 0.27750996, 0.76019549, 0.71901058],\n",
       "        [0.40534343, 0.46481257, 0.87630967, 0.56328823, 0.89514598],\n",
       "        [0.81121947, 0.44076942, 0.70034629, 0.9510986 , 0.50204397],\n",
       "        [0.08061183, 0.7836144 , 0.35443958, 0.91956043, 0.22594151]],\n",
       "\n",
       "       [[0.4247396 , 0.55162161, 0.52143161, 0.4681097 , 0.87120162],\n",
       "        [0.06154853, 0.44508564, 0.85091115, 0.20714582, 0.38523224],\n",
       "        [0.30117679, 0.7012306 , 0.32212952, 0.86849452, 0.62793981],\n",
       "        [0.33679849, 0.53123079, 0.99849769, 0.28767173, 0.45877786]]])"
      ]
     },
     "execution_count": 14,
     "metadata": {},
     "output_type": "execute_result"
    }
   ],
   "source": [
    "tensor[0]"
   ]
  },
  {
   "cell_type": "code",
   "execution_count": 15,
   "metadata": {},
   "outputs": [
    {
     "data": {
      "text/plain": [
       "array([[[[0.15254708, 0.86161629, 0.42642457, 0.4242238 , 0.74458476],\n",
       "         [0.17703683, 0.70717005, 0.04372164, 0.91873625, 0.17466326],\n",
       "         [0.60821613, 0.42239174, 0.0611186 , 0.46202651, 0.83553639],\n",
       "         [0.0599899 , 0.24590111, 0.23053132, 0.67443503, 0.33118456]],\n",
       "\n",
       "        [[0.47009135, 0.87662051, 0.27750996, 0.76019549, 0.71901058],\n",
       "         [0.40534343, 0.46481257, 0.87630967, 0.56328823, 0.89514598],\n",
       "         [0.81121947, 0.44076942, 0.70034629, 0.9510986 , 0.50204397],\n",
       "         [0.08061183, 0.7836144 , 0.35443958, 0.91956043, 0.22594151]],\n",
       "\n",
       "        [[0.4247396 , 0.55162161, 0.52143161, 0.4681097 , 0.87120162],\n",
       "         [0.06154853, 0.44508564, 0.85091115, 0.20714582, 0.38523224],\n",
       "         [0.30117679, 0.7012306 , 0.32212952, 0.86849452, 0.62793981],\n",
       "         [0.33679849, 0.53123079, 0.99849769, 0.28767173, 0.45877786]]]])"
      ]
     },
     "execution_count": 15,
     "metadata": {},
     "output_type": "execute_result"
    }
   ],
   "source": [
    "tensor[0:1]"
   ]
  },
  {
   "cell_type": "code",
   "execution_count": 16,
   "metadata": {},
   "outputs": [
    {
     "data": {
      "text/plain": [
       "array([[0.99817763, 0.16379105, 0.70724675, 0.51974499, 0.8420645 ],\n",
       "       [0.40882496, 0.39333049, 0.86586873, 0.61369757, 0.38191024],\n",
       "       [0.9273158 , 0.98691049, 0.32127868, 0.38599535, 0.90459138],\n",
       "       [0.57992099, 0.93282964, 0.09026901, 0.84154242, 0.58777839]])"
      ]
     },
     "execution_count": 16,
     "metadata": {},
     "output_type": "execute_result"
    }
   ],
   "source": [
    "tensor[1,2]"
   ]
  },
  {
   "cell_type": "code",
   "execution_count": 17,
   "metadata": {},
   "outputs": [
    {
     "data": {
      "text/plain": [
       "0.5877783864261423"
      ]
     },
     "execution_count": 17,
     "metadata": {},
     "output_type": "execute_result"
    }
   ],
   "source": [
    "tensor[1,2, 3, 4]"
   ]
  },
  {
   "cell_type": "code",
   "execution_count": 18,
   "metadata": {},
   "outputs": [
    {
     "data": {
      "text/plain": [
       "0.3311845623155225"
      ]
     },
     "execution_count": 18,
     "metadata": {},
     "output_type": "execute_result"
    }
   ],
   "source": [
    "tensor[0, 0, -1, -1]"
   ]
  },
  {
   "cell_type": "code",
   "execution_count": 19,
   "metadata": {},
   "outputs": [
    {
     "data": {
      "text/plain": [
       "array([5, 6, 7])"
      ]
     },
     "execution_count": 19,
     "metadata": {},
     "output_type": "execute_result"
    }
   ],
   "source": [
    "# de listas a arrays\n",
    "lst=[5,6,7]\n",
    "\n",
    "array=np.array(lst)\n",
    "\n",
    "array"
   ]
  },
  {
   "cell_type": "code",
   "execution_count": 21,
   "metadata": {},
   "outputs": [
    {
     "data": {
      "text/plain": [
       "array([[1, 2, 3],\n",
       "       [4, 5, 6],\n",
       "       [7, 8, 9]])"
      ]
     },
     "execution_count": 21,
     "metadata": {},
     "output_type": "execute_result"
    }
   ],
   "source": [
    "lst_lst=[[1,2,3], [4,5,6], [7,8,9]]\n",
    "\n",
    "array=np.array(lst_lst)\n",
    "\n",
    "array"
   ]
  },
  {
   "cell_type": "code",
   "execution_count": 22,
   "metadata": {},
   "outputs": [
    {
     "data": {
      "text/plain": [
       "numpy.ndarray"
      ]
     },
     "execution_count": 22,
     "metadata": {},
     "output_type": "execute_result"
    }
   ],
   "source": [
    "type(array)"
   ]
  },
  {
   "cell_type": "markdown",
   "metadata": {},
   "source": [
    "**Operaciones matemáticas**"
   ]
  },
  {
   "cell_type": "code",
   "execution_count": 23,
   "metadata": {},
   "outputs": [
    {
     "data": {
      "text/plain": [
       "array([[53.74051294, 99.32403054, 64.19890583],\n",
       "       [85.87055641, 32.39242605, 49.37440903],\n",
       "       [77.14721855, 92.49892244, 94.69784448],\n",
       "       [ 6.99562664, 82.18837956, 54.53827931],\n",
       "       [ 3.70546707, 68.97587379, 20.43968532]])"
      ]
     },
     "execution_count": 23,
     "metadata": {},
     "output_type": "execute_result"
    }
   ],
   "source": [
    "100*matriz"
   ]
  },
  {
   "cell_type": "code",
   "execution_count": 26,
   "metadata": {},
   "outputs": [
    {
     "data": {
      "text/plain": [
       "8.860881379337721"
      ]
     },
     "execution_count": 26,
     "metadata": {},
     "output_type": "execute_result"
    }
   ],
   "source": [
    "# suma de todos los elementos\n",
    "\n",
    "matriz.sum()"
   ]
  },
  {
   "cell_type": "code",
   "execution_count": 28,
   "metadata": {},
   "outputs": [
    {
     "data": {
      "text/plain": [
       "8.86088137933772"
      ]
     },
     "execution_count": 28,
     "metadata": {},
     "output_type": "execute_result"
    }
   ],
   "source": [
    "sum(sum(matriz))"
   ]
  },
  {
   "cell_type": "code",
   "execution_count": 29,
   "metadata": {},
   "outputs": [
    {
     "data": {
      "text/plain": [
       "8.860881379337721"
      ]
     },
     "execution_count": 29,
     "metadata": {},
     "output_type": "execute_result"
    }
   ],
   "source": [
    "np.sum(matriz)"
   ]
  },
  {
   "cell_type": "code",
   "execution_count": 30,
   "metadata": {},
   "outputs": [
    {
     "data": {
      "text/plain": [
       "array([2.27459382, 3.75379632, 2.83249124])"
      ]
     },
     "execution_count": 30,
     "metadata": {},
     "output_type": "execute_result"
    }
   ],
   "source": [
    "# suma por columnas\n",
    "\n",
    "matriz.sum(axis=0)"
   ]
  },
  {
   "cell_type": "code",
   "execution_count": 31,
   "metadata": {},
   "outputs": [
    {
     "data": {
      "text/plain": [
       "array([2.17263449, 1.67637391, 2.64343985, 1.43722286, 0.93121026])"
      ]
     },
     "execution_count": 31,
     "metadata": {},
     "output_type": "execute_result"
    }
   ],
   "source": [
    "# suma por filas\n",
    "\n",
    "matriz.sum(axis=1)"
   ]
  },
  {
   "cell_type": "code",
   "execution_count": 32,
   "metadata": {},
   "outputs": [
    {
     "data": {
      "text/plain": [
       "array([2.17263449, 1.67637391, 2.64343985, 1.43722286, 0.93121026])"
      ]
     },
     "execution_count": 32,
     "metadata": {},
     "output_type": "execute_result"
    }
   ],
   "source": [
    "np.sum(matriz, axis=1)"
   ]
  },
  {
   "cell_type": "code",
   "execution_count": 33,
   "metadata": {},
   "outputs": [
    {
     "ename": "AxisError",
     "evalue": "axis 2 is out of bounds for array of dimension 2",
     "output_type": "error",
     "traceback": [
      "\u001b[0;31m---------------------------------------------------------------------------\u001b[0m",
      "\u001b[0;31mAxisError\u001b[0m                                 Traceback (most recent call last)",
      "\u001b[0;32m<ipython-input-33-a7f2d3da45a5>\u001b[0m in \u001b[0;36m<module>\u001b[0;34m\u001b[0m\n\u001b[1;32m      1\u001b[0m \u001b[0;31m# la matriz no es un tensor de rango 3\u001b[0m\u001b[0;34m\u001b[0m\u001b[0;34m\u001b[0m\u001b[0;34m\u001b[0m\u001b[0m\n\u001b[1;32m      2\u001b[0m \u001b[0;34m\u001b[0m\u001b[0m\n\u001b[0;32m----> 3\u001b[0;31m \u001b[0mmatriz\u001b[0m\u001b[0;34m.\u001b[0m\u001b[0msum\u001b[0m\u001b[0;34m(\u001b[0m\u001b[0maxis\u001b[0m\u001b[0;34m=\u001b[0m\u001b[0;36m2\u001b[0m\u001b[0;34m)\u001b[0m\u001b[0;34m\u001b[0m\u001b[0;34m\u001b[0m\u001b[0m\n\u001b[0m",
      "\u001b[0;32m~/opt/anaconda3/envs/clase/lib/python3.8/site-packages/numpy/core/_methods.py\u001b[0m in \u001b[0;36m_sum\u001b[0;34m(a, axis, dtype, out, keepdims, initial, where)\u001b[0m\n\u001b[1;32m     45\u001b[0m def _sum(a, axis=None, dtype=None, out=None, keepdims=False,\n\u001b[1;32m     46\u001b[0m          initial=_NoValue, where=True):\n\u001b[0;32m---> 47\u001b[0;31m     \u001b[0;32mreturn\u001b[0m \u001b[0mumr_sum\u001b[0m\u001b[0;34m(\u001b[0m\u001b[0ma\u001b[0m\u001b[0;34m,\u001b[0m \u001b[0maxis\u001b[0m\u001b[0;34m,\u001b[0m \u001b[0mdtype\u001b[0m\u001b[0;34m,\u001b[0m \u001b[0mout\u001b[0m\u001b[0;34m,\u001b[0m \u001b[0mkeepdims\u001b[0m\u001b[0;34m,\u001b[0m \u001b[0minitial\u001b[0m\u001b[0;34m,\u001b[0m \u001b[0mwhere\u001b[0m\u001b[0;34m)\u001b[0m\u001b[0;34m\u001b[0m\u001b[0;34m\u001b[0m\u001b[0m\n\u001b[0m\u001b[1;32m     48\u001b[0m \u001b[0;34m\u001b[0m\u001b[0m\n\u001b[1;32m     49\u001b[0m def _prod(a, axis=None, dtype=None, out=None, keepdims=False,\n",
      "\u001b[0;31mAxisError\u001b[0m: axis 2 is out of bounds for array of dimension 2"
     ]
    }
   ],
   "source": [
    "# la matriz no es un tensor de rango 3\n",
    "\n",
    "matriz.sum(axis=2)"
   ]
  },
  {
   "cell_type": "code",
   "execution_count": 34,
   "metadata": {},
   "outputs": [
    {
     "data": {
      "text/plain": [
       "array([[2.85963172, 1.86360214],\n",
       "       [2.84329117, 2.03755283],\n",
       "       [2.00354106, 1.91466167]])"
      ]
     },
     "execution_count": 34,
     "metadata": {},
     "output_type": "execute_result"
    }
   ],
   "source": [
    "# el cubo si lo es\n",
    "    \n",
    "cubo.sum(axis=2)"
   ]
  },
  {
   "cell_type": "code",
   "execution_count": 35,
   "metadata": {},
   "outputs": [
    {
     "data": {
      "text/plain": [
       "(2, 3, 4, 5)"
      ]
     },
     "execution_count": 35,
     "metadata": {},
     "output_type": "execute_result"
    }
   ],
   "source": [
    "tensor.shape"
   ]
  },
  {
   "cell_type": "code",
   "execution_count": 37,
   "metadata": {},
   "outputs": [
    {
     "data": {
      "text/plain": [
       "(3, 4, 5)"
      ]
     },
     "execution_count": 37,
     "metadata": {},
     "output_type": "execute_result"
    }
   ],
   "source": [
    "# suma por bolsas\n",
    "\n",
    "tensor.sum(axis=0).shape"
   ]
  },
  {
   "cell_type": "code",
   "execution_count": 38,
   "metadata": {},
   "outputs": [
    {
     "data": {
      "text/plain": [
       "(2, 4, 5)"
      ]
     },
     "execution_count": 38,
     "metadata": {},
     "output_type": "execute_result"
    }
   ],
   "source": [
    "# suma por capas del cubo\n",
    "\n",
    "tensor.sum(axis=1).shape"
   ]
  },
  {
   "cell_type": "code",
   "execution_count": 39,
   "metadata": {},
   "outputs": [
    {
     "data": {
      "text/plain": [
       "(2, 3, 5)"
      ]
     },
     "execution_count": 39,
     "metadata": {},
     "output_type": "execute_result"
    }
   ],
   "source": [
    "# suma por filas\n",
    "\n",
    "tensor.sum(axis=2).shape"
   ]
  },
  {
   "cell_type": "code",
   "execution_count": 40,
   "metadata": {},
   "outputs": [
    {
     "data": {
      "text/plain": [
       "(2, 3, 4)"
      ]
     },
     "execution_count": 40,
     "metadata": {},
     "output_type": "execute_result"
    }
   ],
   "source": [
    "# suma por columnas\n",
    "\n",
    "tensor.sum(axis=3).shape"
   ]
  },
  {
   "cell_type": "code",
   "execution_count": 41,
   "metadata": {},
   "outputs": [
    {
     "data": {
      "text/plain": [
       "0.037054670671455736"
      ]
     },
     "execution_count": 41,
     "metadata": {},
     "output_type": "execute_result"
    }
   ],
   "source": [
    "# minimo de toda la matriz\n",
    "\n",
    "matriz.min()"
   ]
  },
  {
   "cell_type": "code",
   "execution_count": 43,
   "metadata": {},
   "outputs": [
    {
     "data": {
      "text/plain": [
       "array([0.85870556, 0.99324031, 0.94697844])"
      ]
     },
     "execution_count": 43,
     "metadata": {},
     "output_type": "execute_result"
    }
   ],
   "source": [
    "# maximo de cada columna\n",
    "\n",
    "matriz.max(axis=0)"
   ]
  },
  {
   "cell_type": "code",
   "execution_count": 44,
   "metadata": {},
   "outputs": [
    {
     "data": {
      "text/plain": [
       "0.6419890583484975"
      ]
     },
     "execution_count": 44,
     "metadata": {},
     "output_type": "execute_result"
    }
   ],
   "source": [
    "# mediana de todos los elementos\n",
    "\n",
    "np.median(matriz)"
   ]
  },
  {
   "cell_type": "code",
   "execution_count": 45,
   "metadata": {},
   "outputs": [
    {
     "data": {
      "text/plain": [
       "0.5907254252891814"
      ]
     },
     "execution_count": 45,
     "metadata": {},
     "output_type": "execute_result"
    }
   ],
   "source": [
    "# media de todos los elementos\n",
    "\n",
    "matriz.mean()"
   ]
  },
  {
   "cell_type": "code",
   "execution_count": 46,
   "metadata": {},
   "outputs": [
    {
     "data": {
      "text/plain": [
       "array([0.45491876, 0.75075926, 0.56649825])"
      ]
     },
     "execution_count": 46,
     "metadata": {},
     "output_type": "execute_result"
    }
   ],
   "source": [
    "# media de cada columna\n",
    "\n",
    "matriz.mean(axis=0)"
   ]
  },
  {
   "cell_type": "code",
   "execution_count": 47,
   "metadata": {},
   "outputs": [
    {
     "data": {
      "text/plain": [
       "0.3037002975997723"
      ]
     },
     "execution_count": 47,
     "metadata": {},
     "output_type": "execute_result"
    }
   ],
   "source": [
    "# desviación estándar de todos los elementos\n",
    "\n",
    "matriz.std()"
   ]
  },
  {
   "cell_type": "code",
   "execution_count": 48,
   "metadata": {},
   "outputs": [
    {
     "data": {
      "text/plain": [
       "array([0.34434296, 0.23669433, 0.2397167 ])"
      ]
     },
     "execution_count": 48,
     "metadata": {},
     "output_type": "execute_result"
    }
   ],
   "source": [
    "# desviación estándar de cada columna\n",
    "\n",
    "matriz.std(axis=0)"
   ]
  },
  {
   "cell_type": "code",
   "execution_count": 49,
   "metadata": {},
   "outputs": [
    {
     "data": {
      "text/plain": [
       "0.09223387076219026"
      ]
     },
     "execution_count": 49,
     "metadata": {},
     "output_type": "execute_result"
    }
   ],
   "source": [
    "# varianza de todos los elementos\n",
    "\n",
    "matriz.var()"
   ]
  },
  {
   "cell_type": "code",
   "execution_count": 50,
   "metadata": {},
   "outputs": [
    {
     "data": {
      "text/plain": [
       "array([0.11857207, 0.0560242 , 0.0574641 ])"
      ]
     },
     "execution_count": 50,
     "metadata": {},
     "output_type": "execute_result"
    }
   ],
   "source": [
    "# varianza de cada columna\n",
    "    \n",
    "matriz.var(axis=0)"
   ]
  },
  {
   "cell_type": "code",
   "execution_count": null,
   "metadata": {},
   "outputs": [],
   "source": [
    " # desviación estándar de todos los elementos"
   ]
  },
  {
   "cell_type": "code",
   "execution_count": 51,
   "metadata": {},
   "outputs": [
    {
     "data": {
      "text/plain": [
       "0.3037002975997723"
      ]
     },
     "execution_count": 51,
     "metadata": {},
     "output_type": "execute_result"
    }
   ],
   "source": [
    "matriz.var()**0.5"
   ]
  },
  {
   "cell_type": "code",
   "execution_count": 52,
   "metadata": {},
   "outputs": [
    {
     "data": {
      "text/plain": [
       "array([1.39611069, 1.31716457, 1.13573315])"
      ]
     },
     "execution_count": 52,
     "metadata": {},
     "output_type": "execute_result"
    }
   ],
   "source": [
    "# suma elemento a elemento  (element wise)\n",
    "\n",
    "np.add(matriz[0], matriz[1])"
   ]
  },
  {
   "cell_type": "code",
   "execution_count": 53,
   "metadata": {},
   "outputs": [
    {
     "data": {
      "text/plain": [
       "array([-0.32130043,  0.66931604,  0.14824497])"
      ]
     },
     "execution_count": 53,
     "metadata": {},
     "output_type": "execute_result"
    }
   ],
   "source": [
    "# resta elemento a elemento\n",
    "\n",
    "np.subtract(matriz[0], matriz[1])"
   ]
  },
  {
   "cell_type": "code",
   "execution_count": 54,
   "metadata": {},
   "outputs": [
    {
     "data": {
      "text/plain": [
       "5.2098271887666246e-06"
      ]
     },
     "execution_count": 54,
     "metadata": {},
     "output_type": "execute_result"
    }
   ],
   "source": [
    "# multiplica todos los elementos entre si\n",
    "\n",
    "np.prod(matriz)"
   ]
  },
  {
   "cell_type": "code",
   "execution_count": 55,
   "metadata": {},
   "outputs": [
    {
     "data": {
      "text/plain": [
       "1000.0"
      ]
     },
     "execution_count": 55,
     "metadata": {},
     "output_type": "execute_result"
    }
   ],
   "source": [
    "# notación científica\n",
    "\n",
    "1e3   # 1000"
   ]
  },
  {
   "cell_type": "code",
   "execution_count": 56,
   "metadata": {},
   "outputs": [
    {
     "data": {
      "text/plain": [
       "0.001"
      ]
     },
     "execution_count": 56,
     "metadata": {},
     "output_type": "execute_result"
    }
   ],
   "source": [
    "1e-3"
   ]
  },
  {
   "cell_type": "code",
   "execution_count": 57,
   "metadata": {},
   "outputs": [
    {
     "data": {
      "text/plain": [
       "array([0.46147277, 0.32173463, 0.3169783 ])"
      ]
     },
     "execution_count": 57,
     "metadata": {},
     "output_type": "execute_result"
    }
   ],
   "source": [
    "# multiplica dos vectores elemento a elemento\n",
    "\n",
    "np.multiply(matriz[0], matriz[1])"
   ]
  },
  {
   "cell_type": "code",
   "execution_count": 58,
   "metadata": {},
   "outputs": [
    {
     "data": {
      "text/plain": [
       "1.1001857098005137"
      ]
     },
     "execution_count": 58,
     "metadata": {},
     "output_type": "execute_result"
    }
   ],
   "source": [
    "# producto escalar (resultado es un numero), dot product, inner product\n",
    "\n",
    "np.dot(matriz[0], matriz[1])"
   ]
  },
  {
   "cell_type": "code",
   "execution_count": 59,
   "metadata": {},
   "outputs": [
    {
     "data": {
      "text/plain": [
       "array([ 0.2824507 ,  0.28593897, -0.67882242])"
      ]
     },
     "execution_count": 59,
     "metadata": {},
     "output_type": "execute_result"
    }
   ],
   "source": [
    " # producto vectorial (maximo 3 dim)\n",
    "\n",
    "np.cross(matriz[0], matriz[1])"
   ]
  },
  {
   "cell_type": "code",
   "execution_count": 60,
   "metadata": {},
   "outputs": [
    {
     "data": {
      "text/plain": [
       "array([[0.53740513, 0.85870556, 0.77147219, 0.06995627, 0.03705467],\n",
       "       [0.99324031, 0.32392426, 0.92498922, 0.8218838 , 0.68975874],\n",
       "       [0.64198906, 0.49374409, 0.94697844, 0.54538279, 0.20439685]])"
      ]
     },
     "execution_count": 60,
     "metadata": {},
     "output_type": "execute_result"
    }
   ],
   "source": [
    " # matriz traspuesta\n",
    "    \n",
    "matriz.T"
   ]
  },
  {
   "cell_type": "code",
   "execution_count": 61,
   "metadata": {},
   "outputs": [
    {
     "data": {
      "text/plain": [
       "array([[0.53740513, 0.85870556, 0.77147219, 0.06995627, 0.03705467],\n",
       "       [0.99324031, 0.32392426, 0.92498922, 0.8218838 , 0.68975874],\n",
       "       [0.64198906, 0.49374409, 0.94697844, 0.54538279, 0.20439685]])"
      ]
     },
     "execution_count": 61,
     "metadata": {},
     "output_type": "execute_result"
    }
   ],
   "source": [
    "matriz.transpose()"
   ]
  },
  {
   "cell_type": "code",
   "execution_count": 62,
   "metadata": {},
   "outputs": [
    {
     "ename": "ValueError",
     "evalue": "matmul: Input operand 1 has a mismatch in its core dimension 0, with gufunc signature (n?,k),(k,m?)->(n?,m?) (size 5 is different from 3)",
     "output_type": "error",
     "traceback": [
      "\u001b[0;31m---------------------------------------------------------------------------\u001b[0m",
      "\u001b[0;31mValueError\u001b[0m                                Traceback (most recent call last)",
      "\u001b[0;32m<ipython-input-62-351f0fb00e57>\u001b[0m in \u001b[0;36m<module>\u001b[0;34m\u001b[0m\n\u001b[1;32m      1\u001b[0m \u001b[0;31m# multiplicación de matrices\u001b[0m\u001b[0;34m\u001b[0m\u001b[0;34m\u001b[0m\u001b[0;34m\u001b[0m\u001b[0m\n\u001b[1;32m      2\u001b[0m \u001b[0;34m\u001b[0m\u001b[0m\n\u001b[0;32m----> 3\u001b[0;31m \u001b[0mnp\u001b[0m\u001b[0;34m.\u001b[0m\u001b[0mmatmul\u001b[0m\u001b[0;34m(\u001b[0m\u001b[0mmatriz\u001b[0m\u001b[0;34m,\u001b[0m \u001b[0mmatriz\u001b[0m\u001b[0;34m)\u001b[0m\u001b[0;34m\u001b[0m\u001b[0;34m\u001b[0m\u001b[0m\n\u001b[0m",
      "\u001b[0;31mValueError\u001b[0m: matmul: Input operand 1 has a mismatch in its core dimension 0, with gufunc signature (n?,k),(k,m?)->(n?,m?) (size 5 is different from 3)"
     ]
    }
   ],
   "source": [
    "# multiplicación de matrices\n",
    "\n",
    "np.matmul(matriz, matriz)"
   ]
  },
  {
   "cell_type": "code",
   "execution_count": null,
   "metadata": {},
   "outputs": [],
   "source": [
    " # error de dimensiones"
   ]
  },
  {
   "cell_type": "code",
   "execution_count": 63,
   "metadata": {},
   "outputs": [
    {
     "data": {
      "text/plain": [
       "array([[1.68748053, 1.10018571, 1.94127949, 1.20405275, 0.83623009],\n",
       "       [1.10018571, 1.0860854 , 1.42965892, 0.59557947, 0.35616838],\n",
       "       [1.94127949, 1.42965892, 2.34754257, 1.33066872, 0.86016546],\n",
       "       [1.20405275, 0.59557947, 1.33066872, 0.97782924, 0.68096826],\n",
       "       [0.83623009, 0.35616838, 0.86016546, 0.68096826, 0.51891824]])"
      ]
     },
     "execution_count": 63,
     "metadata": {},
     "output_type": "execute_result"
    }
   ],
   "source": [
    "np.matmul(matriz, matriz.T)"
   ]
  },
  {
   "cell_type": "code",
   "execution_count": 64,
   "metadata": {},
   "outputs": [
    {
     "data": {
      "text/plain": [
       "array(6.61785598)"
      ]
     },
     "execution_count": 64,
     "metadata": {},
     "output_type": "execute_result"
    }
   ],
   "source": [
    "# producto tensorial\n",
    "\n",
    "np.tensordot(matriz, matriz)"
   ]
  },
  {
   "cell_type": "code",
   "execution_count": 65,
   "metadata": {},
   "outputs": [
    {
     "data": {
      "text/plain": [
       "array([0.53740513, 1.53064543, 2.17263449, 3.03134006, 3.35526432,\n",
       "       3.84900841, 4.62048059, 5.54546982, 6.49244826, 6.56240453,\n",
       "       7.38428832, 7.92967112, 7.96672579, 8.65648453, 8.86088138])"
      ]
     },
     "execution_count": 65,
     "metadata": {},
     "output_type": "execute_result"
    }
   ],
   "source": [
    "# sumatorio, suma acumulada\n",
    "\n",
    "np.cumsum(matriz)"
   ]
  },
  {
   "cell_type": "code",
   "execution_count": 66,
   "metadata": {},
   "outputs": [
    {
     "data": {
      "text/plain": [
       "array([5.37405129e-01, 5.33772435e-01, 3.42676063e-01, 2.94257842e-01,\n",
       "       9.53172538e-02, 4.70623308e-02, 3.63072792e-02, 3.35838420e-02,\n",
       "       3.18031745e-02, 2.22483134e-03, 1.82855283e-03, 9.97261250e-04,\n",
       "       3.69531872e-05, 2.54887837e-05, 5.20982719e-06])"
      ]
     },
     "execution_count": 66,
     "metadata": {},
     "output_type": "execute_result"
    }
   ],
   "source": [
    "# productorio, producto acumulado\n",
    "\n",
    "np.cumprod(matriz)"
   ]
  },
  {
   "cell_type": "code",
   "execution_count": 67,
   "metadata": {},
   "outputs": [
    {
     "data": {
      "text/plain": [
       "inf"
      ]
     },
     "execution_count": 67,
     "metadata": {},
     "output_type": "execute_result"
    }
   ],
   "source": [
    "np.inf"
   ]
  },
  {
   "cell_type": "code",
   "execution_count": 68,
   "metadata": {},
   "outputs": [
    {
     "data": {
      "text/plain": [
       "nan"
      ]
     },
     "execution_count": 68,
     "metadata": {},
     "output_type": "execute_result"
    }
   ],
   "source": [
    "np.nan"
   ]
  },
  {
   "cell_type": "code",
   "execution_count": null,
   "metadata": {},
   "outputs": [],
   "source": []
  }
 ],
 "metadata": {
  "kernelspec": {
   "display_name": "clase",
   "language": "python",
   "name": "clase"
  },
  "language_info": {
   "codemirror_mode": {
    "name": "ipython",
    "version": 3
   },
   "file_extension": ".py",
   "mimetype": "text/x-python",
   "name": "python",
   "nbconvert_exporter": "python",
   "pygments_lexer": "ipython3",
   "version": "3.8.8"
  },
  "varInspector": {
   "cols": {
    "lenName": 16,
    "lenType": 16,
    "lenVar": 40
   },
   "kernels_config": {
    "python": {
     "delete_cmd_postfix": "",
     "delete_cmd_prefix": "del ",
     "library": "var_list.py",
     "varRefreshCmd": "print(var_dic_list())"
    },
    "r": {
     "delete_cmd_postfix": ") ",
     "delete_cmd_prefix": "rm(",
     "library": "var_list.r",
     "varRefreshCmd": "cat(var_dic_list()) "
    }
   },
   "types_to_exclude": [
    "module",
    "function",
    "builtin_function_or_method",
    "instance",
    "_Feature"
   ],
   "window_display": false
  }
 },
 "nbformat": 4,
 "nbformat_minor": 4
}
