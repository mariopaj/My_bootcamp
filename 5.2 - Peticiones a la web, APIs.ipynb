{
 "cells": [
  {
   "cell_type": "markdown",
   "metadata": {},
   "source": [
    "# 5.2 - Peticiones a la web, APIs\n",
    "\n",
    "[**APIs publicas**](https://github.com/public-apis/public-apis)\n",
    "\n",
    "\n",
    "![api_request](images/api_request.svg)\n",
    "\n",
    "\n",
    "\n",
    "Una api (interfaz de programación de aplicaciones), es un código que permite que dos programas de software se comuniquen entre sí.\n",
    "\n",
    "La api define la forma correcta para que un desarrollador escriba un programa que solicite servicios de un sistema operativo u otra aplicación. Las api se implementan mediante llamadas a funciones. La sintaxis requerida se describe en la documentación de la api a la que se llama, y cada una es diferente.\n",
    "\n",
    "Las api se componen de dos elementos relacionados. La primera es una especificación que describe cómo se intercambia la información entre programas, hecha en forma de una solicitud de procesamiento y una devolución de los datos necesarios. El segundo es una interfaz de software escrita según esa especificación y publicada de alguna manera para su uso. Se dice que el software que quiere acceder a las características y capacidades de la API la llama, y se dice que el software que crea la API la publica.\n",
    "\n",
    "De manera general, usaremos las api para obtener información."
   ]
  },
  {
   "cell_type": "markdown",
   "metadata": {},
   "source": [
    "### Realizando una petición a la web (GET)\n",
    "\n",
    "Usaremos la librería [requests](https://docs.python-requests.org/en/master/) para realizar peticiones a la web."
   ]
  },
  {
   "cell_type": "code",
   "execution_count": 1,
   "metadata": {},
   "outputs": [
    {
     "name": "stdout",
     "output_type": "stream",
     "text": [
      "Requirement already satisfied: requests in /Users/iudh/opt/anaconda3/envs/clase/lib/python3.8/site-packages (2.26.0)\n",
      "Requirement already satisfied: certifi>=2017.4.17 in /Users/iudh/opt/anaconda3/envs/clase/lib/python3.8/site-packages (from requests) (2021.5.30)\n",
      "Requirement already satisfied: idna<4,>=2.5 in /Users/iudh/opt/anaconda3/envs/clase/lib/python3.8/site-packages (from requests) (3.1)\n",
      "Requirement already satisfied: charset-normalizer~=2.0.0 in /Users/iudh/opt/anaconda3/envs/clase/lib/python3.8/site-packages (from requests) (2.0.0)\n",
      "Requirement already satisfied: urllib3<1.27,>=1.21.1 in /Users/iudh/opt/anaconda3/envs/clase/lib/python3.8/site-packages (from requests) (1.26.7)\n"
     ]
    }
   ],
   "source": [
    "!pip install requests"
   ]
  },
  {
   "cell_type": "code",
   "execution_count": 2,
   "metadata": {},
   "outputs": [],
   "source": [
    "import requests as req"
   ]
  },
  {
   "cell_type": "code",
   "execution_count": 3,
   "metadata": {},
   "outputs": [],
   "source": [
    "url='http://www.google.es'"
   ]
  },
  {
   "cell_type": "code",
   "execution_count": 4,
   "metadata": {},
   "outputs": [
    {
     "data": {
      "text/plain": [
       "<Response [200]>"
      ]
     },
     "execution_count": 4,
     "metadata": {},
     "output_type": "execute_result"
    }
   ],
   "source": [
    "req.get(url)   # realiza la peticion GET al servidor"
   ]
  },
  {
   "cell_type": "code",
   "execution_count": 5,
   "metadata": {},
   "outputs": [],
   "source": [
    "url='http://www.google.es/search?q=machine+learning'"
   ]
  },
  {
   "cell_type": "code",
   "execution_count": 10,
   "metadata": {},
   "outputs": [
    {
     "data": {
      "text/plain": [
       "'<!doctype html><html lang=\"es\"><head><meta charset'"
      ]
     },
     "execution_count": 10,
     "metadata": {},
     "output_type": "execute_result"
    }
   ],
   "source": [
    "req.get(url).text[:50]"
   ]
  },
  {
   "cell_type": "markdown",
   "metadata": {},
   "source": [
    "### API de [Anime](https://jikan.moe/)"
   ]
  },
  {
   "cell_type": "code",
   "execution_count": 11,
   "metadata": {},
   "outputs": [],
   "source": [
    "URL_BASE='https://api.jikan.moe/v3/search/anime?q='"
   ]
  },
  {
   "cell_type": "code",
   "execution_count": 12,
   "metadata": {},
   "outputs": [
    {
     "data": {
      "text/plain": [
       "<Response [200]>"
      ]
     },
     "execution_count": 12,
     "metadata": {},
     "output_type": "execute_result"
    }
   ],
   "source": [
    "busqueda='naruto'\n",
    "\n",
    "req.get(URL_BASE+busqueda)"
   ]
  },
  {
   "cell_type": "code",
   "execution_count": 18,
   "metadata": {},
   "outputs": [
    {
     "data": {
      "text/plain": [
       "{'mal_id': 43,\n",
       " 'url': 'https://myanimelist.net/anime/43/Koukaku_Kidoutai',\n",
       " 'image_url': 'https://cdn.myanimelist.net/images/anime/10/82594.jpg?s=077dce74e000ea7dcd77c738bd1cbee0',\n",
       " 'title': 'Koukaku Kidoutai',\n",
       " 'airing': False,\n",
       " 'synopsis': 'In the year 2029, Niihama City has become a technologically advanced metropolis. Due to great improvements in cybernetics, its citizens are able to replace their limbs with robotic parts. The world is...',\n",
       " 'type': 'Movie',\n",
       " 'episodes': 1,\n",
       " 'score': 8.28,\n",
       " 'start_date': '1995-11-18T00:00:00+00:00',\n",
       " 'end_date': '1995-11-18T00:00:00+00:00',\n",
       " 'members': 520754,\n",
       " 'rated': 'R+'}"
      ]
     },
     "execution_count": 18,
     "metadata": {},
     "output_type": "execute_result"
    }
   ],
   "source": [
    "busqueda='koukaku kidotai'\n",
    "\n",
    "req.get(URL_BASE+busqueda).json()['results'][0]"
   ]
  },
  {
   "cell_type": "markdown",
   "metadata": {},
   "source": [
    "### [PokeAPI](https://pokeapi.co/)"
   ]
  },
  {
   "cell_type": "code",
   "execution_count": 19,
   "metadata": {},
   "outputs": [],
   "source": [
    "BASE='https://pokeapi.co/api/v2/'"
   ]
  },
  {
   "cell_type": "code",
   "execution_count": 20,
   "metadata": {},
   "outputs": [],
   "source": [
    "pokemon='pokemon/25'"
   ]
  },
  {
   "cell_type": "code",
   "execution_count": 21,
   "metadata": {
    "scrolled": true
   },
   "outputs": [
    {
     "data": {
      "text/plain": [
       "<Response [200]>"
      ]
     },
     "execution_count": 21,
     "metadata": {},
     "output_type": "execute_result"
    }
   ],
   "source": [
    "response=req.get(BASE+pokemon)\n",
    "\n",
    "response"
   ]
  },
  {
   "cell_type": "code",
   "execution_count": 28,
   "metadata": {},
   "outputs": [
    {
     "data": {
      "text/plain": [
       "'pikachu'"
      ]
     },
     "execution_count": 28,
     "metadata": {},
     "output_type": "execute_result"
    }
   ],
   "source": [
    "response.json()['forms'][0]['name']"
   ]
  },
  {
   "cell_type": "code",
   "execution_count": 30,
   "metadata": {},
   "outputs": [
    {
     "data": {
      "text/plain": [
       "{'count': 1118,\n",
       " 'next': 'https://pokeapi.co/api/v2/pokemon?offset=4&limit=3',\n",
       " 'previous': 'https://pokeapi.co/api/v2/pokemon?offset=0&limit=1',\n",
       " 'results': [{'name': 'ivysaur',\n",
       "   'url': 'https://pokeapi.co/api/v2/pokemon/2/'},\n",
       "  {'name': 'venusaur', 'url': 'https://pokeapi.co/api/v2/pokemon/3/'},\n",
       "  {'name': 'charmander', 'url': 'https://pokeapi.co/api/v2/pokemon/4/'}]}"
      ]
     },
     "execution_count": 30,
     "metadata": {},
     "output_type": "execute_result"
    }
   ],
   "source": [
    "# la url puede tener parametros (?...&...&...)\n",
    "\n",
    "query={'limit':3, 'offset':1}\n",
    "\n",
    "res_poke=req.get(BASE+'pokemon', params=query)\n",
    "\n",
    "res_poke.json()"
   ]
  },
  {
   "cell_type": "markdown",
   "metadata": {},
   "source": [
    "### [ISS](https://wheretheiss.at/w/developer) API"
   ]
  },
  {
   "cell_type": "code",
   "execution_count": 36,
   "metadata": {},
   "outputs": [
    {
     "data": {
      "text/plain": [
       "<Response [200]>"
      ]
     },
     "execution_count": 36,
     "metadata": {},
     "output_type": "execute_result"
    }
   ],
   "source": [
    "URL='https://api.wheretheiss.at/v1/satellites/25544'\n",
    "\n",
    "res_iss=req.get(URL)\n",
    "\n",
    "res_iss"
   ]
  },
  {
   "cell_type": "code",
   "execution_count": 37,
   "metadata": {},
   "outputs": [
    {
     "data": {
      "text/plain": [
       "{'Date': 'Thu, 11 Nov 2021 18:48:38 GMT', 'Server': 'Apache/2.2.22 (Ubuntu)', 'X-Powered-By': 'PHP/5.3.10-1ubuntu3.26', 'X-Rate-Limit-Limit': '350', 'X-Rate-Limit-Remaining': '347', 'X-Rate-Limit-Interval': '5 minutes', 'Access-Control-Allow-Origin': '*', 'X-Apache-Time': 'D=25698', 'Cache-Control': 'max-age=0, no-cache', 'Content-Length': '311', 'Keep-Alive': 'timeout=15, max=100', 'Connection': 'Keep-Alive', 'Content-Type': 'application/json'}"
      ]
     },
     "execution_count": 37,
     "metadata": {},
     "output_type": "execute_result"
    }
   ],
   "source": [
    "res_iss.headers"
   ]
  },
  {
   "cell_type": "code",
   "execution_count": 38,
   "metadata": {},
   "outputs": [
    {
     "data": {
      "text/plain": [
       "{'name': 'iss',\n",
       " 'id': 25544,\n",
       " 'latitude': 3.1761785077822,\n",
       " 'longitude': 2.1126431292769,\n",
       " 'altitude': 425.74383581004,\n",
       " 'velocity': 27561.209824592,\n",
       " 'visibility': 'daylight',\n",
       " 'footprint': 4536.5708370458,\n",
       " 'timestamp': 1636656518,\n",
       " 'daynum': 2459530.2837731,\n",
       " 'solar_lat': -17.634221135276,\n",
       " 'solar_lon': 253.8663842709,\n",
       " 'units': 'kilometers'}"
      ]
     },
     "execution_count": 38,
     "metadata": {},
     "output_type": "execute_result"
    }
   ],
   "source": [
    "res_iss.json()"
   ]
  },
  {
   "cell_type": "code",
   "execution_count": 39,
   "metadata": {},
   "outputs": [
    {
     "name": "stdout",
     "output_type": "stream",
     "text": [
      "0\n",
      "1\n",
      "2\n",
      "3\n",
      "4\n",
      "5\n",
      "6\n",
      "7\n",
      "8\n",
      "9\n",
      "10\n",
      "11\n",
      "12\n",
      "13\n",
      "14\n",
      "15\n",
      "16\n",
      "17\n",
      "18\n",
      "19\n"
     ]
    }
   ],
   "source": [
    "import time\n",
    "\n",
    "posiciones=[]\n",
    "\n",
    "for i in range(20):\n",
    "    \n",
    "    print(i)\n",
    "    \n",
    "    res_iss=req.get(URL)\n",
    "    \n",
    "    data=res_iss.json()\n",
    "    \n",
    "    posiciones.append(data)\n",
    "    \n",
    "    time.sleep(1)"
   ]
  },
  {
   "cell_type": "code",
   "execution_count": 40,
   "metadata": {},
   "outputs": [
    {
     "data": {
      "text/html": [
       "<div>\n",
       "<style scoped>\n",
       "    .dataframe tbody tr th:only-of-type {\n",
       "        vertical-align: middle;\n",
       "    }\n",
       "\n",
       "    .dataframe tbody tr th {\n",
       "        vertical-align: top;\n",
       "    }\n",
       "\n",
       "    .dataframe thead th {\n",
       "        text-align: right;\n",
       "    }\n",
       "</style>\n",
       "<table border=\"1\" class=\"dataframe\">\n",
       "  <thead>\n",
       "    <tr style=\"text-align: right;\">\n",
       "      <th></th>\n",
       "      <th>name</th>\n",
       "      <th>id</th>\n",
       "      <th>latitude</th>\n",
       "      <th>longitude</th>\n",
       "      <th>altitude</th>\n",
       "      <th>velocity</th>\n",
       "      <th>visibility</th>\n",
       "      <th>footprint</th>\n",
       "      <th>timestamp</th>\n",
       "      <th>daynum</th>\n",
       "      <th>solar_lat</th>\n",
       "      <th>solar_lon</th>\n",
       "      <th>units</th>\n",
       "    </tr>\n",
       "  </thead>\n",
       "  <tbody>\n",
       "    <tr>\n",
       "      <th>0</th>\n",
       "      <td>iss</td>\n",
       "      <td>25544</td>\n",
       "      <td>14.475087</td>\n",
       "      <td>10.382722</td>\n",
       "      <td>425.351788</td>\n",
       "      <td>27565.610070</td>\n",
       "      <td>eclipsed</td>\n",
       "      <td>4534.591349</td>\n",
       "      <td>1636656742</td>\n",
       "      <td>2.459530e+06</td>\n",
       "      <td>-17.634926</td>\n",
       "      <td>252.933129</td>\n",
       "      <td>kilometers</td>\n",
       "    </tr>\n",
       "    <tr>\n",
       "      <th>1</th>\n",
       "      <td>iss</td>\n",
       "      <td>25544</td>\n",
       "      <td>14.574688</td>\n",
       "      <td>10.459690</td>\n",
       "      <td>425.353521</td>\n",
       "      <td>27565.642937</td>\n",
       "      <td>eclipsed</td>\n",
       "      <td>4534.600102</td>\n",
       "      <td>1636656744</td>\n",
       "      <td>2.459530e+06</td>\n",
       "      <td>-17.634933</td>\n",
       "      <td>252.924797</td>\n",
       "      <td>kilometers</td>\n",
       "    </tr>\n",
       "    <tr>\n",
       "      <th>2</th>\n",
       "      <td>iss</td>\n",
       "      <td>25544</td>\n",
       "      <td>14.624477</td>\n",
       "      <td>10.498203</td>\n",
       "      <td>425.354420</td>\n",
       "      <td>27565.659329</td>\n",
       "      <td>eclipsed</td>\n",
       "      <td>4534.604641</td>\n",
       "      <td>1636656745</td>\n",
       "      <td>2.459530e+06</td>\n",
       "      <td>-17.634936</td>\n",
       "      <td>252.920630</td>\n",
       "      <td>kilometers</td>\n",
       "    </tr>\n",
       "    <tr>\n",
       "      <th>3</th>\n",
       "      <td>iss</td>\n",
       "      <td>25544</td>\n",
       "      <td>14.724030</td>\n",
       "      <td>10.575286</td>\n",
       "      <td>425.356281</td>\n",
       "      <td>27565.692030</td>\n",
       "      <td>eclipsed</td>\n",
       "      <td>4534.614041</td>\n",
       "      <td>1636656747</td>\n",
       "      <td>2.459530e+06</td>\n",
       "      <td>-17.634942</td>\n",
       "      <td>252.912298</td>\n",
       "      <td>kilometers</td>\n",
       "    </tr>\n",
       "    <tr>\n",
       "      <th>4</th>\n",
       "      <td>iss</td>\n",
       "      <td>25544</td>\n",
       "      <td>14.823554</td>\n",
       "      <td>10.652449</td>\n",
       "      <td>425.358227</td>\n",
       "      <td>27565.724623</td>\n",
       "      <td>eclipsed</td>\n",
       "      <td>4534.623871</td>\n",
       "      <td>1636656749</td>\n",
       "      <td>2.459530e+06</td>\n",
       "      <td>-17.634948</td>\n",
       "      <td>252.903965</td>\n",
       "      <td>kilometers</td>\n",
       "    </tr>\n",
       "    <tr>\n",
       "      <th>5</th>\n",
       "      <td>iss</td>\n",
       "      <td>25544</td>\n",
       "      <td>14.873302</td>\n",
       "      <td>10.691059</td>\n",
       "      <td>425.359232</td>\n",
       "      <td>27565.740877</td>\n",
       "      <td>eclipsed</td>\n",
       "      <td>4534.628947</td>\n",
       "      <td>1636656750</td>\n",
       "      <td>2.459530e+06</td>\n",
       "      <td>-17.634951</td>\n",
       "      <td>252.899799</td>\n",
       "      <td>kilometers</td>\n",
       "    </tr>\n",
       "    <tr>\n",
       "      <th>6</th>\n",
       "      <td>iss</td>\n",
       "      <td>25544</td>\n",
       "      <td>14.972775</td>\n",
       "      <td>10.768337</td>\n",
       "      <td>425.361306</td>\n",
       "      <td>27565.773304</td>\n",
       "      <td>eclipsed</td>\n",
       "      <td>4534.639419</td>\n",
       "      <td>1636656752</td>\n",
       "      <td>2.459530e+06</td>\n",
       "      <td>-17.634958</td>\n",
       "      <td>252.891466</td>\n",
       "      <td>kilometers</td>\n",
       "    </tr>\n",
       "    <tr>\n",
       "      <th>7</th>\n",
       "      <td>iss</td>\n",
       "      <td>25544</td>\n",
       "      <td>15.072215</td>\n",
       "      <td>10.845694</td>\n",
       "      <td>425.363464</td>\n",
       "      <td>27565.805621</td>\n",
       "      <td>eclipsed</td>\n",
       "      <td>4534.650319</td>\n",
       "      <td>1636656754</td>\n",
       "      <td>2.459530e+06</td>\n",
       "      <td>-17.634964</td>\n",
       "      <td>252.883134</td>\n",
       "      <td>kilometers</td>\n",
       "    </tr>\n",
       "    <tr>\n",
       "      <th>8</th>\n",
       "      <td>iss</td>\n",
       "      <td>25544</td>\n",
       "      <td>15.121922</td>\n",
       "      <td>10.884403</td>\n",
       "      <td>425.364575</td>\n",
       "      <td>27565.821739</td>\n",
       "      <td>eclipsed</td>\n",
       "      <td>4534.655928</td>\n",
       "      <td>1636656755</td>\n",
       "      <td>2.459530e+06</td>\n",
       "      <td>-17.634967</td>\n",
       "      <td>252.878967</td>\n",
       "      <td>kilometers</td>\n",
       "    </tr>\n",
       "    <tr>\n",
       "      <th>9</th>\n",
       "      <td>iss</td>\n",
       "      <td>25544</td>\n",
       "      <td>15.221315</td>\n",
       "      <td>10.961881</td>\n",
       "      <td>425.366859</td>\n",
       "      <td>27565.853892</td>\n",
       "      <td>eclipsed</td>\n",
       "      <td>4534.667465</td>\n",
       "      <td>1636656757</td>\n",
       "      <td>2.459530e+06</td>\n",
       "      <td>-17.634973</td>\n",
       "      <td>252.870635</td>\n",
       "      <td>kilometers</td>\n",
       "    </tr>\n",
       "    <tr>\n",
       "      <th>10</th>\n",
       "      <td>iss</td>\n",
       "      <td>25544</td>\n",
       "      <td>15.270997</td>\n",
       "      <td>11.000650</td>\n",
       "      <td>425.368033</td>\n",
       "      <td>27565.869928</td>\n",
       "      <td>eclipsed</td>\n",
       "      <td>4534.673393</td>\n",
       "      <td>1636656758</td>\n",
       "      <td>2.459530e+06</td>\n",
       "      <td>-17.634977</td>\n",
       "      <td>252.866468</td>\n",
       "      <td>kilometers</td>\n",
       "    </tr>\n",
       "    <tr>\n",
       "      <th>11</th>\n",
       "      <td>iss</td>\n",
       "      <td>25544</td>\n",
       "      <td>15.370337</td>\n",
       "      <td>11.078248</td>\n",
       "      <td>425.370443</td>\n",
       "      <td>27565.901918</td>\n",
       "      <td>eclipsed</td>\n",
       "      <td>4534.685564</td>\n",
       "      <td>1636656760</td>\n",
       "      <td>2.459530e+06</td>\n",
       "      <td>-17.634983</td>\n",
       "      <td>252.858136</td>\n",
       "      <td>kilometers</td>\n",
       "    </tr>\n",
       "    <tr>\n",
       "      <th>12</th>\n",
       "      <td>iss</td>\n",
       "      <td>25544</td>\n",
       "      <td>15.469644</td>\n",
       "      <td>11.155928</td>\n",
       "      <td>425.372936</td>\n",
       "      <td>27565.933798</td>\n",
       "      <td>eclipsed</td>\n",
       "      <td>4534.698158</td>\n",
       "      <td>1636656762</td>\n",
       "      <td>2.459530e+06</td>\n",
       "      <td>-17.634989</td>\n",
       "      <td>252.849803</td>\n",
       "      <td>kilometers</td>\n",
       "    </tr>\n",
       "    <tr>\n",
       "      <th>13</th>\n",
       "      <td>iss</td>\n",
       "      <td>25544</td>\n",
       "      <td>15.519284</td>\n",
       "      <td>11.194798</td>\n",
       "      <td>425.374215</td>\n",
       "      <td>27565.949698</td>\n",
       "      <td>eclipsed</td>\n",
       "      <td>4534.704612</td>\n",
       "      <td>1636656763</td>\n",
       "      <td>2.459530e+06</td>\n",
       "      <td>-17.634992</td>\n",
       "      <td>252.845637</td>\n",
       "      <td>kilometers</td>\n",
       "    </tr>\n",
       "    <tr>\n",
       "      <th>14</th>\n",
       "      <td>iss</td>\n",
       "      <td>25544</td>\n",
       "      <td>15.618541</td>\n",
       "      <td>11.272602</td>\n",
       "      <td>425.376833</td>\n",
       "      <td>27565.981416</td>\n",
       "      <td>eclipsed</td>\n",
       "      <td>4534.717836</td>\n",
       "      <td>1636656765</td>\n",
       "      <td>2.459530e+06</td>\n",
       "      <td>-17.634999</td>\n",
       "      <td>252.837304</td>\n",
       "      <td>kilometers</td>\n",
       "    </tr>\n",
       "    <tr>\n",
       "      <th>15</th>\n",
       "      <td>iss</td>\n",
       "      <td>25544</td>\n",
       "      <td>15.717761</td>\n",
       "      <td>11.350488</td>\n",
       "      <td>425.379534</td>\n",
       "      <td>27566.013025</td>\n",
       "      <td>eclipsed</td>\n",
       "      <td>4534.731478</td>\n",
       "      <td>1636656767</td>\n",
       "      <td>2.459530e+06</td>\n",
       "      <td>-17.635005</td>\n",
       "      <td>252.828971</td>\n",
       "      <td>kilometers</td>\n",
       "    </tr>\n",
       "    <tr>\n",
       "      <th>16</th>\n",
       "      <td>iss</td>\n",
       "      <td>25544</td>\n",
       "      <td>15.767358</td>\n",
       "      <td>11.389462</td>\n",
       "      <td>425.380916</td>\n",
       "      <td>27566.028789</td>\n",
       "      <td>eclipsed</td>\n",
       "      <td>4534.738455</td>\n",
       "      <td>1636656768</td>\n",
       "      <td>2.459530e+06</td>\n",
       "      <td>-17.635008</td>\n",
       "      <td>252.824805</td>\n",
       "      <td>kilometers</td>\n",
       "    </tr>\n",
       "    <tr>\n",
       "      <th>17</th>\n",
       "      <td>iss</td>\n",
       "      <td>25544</td>\n",
       "      <td>15.866527</td>\n",
       "      <td>11.467473</td>\n",
       "      <td>425.383741</td>\n",
       "      <td>27566.060236</td>\n",
       "      <td>eclipsed</td>\n",
       "      <td>4534.752722</td>\n",
       "      <td>1636656770</td>\n",
       "      <td>2.459530e+06</td>\n",
       "      <td>-17.635014</td>\n",
       "      <td>252.816473</td>\n",
       "      <td>kilometers</td>\n",
       "    </tr>\n",
       "    <tr>\n",
       "      <th>18</th>\n",
       "      <td>iss</td>\n",
       "      <td>25544</td>\n",
       "      <td>15.916098</td>\n",
       "      <td>11.506510</td>\n",
       "      <td>425.385184</td>\n",
       "      <td>27566.075919</td>\n",
       "      <td>eclipsed</td>\n",
       "      <td>4534.760011</td>\n",
       "      <td>1636656771</td>\n",
       "      <td>2.459530e+06</td>\n",
       "      <td>-17.635018</td>\n",
       "      <td>252.812306</td>\n",
       "      <td>kilometers</td>\n",
       "    </tr>\n",
       "    <tr>\n",
       "      <th>19</th>\n",
       "      <td>iss</td>\n",
       "      <td>25544</td>\n",
       "      <td>16.015215</td>\n",
       "      <td>11.584650</td>\n",
       "      <td>425.388132</td>\n",
       "      <td>27566.107205</td>\n",
       "      <td>eclipsed</td>\n",
       "      <td>4534.774900</td>\n",
       "      <td>1636656773</td>\n",
       "      <td>2.459530e+06</td>\n",
       "      <td>-17.635024</td>\n",
       "      <td>252.803973</td>\n",
       "      <td>kilometers</td>\n",
       "    </tr>\n",
       "  </tbody>\n",
       "</table>\n",
       "</div>"
      ],
      "text/plain": [
       "   name     id   latitude  longitude    altitude      velocity visibility  \\\n",
       "0   iss  25544  14.475087  10.382722  425.351788  27565.610070   eclipsed   \n",
       "1   iss  25544  14.574688  10.459690  425.353521  27565.642937   eclipsed   \n",
       "2   iss  25544  14.624477  10.498203  425.354420  27565.659329   eclipsed   \n",
       "3   iss  25544  14.724030  10.575286  425.356281  27565.692030   eclipsed   \n",
       "4   iss  25544  14.823554  10.652449  425.358227  27565.724623   eclipsed   \n",
       "5   iss  25544  14.873302  10.691059  425.359232  27565.740877   eclipsed   \n",
       "6   iss  25544  14.972775  10.768337  425.361306  27565.773304   eclipsed   \n",
       "7   iss  25544  15.072215  10.845694  425.363464  27565.805621   eclipsed   \n",
       "8   iss  25544  15.121922  10.884403  425.364575  27565.821739   eclipsed   \n",
       "9   iss  25544  15.221315  10.961881  425.366859  27565.853892   eclipsed   \n",
       "10  iss  25544  15.270997  11.000650  425.368033  27565.869928   eclipsed   \n",
       "11  iss  25544  15.370337  11.078248  425.370443  27565.901918   eclipsed   \n",
       "12  iss  25544  15.469644  11.155928  425.372936  27565.933798   eclipsed   \n",
       "13  iss  25544  15.519284  11.194798  425.374215  27565.949698   eclipsed   \n",
       "14  iss  25544  15.618541  11.272602  425.376833  27565.981416   eclipsed   \n",
       "15  iss  25544  15.717761  11.350488  425.379534  27566.013025   eclipsed   \n",
       "16  iss  25544  15.767358  11.389462  425.380916  27566.028789   eclipsed   \n",
       "17  iss  25544  15.866527  11.467473  425.383741  27566.060236   eclipsed   \n",
       "18  iss  25544  15.916098  11.506510  425.385184  27566.075919   eclipsed   \n",
       "19  iss  25544  16.015215  11.584650  425.388132  27566.107205   eclipsed   \n",
       "\n",
       "      footprint   timestamp        daynum  solar_lat   solar_lon       units  \n",
       "0   4534.591349  1636656742  2.459530e+06 -17.634926  252.933129  kilometers  \n",
       "1   4534.600102  1636656744  2.459530e+06 -17.634933  252.924797  kilometers  \n",
       "2   4534.604641  1636656745  2.459530e+06 -17.634936  252.920630  kilometers  \n",
       "3   4534.614041  1636656747  2.459530e+06 -17.634942  252.912298  kilometers  \n",
       "4   4534.623871  1636656749  2.459530e+06 -17.634948  252.903965  kilometers  \n",
       "5   4534.628947  1636656750  2.459530e+06 -17.634951  252.899799  kilometers  \n",
       "6   4534.639419  1636656752  2.459530e+06 -17.634958  252.891466  kilometers  \n",
       "7   4534.650319  1636656754  2.459530e+06 -17.634964  252.883134  kilometers  \n",
       "8   4534.655928  1636656755  2.459530e+06 -17.634967  252.878967  kilometers  \n",
       "9   4534.667465  1636656757  2.459530e+06 -17.634973  252.870635  kilometers  \n",
       "10  4534.673393  1636656758  2.459530e+06 -17.634977  252.866468  kilometers  \n",
       "11  4534.685564  1636656760  2.459530e+06 -17.634983  252.858136  kilometers  \n",
       "12  4534.698158  1636656762  2.459530e+06 -17.634989  252.849803  kilometers  \n",
       "13  4534.704612  1636656763  2.459530e+06 -17.634992  252.845637  kilometers  \n",
       "14  4534.717836  1636656765  2.459530e+06 -17.634999  252.837304  kilometers  \n",
       "15  4534.731478  1636656767  2.459530e+06 -17.635005  252.828971  kilometers  \n",
       "16  4534.738455  1636656768  2.459530e+06 -17.635008  252.824805  kilometers  \n",
       "17  4534.752722  1636656770  2.459530e+06 -17.635014  252.816473  kilometers  \n",
       "18  4534.760011  1636656771  2.459530e+06 -17.635018  252.812306  kilometers  \n",
       "19  4534.774900  1636656773  2.459530e+06 -17.635024  252.803973  kilometers  "
      ]
     },
     "execution_count": 40,
     "metadata": {},
     "output_type": "execute_result"
    }
   ],
   "source": [
    "import pandas as pd\n",
    "\n",
    "pd.DataFrame(posiciones)"
   ]
  },
  {
   "cell_type": "markdown",
   "metadata": {},
   "source": [
    "### [GitHub](https://docs.github.com/en/rest) API"
   ]
  },
  {
   "cell_type": "code",
   "execution_count": 41,
   "metadata": {},
   "outputs": [],
   "source": [
    "URL='https://api.github.com/'"
   ]
  },
  {
   "cell_type": "code",
   "execution_count": 44,
   "metadata": {},
   "outputs": [],
   "source": [
    "eventos='events'"
   ]
  },
  {
   "cell_type": "code",
   "execution_count": 45,
   "metadata": {},
   "outputs": [
    {
     "data": {
      "text/plain": [
       "<Response [200]>"
      ]
     },
     "execution_count": 45,
     "metadata": {},
     "output_type": "execute_result"
    }
   ],
   "source": [
    "res_git=req.get(URL+eventos)\n",
    "\n",
    "res_git"
   ]
  },
  {
   "cell_type": "code",
   "execution_count": 47,
   "metadata": {},
   "outputs": [
    {
     "data": {
      "text/plain": [
       "str"
      ]
     },
     "execution_count": 47,
     "metadata": {},
     "output_type": "execute_result"
    }
   ],
   "source": [
    "type(res_git.text)"
   ]
  },
  {
   "cell_type": "code",
   "execution_count": 49,
   "metadata": {},
   "outputs": [
    {
     "data": {
      "text/plain": [
       "bytes"
      ]
     },
     "execution_count": 49,
     "metadata": {},
     "output_type": "execute_result"
    }
   ],
   "source": [
    "type(res_git.content)"
   ]
  },
  {
   "cell_type": "code",
   "execution_count": 53,
   "metadata": {},
   "outputs": [
    {
     "data": {
      "text/plain": [
       "{'id': 425378614,\n",
       " 'name': 'kaiyangzheng/NBAGopherFiles',\n",
       " 'url': 'https://api.github.com/repos/kaiyangzheng/NBAGopherFiles'}"
      ]
     },
     "execution_count": 53,
     "metadata": {},
     "output_type": "execute_result"
    }
   ],
   "source": [
    "res_git.json()[8]['repo']"
   ]
  },
  {
   "cell_type": "code",
   "execution_count": 54,
   "metadata": {},
   "outputs": [
    {
     "data": {
      "text/html": [
       "<div>\n",
       "<style scoped>\n",
       "    .dataframe tbody tr th:only-of-type {\n",
       "        vertical-align: middle;\n",
       "    }\n",
       "\n",
       "    .dataframe tbody tr th {\n",
       "        vertical-align: top;\n",
       "    }\n",
       "\n",
       "    .dataframe thead th {\n",
       "        text-align: right;\n",
       "    }\n",
       "</style>\n",
       "<table border=\"1\" class=\"dataframe\">\n",
       "  <thead>\n",
       "    <tr style=\"text-align: right;\">\n",
       "      <th></th>\n",
       "      <th>id</th>\n",
       "      <th>type</th>\n",
       "      <th>actor</th>\n",
       "      <th>repo</th>\n",
       "      <th>payload</th>\n",
       "      <th>public</th>\n",
       "      <th>created_at</th>\n",
       "      <th>org</th>\n",
       "    </tr>\n",
       "  </thead>\n",
       "  <tbody>\n",
       "    <tr>\n",
       "      <th>0</th>\n",
       "      <td>18849883218</td>\n",
       "      <td>CreateEvent</td>\n",
       "      <td>{'id': 61912795, 'login': 'laviv', 'display_lo...</td>\n",
       "      <td>{'id': 427107277, 'name': 'laviv/Gloomhaven-Bo...</td>\n",
       "      <td>{'ref': 'master', 'ref_type': 'branch', 'maste...</td>\n",
       "      <td>True</td>\n",
       "      <td>2021-11-11T19:22:20Z</td>\n",
       "      <td>NaN</td>\n",
       "    </tr>\n",
       "    <tr>\n",
       "      <th>1</th>\n",
       "      <td>18849883198</td>\n",
       "      <td>PushEvent</td>\n",
       "      <td>{'id': 28974288, 'login': 'silasfelinus', 'dis...</td>\n",
       "      <td>{'id': 426869724, 'name': 'silasfelinus/sinatr...</td>\n",
       "      <td>{'push_id': 8367032362, 'size': 1, 'distinct_s...</td>\n",
       "      <td>True</td>\n",
       "      <td>2021-11-11T19:22:20Z</td>\n",
       "      <td>NaN</td>\n",
       "    </tr>\n",
       "    <tr>\n",
       "      <th>2</th>\n",
       "      <td>18849883233</td>\n",
       "      <td>PushEvent</td>\n",
       "      <td>{'id': 93902485, 'login': 'sdlfskldfjbsklfd', ...</td>\n",
       "      <td>{'id': 425746932, 'name': 'sdlfskldfjbsklfd/sd...</td>\n",
       "      <td>{'push_id': 8367032389, 'size': 1, 'distinct_s...</td>\n",
       "      <td>True</td>\n",
       "      <td>2021-11-11T19:22:20Z</td>\n",
       "      <td>NaN</td>\n",
       "    </tr>\n",
       "    <tr>\n",
       "      <th>3</th>\n",
       "      <td>18849883215</td>\n",
       "      <td>PushEvent</td>\n",
       "      <td>{'id': 41898282, 'login': 'github-actions[bot]...</td>\n",
       "      <td>{'id': 417075043, 'name': 'Gk0Wk/TiddlySeq', '...</td>\n",
       "      <td>{'push_id': 8367032390, 'size': 1, 'distinct_s...</td>\n",
       "      <td>True</td>\n",
       "      <td>2021-11-11T19:22:20Z</td>\n",
       "      <td>NaN</td>\n",
       "    </tr>\n",
       "    <tr>\n",
       "      <th>4</th>\n",
       "      <td>18849883206</td>\n",
       "      <td>PushEvent</td>\n",
       "      <td>{'id': 93721828, 'login': 'smarapdtributario',...</td>\n",
       "      <td>{'id': 427113534, 'name': 'smarapdtributario/4...</td>\n",
       "      <td>{'push_id': 8367032395, 'size': 1, 'distinct_s...</td>\n",
       "      <td>True</td>\n",
       "      <td>2021-11-11T19:22:20Z</td>\n",
       "      <td>NaN</td>\n",
       "    </tr>\n",
       "  </tbody>\n",
       "</table>\n",
       "</div>"
      ],
      "text/plain": [
       "            id         type  \\\n",
       "0  18849883218  CreateEvent   \n",
       "1  18849883198    PushEvent   \n",
       "2  18849883233    PushEvent   \n",
       "3  18849883215    PushEvent   \n",
       "4  18849883206    PushEvent   \n",
       "\n",
       "                                               actor  \\\n",
       "0  {'id': 61912795, 'login': 'laviv', 'display_lo...   \n",
       "1  {'id': 28974288, 'login': 'silasfelinus', 'dis...   \n",
       "2  {'id': 93902485, 'login': 'sdlfskldfjbsklfd', ...   \n",
       "3  {'id': 41898282, 'login': 'github-actions[bot]...   \n",
       "4  {'id': 93721828, 'login': 'smarapdtributario',...   \n",
       "\n",
       "                                                repo  \\\n",
       "0  {'id': 427107277, 'name': 'laviv/Gloomhaven-Bo...   \n",
       "1  {'id': 426869724, 'name': 'silasfelinus/sinatr...   \n",
       "2  {'id': 425746932, 'name': 'sdlfskldfjbsklfd/sd...   \n",
       "3  {'id': 417075043, 'name': 'Gk0Wk/TiddlySeq', '...   \n",
       "4  {'id': 427113534, 'name': 'smarapdtributario/4...   \n",
       "\n",
       "                                             payload  public  \\\n",
       "0  {'ref': 'master', 'ref_type': 'branch', 'maste...    True   \n",
       "1  {'push_id': 8367032362, 'size': 1, 'distinct_s...    True   \n",
       "2  {'push_id': 8367032389, 'size': 1, 'distinct_s...    True   \n",
       "3  {'push_id': 8367032390, 'size': 1, 'distinct_s...    True   \n",
       "4  {'push_id': 8367032395, 'size': 1, 'distinct_s...    True   \n",
       "\n",
       "             created_at  org  \n",
       "0  2021-11-11T19:22:20Z  NaN  \n",
       "1  2021-11-11T19:22:20Z  NaN  \n",
       "2  2021-11-11T19:22:20Z  NaN  \n",
       "3  2021-11-11T19:22:20Z  NaN  \n",
       "4  2021-11-11T19:22:20Z  NaN  "
      ]
     },
     "execution_count": 54,
     "metadata": {},
     "output_type": "execute_result"
    }
   ],
   "source": [
    "pd.DataFrame(res_git.json()).head()"
   ]
  },
  {
   "cell_type": "code",
   "execution_count": 55,
   "metadata": {},
   "outputs": [
    {
     "data": {
      "text/html": [
       "<div>\n",
       "<style scoped>\n",
       "    .dataframe tbody tr th:only-of-type {\n",
       "        vertical-align: middle;\n",
       "    }\n",
       "\n",
       "    .dataframe tbody tr th {\n",
       "        vertical-align: top;\n",
       "    }\n",
       "\n",
       "    .dataframe thead th {\n",
       "        text-align: right;\n",
       "    }\n",
       "</style>\n",
       "<table border=\"1\" class=\"dataframe\">\n",
       "  <thead>\n",
       "    <tr style=\"text-align: right;\">\n",
       "      <th></th>\n",
       "      <th>id</th>\n",
       "      <th>type</th>\n",
       "      <th>public</th>\n",
       "      <th>created_at</th>\n",
       "      <th>actor.id</th>\n",
       "      <th>actor.login</th>\n",
       "      <th>actor.display_login</th>\n",
       "      <th>actor.gravatar_id</th>\n",
       "      <th>actor.url</th>\n",
       "      <th>actor.avatar_url</th>\n",
       "      <th>...</th>\n",
       "      <th>payload.review.user.site_admin</th>\n",
       "      <th>payload.review.body</th>\n",
       "      <th>payload.review.commit_id</th>\n",
       "      <th>payload.review.submitted_at</th>\n",
       "      <th>payload.review.state</th>\n",
       "      <th>payload.review.html_url</th>\n",
       "      <th>payload.review.pull_request_url</th>\n",
       "      <th>payload.review.author_association</th>\n",
       "      <th>payload.review._links.html.href</th>\n",
       "      <th>payload.review._links.pull_request.href</th>\n",
       "    </tr>\n",
       "  </thead>\n",
       "  <tbody>\n",
       "    <tr>\n",
       "      <th>0</th>\n",
       "      <td>18849883218</td>\n",
       "      <td>CreateEvent</td>\n",
       "      <td>True</td>\n",
       "      <td>2021-11-11T19:22:20Z</td>\n",
       "      <td>61912795</td>\n",
       "      <td>laviv</td>\n",
       "      <td>laviv</td>\n",
       "      <td></td>\n",
       "      <td>https://api.github.com/users/laviv</td>\n",
       "      <td>https://avatars.githubusercontent.com/u/61912795?</td>\n",
       "      <td>...</td>\n",
       "      <td>NaN</td>\n",
       "      <td>NaN</td>\n",
       "      <td>NaN</td>\n",
       "      <td>NaN</td>\n",
       "      <td>NaN</td>\n",
       "      <td>NaN</td>\n",
       "      <td>NaN</td>\n",
       "      <td>NaN</td>\n",
       "      <td>NaN</td>\n",
       "      <td>NaN</td>\n",
       "    </tr>\n",
       "    <tr>\n",
       "      <th>1</th>\n",
       "      <td>18849883198</td>\n",
       "      <td>PushEvent</td>\n",
       "      <td>True</td>\n",
       "      <td>2021-11-11T19:22:20Z</td>\n",
       "      <td>28974288</td>\n",
       "      <td>silasfelinus</td>\n",
       "      <td>silasfelinus</td>\n",
       "      <td></td>\n",
       "      <td>https://api.github.com/users/silasfelinus</td>\n",
       "      <td>https://avatars.githubusercontent.com/u/28974288?</td>\n",
       "      <td>...</td>\n",
       "      <td>NaN</td>\n",
       "      <td>NaN</td>\n",
       "      <td>NaN</td>\n",
       "      <td>NaN</td>\n",
       "      <td>NaN</td>\n",
       "      <td>NaN</td>\n",
       "      <td>NaN</td>\n",
       "      <td>NaN</td>\n",
       "      <td>NaN</td>\n",
       "      <td>NaN</td>\n",
       "    </tr>\n",
       "    <tr>\n",
       "      <th>2</th>\n",
       "      <td>18849883233</td>\n",
       "      <td>PushEvent</td>\n",
       "      <td>True</td>\n",
       "      <td>2021-11-11T19:22:20Z</td>\n",
       "      <td>93902485</td>\n",
       "      <td>sdlfskldfjbsklfd</td>\n",
       "      <td>sdlfskldfjbsklfd</td>\n",
       "      <td></td>\n",
       "      <td>https://api.github.com/users/sdlfskldfjbsklfd</td>\n",
       "      <td>https://avatars.githubusercontent.com/u/93902485?</td>\n",
       "      <td>...</td>\n",
       "      <td>NaN</td>\n",
       "      <td>NaN</td>\n",
       "      <td>NaN</td>\n",
       "      <td>NaN</td>\n",
       "      <td>NaN</td>\n",
       "      <td>NaN</td>\n",
       "      <td>NaN</td>\n",
       "      <td>NaN</td>\n",
       "      <td>NaN</td>\n",
       "      <td>NaN</td>\n",
       "    </tr>\n",
       "    <tr>\n",
       "      <th>3</th>\n",
       "      <td>18849883215</td>\n",
       "      <td>PushEvent</td>\n",
       "      <td>True</td>\n",
       "      <td>2021-11-11T19:22:20Z</td>\n",
       "      <td>41898282</td>\n",
       "      <td>github-actions[bot]</td>\n",
       "      <td>github-actions</td>\n",
       "      <td></td>\n",
       "      <td>https://api.github.com/users/github-actions[bot]</td>\n",
       "      <td>https://avatars.githubusercontent.com/u/41898282?</td>\n",
       "      <td>...</td>\n",
       "      <td>NaN</td>\n",
       "      <td>NaN</td>\n",
       "      <td>NaN</td>\n",
       "      <td>NaN</td>\n",
       "      <td>NaN</td>\n",
       "      <td>NaN</td>\n",
       "      <td>NaN</td>\n",
       "      <td>NaN</td>\n",
       "      <td>NaN</td>\n",
       "      <td>NaN</td>\n",
       "    </tr>\n",
       "    <tr>\n",
       "      <th>4</th>\n",
       "      <td>18849883206</td>\n",
       "      <td>PushEvent</td>\n",
       "      <td>True</td>\n",
       "      <td>2021-11-11T19:22:20Z</td>\n",
       "      <td>93721828</td>\n",
       "      <td>smarapdtributario</td>\n",
       "      <td>smarapdtributario</td>\n",
       "      <td></td>\n",
       "      <td>https://api.github.com/users/smarapdtributario</td>\n",
       "      <td>https://avatars.githubusercontent.com/u/93721828?</td>\n",
       "      <td>...</td>\n",
       "      <td>NaN</td>\n",
       "      <td>NaN</td>\n",
       "      <td>NaN</td>\n",
       "      <td>NaN</td>\n",
       "      <td>NaN</td>\n",
       "      <td>NaN</td>\n",
       "      <td>NaN</td>\n",
       "      <td>NaN</td>\n",
       "      <td>NaN</td>\n",
       "      <td>NaN</td>\n",
       "    </tr>\n",
       "  </tbody>\n",
       "</table>\n",
       "<p>5 rows × 561 columns</p>\n",
       "</div>"
      ],
      "text/plain": [
       "            id         type  public            created_at  actor.id  \\\n",
       "0  18849883218  CreateEvent    True  2021-11-11T19:22:20Z  61912795   \n",
       "1  18849883198    PushEvent    True  2021-11-11T19:22:20Z  28974288   \n",
       "2  18849883233    PushEvent    True  2021-11-11T19:22:20Z  93902485   \n",
       "3  18849883215    PushEvent    True  2021-11-11T19:22:20Z  41898282   \n",
       "4  18849883206    PushEvent    True  2021-11-11T19:22:20Z  93721828   \n",
       "\n",
       "           actor.login actor.display_login actor.gravatar_id  \\\n",
       "0                laviv               laviv                     \n",
       "1         silasfelinus        silasfelinus                     \n",
       "2     sdlfskldfjbsklfd    sdlfskldfjbsklfd                     \n",
       "3  github-actions[bot]      github-actions                     \n",
       "4    smarapdtributario   smarapdtributario                     \n",
       "\n",
       "                                          actor.url  \\\n",
       "0                https://api.github.com/users/laviv   \n",
       "1         https://api.github.com/users/silasfelinus   \n",
       "2     https://api.github.com/users/sdlfskldfjbsklfd   \n",
       "3  https://api.github.com/users/github-actions[bot]   \n",
       "4    https://api.github.com/users/smarapdtributario   \n",
       "\n",
       "                                    actor.avatar_url  ...  \\\n",
       "0  https://avatars.githubusercontent.com/u/61912795?  ...   \n",
       "1  https://avatars.githubusercontent.com/u/28974288?  ...   \n",
       "2  https://avatars.githubusercontent.com/u/93902485?  ...   \n",
       "3  https://avatars.githubusercontent.com/u/41898282?  ...   \n",
       "4  https://avatars.githubusercontent.com/u/93721828?  ...   \n",
       "\n",
       "   payload.review.user.site_admin payload.review.body  \\\n",
       "0                             NaN                 NaN   \n",
       "1                             NaN                 NaN   \n",
       "2                             NaN                 NaN   \n",
       "3                             NaN                 NaN   \n",
       "4                             NaN                 NaN   \n",
       "\n",
       "  payload.review.commit_id payload.review.submitted_at payload.review.state  \\\n",
       "0                      NaN                         NaN                  NaN   \n",
       "1                      NaN                         NaN                  NaN   \n",
       "2                      NaN                         NaN                  NaN   \n",
       "3                      NaN                         NaN                  NaN   \n",
       "4                      NaN                         NaN                  NaN   \n",
       "\n",
       "  payload.review.html_url payload.review.pull_request_url  \\\n",
       "0                     NaN                             NaN   \n",
       "1                     NaN                             NaN   \n",
       "2                     NaN                             NaN   \n",
       "3                     NaN                             NaN   \n",
       "4                     NaN                             NaN   \n",
       "\n",
       "  payload.review.author_association  payload.review._links.html.href  \\\n",
       "0                               NaN                              NaN   \n",
       "1                               NaN                              NaN   \n",
       "2                               NaN                              NaN   \n",
       "3                               NaN                              NaN   \n",
       "4                               NaN                              NaN   \n",
       "\n",
       "   payload.review._links.pull_request.href  \n",
       "0                                      NaN  \n",
       "1                                      NaN  \n",
       "2                                      NaN  \n",
       "3                                      NaN  \n",
       "4                                      NaN  \n",
       "\n",
       "[5 rows x 561 columns]"
      ]
     },
     "execution_count": 55,
     "metadata": {},
     "output_type": "execute_result"
    }
   ],
   "source": [
    "pd.json_normalize(res_git.json()).head()"
   ]
  },
  {
   "cell_type": "markdown",
   "metadata": {},
   "source": [
    "### [Kaggle](https://www.kaggle.com/docs/api) API\n",
    "\n",
    "Para usar la API de Kaggle, primero tenemos que registrarnos en la página. En la información de nuestra cuenta podemos pedir el token de la API:\n",
    "\n",
    "![kaggle_api](images/kaggle_api.png)\n",
    "\n",
    "\n",
    "Al pedir el token, se descargará un archivo llamado `kaggle.json`, el cual tendremos que guardar en la carpeta oculta `.kaggle`. \n",
    "\n",
    "Para ocultar el token del resto de usuarios se escribe algo como: `chmod 600 /Users/iudh/.kaggle/kaggle.json` en la terminal."
   ]
  },
  {
   "cell_type": "code",
   "execution_count": 56,
   "metadata": {},
   "outputs": [
    {
     "name": "stdout",
     "output_type": "stream",
     "text": [
      "Collecting kaggle\n",
      "  Downloading kaggle-1.5.12.tar.gz (58 kB)\n",
      "\u001b[K     |████████████████████████████████| 58 kB 4.0 MB/s eta 0:00:011\n",
      "\u001b[?25hRequirement already satisfied: six>=1.10 in /Users/iudh/opt/anaconda3/envs/clase/lib/python3.8/site-packages (from kaggle) (1.12.0)\n",
      "Requirement already satisfied: certifi in /Users/iudh/opt/anaconda3/envs/clase/lib/python3.8/site-packages (from kaggle) (2021.5.30)\n",
      "Requirement already satisfied: python-dateutil in /Users/iudh/opt/anaconda3/envs/clase/lib/python3.8/site-packages (from kaggle) (2.8.1)\n",
      "Requirement already satisfied: requests in /Users/iudh/opt/anaconda3/envs/clase/lib/python3.8/site-packages (from kaggle) (2.26.0)\n",
      "Requirement already satisfied: tqdm in /Users/iudh/opt/anaconda3/envs/clase/lib/python3.8/site-packages (from kaggle) (4.61.1)\n",
      "Collecting python-slugify\n",
      "  Downloading python_slugify-5.0.2-py2.py3-none-any.whl (6.7 kB)\n",
      "Requirement already satisfied: urllib3 in /Users/iudh/opt/anaconda3/envs/clase/lib/python3.8/site-packages (from kaggle) (1.26.7)\n",
      "Collecting text-unidecode>=1.3\n",
      "  Downloading text_unidecode-1.3-py2.py3-none-any.whl (78 kB)\n",
      "\u001b[K     |████████████████████████████████| 78 kB 8.8 MB/s eta 0:00:011\n",
      "\u001b[?25hRequirement already satisfied: idna<4,>=2.5 in /Users/iudh/opt/anaconda3/envs/clase/lib/python3.8/site-packages (from requests->kaggle) (3.1)\n",
      "Requirement already satisfied: charset-normalizer~=2.0.0 in /Users/iudh/opt/anaconda3/envs/clase/lib/python3.8/site-packages (from requests->kaggle) (2.0.0)\n",
      "Building wheels for collected packages: kaggle\n",
      "  Building wheel for kaggle (setup.py) ... \u001b[?25ldone\n",
      "\u001b[?25h  Created wheel for kaggle: filename=kaggle-1.5.12-py3-none-any.whl size=73053 sha256=593fc9839db3431d19650ca9683068fd08d07d6968bead12eabad0252a588526\n",
      "  Stored in directory: /Users/iudh/Library/Caches/pip/wheels/29/da/11/144cc25aebdaeb4931b231e25fd34b394e6a5725cbb2f50106\n",
      "Successfully built kaggle\n",
      "Installing collected packages: text-unidecode, python-slugify, kaggle\n",
      "Successfully installed kaggle-1.5.12 python-slugify-5.0.2 text-unidecode-1.3\n"
     ]
    }
   ],
   "source": [
    "!pip install kaggle"
   ]
  },
  {
   "cell_type": "code",
   "execution_count": 57,
   "metadata": {},
   "outputs": [],
   "source": [
    "import kaggle"
   ]
  },
  {
   "cell_type": "code",
   "execution_count": 58,
   "metadata": {},
   "outputs": [],
   "source": [
    "from kaggle.api.kaggle_api_extended import KaggleApi\n",
    "\n",
    "api=KaggleApi()\n",
    "api.authenticate()"
   ]
  },
  {
   "cell_type": "code",
   "execution_count": 59,
   "metadata": {},
   "outputs": [],
   "source": [
    "api.dataset_download_files('kazanova/sentiment140', path='./')"
   ]
  },
  {
   "cell_type": "code",
   "execution_count": 60,
   "metadata": {},
   "outputs": [],
   "source": [
    "import zipfile\n",
    "\n",
    "with zipfile.ZipFile('sentiment140.zip', 'r') as zipref:\n",
    "    zipref.extractall('')"
   ]
  },
  {
   "cell_type": "code",
   "execution_count": 61,
   "metadata": {},
   "outputs": [
    {
     "data": {
      "text/html": [
       "<div>\n",
       "<style scoped>\n",
       "    .dataframe tbody tr th:only-of-type {\n",
       "        vertical-align: middle;\n",
       "    }\n",
       "\n",
       "    .dataframe tbody tr th {\n",
       "        vertical-align: top;\n",
       "    }\n",
       "\n",
       "    .dataframe thead th {\n",
       "        text-align: right;\n",
       "    }\n",
       "</style>\n",
       "<table border=\"1\" class=\"dataframe\">\n",
       "  <thead>\n",
       "    <tr style=\"text-align: right;\">\n",
       "      <th></th>\n",
       "      <th>0</th>\n",
       "      <th>1467810369</th>\n",
       "      <th>Mon Apr 06 22:19:45 PDT 2009</th>\n",
       "      <th>NO_QUERY</th>\n",
       "      <th>_TheSpecialOne_</th>\n",
       "      <th>@switchfoot http://twitpic.com/2y1zl - Awww, that's a bummer.  You shoulda got David Carr of Third Day to do it. ;D</th>\n",
       "    </tr>\n",
       "  </thead>\n",
       "  <tbody>\n",
       "    <tr>\n",
       "      <th>0</th>\n",
       "      <td>0</td>\n",
       "      <td>1467810672</td>\n",
       "      <td>Mon Apr 06 22:19:49 PDT 2009</td>\n",
       "      <td>NO_QUERY</td>\n",
       "      <td>scotthamilton</td>\n",
       "      <td>is upset that he can't update his Facebook by ...</td>\n",
       "    </tr>\n",
       "    <tr>\n",
       "      <th>1</th>\n",
       "      <td>0</td>\n",
       "      <td>1467810917</td>\n",
       "      <td>Mon Apr 06 22:19:53 PDT 2009</td>\n",
       "      <td>NO_QUERY</td>\n",
       "      <td>mattycus</td>\n",
       "      <td>@Kenichan I dived many times for the ball. Man...</td>\n",
       "    </tr>\n",
       "    <tr>\n",
       "      <th>2</th>\n",
       "      <td>0</td>\n",
       "      <td>1467811184</td>\n",
       "      <td>Mon Apr 06 22:19:57 PDT 2009</td>\n",
       "      <td>NO_QUERY</td>\n",
       "      <td>ElleCTF</td>\n",
       "      <td>my whole body feels itchy and like its on fire</td>\n",
       "    </tr>\n",
       "    <tr>\n",
       "      <th>3</th>\n",
       "      <td>0</td>\n",
       "      <td>1467811193</td>\n",
       "      <td>Mon Apr 06 22:19:57 PDT 2009</td>\n",
       "      <td>NO_QUERY</td>\n",
       "      <td>Karoli</td>\n",
       "      <td>@nationwideclass no, it's not behaving at all....</td>\n",
       "    </tr>\n",
       "    <tr>\n",
       "      <th>4</th>\n",
       "      <td>0</td>\n",
       "      <td>1467811372</td>\n",
       "      <td>Mon Apr 06 22:20:00 PDT 2009</td>\n",
       "      <td>NO_QUERY</td>\n",
       "      <td>joy_wolf</td>\n",
       "      <td>@Kwesidei not the whole crew</td>\n",
       "    </tr>\n",
       "  </tbody>\n",
       "</table>\n",
       "</div>"
      ],
      "text/plain": [
       "   0  1467810369  Mon Apr 06 22:19:45 PDT 2009  NO_QUERY _TheSpecialOne_  \\\n",
       "0  0  1467810672  Mon Apr 06 22:19:49 PDT 2009  NO_QUERY   scotthamilton   \n",
       "1  0  1467810917  Mon Apr 06 22:19:53 PDT 2009  NO_QUERY        mattycus   \n",
       "2  0  1467811184  Mon Apr 06 22:19:57 PDT 2009  NO_QUERY         ElleCTF   \n",
       "3  0  1467811193  Mon Apr 06 22:19:57 PDT 2009  NO_QUERY          Karoli   \n",
       "4  0  1467811372  Mon Apr 06 22:20:00 PDT 2009  NO_QUERY        joy_wolf   \n",
       "\n",
       "  @switchfoot http://twitpic.com/2y1zl - Awww, that's a bummer.  You shoulda got David Carr of Third Day to do it. ;D  \n",
       "0  is upset that he can't update his Facebook by ...                                                                   \n",
       "1  @Kenichan I dived many times for the ball. Man...                                                                   \n",
       "2    my whole body feels itchy and like its on fire                                                                    \n",
       "3  @nationwideclass no, it's not behaving at all....                                                                   \n",
       "4                      @Kwesidei not the whole crew                                                                    "
      ]
     },
     "execution_count": 61,
     "metadata": {},
     "output_type": "execute_result"
    }
   ],
   "source": [
    "import glob  # manejo de archivos carpetas\n",
    "\n",
    "pd.read_csv(glob.glob('*.csv')[0], encoding='ISO-8859-1').head()"
   ]
  },
  {
   "cell_type": "code",
   "execution_count": 62,
   "metadata": {},
   "outputs": [
    {
     "data": {
      "text/plain": [
       "['training.1600000.processed.noemoticon.csv']"
      ]
     },
     "execution_count": 62,
     "metadata": {},
     "output_type": "execute_result"
    }
   ],
   "source": [
    "glob.glob('*.csv')"
   ]
  },
  {
   "cell_type": "markdown",
   "metadata": {},
   "source": [
    "### [Nasa](https://api.nasa.gov/) API"
   ]
  },
  {
   "cell_type": "code",
   "execution_count": 64,
   "metadata": {},
   "outputs": [
    {
     "data": {
      "text/plain": [
       "<Response [200]>"
      ]
     },
     "execution_count": 64,
     "metadata": {},
     "output_type": "execute_result"
    }
   ],
   "source": [
    "BASE='https://api.nasa.gov/'\n",
    "\n",
    "fotos_marte='mars-photos/api/v1/rovers/curiosity/photos?sol=1000&api_key=DEMO_KEY'\n",
    "\n",
    "res_nasa=req.get(BASE+fotos_marte)\n",
    "\n",
    "res_nasa"
   ]
  },
  {
   "cell_type": "code",
   "execution_count": 69,
   "metadata": {},
   "outputs": [
    {
     "data": {
      "text/plain": [
       "'http://mars.jpl.nasa.gov/msl-raw-images/proj/msl/redops/ods/surface/sol/01000/opgs/edr/fcam/FLB_486265257EDR_F0481570FHAZ00323M_.JPG'"
      ]
     },
     "execution_count": 69,
     "metadata": {},
     "output_type": "execute_result"
    }
   ],
   "source": [
    "foto_url=res_nasa.json()['photos'][0]['img_src']\n",
    "\n",
    "foto_url"
   ]
  },
  {
   "cell_type": "code",
   "execution_count": 70,
   "metadata": {},
   "outputs": [
    {
     "data": {
      "text/html": [
       "<img src=\"http://mars.jpl.nasa.gov/msl-raw-images/proj/msl/redops/ods/surface/sol/01000/opgs/edr/fcam/FLB_486265257EDR_F0481570FHAZ00323M_.JPG\"/>"
      ],
      "text/plain": [
       "<IPython.core.display.Image object>"
      ]
     },
     "metadata": {},
     "output_type": "display_data"
    }
   ],
   "source": [
    "from IPython.display import Image\n",
    "\n",
    "display(Image(url=foto_url))"
   ]
  },
  {
   "cell_type": "code",
   "execution_count": 71,
   "metadata": {},
   "outputs": [],
   "source": [
    "imagen_del_dia='https://api.nasa.gov/planetary/apod?api_key=DEMO_KEY'"
   ]
  },
  {
   "cell_type": "code",
   "execution_count": 72,
   "metadata": {},
   "outputs": [
    {
     "data": {
      "text/plain": [
       "<Response [200]>"
      ]
     },
     "execution_count": 72,
     "metadata": {},
     "output_type": "execute_result"
    }
   ],
   "source": [
    "res_nasa=req.get(imagen_del_dia)\n",
    "\n",
    "res_nasa"
   ]
  },
  {
   "cell_type": "code",
   "execution_count": 74,
   "metadata": {},
   "outputs": [
    {
     "data": {
      "text/plain": [
       "{'copyright': 'Michael Sherick',\n",
       " 'date': '2021-11-11',\n",
       " 'explanation': 'NGC 1333 is seen in visible light as a reflection nebula, dominated by bluish hues characteristic of starlight reflected by interstellar dust. A mere 1,000 light-years distant toward the heroic constellation Perseus, it lies at the edge of a large, star-forming molecular cloud. This telescopic close-up spans about two full moons on the sky or just over 15 light-years at the estimated distance of NGC 1333. It shows details of the dusty region along with telltale hints of contrasty red emission from Herbig-Haro objects, jets and shocked glowing gas emanating from recently formed stars. In fact, NGC 1333 contains hundreds of stars less than a million years old, most still hidden from optical telescopes by the pervasive stardust. The chaotic environment may be similar to one in which our own Sun formed over 4.5 billion years ago.',\n",
       " 'hdurl': 'https://apod.nasa.gov/apod/image/2111/ngc1333_RGB-c2.jpg',\n",
       " 'media_type': 'image',\n",
       " 'service_version': 'v1',\n",
       " 'title': 'NGC 1333: Stellar Nursery in Perseus',\n",
       " 'url': 'https://apod.nasa.gov/apod/image/2111/ngc1333_RGB-c21024.jpg'}"
      ]
     },
     "execution_count": 74,
     "metadata": {},
     "output_type": "execute_result"
    }
   ],
   "source": [
    "res_nasa.json()"
   ]
  },
  {
   "cell_type": "code",
   "execution_count": 75,
   "metadata": {},
   "outputs": [
    {
     "data": {
      "text/html": [
       "<img src=\"https://apod.nasa.gov/apod/image/2111/ngc1333_RGB-c21024.jpg\"/>"
      ],
      "text/plain": [
       "<IPython.core.display.Image object>"
      ]
     },
     "metadata": {},
     "output_type": "display_data"
    }
   ],
   "source": [
    "display(Image(url=res_nasa.json()['url']))"
   ]
  },
  {
   "cell_type": "markdown",
   "metadata": {},
   "source": [
    "### Yahoo Finance"
   ]
  },
  {
   "cell_type": "code",
   "execution_count": 76,
   "metadata": {},
   "outputs": [
    {
     "name": "stdout",
     "output_type": "stream",
     "text": [
      "Requirement already satisfied: yfinance in /Users/iudh/opt/anaconda3/envs/clase/lib/python3.8/site-packages (0.1.63)\n",
      "Requirement already satisfied: lxml>=4.5.1 in /Users/iudh/opt/anaconda3/envs/clase/lib/python3.8/site-packages (from yfinance) (4.6.3)\n",
      "Requirement already satisfied: numpy>=1.15 in /Users/iudh/opt/anaconda3/envs/clase/lib/python3.8/site-packages (from yfinance) (1.20.2)\n",
      "Requirement already satisfied: requests>=2.20 in /Users/iudh/opt/anaconda3/envs/clase/lib/python3.8/site-packages (from yfinance) (2.26.0)\n",
      "Requirement already satisfied: pandas>=0.24 in /Users/iudh/opt/anaconda3/envs/clase/lib/python3.8/site-packages (from yfinance) (1.2.4)\n",
      "Requirement already satisfied: multitasking>=0.0.7 in /Users/iudh/opt/anaconda3/envs/clase/lib/python3.8/site-packages (from yfinance) (0.0.9)\n",
      "Requirement already satisfied: python-dateutil>=2.7.3 in /Users/iudh/opt/anaconda3/envs/clase/lib/python3.8/site-packages (from pandas>=0.24->yfinance) (2.8.1)\n",
      "Requirement already satisfied: pytz>=2017.3 in /Users/iudh/opt/anaconda3/envs/clase/lib/python3.8/site-packages (from pandas>=0.24->yfinance) (2021.1)\n",
      "Requirement already satisfied: six>=1.5 in /Users/iudh/opt/anaconda3/envs/clase/lib/python3.8/site-packages (from python-dateutil>=2.7.3->pandas>=0.24->yfinance) (1.12.0)\n",
      "Requirement already satisfied: certifi>=2017.4.17 in /Users/iudh/opt/anaconda3/envs/clase/lib/python3.8/site-packages (from requests>=2.20->yfinance) (2021.5.30)\n",
      "Requirement already satisfied: idna<4,>=2.5 in /Users/iudh/opt/anaconda3/envs/clase/lib/python3.8/site-packages (from requests>=2.20->yfinance) (3.1)\n",
      "Requirement already satisfied: urllib3<1.27,>=1.21.1 in /Users/iudh/opt/anaconda3/envs/clase/lib/python3.8/site-packages (from requests>=2.20->yfinance) (1.26.7)\n",
      "Requirement already satisfied: charset-normalizer~=2.0.0 in /Users/iudh/opt/anaconda3/envs/clase/lib/python3.8/site-packages (from requests>=2.20->yfinance) (2.0.0)\n"
     ]
    }
   ],
   "source": [
    "!pip install yfinance"
   ]
  },
  {
   "cell_type": "code",
   "execution_count": 77,
   "metadata": {},
   "outputs": [],
   "source": [
    "import pandas as pd\n",
    "import yfinance as yf\n",
    "\n",
    "import time"
   ]
  },
  {
   "cell_type": "code",
   "execution_count": 81,
   "metadata": {},
   "outputs": [
    {
     "name": "stdout",
     "output_type": "stream",
     "text": [
      "[*********************100%***********************]  1 of 1 completed\n"
     ]
    },
    {
     "data": {
      "text/html": [
       "<div>\n",
       "<style scoped>\n",
       "    .dataframe tbody tr th:only-of-type {\n",
       "        vertical-align: middle;\n",
       "    }\n",
       "\n",
       "    .dataframe tbody tr th {\n",
       "        vertical-align: top;\n",
       "    }\n",
       "\n",
       "    .dataframe thead th {\n",
       "        text-align: right;\n",
       "    }\n",
       "</style>\n",
       "<table border=\"1\" class=\"dataframe\">\n",
       "  <thead>\n",
       "    <tr style=\"text-align: right;\">\n",
       "      <th></th>\n",
       "      <th>Open</th>\n",
       "      <th>High</th>\n",
       "      <th>Low</th>\n",
       "      <th>Close</th>\n",
       "      <th>Adj Close</th>\n",
       "      <th>Volume</th>\n",
       "      <th>datetime</th>\n",
       "    </tr>\n",
       "    <tr>\n",
       "      <th>Datetime</th>\n",
       "      <th></th>\n",
       "      <th></th>\n",
       "      <th></th>\n",
       "      <th></th>\n",
       "      <th></th>\n",
       "      <th></th>\n",
       "      <th></th>\n",
       "    </tr>\n",
       "  </thead>\n",
       "  <tbody>\n",
       "    <tr>\n",
       "      <th>2021-11-05 09:30:00-04:00</th>\n",
       "      <td>36268.750000</td>\n",
       "      <td>36331.339844</td>\n",
       "      <td>36268.750000</td>\n",
       "      <td>36320.550781</td>\n",
       "      <td>36320.550781</td>\n",
       "      <td>0</td>\n",
       "      <td>2021-11-05 09:30:00-04:00</td>\n",
       "    </tr>\n",
       "    <tr>\n",
       "      <th>2021-11-05 09:31:00-04:00</th>\n",
       "      <td>36274.898438</td>\n",
       "      <td>36290.000000</td>\n",
       "      <td>36269.539062</td>\n",
       "      <td>36283.460938</td>\n",
       "      <td>36283.460938</td>\n",
       "      <td>6473430</td>\n",
       "      <td>2021-11-05 09:31:00-04:00</td>\n",
       "    </tr>\n",
       "    <tr>\n",
       "      <th>2021-11-05 09:32:00-04:00</th>\n",
       "      <td>36277.699219</td>\n",
       "      <td>36297.578125</td>\n",
       "      <td>36277.378906</td>\n",
       "      <td>36292.511719</td>\n",
       "      <td>36292.511719</td>\n",
       "      <td>2549986</td>\n",
       "      <td>2021-11-05 09:32:00-04:00</td>\n",
       "    </tr>\n",
       "    <tr>\n",
       "      <th>2021-11-05 09:33:00-04:00</th>\n",
       "      <td>36292.761719</td>\n",
       "      <td>36317.351562</td>\n",
       "      <td>36290.910156</td>\n",
       "      <td>36317.351562</td>\n",
       "      <td>36317.351562</td>\n",
       "      <td>2092280</td>\n",
       "      <td>2021-11-05 09:33:00-04:00</td>\n",
       "    </tr>\n",
       "    <tr>\n",
       "      <th>2021-11-05 09:34:00-04:00</th>\n",
       "      <td>36318.308594</td>\n",
       "      <td>36348.468750</td>\n",
       "      <td>36318.308594</td>\n",
       "      <td>36336.519531</td>\n",
       "      <td>36336.519531</td>\n",
       "      <td>1807783</td>\n",
       "      <td>2021-11-05 09:34:00-04:00</td>\n",
       "    </tr>\n",
       "  </tbody>\n",
       "</table>\n",
       "</div>"
      ],
      "text/plain": [
       "                                   Open          High           Low  \\\n",
       "Datetime                                                              \n",
       "2021-11-05 09:30:00-04:00  36268.750000  36331.339844  36268.750000   \n",
       "2021-11-05 09:31:00-04:00  36274.898438  36290.000000  36269.539062   \n",
       "2021-11-05 09:32:00-04:00  36277.699219  36297.578125  36277.378906   \n",
       "2021-11-05 09:33:00-04:00  36292.761719  36317.351562  36290.910156   \n",
       "2021-11-05 09:34:00-04:00  36318.308594  36348.468750  36318.308594   \n",
       "\n",
       "                                  Close     Adj Close   Volume  \\\n",
       "Datetime                                                         \n",
       "2021-11-05 09:30:00-04:00  36320.550781  36320.550781        0   \n",
       "2021-11-05 09:31:00-04:00  36283.460938  36283.460938  6473430   \n",
       "2021-11-05 09:32:00-04:00  36292.511719  36292.511719  2549986   \n",
       "2021-11-05 09:33:00-04:00  36317.351562  36317.351562  2092280   \n",
       "2021-11-05 09:34:00-04:00  36336.519531  36336.519531  1807783   \n",
       "\n",
       "                                           datetime  \n",
       "Datetime                                             \n",
       "2021-11-05 09:30:00-04:00 2021-11-05 09:30:00-04:00  \n",
       "2021-11-05 09:31:00-04:00 2021-11-05 09:31:00-04:00  \n",
       "2021-11-05 09:32:00-04:00 2021-11-05 09:32:00-04:00  \n",
       "2021-11-05 09:33:00-04:00 2021-11-05 09:33:00-04:00  \n",
       "2021-11-05 09:34:00-04:00 2021-11-05 09:34:00-04:00  "
      ]
     },
     "execution_count": 81,
     "metadata": {},
     "output_type": "execute_result"
    }
   ],
   "source": [
    "data=yf.download(tickers='^DJI', period='5d', interval='1m')\n",
    "\n",
    "data['datetime']=data.index\n",
    "\n",
    "data.head()"
   ]
  },
  {
   "cell_type": "code",
   "execution_count": 82,
   "metadata": {},
   "outputs": [
    {
     "data": {
      "text/plain": [
       "{'Open': 35948.83984375,\n",
       " 'High': 35948.83984375,\n",
       " 'Low': 35948.83984375,\n",
       " 'Close': 35948.83984375,\n",
       " 'Adj Close': 35948.83984375,\n",
       " 'Volume': 0,\n",
       " 'datetime': Timestamp('2021-11-11 15:07:14-0500', tz='America/New_York')}"
      ]
     },
     "execution_count": 82,
     "metadata": {},
     "output_type": "execute_result"
    }
   ],
   "source": [
    "data.to_dict(orient='records')[-1]"
   ]
  },
  {
   "cell_type": "code",
   "execution_count": 83,
   "metadata": {},
   "outputs": [
    {
     "name": "stdout",
     "output_type": "stream",
     "text": [
      "[*********************100%***********************]  1 of 1 completed\n",
      "{'Open': 43.095001220703125, 'High': 43.095001220703125, 'Low': 43.095001220703125, 'Close': 43.095001220703125, 'Adj Close': 43.095001220703125, 'Volume': 0, 'datetime': Timestamp('2021-11-11 15:09:53-0500', tz='America/New_York')}\n",
      "[*********************100%***********************]  1 of 1 completed\n",
      "{'Open': 43.10499954223633, 'High': 43.10499954223633, 'Low': 43.10499954223633, 'Close': 43.10499954223633, 'Adj Close': 43.10499954223633, 'Volume': 0, 'datetime': Timestamp('2021-11-11 15:10:02-0500', tz='America/New_York')}\n",
      "[*********************100%***********************]  1 of 1 completed\n",
      "{'Open': 43.095001220703125, 'High': 43.095001220703125, 'Low': 43.095001220703125, 'Close': 43.095001220703125, 'Adj Close': 43.095001220703125, 'Volume': 0, 'datetime': Timestamp('2021-11-11 15:09:56-0500', tz='America/New_York')}\n",
      "[*********************100%***********************]  1 of 1 completed\n",
      "{'Open': 43.099998474121094, 'High': 43.099998474121094, 'Low': 43.099998474121094, 'Close': 43.099998474121094, 'Adj Close': 43.099998474121094, 'Volume': 0, 'datetime': Timestamp('2021-11-11 15:10:04-0500', tz='America/New_York')}\n",
      "[*********************100%***********************]  1 of 1 completed\n",
      "{'Open': 43.099998474121094, 'High': 43.099998474121094, 'Low': 43.099998474121094, 'Close': 43.099998474121094, 'Adj Close': 43.099998474121094, 'Volume': 0, 'datetime': Timestamp('2021-11-11 15:10:01-0500', tz='America/New_York')}\n",
      "[*********************100%***********************]  1 of 1 completed\n",
      "{'Open': 43.10499954223633, 'High': 43.10499954223633, 'Low': 43.10499954223633, 'Close': 43.10499954223633, 'Adj Close': 43.10499954223633, 'Volume': 0, 'datetime': Timestamp('2021-11-11 15:10:05-0500', tz='America/New_York')}\n",
      "[*********************100%***********************]  1 of 1 completed\n",
      "{'Open': 43.099998474121094, 'High': 43.099998474121094, 'Low': 43.099998474121094, 'Close': 43.099998474121094, 'Adj Close': 43.099998474121094, 'Volume': 0, 'datetime': Timestamp('2021-11-11 15:10:01-0500', tz='America/New_York')}\n",
      "[*********************100%***********************]  1 of 1 completed\n",
      "{'Open': 43.099998474121094, 'High': 43.099998474121094, 'Low': 43.099998474121094, 'Close': 43.099998474121094, 'Adj Close': 43.099998474121094, 'Volume': 0, 'datetime': Timestamp('2021-11-11 15:10:01-0500', tz='America/New_York')}\n",
      "[*********************100%***********************]  1 of 1 completed\n",
      "{'Open': 43.10499954223633, 'High': 43.10499954223633, 'Low': 43.10499954223633, 'Close': 43.10499954223633, 'Adj Close': 43.10499954223633, 'Volume': 0, 'datetime': Timestamp('2021-11-11 15:10:07-0500', tz='America/New_York')}\n",
      "[*********************100%***********************]  1 of 1 completed\n",
      "{'Open': 43.10499954223633, 'High': 43.10499954223633, 'Low': 43.10499954223633, 'Close': 43.10499954223633, 'Adj Close': 43.10499954223633, 'Volume': 0, 'datetime': Timestamp('2021-11-11 15:10:07-0500', tz='America/New_York')}\n",
      "[*********************100%***********************]  1 of 1 completed\n",
      "{'Open': 43.10499954223633, 'High': 43.10499954223633, 'Low': 43.10499954223633, 'Close': 43.10499954223633, 'Adj Close': 43.10499954223633, 'Volume': 0, 'datetime': Timestamp('2021-11-11 15:10:05-0500', tz='America/New_York')}\n",
      "[*********************100%***********************]  1 of 1 completed\n",
      "{'Open': 43.10499954223633, 'High': 43.10499954223633, 'Low': 43.10499954223633, 'Close': 43.10499954223633, 'Adj Close': 43.10499954223633, 'Volume': 0, 'datetime': Timestamp('2021-11-11 15:10:05-0500', tz='America/New_York')}\n",
      "[*********************100%***********************]  1 of 1 completed\n",
      "{'Open': 43.10499954223633, 'High': 43.10499954223633, 'Low': 43.10499954223633, 'Close': 43.10499954223633, 'Adj Close': 43.10499954223633, 'Volume': 0, 'datetime': Timestamp('2021-11-11 15:10:02-0500', tz='America/New_York')}\n"
     ]
    },
    {
     "ename": "KeyboardInterrupt",
     "evalue": "",
     "output_type": "error",
     "traceback": [
      "\u001b[0;31m---------------------------------------------------------------------------\u001b[0m",
      "\u001b[0;31mKeyboardInterrupt\u001b[0m                         Traceback (most recent call last)",
      "\u001b[0;32m<ipython-input-83-4f0eb133ee90>\u001b[0m in \u001b[0;36m<module>\u001b[0;34m\u001b[0m\n\u001b[1;32m      6\u001b[0m     \u001b[0mprint\u001b[0m\u001b[0;34m(\u001b[0m\u001b[0mdata\u001b[0m\u001b[0;34m.\u001b[0m\u001b[0mto_dict\u001b[0m\u001b[0;34m(\u001b[0m\u001b[0morient\u001b[0m\u001b[0;34m=\u001b[0m\u001b[0;34m'records'\u001b[0m\u001b[0;34m)\u001b[0m\u001b[0;34m[\u001b[0m\u001b[0;34m-\u001b[0m\u001b[0;36m1\u001b[0m\u001b[0;34m]\u001b[0m\u001b[0;34m)\u001b[0m\u001b[0;34m\u001b[0m\u001b[0;34m\u001b[0m\u001b[0m\n\u001b[1;32m      7\u001b[0m \u001b[0;34m\u001b[0m\u001b[0m\n\u001b[0;32m----> 8\u001b[0;31m     \u001b[0mtime\u001b[0m\u001b[0;34m.\u001b[0m\u001b[0msleep\u001b[0m\u001b[0;34m(\u001b[0m\u001b[0;36m0.5\u001b[0m\u001b[0;34m)\u001b[0m\u001b[0;34m\u001b[0m\u001b[0;34m\u001b[0m\u001b[0m\n\u001b[0m",
      "\u001b[0;31mKeyboardInterrupt\u001b[0m: "
     ]
    }
   ],
   "source": [
    "while 1:\n",
    "    data=yf.download(tickers='UBER', period='5d', interval='1m')\n",
    "\n",
    "    data['datetime']=data.index\n",
    "\n",
    "    print(data.to_dict(orient='records')[-1])\n",
    "    \n",
    "    time.sleep(0.5)"
   ]
  },
  {
   "cell_type": "markdown",
   "metadata": {},
   "source": [
    "### Twitter API, ejemplo\n",
    "\n",
    "**https://developer.twitter.com/en/apply-for-access.html**\n",
    "    \n",
    "**http://docs.tweepy.org/en/latest/**\n",
    "\n",
    "```python\n",
    "import tweepy\n",
    "\n",
    "API_KEY='apikey'\n",
    "API_SECRET='apisecret'\n",
    "ACCESS_TOKEN='tu_token'\n",
    "TOKEN_SECRET='tu_tokensecret'\n",
    "\n",
    "auth=tweepy.OAuthHandler(API_KEY, API_SECRET)\n",
    "auth.set_access_token(ACCESS_TOKEN, TOKEN_SECRET)\n",
    "\n",
    "api=tweepy.API(auth)\n",
    "\n",
    "\n",
    "def get_followers(user, count=100):\n",
    "    results=api.followers(user, count=count)\n",
    "    followers=[pd.Series(foll._json) for foll in results]\n",
    "    df=pd.DataFrame(followers)\n",
    "    return df\n",
    "\n",
    "\n",
    "df_followers=get_followers('canal_o_usuario')\n",
    "df_followers.head()\n",
    "```"
   ]
  }
 ],
 "metadata": {
  "kernelspec": {
   "display_name": "Python 3 (ipykernel)",
   "language": "python",
   "name": "python3"
  },
  "language_info": {
   "codemirror_mode": {
    "name": "ipython",
    "version": 3
   },
   "file_extension": ".py",
   "mimetype": "text/x-python",
   "name": "python",
   "nbconvert_exporter": "python",
   "pygments_lexer": "ipython3",
   "version": "3.9.7"
  },
  "varInspector": {
   "cols": {
    "lenName": 16,
    "lenType": 16,
    "lenVar": 40
   },
   "kernels_config": {
    "python": {
     "delete_cmd_postfix": "",
     "delete_cmd_prefix": "del ",
     "library": "var_list.py",
     "varRefreshCmd": "print(var_dic_list())"
    },
    "r": {
     "delete_cmd_postfix": ") ",
     "delete_cmd_prefix": "rm(",
     "library": "var_list.r",
     "varRefreshCmd": "cat(var_dic_list()) "
    }
   },
   "types_to_exclude": [
    "module",
    "function",
    "builtin_function_or_method",
    "instance",
    "_Feature"
   ],
   "window_display": false
  }
 },
 "nbformat": 4,
 "nbformat_minor": 4
}
