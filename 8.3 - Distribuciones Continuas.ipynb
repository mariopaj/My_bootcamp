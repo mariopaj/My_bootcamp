{
 "cells": [
  {
   "cell_type": "markdown",
   "id": "80838410",
   "metadata": {},
   "source": [
    "# 8.3 - Distribuciones Continuas\n",
    "\n",
    "Una distribución continua describe las probabilidades de los posibles valores de una variable aleatoria continua. Una variable aleatoria continua es una variable aleatoria con un conjunto de valores posibles, conocido como el rango, que es infinito y no se puede contar. "
   ]
  },
  {
   "cell_type": "markdown",
   "id": "67013376",
   "metadata": {},
   "source": [
    "### Distribución Uniforme Continua\n",
    "\n",
    "https://es.wikipedia.org/wiki/Distribuci%C3%B3n_uniforme_continua\n",
    "\n",
    "\n",
    "$$X \\sim U(a, b)$$\n",
    "\n",
    "\n",
    "**Función de densidad**\n",
    "$$f(x)= P(x) = \\frac{1}{b - a}$$\n",
    "\n",
    "**Función de distribucion**\n",
    "\n",
    "$$ F_{x}(x) = P(X \\leq x) = \\left \\{ \\begin{matrix} 0 & \\mbox{si }x<a\n",
    "                               \\\\ \\frac{x-a}{b-a} & \\mbox{si }a<x<b\n",
    "                                \\\\ 1 & \\mbox{si }x>b\n",
    "                               \\end{matrix}\\right.  $$\n",
    "                               \n",
    "                               \n",
    "La distribución uniforme continua es una familia de distribuciones de probabilidad para variables aleatorias continuas, tales que para cada miembro de la familia, todos los intervalos de igual longitud en la distribución en su rango son igualmente probables. El dominio está definido por dos parámetros, $a$ y $b$, que son sus valores mínimo y máximo respectivamente. \n",
    "\n",
    "El caso por defecto es $X \\sim U(0, 1)$.\n",
    "\n",
    "![uniforme01](images/uniforme01.png)\n",
    "\n",
    "$P(x \\leq 0.4)=0.4$\n",
    "\n",
    "$P(x \\geq 0.7)=0.3$\n",
    "\n",
    "$P(x \\leq 1)= 1$\n",
    "\n",
    "$P(x \\geq 0)=1$\n",
    "\n",
    "$P(0.1 \\leq x \\leq 0.4)=0.4 - 0.1=0.3$\n",
    "\n",
    "$$\\forall c, d \\in [0, 1]: P(c < x <= d) = d-c$$ "
   ]
  },
  {
   "cell_type": "code",
   "execution_count": 1,
   "id": "b0ee7d50",
   "metadata": {},
   "outputs": [],
   "source": [
    "from scipy.stats import uniform"
   ]
  },
  {
   "cell_type": "code",
   "execution_count": 2,
   "id": "e2e1deeb",
   "metadata": {},
   "outputs": [
    {
     "data": {
      "text/plain": [
       "1.0"
      ]
     },
     "execution_count": 2,
     "metadata": {},
     "output_type": "execute_result"
    }
   ],
   "source": [
    "uniform.pdf(0.5)   # por defecto es U(0,1)"
   ]
  },
  {
   "cell_type": "code",
   "execution_count": 3,
   "id": "a30cde26",
   "metadata": {},
   "outputs": [
    {
     "data": {
      "text/plain": [
       "array([0.17874128, 0.54709089, 0.8944242 , 0.32519523, 0.19317753,\n",
       "       0.24676329, 0.05065354, 0.73356671, 0.07779295, 0.01166941,\n",
       "       0.26612922, 0.30174938, 0.70083441, 0.30909162, 0.8028088 ,\n",
       "       0.22427434, 0.12889184, 0.11304014, 0.74191393, 0.69101188])"
      ]
     },
     "execution_count": 3,
     "metadata": {},
     "output_type": "execute_result"
    }
   ],
   "source": [
    "muestra=uniform.rvs(size=20)\n",
    "\n",
    "muestra"
   ]
  },
  {
   "cell_type": "code",
   "execution_count": 4,
   "id": "043cc511",
   "metadata": {},
   "outputs": [
    {
     "data": {
      "text/plain": [
       "0.37694102993274337"
      ]
     },
     "execution_count": 4,
     "metadata": {},
     "output_type": "execute_result"
    }
   ],
   "source": [
    "muestra.mean()"
   ]
  },
  {
   "cell_type": "code",
   "execution_count": 5,
   "id": "067c1c66",
   "metadata": {},
   "outputs": [
    {
     "data": {
      "text/plain": [
       "0.27758836103887635"
      ]
     },
     "execution_count": 5,
     "metadata": {},
     "output_type": "execute_result"
    }
   ],
   "source": [
    "muestra.std()"
   ]
  },
  {
   "cell_type": "code",
   "execution_count": 6,
   "id": "7ba3588f",
   "metadata": {},
   "outputs": [
    {
     "data": {
      "image/png": "[encoded data removed]",
      "text/plain": [
       "<Figure size 432x288 with 1 Axes>"
      ]
     },
     "metadata": {
      "needs_background": "light"
     },
     "output_type": "display_data"
    }
   ],
   "source": [
    "import seaborn as sns\n",
    "import pylab as plt\n",
    "\n",
    "sns.histplot(muestra);"
   ]
  },
  {
   "cell_type": "code",
   "execution_count": 7,
   "id": "5e963af4",
   "metadata": {},
   "outputs": [
    {
     "data": {
      "image/png": "[encoded data removed]",
      "text/plain": [
       "<Figure size 432x288 with 1 Axes>"
      ]
     },
     "metadata": {
      "needs_background": "light"
     },
     "output_type": "display_data"
    }
   ],
   "source": [
    "muestra=uniform.rvs(size=2000)\n",
    "\n",
    "sns.histplot(muestra);"
   ]
  },
  {
   "cell_type": "markdown",
   "id": "fcb55aad",
   "metadata": {},
   "source": [
    "$P(0.2 < X < 0.7)$"
   ]
  },
  {
   "cell_type": "code",
   "execution_count": 8,
   "id": "f274ea25",
   "metadata": {},
   "outputs": [
    {
     "data": {
      "text/plain": [
       "0.49999999999999994"
      ]
     },
     "execution_count": 8,
     "metadata": {},
     "output_type": "execute_result"
    }
   ],
   "source": [
    "uniform.cdf(0.7) - uniform.cdf(0.2)"
   ]
  },
  {
   "cell_type": "markdown",
   "id": "466a89f7",
   "metadata": {},
   "source": [
    "En el intervalo $[a, b]$, $X \\sim U(a, b)$\n",
    "\n",
    "$P(x \\leq b)=1$\n",
    "\n",
    "$P(x \\geq a)=1$\n"
   ]
  },
  {
   "cell_type": "code",
   "execution_count": 9,
   "id": "523915d3",
   "metadata": {},
   "outputs": [
    {
     "data": {
      "text/plain": [
       "0.0"
      ]
     },
     "execution_count": 9,
     "metadata": {},
     "output_type": "execute_result"
    }
   ],
   "source": [
    "a=5\n",
    "b=10\n",
    "\n",
    "uniform.pdf(0.5, loc = a, scale = b-a)  # 0.5 es el valor de x"
   ]
  },
  {
   "cell_type": "code",
   "execution_count": 10,
   "id": "01dcc175",
   "metadata": {},
   "outputs": [
    {
     "data": {
      "image/png": "[encoded data removed]",
      "text/plain": [
       "<Figure size 432x288 with 1 Axes>"
      ]
     },
     "metadata": {
      "needs_background": "light"
     },
     "output_type": "display_data"
    }
   ],
   "source": [
    "muestra=uniform(loc = a, scale = b-a).rvs(size=2000)\n",
    "\n",
    "sns.histplot(muestra);"
   ]
  },
  {
   "cell_type": "markdown",
   "id": "6ec155b1",
   "metadata": {},
   "source": [
    "### Distribución Exponencial\n",
    "\n",
    "\n",
    "https://es.wikipedia.org/wiki/Distribuci%C3%B3n_exponencial\n",
    "\n",
    "\n",
    "$$X \\sim Exp(\\lambda)$$\n",
    "\n",
    "\n",
    "**Función de densidad**\n",
    "$$f(x)= P(x) = \\lambda e^{-\\lambda x}$$\n",
    "\n",
    "**Función de distribucion**\n",
    "\n",
    "$$ F_{x}(x) = P(X \\leq x) = \\left \\{ \\begin{matrix} 0 & \\mbox{si }x \\le 0\n",
    "                               \\\\ \\lambda e^{-\\lambda x} & \\mbox{si } x \\geq 0\n",
    "                               \\end{matrix}\\right.  $$\n",
    "\n",
    "\n",
    "\n",
    "La distribución exponencial es una distribución continua que se utiliza para modelar tiempos de espera para la ocurrencia de un cierto evento. Por ejemplo.\n",
    " * Siguiente persona en una cola\n",
    " * Llamada a un centro de llamadas\n",
    " * Desintegración radioactiva\n",
    " * Mutaciones del ADN\n",
    " \n",
    "La exponencial es la recíproca de la distribución de Poisson."
   ]
  },
  {
   "cell_type": "code",
   "execution_count": 11,
   "id": "33d10801",
   "metadata": {},
   "outputs": [],
   "source": [
    "from scipy.stats import expon"
   ]
  },
  {
   "cell_type": "markdown",
   "id": "79eb7eea",
   "metadata": {},
   "source": [
    "modelemos la llegada de clientes que llegan a la cola de un supermercado cada 30 seg de media"
   ]
  },
  {
   "cell_type": "code",
   "execution_count": 12,
   "id": "4b145ab4",
   "metadata": {},
   "outputs": [],
   "source": [
    "exp=expon(scale=30)"
   ]
  },
  {
   "cell_type": "code",
   "execution_count": 13,
   "id": "65eb1055",
   "metadata": {},
   "outputs": [
    {
     "data": {
      "text/plain": [
       "30.0"
      ]
     },
     "execution_count": 13,
     "metadata": {},
     "output_type": "execute_result"
    }
   ],
   "source": [
    "exp.mean()"
   ]
  },
  {
   "cell_type": "code",
   "execution_count": 14,
   "id": "22a1f9e5",
   "metadata": {},
   "outputs": [
    {
     "data": {
      "text/plain": [
       "array([24., 52., 36., 52., 10., 49., 89., 32., 80., 10.])"
      ]
     },
     "execution_count": 14,
     "metadata": {},
     "output_type": "execute_result"
    }
   ],
   "source": [
    "muestra=exp.rvs(size=10000)\n",
    "\n",
    "muestra.round()[:10]"
   ]
  },
  {
   "cell_type": "code",
   "execution_count": 15,
   "id": "b1aff686",
   "metadata": {},
   "outputs": [
    {
     "data": {
      "image/png": "[encoded data removed]",
      "text/plain": [
       "<Figure size 432x288 with 1 Axes>"
      ]
     },
     "metadata": {
      "needs_background": "light"
     },
     "output_type": "display_data"
    }
   ],
   "source": [
    "sns.histplot(muestra);"
   ]
  },
  {
   "cell_type": "code",
   "execution_count": 16,
   "id": "5b67a66c",
   "metadata": {},
   "outputs": [
    {
     "data": {
      "text/plain": [
       "0.6321205588285577"
      ]
     },
     "execution_count": 16,
     "metadata": {},
     "output_type": "execute_result"
    }
   ],
   "source": [
    "exp.cdf(30)"
   ]
  },
  {
   "cell_type": "markdown",
   "id": "26421a22",
   "metadata": {},
   "source": [
    "### Distribución Normal\n",
    "\n",
    "\n",
    "https://es.wikipedia.org/wiki/Distribuci%C3%B3n_normal\n",
    "\n",
    "\n",
    "$$X \\sim Normal(\\mu, \\sigma)$$\n",
    "\n",
    "\n",
    "**Función de densidad**\n",
    "$$f(x)= P(x) = \\frac{1}{\\sigma\\sqrt{2\\pi}} \n",
    "  \\exp\\left( -\\frac{1}{2}\\left(\\frac{x-\\mu}{\\sigma}\\right)^{\\!2}\\,\\right)$$\n",
    "\n",
    "\n",
    "Se llama distribución normal, distribución de Gauss, distribución gaussiana o distribución de Laplace-Gauss, a una de las distribuciones de probabilidad de variable continua que con más frecuencia aparece en estadística y en la teoría de probabilidades. La gráfica de su función de densidad tiene una forma acampanada y es simétrica respecto de un determinado parámetro estadístico. Esta curva se conoce como campana de Gauss y es el gráfico de una función gaussiana.\n",
    "\n",
    "La importancia de esta distribución radica en que permite modelar numerosos fenómenos naturales, sociales y psicológicos. Mientras que los mecanismos que subyacen a gran parte de este tipo de fenómenos son desconocidos, por la enorme cantidad de variables incontrolables que en ellos intervienen, el uso del modelo normal puede justificarse asumiendo que cada observación se obtiene como la suma de unas pocas causas independientes. De hecho, la estadística descriptiva solo permite describir un fenómeno, sin explicación alguna. Para la explicación causal es preciso el diseño experimental, de ahí que al uso de la estadística en psicología y sociología sea conocido como método correlacional. \n",
    "\n",
    "\n",
    "![normal](images/normal.svg)\n",
    "\n",
    "\n",
    "![normal2](images/normal2.png)"
   ]
  },
  {
   "cell_type": "markdown",
   "id": "8403900b",
   "metadata": {},
   "source": [
    "Los parametros son:\n",
    " * La media, llamada $\\mu$\n",
    " * La desviacion estandar, $\\sigma$\n",
    " \n",
    " \n",
    "`scipy` los llama `loc` y `scale`"
   ]
  },
  {
   "cell_type": "code",
   "execution_count": 17,
   "id": "8868f0a6",
   "metadata": {},
   "outputs": [],
   "source": [
    "from scipy.stats import norm"
   ]
  },
  {
   "cell_type": "code",
   "execution_count": 18,
   "id": "d3b84508",
   "metadata": {},
   "outputs": [
    {
     "data": {
      "text/plain": [
       "0.0044318484119380075"
      ]
     },
     "execution_count": 18,
     "metadata": {},
     "output_type": "execute_result"
    }
   ],
   "source": [
    "# norm.pdf(x, mu, sigma)\n",
    "\n",
    "norm.pdf(2, 5, 1)"
   ]
  },
  {
   "cell_type": "code",
   "execution_count": 22,
   "id": "e61b651e",
   "metadata": {},
   "outputs": [
    {
     "data": {
      "text/plain": [
       "0.9986501019683699"
      ]
     },
     "execution_count": 22,
     "metadata": {},
     "output_type": "execute_result"
    }
   ],
   "source": [
    "norm.cdf(8, 5, 1)"
   ]
  },
  {
   "cell_type": "code",
   "execution_count": 24,
   "id": "f1028281",
   "metadata": {},
   "outputs": [
    {
     "data": {
      "image/png": "[encoded data removed]",
      "text/plain": [
       "<Figure size 432x288 with 1 Axes>"
      ]
     },
     "metadata": {
      "needs_background": "light"
     },
     "output_type": "display_data"
    }
   ],
   "source": [
    "x=[0.1 * i for i in range(-60, 60)]  \n",
    "y=[norm.pdf(x, 0, 1) for x in x] \n",
    "\n",
    "plt.plot(x, y);"
   ]
  },
  {
   "cell_type": "code",
   "execution_count": 25,
   "id": "bdb4c8bb",
   "metadata": {},
   "outputs": [
    {
     "data": {
      "image/png": "[encoded data removed]",
      "text/plain": [
       "<Figure size 432x288 with 1 Axes>"
      ]
     },
     "metadata": {
      "needs_background": "light"
     },
     "output_type": "display_data"
    }
   ],
   "source": [
    "y=[norm.cdf(x, 0, 1) for x in x] \n",
    "\n",
    "plt.plot(x, y);"
   ]
  },
  {
   "cell_type": "markdown",
   "id": "d2f0e3e6",
   "metadata": {},
   "source": [
    "Vamos a modelar un pais cuyos habitantes tienen una altura de:\n",
    " * media de $170cm$\n",
    " * std de $10cm$"
   ]
  },
  {
   "cell_type": "code",
   "execution_count": 26,
   "id": "690e77b5",
   "metadata": {},
   "outputs": [],
   "source": [
    "altura=norm(loc=170, scale=10)"
   ]
  },
  {
   "cell_type": "code",
   "execution_count": 27,
   "id": "52d0efb1",
   "metadata": {},
   "outputs": [
    {
     "data": {
      "text/plain": [
       "170.0"
      ]
     },
     "execution_count": 27,
     "metadata": {},
     "output_type": "execute_result"
    }
   ],
   "source": [
    "altura.mean()"
   ]
  },
  {
   "cell_type": "code",
   "execution_count": 28,
   "id": "af035042",
   "metadata": {},
   "outputs": [
    {
     "data": {
      "text/plain": [
       "10.0"
      ]
     },
     "execution_count": 28,
     "metadata": {},
     "output_type": "execute_result"
    }
   ],
   "source": [
    "altura.std()"
   ]
  },
  {
   "cell_type": "code",
   "execution_count": 29,
   "id": "c00f4e25",
   "metadata": {},
   "outputs": [],
   "source": [
    "muestra=altura.rvs(size=100000)"
   ]
  },
  {
   "cell_type": "code",
   "execution_count": 30,
   "id": "a44f8d9d",
   "metadata": {
    "scrolled": true
   },
   "outputs": [
    {
     "data": {
      "image/png": "[encoded data removed]",
      "text/plain": [
       "<Figure size 432x288 with 1 Axes>"
      ]
     },
     "metadata": {
      "needs_background": "light"
     },
     "output_type": "display_data"
    }
   ],
   "source": [
    "sns.histplot(muestra);"
   ]
  },
  {
   "cell_type": "markdown",
   "id": "e65abbed",
   "metadata": {},
   "source": [
    "¿Cual es la proporcion de personas en el intervalo ($\\mu - \\sigma, \\mu + \\sigma)$?\n",
    "\n",
    "$P(160 < X < 180)$"
   ]
  },
  {
   "cell_type": "code",
   "execution_count": 32,
   "id": "caa0bbaf",
   "metadata": {},
   "outputs": [
    {
     "data": {
      "text/plain": [
       "0.6826894921370859"
      ]
     },
     "execution_count": 32,
     "metadata": {},
     "output_type": "execute_result"
    }
   ],
   "source": [
    "altura.cdf(180) - altura.cdf(160)"
   ]
  },
  {
   "cell_type": "markdown",
   "id": "237e8123",
   "metadata": {},
   "source": [
    "$P(200 <= X )$"
   ]
  },
  {
   "cell_type": "code",
   "execution_count": 33,
   "id": "1d529c65",
   "metadata": {},
   "outputs": [
    {
     "data": {
      "text/plain": [
       "0.0013498980316301035"
      ]
     },
     "execution_count": 33,
     "metadata": {},
     "output_type": "execute_result"
    }
   ],
   "source": [
    "1 - altura.cdf(200)"
   ]
  },
  {
   "cell_type": "markdown",
   "id": "ea80af93",
   "metadata": {},
   "source": [
    "### Teorema central del limite\n",
    "\n",
    "http://mfviz.com/central-limit/\n",
    "\n",
    "https://es.wikipedia.org/wiki/Teorema_del_l%C3%ADmite_central"
   ]
  },
  {
   "cell_type": "markdown",
   "id": "cd95b878",
   "metadata": {},
   "source": [
    "### Distribución t-Student\n",
    "\n",
    "https://es.wikipedia.org/wiki/Distribuci%C3%B3n_t_de_Student\n",
    "\n",
    "https://es.wikipedia.org/wiki/Funci%C3%B3n_gamma\n",
    "\n",
    "\n",
    "$$X \\sim t(\\nu)$$\n",
    "\n",
    "\n",
    "**Función de densidad**\n",
    "\n",
    "$$f(x)= P(x) = \\frac{\\Gamma{(\\frac{\\nu + 1}{2})}}{\\sqrt{\\nu\\pi}\\Gamma{(\\frac{\\nu}{2})}} (1+\\frac{x^2}{\\nu})^{- \\frac{\\nu + 1}{2}}$$\n",
    "\n",
    "\n",
    "La distribución t (de Student) es una distribución de probabilidad que surge del problema de estimar la media de una población normalmente distribuida cuando el tamaño de la muestra es pequeño y la desviación estándar poblacional es desconocida.\n",
    "\n",
    "Aparece de manera natural al realizar la prueba t de Student para la determinación de las diferencias entre dos varianzas muestrales y para la construcción del intervalo de confianza para la diferencia entre las partes de dos poblaciones cuando se desconoce la desviación típica de una población y esta debe ser estimada a partir de los datos de una muestra. \n",
    "\n",
    "\n",
    "La distribución de Student fue descrita en el año 1908 por William Sealy Gosset. Gosset trabajaba en la fábrica de cerveza Guinness, que prohibía a sus empleados la publicación de artículos científicos debido a una difusión previa de secretos industriales. De ahí que Gosset publicase sus resultados bajo el pseudónimo de Student. "
   ]
  },
  {
   "cell_type": "code",
   "execution_count": 34,
   "id": "62d30486",
   "metadata": {},
   "outputs": [],
   "source": [
    "from scipy.stats import t"
   ]
  },
  {
   "cell_type": "code",
   "execution_count": 35,
   "id": "6b47796e",
   "metadata": {},
   "outputs": [
    {
     "data": {
      "text/plain": [
       "0.012126090902239645"
      ]
     },
     "execution_count": 35,
     "metadata": {},
     "output_type": "execute_result"
    }
   ],
   "source": [
    "# t.pdf(x, dof)\n",
    "\n",
    "t.pdf(3, 9)"
   ]
  },
  {
   "cell_type": "code",
   "execution_count": 36,
   "id": "d40b4369",
   "metadata": {},
   "outputs": [
    {
     "data": {
      "image/png": "[encoded data removed]",
      "text/plain": [
       "<Figure size 432x288 with 1 Axes>"
      ]
     },
     "metadata": {
      "needs_background": "light"
     },
     "output_type": "display_data"
    }
   ],
   "source": [
    "x=[i*.1 for i in range(-60, 60)]  \n",
    "y=[t.pdf(x, 1) for x in x] \n",
    "\n",
    "plt.plot(x, y);"
   ]
  },
  {
   "cell_type": "code",
   "execution_count": 37,
   "id": "94d29c81",
   "metadata": {},
   "outputs": [
    {
     "data": {
      "image/png": "[encoded data removed]",
      "text/plain": [
       "<Figure size 432x288 with 1 Axes>"
      ]
     },
     "metadata": {
      "needs_background": "light"
     },
     "output_type": "display_data"
    }
   ],
   "source": [
    "x=[i*.1 for i in range(-60, 60)]  \n",
    "y=[t.cdf(x, 1) for x in x] \n",
    "\n",
    "plt.plot(x, y);"
   ]
  },
  {
   "cell_type": "code",
   "execution_count": null,
   "id": "2263b484",
   "metadata": {},
   "outputs": [],
   "source": []
  }
 ],
 "metadata": {
  "finalized": {
   "timestamp": 1624202584483,
   "trusted": false
  },
  "kernelspec": {
   "display_name": "clase",
   "language": "python",
   "name": "clase"
  },
  "language_info": {
   "codemirror_mode": {
    "name": "ipython",
    "version": 3
   },
   "file_extension": ".py",
   "mimetype": "text/x-python",
   "name": "python",
   "nbconvert_exporter": "python",
   "pygments_lexer": "ipython3",
   "version": "3.8.8"
  },
  "varInspector": {
   "cols": {
    "lenName": 16,
    "lenType": 16,
    "lenVar": 40
   },
   "kernels_config": {
    "python": {
     "delete_cmd_postfix": "",
     "delete_cmd_prefix": "del ",
     "library": "var_list.py",
     "varRefreshCmd": "print(var_dic_list())"
    },
    "r": {
     "delete_cmd_postfix": ") ",
     "delete_cmd_prefix": "rm(",
     "library": "var_list.r",
     "varRefreshCmd": "cat(var_dic_list()) "
    }
   },
   "types_to_exclude": [
    "module",
    "function",
    "builtin_function_or_method",
    "instance",
    "_Feature"
   ],
   "window_display": false
  }
 },
 "nbformat": 4,
 "nbformat_minor": 5
}
